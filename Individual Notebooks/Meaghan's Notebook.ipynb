{
 "cells": [
  {
   "cell_type": "markdown",
   "metadata": {},
   "source": [
    "# Phase 4 Project"
   ]
  },
  {
   "cell_type": "code",
   "execution_count": 1,
   "metadata": {},
   "outputs": [],
   "source": [
    "import pandas as pd\n",
    "import numpy as np\n",
    "import matplotlib.pyplot as plt\n",
    "import seaborn as sns\n",
    "\n",
    "\n",
    "import nltk\n",
    "from nltk import word_tokenize\n",
    "from nltk.probability import FreqDist\n",
    "from nltk.corpus import stopwords\n",
    "from nltk.stem import PorterStemmer, WordNetLemmatizer\n",
    "from nltk.tokenize import RegexpTokenizer\n",
    "\n",
    "from sklearn.model_selection import train_test_split, cross_validate, GridSearchCV\n",
    "from sklearn.feature_extraction.text import CountVectorizer, TfidfVectorizer, TfidfTransformer\n",
    "from sklearn.compose import ColumnTransformer\n",
    "from sklearn.decomposition import TruncatedSVD\n",
    "from sklearn.pipeline import Pipeline\n",
    "from sklearn.preprocessing import StandardScaler, FunctionTransformer, LabelEncoder, OrdinalEncoder\n",
    "\n",
    "from sklearn.naive_bayes import MultinomialNB\n",
    "from sklearn.linear_model import LogisticRegression\n",
    "from sklearn.ensemble import RandomForestClassifier\n",
    "from xgboost import XGBClassifier\n",
    "\n",
    "\n",
    "from imblearn.over_sampling import SMOTE\n",
    "from imblearn.pipeline import Pipeline as imbpipe\n",
    "\n",
    "from sklearn.metrics import confusion_matrix, classification_report, accuracy_score, f1_score, plot_confusion_matrix"
   ]
  },
  {
   "cell_type": "code",
   "execution_count": 2,
   "metadata": {},
   "outputs": [],
   "source": [
    "import warnings\n",
    "warnings.filterwarnings('ignore')"
   ]
  },
  {
   "cell_type": "code",
   "execution_count": 3,
   "metadata": {},
   "outputs": [],
   "source": [
    "df = pd.read_csv('/Users/meaghanross/Documents/Flatiron/Phase4/NLP_project/data/tweet_product_company.csv', encoding='latin1' )"
   ]
  },
  {
   "cell_type": "code",
   "execution_count": 4,
   "metadata": {},
   "outputs": [
    {
     "data": {
      "text/html": [
       "<div>\n",
       "<style scoped>\n",
       "    .dataframe tbody tr th:only-of-type {\n",
       "        vertical-align: middle;\n",
       "    }\n",
       "\n",
       "    .dataframe tbody tr th {\n",
       "        vertical-align: top;\n",
       "    }\n",
       "\n",
       "    .dataframe thead th {\n",
       "        text-align: right;\n",
       "    }\n",
       "</style>\n",
       "<table border=\"1\" class=\"dataframe\">\n",
       "  <thead>\n",
       "    <tr style=\"text-align: right;\">\n",
       "      <th></th>\n",
       "      <th>tweet_text</th>\n",
       "      <th>emotion_in_tweet_is_directed_at</th>\n",
       "      <th>is_there_an_emotion_directed_at_a_brand_or_product</th>\n",
       "    </tr>\n",
       "  </thead>\n",
       "  <tbody>\n",
       "    <tr>\n",
       "      <th>0</th>\n",
       "      <td>.@wesley83 I have a 3G iPhone. After 3 hrs twe...</td>\n",
       "      <td>iPhone</td>\n",
       "      <td>Negative emotion</td>\n",
       "    </tr>\n",
       "    <tr>\n",
       "      <th>1</th>\n",
       "      <td>@jessedee Know about @fludapp ? Awesome iPad/i...</td>\n",
       "      <td>iPad or iPhone App</td>\n",
       "      <td>Positive emotion</td>\n",
       "    </tr>\n",
       "    <tr>\n",
       "      <th>2</th>\n",
       "      <td>@swonderlin Can not wait for #iPad 2 also. The...</td>\n",
       "      <td>iPad</td>\n",
       "      <td>Positive emotion</td>\n",
       "    </tr>\n",
       "    <tr>\n",
       "      <th>3</th>\n",
       "      <td>@sxsw I hope this year's festival isn't as cra...</td>\n",
       "      <td>iPad or iPhone App</td>\n",
       "      <td>Negative emotion</td>\n",
       "    </tr>\n",
       "    <tr>\n",
       "      <th>4</th>\n",
       "      <td>@sxtxstate great stuff on Fri #SXSW: Marissa M...</td>\n",
       "      <td>Google</td>\n",
       "      <td>Positive emotion</td>\n",
       "    </tr>\n",
       "  </tbody>\n",
       "</table>\n",
       "</div>"
      ],
      "text/plain": [
       "                                          tweet_text  \\\n",
       "0  .@wesley83 I have a 3G iPhone. After 3 hrs twe...   \n",
       "1  @jessedee Know about @fludapp ? Awesome iPad/i...   \n",
       "2  @swonderlin Can not wait for #iPad 2 also. The...   \n",
       "3  @sxsw I hope this year's festival isn't as cra...   \n",
       "4  @sxtxstate great stuff on Fri #SXSW: Marissa M...   \n",
       "\n",
       "  emotion_in_tweet_is_directed_at  \\\n",
       "0                          iPhone   \n",
       "1              iPad or iPhone App   \n",
       "2                            iPad   \n",
       "3              iPad or iPhone App   \n",
       "4                          Google   \n",
       "\n",
       "  is_there_an_emotion_directed_at_a_brand_or_product  \n",
       "0                                   Negative emotion  \n",
       "1                                   Positive emotion  \n",
       "2                                   Positive emotion  \n",
       "3                                   Negative emotion  \n",
       "4                                   Positive emotion  "
      ]
     },
     "execution_count": 4,
     "metadata": {},
     "output_type": "execute_result"
    }
   ],
   "source": [
    "df.head()"
   ]
  },
  {
   "cell_type": "code",
   "execution_count": 5,
   "metadata": {},
   "outputs": [
    {
     "data": {
      "text/plain": [
       "(9093, 3)"
      ]
     },
     "execution_count": 5,
     "metadata": {},
     "output_type": "execute_result"
    }
   ],
   "source": [
    "df.shape"
   ]
  },
  {
   "cell_type": "code",
   "execution_count": 6,
   "metadata": {},
   "outputs": [
    {
     "data": {
      "text/plain": [
       "No emotion toward brand or product    5389\n",
       "Positive emotion                      2978\n",
       "Negative emotion                       570\n",
       "I can't tell                           156\n",
       "Name: is_there_an_emotion_directed_at_a_brand_or_product, dtype: int64"
      ]
     },
     "execution_count": 6,
     "metadata": {},
     "output_type": "execute_result"
    }
   ],
   "source": [
    "df['is_there_an_emotion_directed_at_a_brand_or_product'].value_counts()"
   ]
  },
  {
   "cell_type": "code",
   "execution_count": 7,
   "metadata": {},
   "outputs": [
    {
     "data": {
      "text/plain": [
       "tweet_text                                               1\n",
       "emotion_in_tweet_is_directed_at                       5802\n",
       "is_there_an_emotion_directed_at_a_brand_or_product       0\n",
       "dtype: int64"
      ]
     },
     "execution_count": 7,
     "metadata": {},
     "output_type": "execute_result"
    }
   ],
   "source": [
    "df.isna().sum()"
   ]
  },
  {
   "cell_type": "markdown",
   "metadata": {},
   "source": [
    "To do\n",
    "\n",
    "2) Fill nas for the brand\n",
    "3) Label encode the target \n",
    "6) dropping 'I can't tell'\n",
    "7) drop duplicates\n"
   ]
  },
  {
   "cell_type": "code",
   "execution_count": 8,
   "metadata": {},
   "outputs": [],
   "source": [
    "df['target']=df['is_there_an_emotion_directed_at_a_brand_or_product']"
   ]
  },
  {
   "cell_type": "code",
   "execution_count": 9,
   "metadata": {},
   "outputs": [],
   "source": [
    "df.drop('is_there_an_emotion_directed_at_a_brand_or_product',axis=1, inplace=True)"
   ]
  },
  {
   "cell_type": "code",
   "execution_count": 10,
   "metadata": {},
   "outputs": [],
   "source": [
    "df['text']=df['tweet_text']"
   ]
  },
  {
   "cell_type": "code",
   "execution_count": 11,
   "metadata": {},
   "outputs": [],
   "source": [
    "df.drop('tweet_text',axis=1, inplace=True)"
   ]
  },
  {
   "cell_type": "code",
   "execution_count": 12,
   "metadata": {},
   "outputs": [
    {
     "data": {
      "text/plain": [
       "(9093, 3)"
      ]
     },
     "execution_count": 12,
     "metadata": {},
     "output_type": "execute_result"
    }
   ],
   "source": [
    "df.shape"
   ]
  },
  {
   "cell_type": "markdown",
   "metadata": {},
   "source": [
    "__Drop Duplicates__"
   ]
  },
  {
   "cell_type": "code",
   "execution_count": 13,
   "metadata": {
    "scrolled": true
   },
   "outputs": [
    {
     "data": {
      "text/plain": [
       "22"
      ]
     },
     "execution_count": 13,
     "metadata": {},
     "output_type": "execute_result"
    }
   ],
   "source": [
    "df.duplicated().sum()"
   ]
  },
  {
   "cell_type": "code",
   "execution_count": 14,
   "metadata": {},
   "outputs": [],
   "source": [
    "df.drop_duplicates(inplace=True)"
   ]
  },
  {
   "cell_type": "code",
   "execution_count": 15,
   "metadata": {},
   "outputs": [
    {
     "data": {
      "text/plain": [
       "(9071, 3)"
      ]
     },
     "execution_count": 15,
     "metadata": {},
     "output_type": "execute_result"
    }
   ],
   "source": [
    "df.shape"
   ]
  },
  {
   "cell_type": "code",
   "execution_count": 16,
   "metadata": {
    "scrolled": true
   },
   "outputs": [],
   "source": [
    "df.dropna(subset=['text'], inplace=True)"
   ]
  },
  {
   "cell_type": "code",
   "execution_count": 17,
   "metadata": {},
   "outputs": [
    {
     "data": {
      "text/plain": [
       "No emotion toward brand or product    5375\n",
       "Positive emotion                      2970\n",
       "Negative emotion                       569\n",
       "I can't tell                           156\n",
       "Name: target, dtype: int64"
      ]
     },
     "execution_count": 17,
     "metadata": {},
     "output_type": "execute_result"
    }
   ],
   "source": [
    "df.target.value_counts()"
   ]
  },
  {
   "cell_type": "code",
   "execution_count": 18,
   "metadata": {},
   "outputs": [
    {
     "data": {
      "text/plain": [
       "0"
      ]
     },
     "execution_count": 18,
     "metadata": {},
     "output_type": "execute_result"
    }
   ],
   "source": [
    "df.text.isna().sum()"
   ]
  },
  {
   "cell_type": "code",
   "execution_count": 83,
   "metadata": {},
   "outputs": [],
   "source": [
    "from nltk.tokenize import TweetTokenizer\n",
    "from nltk import pos_tag"
   ]
  },
  {
   "cell_type": "code",
   "execution_count": 87,
   "metadata": {},
   "outputs": [],
   "source": [
    "from nltk.corpus import wordnet\n",
    "\n",
    "def get_wordnet_pos(treebank_tag):\n",
    "\n",
    "    if treebank_tag.startswith('J'):\n",
    "        return wordnet.ADJ\n",
    "    elif treebank_tag.startswith('V'):\n",
    "        return wordnet.VERB\n",
    "    elif treebank_tag.startswith('N'):\n",
    "        return wordnet.NOUN\n",
    "    elif treebank_tag.startswith('R'):\n",
    "        return wordnet.ADV\n",
    "    else:\n",
    "        return wordnet.NOUN"
   ]
  },
  {
   "cell_type": "code",
   "execution_count": 136,
   "metadata": {},
   "outputs": [],
   "source": [
    "def doc_preparer(doc, stop_words=sw):\n",
    "    '''\n",
    "    \n",
    "    :param doc: a document from the review corpus \n",
    "    :return: a document string with words which have been \n",
    "            lemmatized, \n",
    "            parsed for stopwords, \n",
    "            made lowercase,\n",
    "            and stripped of punctuation and numbers.\n",
    "    '''\n",
    "    \n",
    "    tweet_token = TweetTokenizer()\n",
    "    doc = tweet_token.tokenize(doc)\n",
    "    doc = [word.lower() for word in doc]\n",
    "    doc = [word for word in doc if word not in sw]\n",
    "    doc = pos_tag(doc)\n",
    "    doc = [(word[0], get_wordnet_pos(word[1])) for word in doc]\n",
    "    lemmatizer = WordNetLemmatizer() \n",
    "    doc = [lemmatizer.lemmatize(word[0], word[1]) for word in doc]\n",
    "    return ' '.join(doc)"
   ]
  },
  {
   "cell_type": "code",
   "execution_count": 89,
   "metadata": {},
   "outputs": [],
   "source": [
    "df['tokenized'] = df['text'].apply(doc_preparer)"
   ]
  },
  {
   "cell_type": "code",
   "execution_count": 90,
   "metadata": {},
   "outputs": [
    {
     "data": {
      "text/html": [
       "<div>\n",
       "<style scoped>\n",
       "    .dataframe tbody tr th:only-of-type {\n",
       "        vertical-align: middle;\n",
       "    }\n",
       "\n",
       "    .dataframe tbody tr th {\n",
       "        vertical-align: top;\n",
       "    }\n",
       "\n",
       "    .dataframe thead th {\n",
       "        text-align: right;\n",
       "    }\n",
       "</style>\n",
       "<table border=\"1\" class=\"dataframe\">\n",
       "  <thead>\n",
       "    <tr style=\"text-align: right;\">\n",
       "      <th></th>\n",
       "      <th>emotion_in_tweet_is_directed_at</th>\n",
       "      <th>target</th>\n",
       "      <th>text</th>\n",
       "      <th>tokenized</th>\n",
       "    </tr>\n",
       "  </thead>\n",
       "  <tbody>\n",
       "    <tr>\n",
       "      <th>0</th>\n",
       "      <td>iPhone</td>\n",
       "      <td>Negative emotion</td>\n",
       "      <td>.@wesley83 I have a 3G iPhone. After 3 hrs twe...</td>\n",
       "      <td>. @wesley83 3g iphone . 3 hr tweet #rise_austi...</td>\n",
       "    </tr>\n",
       "    <tr>\n",
       "      <th>1</th>\n",
       "      <td>iPad or iPhone App</td>\n",
       "      <td>Positive emotion</td>\n",
       "      <td>@jessedee Know about @fludapp ? Awesome iPad/i...</td>\n",
       "      <td>@jessedee know @fludapp ? awesome ipad / iphon...</td>\n",
       "    </tr>\n",
       "    <tr>\n",
       "      <th>2</th>\n",
       "      <td>iPad</td>\n",
       "      <td>Positive emotion</td>\n",
       "      <td>@swonderlin Can not wait for #iPad 2 also. The...</td>\n",
       "      <td>@swonderlin wait #ipad 2 also . sale #sxsw .</td>\n",
       "    </tr>\n",
       "    <tr>\n",
       "      <th>3</th>\n",
       "      <td>iPad or iPhone App</td>\n",
       "      <td>Negative emotion</td>\n",
       "      <td>@sxsw I hope this year's festival isn't as cra...</td>\n",
       "      <td>@sxsw hope year's festival crashy year's iphon...</td>\n",
       "    </tr>\n",
       "    <tr>\n",
       "      <th>4</th>\n",
       "      <td>Google</td>\n",
       "      <td>Positive emotion</td>\n",
       "      <td>@sxtxstate great stuff on Fri #SXSW: Marissa M...</td>\n",
       "      <td>@sxtxstate great stuff fri #sxsw : marissa may...</td>\n",
       "    </tr>\n",
       "  </tbody>\n",
       "</table>\n",
       "</div>"
      ],
      "text/plain": [
       "  emotion_in_tweet_is_directed_at            target  \\\n",
       "0                          iPhone  Negative emotion   \n",
       "1              iPad or iPhone App  Positive emotion   \n",
       "2                            iPad  Positive emotion   \n",
       "3              iPad or iPhone App  Negative emotion   \n",
       "4                          Google  Positive emotion   \n",
       "\n",
       "                                                text  \\\n",
       "0  .@wesley83 I have a 3G iPhone. After 3 hrs twe...   \n",
       "1  @jessedee Know about @fludapp ? Awesome iPad/i...   \n",
       "2  @swonderlin Can not wait for #iPad 2 also. The...   \n",
       "3  @sxsw I hope this year's festival isn't as cra...   \n",
       "4  @sxtxstate great stuff on Fri #SXSW: Marissa M...   \n",
       "\n",
       "                                           tokenized  \n",
       "0  . @wesley83 3g iphone . 3 hr tweet #rise_austi...  \n",
       "1  @jessedee know @fludapp ? awesome ipad / iphon...  \n",
       "2       @swonderlin wait #ipad 2 also . sale #sxsw .  \n",
       "3  @sxsw hope year's festival crashy year's iphon...  \n",
       "4  @sxtxstate great stuff fri #sxsw : marissa may...  "
      ]
     },
     "execution_count": 90,
     "metadata": {},
     "output_type": "execute_result"
    }
   ],
   "source": [
    "df.head()"
   ]
  },
  {
   "cell_type": "markdown",
   "metadata": {},
   "source": [
    "__Train-Test Split__"
   ]
  },
  {
   "cell_type": "code",
   "execution_count": 91,
   "metadata": {},
   "outputs": [],
   "source": [
    "X_train, X_test, y_train, y_test = train_test_split(df['tokenized'],\n",
    "                                                    df['target'], \n",
    "                                                    random_state=42,\n",
    "                                                    stratify=df['target'])"
   ]
  },
  {
   "cell_type": "code",
   "execution_count": 92,
   "metadata": {},
   "outputs": [
    {
     "data": {
      "text/plain": [
       "(6802,)"
      ]
     },
     "execution_count": 92,
     "metadata": {},
     "output_type": "execute_result"
    }
   ],
   "source": [
    "X_train.shape"
   ]
  },
  {
   "cell_type": "markdown",
   "metadata": {},
   "source": [
    "__Data Cleaning__"
   ]
  },
  {
   "cell_type": "markdown",
   "metadata": {},
   "source": [
    "For cleaning we want to drop 'I can't tell' after merging `X_train` with `y_train` and `X_test` with `y_test` to and Label Encode the target to numerical data."
   ]
  },
  {
   "cell_type": "code",
   "execution_count": 93,
   "metadata": {},
   "outputs": [],
   "source": [
    "df_train=pd.concat([X_train, y_train], axis=1)\n",
    "df_test=pd.concat([X_test, y_test], axis=1)"
   ]
  },
  {
   "cell_type": "code",
   "execution_count": 94,
   "metadata": {},
   "outputs": [
    {
     "data": {
      "text/plain": [
       "No emotion toward brand or product    4031\n",
       "Positive emotion                      2227\n",
       "Negative emotion                       427\n",
       "I can't tell                           117\n",
       "Name: target, dtype: int64"
      ]
     },
     "execution_count": 94,
     "metadata": {},
     "output_type": "execute_result"
    }
   ],
   "source": [
    "y_train.value_counts()"
   ]
  },
  {
   "cell_type": "code",
   "execution_count": 95,
   "metadata": {},
   "outputs": [
    {
     "data": {
      "text/html": [
       "<div>\n",
       "<style scoped>\n",
       "    .dataframe tbody tr th:only-of-type {\n",
       "        vertical-align: middle;\n",
       "    }\n",
       "\n",
       "    .dataframe tbody tr th {\n",
       "        vertical-align: top;\n",
       "    }\n",
       "\n",
       "    .dataframe thead th {\n",
       "        text-align: right;\n",
       "    }\n",
       "</style>\n",
       "<table border=\"1\" class=\"dataframe\">\n",
       "  <thead>\n",
       "    <tr style=\"text-align: right;\">\n",
       "      <th></th>\n",
       "      <th>tokenized</th>\n",
       "      <th>target</th>\n",
       "    </tr>\n",
       "  </thead>\n",
       "  <tbody>\n",
       "    <tr>\n",
       "      <th>2769</th>\n",
       "      <td>want one ! ! rumor : apple open temporary stor...</td>\n",
       "      <td>Positive emotion</td>\n",
       "    </tr>\n",
       "    <tr>\n",
       "      <th>2787</th>\n",
       "      <td>#aapl already big winner #sxsw { link } #in</td>\n",
       "      <td>No emotion toward brand or product</td>\n",
       "    </tr>\n",
       "    <tr>\n",
       "      <th>7021</th>\n",
       "      <td>@mention google's disavowal plan launch #sxsw .</td>\n",
       "      <td>No emotion toward brand or product</td>\n",
       "    </tr>\n",
       "    <tr>\n",
       "      <th>4882</th>\n",
       "      <td>anyone go buy new ipad donate #japan #tsunami ...</td>\n",
       "      <td>I can't tell</td>\n",
       "    </tr>\n",
       "    <tr>\n",
       "      <th>715</th>\n",
       "      <td>{ link } part presentation #sxsw good thing cr...</td>\n",
       "      <td>Positive emotion</td>\n",
       "    </tr>\n",
       "  </tbody>\n",
       "</table>\n",
       "</div>"
      ],
      "text/plain": [
       "                                              tokenized  \\\n",
       "2769  want one ! ! rumor : apple open temporary stor...   \n",
       "2787        #aapl already big winner #sxsw { link } #in   \n",
       "7021    @mention google's disavowal plan launch #sxsw .   \n",
       "4882  anyone go buy new ipad donate #japan #tsunami ...   \n",
       "715   { link } part presentation #sxsw good thing cr...   \n",
       "\n",
       "                                  target  \n",
       "2769                    Positive emotion  \n",
       "2787  No emotion toward brand or product  \n",
       "7021  No emotion toward brand or product  \n",
       "4882                        I can't tell  \n",
       "715                     Positive emotion  "
      ]
     },
     "execution_count": 95,
     "metadata": {},
     "output_type": "execute_result"
    }
   ],
   "source": [
    "df_train.head()"
   ]
  },
  {
   "cell_type": "code",
   "execution_count": 96,
   "metadata": {},
   "outputs": [],
   "source": [
    "def drop_unidentified(df):\n",
    "    '''\n",
    "    Drop rows from DataFrame where the target is 'I can't tell'.\n",
    "    '''\n",
    "    df.drop(df.loc[df['target']==\"I can't tell\"].index, inplace=True)\n",
    "    return df"
   ]
  },
  {
   "cell_type": "code",
   "execution_count": 97,
   "metadata": {},
   "outputs": [],
   "source": [
    "def label(df):\n",
    "    '''\n",
    "    Encode values of the target to numerical data.\n",
    "    '''\n",
    "    df['target'] = df['target'].map({'No emotion toward brand or product': 0,\n",
    "                                     'Negative emotion': 1,\n",
    "                                     'Positive emotion': 2})\n",
    "    return df"
   ]
  },
  {
   "cell_type": "code",
   "execution_count": 98,
   "metadata": {},
   "outputs": [],
   "source": [
    "cleaning_pipeline = Pipeline(steps=[\n",
    "    ('drop', FunctionTransformer(drop_unidentified)),\n",
    "    ('label', FunctionTransformer(label))\n",
    "])"
   ]
  },
  {
   "cell_type": "code",
   "execution_count": 99,
   "metadata": {},
   "outputs": [],
   "source": [
    "df_train_clean = cleaning_pipeline.fit_transform(df_train)\n",
    "df_test_clean = cleaning_pipeline.transform(df_test)"
   ]
  },
  {
   "cell_type": "code",
   "execution_count": 100,
   "metadata": {
    "scrolled": true
   },
   "outputs": [
    {
     "data": {
      "text/html": [
       "<div>\n",
       "<style scoped>\n",
       "    .dataframe tbody tr th:only-of-type {\n",
       "        vertical-align: middle;\n",
       "    }\n",
       "\n",
       "    .dataframe tbody tr th {\n",
       "        vertical-align: top;\n",
       "    }\n",
       "\n",
       "    .dataframe thead th {\n",
       "        text-align: right;\n",
       "    }\n",
       "</style>\n",
       "<table border=\"1\" class=\"dataframe\">\n",
       "  <thead>\n",
       "    <tr style=\"text-align: right;\">\n",
       "      <th></th>\n",
       "      <th>tokenized</th>\n",
       "      <th>target</th>\n",
       "    </tr>\n",
       "  </thead>\n",
       "  <tbody>\n",
       "    <tr>\n",
       "      <th>5039</th>\n",
       "      <td>rt @mention : aron pilhofer new york time endo...</td>\n",
       "      <td>0</td>\n",
       "    </tr>\n",
       "    <tr>\n",
       "      <th>643</th>\n",
       "      <td>ok nerd , totally bateman . want sign ipad 2 ?...</td>\n",
       "      <td>0</td>\n",
       "    </tr>\n",
       "    <tr>\n",
       "      <th>4451</th>\n",
       "      <td>podcast social business summit 2011 austin { l...</td>\n",
       "      <td>2</td>\n",
       "    </tr>\n",
       "    <tr>\n",
       "      <th>177</th>\n",
       "      <td>#winning picture #android #google #sxsw { link }</td>\n",
       "      <td>2</td>\n",
       "    </tr>\n",
       "    <tr>\n",
       "      <th>4980</th>\n",
       "      <td>team android sxsw  ûò full party detail revea...</td>\n",
       "      <td>2</td>\n",
       "    </tr>\n",
       "  </tbody>\n",
       "</table>\n",
       "</div>"
      ],
      "text/plain": [
       "                                              tokenized  target\n",
       "5039  rt @mention : aron pilhofer new york time endo...       0\n",
       "643   ok nerd , totally bateman . want sign ipad 2 ?...       0\n",
       "4451  podcast social business summit 2011 austin { l...       2\n",
       "177    #winning picture #android #google #sxsw { link }       2\n",
       "4980  team android sxsw  ûò full party detail revea...       2"
      ]
     },
     "execution_count": 100,
     "metadata": {},
     "output_type": "execute_result"
    }
   ],
   "source": [
    "df_test_clean.head()"
   ]
  },
  {
   "cell_type": "markdown",
   "metadata": {},
   "source": [
    "## Model Iterations"
   ]
  },
  {
   "cell_type": "code",
   "execution_count": 101,
   "metadata": {},
   "outputs": [],
   "source": [
    "def print_cv_scores(pipe, X, y):\n",
    "    '''\n",
    "    Runs cross_validate on given feature and multiclass target arrays using given pipeline, \n",
    "    printing the scoring results for both training and cross_val.\n",
    "    '''\n",
    "    scoring = ['accuracy','precision_macro', 'recall_macro', 'f1_macro']\n",
    "    \n",
    "    results = cross_validate(pipe, X, \n",
    "                                   y, \n",
    "                                   return_train_score=True, scoring=scoring)\n",
    "    \n",
    "    print(results['train_accuracy'])\n",
    "    print('Training Accuracy', results['train_accuracy'].mean())\n",
    "    print('##############')\n",
    "    print(results['test_accuracy'])\n",
    "    print('Cross_Val Accuracy', results['test_accuracy'].mean())\n",
    "    print('##############')\n",
    "    print('Training Macro Precision:', results['train_precision_macro'].mean())\n",
    "    print('Cross_Val Macro Precision:', results['test_precision_macro'].mean())\n",
    "    print('##############')\n",
    "    print('Training Macro Recall:', results['train_recall_macro'].mean())\n",
    "    print('Cross_Val Macro Recall:', results['test_recall_macro'].mean())\n",
    "    print('##############')\n",
    "    print('Training Macro F1:', results['train_f1_macro'].mean())\n",
    "    print('Cross_Val Macro F1:', results['test_f1_macro'].mean())\n"
   ]
  },
  {
   "cell_type": "markdown",
   "metadata": {},
   "source": [
    "### FSM"
   ]
  },
  {
   "cell_type": "code",
   "execution_count": 142,
   "metadata": {},
   "outputs": [],
   "source": [
    "sw = stopwords.words('english')"
   ]
  },
  {
   "cell_type": "code",
   "execution_count": 143,
   "metadata": {},
   "outputs": [],
   "source": [
    "fsm_pipe = Pipeline([('cv', CountVectorizer(stop_words=sw,\n",
    "                                            tokenizer=TweetTokenizer().tokenize)),\n",
    "                     ('mnb', MultinomialNB())\n",
    "])"
   ]
  },
  {
   "cell_type": "code",
   "execution_count": 144,
   "metadata": {},
   "outputs": [
    {
     "data": {
      "text/plain": [
       "Pipeline(steps=[('cv',\n",
       "                 CountVectorizer(stop_words=['i', 'me', 'my', 'myself', 'we',\n",
       "                                             'our', 'ours', 'ourselves', 'you',\n",
       "                                             \"you're\", \"you've\", \"you'll\",\n",
       "                                             \"you'd\", 'your', 'yours',\n",
       "                                             'yourself', 'yourselves', 'he',\n",
       "                                             'him', 'his', 'himself', 'she',\n",
       "                                             \"she's\", 'her', 'hers', 'herself',\n",
       "                                             'it', \"it's\", 'its', 'itself', ...],\n",
       "                                 tokenizer=<bound method TweetTokenizer.tokenize of <nltk.tokenize.casual.TweetTokenizer object at 0x7ff662f9f220>>)),\n",
       "                ('mnb', MultinomialNB())])"
      ]
     },
     "execution_count": 144,
     "metadata": {},
     "output_type": "execute_result"
    }
   ],
   "source": [
    "fsm_pipe.fit(df_train_clean['tokenized'], df_train_clean['target'])"
   ]
  },
  {
   "cell_type": "code",
   "execution_count": 145,
   "metadata": {},
   "outputs": [
    {
     "name": "stdout",
     "output_type": "stream",
     "text": [
      "[0.8184368  0.81862378 0.81768886 0.82124159 0.82142857]\n",
      "Training Accuracy 0.819483919222139\n",
      "##############\n",
      "[0.67614061 0.66192969 0.67988033 0.67539267 0.65669409]\n",
      "Cross_Val Accuracy 0.6700074794315631\n",
      "##############\n",
      "Training Macro Precision: 0.8298981307235295\n",
      "Cross_Val Macro Precision: 0.6515988234059547\n",
      "##############\n",
      "Training Macro Recall: 0.6860845759267238\n",
      "Cross_Val Macro Recall: 0.4844948238017485\n",
      "##############\n",
      "Training Macro F1: 0.7283977455132726\n",
      "Cross_Val Macro F1: 0.5023586198573182\n"
     ]
    }
   ],
   "source": [
    "print_cv_scores(fsm_pipe, df_train_clean['tokenized'], df_train_clean['target'])"
   ]
  },
  {
   "cell_type": "code",
   "execution_count": 146,
   "metadata": {},
   "outputs": [
    {
     "data": {
      "image/png": "[encoded data removed]",
      "text/plain": [
       "<Figure size 432x288 with 2 Axes>"
      ]
     },
     "metadata": {
      "needs_background": "light"
     },
     "output_type": "display_data"
    }
   ],
   "source": [
    "plot_confusion_matrix(fsm_pipe, \n",
    "                      df_train_clean['tokenized'], \n",
    "                      df_train_clean['target'], \n",
    "                      normalize='pred');"
   ]
  },
  {
   "cell_type": "code",
   "execution_count": 137,
   "metadata": {},
   "outputs": [],
   "source": [
    "bayes_pipe = Pipeline([('tfidf', TfidfVectorizer(stop_words=sw,\n",
    "                                                 tokenizer=TweetTokenizer().tokenize)),\n",
    "                       ('mnb', MultinomialNB())\n",
    "])"
   ]
  },
  {
   "cell_type": "code",
   "execution_count": 138,
   "metadata": {},
   "outputs": [
    {
     "data": {
      "text/plain": [
       "Pipeline(steps=[('tfidf',\n",
       "                 TfidfVectorizer(stop_words=['i', 'me', 'my', 'myself', 'we',\n",
       "                                             'our', 'ours', 'ourselves', 'you',\n",
       "                                             \"you're\", \"you've\", \"you'll\",\n",
       "                                             \"you'd\", 'your', 'yours',\n",
       "                                             'yourself', 'yourselves', 'he',\n",
       "                                             'him', 'his', 'himself', 'she',\n",
       "                                             \"she's\", 'her', 'hers', 'herself',\n",
       "                                             'it', \"it's\", 'its', 'itself', ...],\n",
       "                                 tokenizer=<bound method TweetTokenizer.tokenize of <nltk.tokenize.casual.TweetTokenizer object at 0x7ff662f9a6d0>>)),\n",
       "                ('mnb', MultinomialNB())])"
      ]
     },
     "execution_count": 138,
     "metadata": {},
     "output_type": "execute_result"
    }
   ],
   "source": [
    "bayes_pipe.fit(df_train_clean['tokenized'], df_train_clean['target'])"
   ]
  },
  {
   "cell_type": "code",
   "execution_count": 139,
   "metadata": {
    "scrolled": false
   },
   "outputs": [
    {
     "name": "stdout",
     "output_type": "stream",
     "text": [
      "[0.73429319 0.73448018 0.72643979 0.73130142 0.73859387]\n",
      "Training Accuracy 0.7330216903515333\n",
      "##############\n",
      "[0.63500374 0.64248317 0.66118175 0.64921466 0.65071055]\n",
      "Cross_Val Accuracy 0.6477187733732237\n",
      "##############\n",
      "Training Macro Precision: 0.808464526257521\n",
      "Cross_Val Macro Precision: 0.4622833357140147\n",
      "##############\n",
      "Training Macro Recall: 0.46745805338800894\n",
      "Cross_Val Macro Recall: 0.3858598431692813\n",
      "##############\n",
      "Training Macro F1: 0.4656582944694388\n",
      "Cross_Val Macro F1: 0.356323715750439\n"
     ]
    }
   ],
   "source": [
    "print_cv_scores(bayes_pipe, df_train_clean['tokenized'], df_train_clean['target'])"
   ]
  },
  {
   "cell_type": "code",
   "execution_count": 140,
   "metadata": {
    "scrolled": false
   },
   "outputs": [
    {
     "data": {
      "image/png": "[encoded data removed]",
      "text/plain": [
       "<Figure size 432x288 with 2 Axes>"
      ]
     },
     "metadata": {
      "needs_background": "light"
     },
     "output_type": "display_data"
    }
   ],
   "source": [
    "plot_confusion_matrix(bayes_pipe, \n",
    "                      df_train_clean['tokenized'], \n",
    "                      df_train_clean['target'], \n",
    "                      normalize='pred');"
   ]
  },
  {
   "cell_type": "code",
   "execution_count": 124,
   "metadata": {},
   "outputs": [
    {
     "data": {
      "text/plain": [
       "{'want': 6922,\n",
       " 'one': 4507,\n",
       " 'rumor': 5443,\n",
       " 'apple': 546,\n",
       " 'open': 4524,\n",
       " 'temporary': 6349,\n",
       " 'store': 6061,\n",
       " 'downtown': 2011,\n",
       " 'austin': 669,\n",
       " 'sxsw': 6196,\n",
       " 'ipad': 3438,\n",
       " 'launch': 3688,\n",
       " 'link': 3790,\n",
       " 'aapl': 270,\n",
       " 'already': 441,\n",
       " 'big': 874,\n",
       " 'winner': 7035,\n",
       " 'mention': 4067,\n",
       " 'google': 2822,\n",
       " 'disavowal': 1905,\n",
       " 'plan': 4814,\n",
       " 'part': 4648,\n",
       " 'presentation': 4963,\n",
       " 'good': 2816,\n",
       " 'thing': 6413,\n",
       " 'crash': 1621,\n",
       " 'instead': 3379,\n",
       " 'work': 7080,\n",
       " 'best': 858,\n",
       " 'iphone': 3445,\n",
       " 'android': 487,\n",
       " 'ipad2': 3439,\n",
       " 'sell': 5580,\n",
       " '70': 222,\n",
       " 'go': 2799,\n",
       " 'new': 4349,\n",
       " 'buyer': 1109,\n",
       " 'wow': 7098,\n",
       " 'via': 6833,\n",
       " 'yesterday': 7155,\n",
       " 'listen': 3799,\n",
       " 'marissa': 3972,\n",
       " 'mayer': 4019,\n",
       " 'discus': 1917,\n",
       " 'mobile': 4167,\n",
       " 'technology': 6331,\n",
       " '40': 155,\n",
       " 'user': 6771,\n",
       " 'use': 6767,\n",
       " 'maps': 3961,\n",
       " 'phone': 4761,\n",
       " 'nothing': 4419,\n",
       " 'quite': 5122,\n",
       " 'like': 3777,\n",
       " 'make': 3935,\n",
       " 'desperately': 1827,\n",
       " 'almost': 434,\n",
       " 'drool': 2031,\n",
       " 'guy': 2928,\n",
       " 'next': 4363,\n",
       " 'everyone': 2281,\n",
       " 'buy': 1108,\n",
       " 'app': 539,\n",
       " 'day': 1748,\n",
       " 'birth': 891,\n",
       " 'happy': 2982,\n",
       " 'gsdm': 2904,\n",
       " 'rt': 5436,\n",
       " 'gear': 2719,\n",
       " 'interactive': 3395,\n",
       " 'trade': 6539,\n",
       " 'show': 5691,\n",
       " 'across': 313,\n",
       " 'tweet': 6624,\n",
       " 'fast': 2399,\n",
       " 'appear': 543,\n",
       " 'may': 4017,\n",
       " 'preview': 4972,\n",
       " 'today': 6484,\n",
       " 'circle': 1317,\n",
       " 'social': 5863,\n",
       " 'endeavor': 2185,\n",
       " 'kara': 3579,\n",
       " 'swisher': 6181,\n",
       " 'stylish': 6105,\n",
       " 'fascist': 2397,\n",
       " 'company': 1442,\n",
       " 'america': 463,\n",
       " 'enjoy': 2200,\n",
       " 'rooftop': 5425,\n",
       " 'terrace': 6362,\n",
       " 'speakeasy': 5938,\n",
       " 'reassure': 5197,\n",
       " 'extraordinary': 2346,\n",
       " 'hacking': 2947,\n",
       " 'mean': 4030,\n",
       " 'soft': 5879,\n",
       " 'couch': 1585,\n",
       " 'bar': 767,\n",
       " 'exist': 2317,\n",
       " 'try': 6598,\n",
       " 'whole': 7001,\n",
       " 'trip': 6578,\n",
       " 'laptop': 3672,\n",
       " 'upside': 6753,\n",
       " 'start': 6015,\n",
       " 'release': 5270,\n",
       " 'reminder': 5286,\n",
       " 'chrome': 1301,\n",
       " 'tt': 6604,\n",
       " 'talk': 6283,\n",
       " 'pm': 4849,\n",
       " 'contextual': 1531,\n",
       " 'discovery': 1912,\n",
       " 'search': 5556,\n",
       " 'combine': 1418,\n",
       " 'calendar': 1135,\n",
       " 'weather': 6947,\n",
       " 'flight': 2514,\n",
       " 'traffic': 6542,\n",
       " 'data': 1739,\n",
       " 'create': 1631,\n",
       " 'personalize': 4745,\n",
       " 'advise': 360,\n",
       " 'long': 3840,\n",
       " 'line': 3786,\n",
       " 'uppward': 6750,\n",
       " 'tshirt': 6599,\n",
       " 'clever': 1346,\n",
       " 'design': 1817,\n",
       " 'jerk': 3520,\n",
       " 'brace': 1000,\n",
       " 'audio': 659,\n",
       " 'onslaught': 4514,\n",
       " 'free': 2600,\n",
       " 'music': 4254,\n",
       " 'sampler': 5473,\n",
       " 'itunes': 3480,\n",
       " 'featuredartists': 2423,\n",
       " 'feel': 2434,\n",
       " 'always': 451,\n",
       " 'something': 5898,\n",
       " 'run': 5445,\n",
       " 'battery': 797,\n",
       " 'set': 5610,\n",
       " 'network': 4342,\n",
       " 'circles': 1318,\n",
       " 'latitude': 3685,\n",
       " 'check': 1259,\n",
       " 'follow': 2542,\n",
       " 'foursquare': 2585,\n",
       " 'reward': 5360,\n",
       " 'googlela': 2833,\n",
       " 'googlemarch': 2835,\n",
       " 'ûï': 7245,\n",
       " 'official': 4481,\n",
       " 'among': 473,\n",
       " 'miss': 4143,\n",
       " 'aclu': 308,\n",
       " '80': 229,\n",
       " 'dance': 1721,\n",
       " 'party': 4657,\n",
       " 'way': 6940,\n",
       " 'upgrade': 6746,\n",
       " 'pager': 4609,\n",
       " 'favorite': 2410,\n",
       " 'moment': 4185,\n",
       " 'creative': 1632,\n",
       " 'take': 6272,\n",
       " 'apps': 564,\n",
       " 'speech': 5950,\n",
       " 'therapy': 6403,\n",
       " 'communication': 1436,\n",
       " 'showcased': 5693,\n",
       " 'conference': 1481,\n",
       " 'augcomm': 661,\n",
       " 'hcsm': 3012,\n",
       " 'mhealth': 4092,\n",
       " 'would': 7097,\n",
       " 'dashboard': 1737,\n",
       " 'govt': 2852,\n",
       " 'know': 3637,\n",
       " 'credit': 1638,\n",
       " 'score': 5538,\n",
       " 'watch': 6935,\n",
       " 'someone': 5897,\n",
       " 'hack': 2942,\n",
       " 'time': 6459,\n",
       " 'square': 5989,\n",
       " 'tv': 6621,\n",
       " 'screen': 5544,\n",
       " 'tech': 6319,\n",
       " 'amazing': 456,\n",
       " 'winning': 7036,\n",
       " 'love': 3868,\n",
       " 'pop': 4875,\n",
       " 'question': 5111,\n",
       " 'bring': 1036,\n",
       " 'truck': 6586,\n",
       " 'signal': 5716,\n",
       " 'please': 4835,\n",
       " 'say': 5499,\n",
       " 'yes': 7154,\n",
       " 'awesome': 711,\n",
       " 'rough': 5429,\n",
       " 'calculation': 1134,\n",
       " 'beard': 815,\n",
       " 'ratio': 5167,\n",
       " 'wonder': 7069,\n",
       " 'many': 3956,\n",
       " 'ipads': 3443,\n",
       " 'tomorrow': 6492,\n",
       " 'stop': 6058,\n",
       " 'let': 3747,\n",
       " 'custom': 1692,\n",
       " 'case': 1183,\n",
       " 'zazzlesxsw': 7194,\n",
       " 'sxswi': 6220,\n",
       " 'call': 1139,\n",
       " 'possibly': 4906,\n",
       " 'product': 5004,\n",
       " 'plenty': 4837,\n",
       " 'else': 2159,\n",
       " 'cc': 1204,\n",
       " 'shape': 5636,\n",
       " 'city': 1327,\n",
       " 'expand': 2322,\n",
       " 'contract': 1537,\n",
       " 'real': 5181,\n",
       " 'developer': 1844,\n",
       " 'encourage': 2183,\n",
       " 'audience': 658,\n",
       " 'mapping': 3959,\n",
       " 'japan': 3499,\n",
       " 'selling': 5581,\n",
       " 'retail': 5337,\n",
       " 'updated': 6744,\n",
       " 'song': 5901,\n",
       " 'info': 3336,\n",
       " '24': 96,\n",
       " 'stream': 6074,\n",
       " 'others': 4566,\n",
       " 'also': 443,\n",
       " 'live': 3805,\n",
       " 'video': 6839,\n",
       " 'get': 2756,\n",
       " 'kick': 3598,\n",
       " 'ipod': 3452,\n",
       " 'ianything': 3220,\n",
       " 'impactdashboard': 3273,\n",
       " 'demoed': 1798,\n",
       " 'become': 821,\n",
       " 'analytics': 481,\n",
       " 'bavcid': 803,\n",
       " 'buzz': 1111,\n",
       " 'billings': 881,\n",
       " 'entrepreneurs': 2216,\n",
       " 'win': 7028,\n",
       " 'award': 706,\n",
       " 'thanks': 6379,\n",
       " 'wish': 7047,\n",
       " 'could': 1588,\n",
       " 'head': 3015,\n",
       " '1pm': 76,\n",
       " 'cst': 1671,\n",
       " 'vip': 6850,\n",
       " 'access': 290,\n",
       " 'acoustic': 310,\n",
       " 'solo': 5892,\n",
       " 'tonight': 6496,\n",
       " 'dawn': 1747,\n",
       " 'coincide': 1401,\n",
       " 'gain': 2681,\n",
       " 'maximum': 4016,\n",
       " 'hipster': 3079,\n",
       " 'attention': 645,\n",
       " 'genius': 2745,\n",
       " 'chris': 1297,\n",
       " 'sacca': 5457,\n",
       " 'fake': 2371,\n",
       " 'beta': 862,\n",
       " 'invite': 3428,\n",
       " 'follower': 2544,\n",
       " 'swarm': 6170,\n",
       " 'ensues': 2204,\n",
       " 'yen': 7151,\n",
       " 'important': 3280,\n",
       " 'sure': 6148,\n",
       " 'donate': 1976,\n",
       " 'japanese': 3500,\n",
       " 'red': 5228,\n",
       " 'cross': 1653,\n",
       " 'sxswcares': 6209,\n",
       " 'quake': 5098,\n",
       " 'come': 1420,\n",
       " 'uj': 6669,\n",
       " 'booth': 967,\n",
       " 'acc': 285,\n",
       " 'hall': 2966,\n",
       " 'snap': 5846,\n",
       " 'pic': 4775,\n",
       " 'send': 5585,\n",
       " 'em': 2162,\n",
       " 'fightthepaddle': 2459,\n",
       " 'sony': 5905,\n",
       " 'xperia': 7132,\n",
       " 'play': 4824,\n",
       " 'later': 3680,\n",
       " 'detail': 1833,\n",
       " 'oh': 4489,\n",
       " 'excuse': 2311,\n",
       " 'cool': 1557,\n",
       " 'really': 5188,\n",
       " 'braille': 1003,\n",
       " 'shirt': 5667,\n",
       " 'see': 5566,\n",
       " 'people': 4716,\n",
       " 'wear': 6945,\n",
       " 'maybe': 4018,\n",
       " 'ask': 615,\n",
       " 'door': 1990,\n",
       " 'startups': 6019,\n",
       " 'premium': 4951,\n",
       " 'service': 5603,\n",
       " '1st': 77,\n",
       " 'job': 3532,\n",
       " 'post': 4907,\n",
       " 'lean': 3716,\n",
       " 'leanux': 3718,\n",
       " 'leanstartup': 3717,\n",
       " 'startup': 6017,\n",
       " 'founders': 2583,\n",
       " 'dedication': 1770,\n",
       " 'well': 6979,\n",
       " 'first': 2486,\n",
       " '10': 8,\n",
       " 'hour': 3157,\n",
       " 'sleepy': 5782,\n",
       " 'pass': 4660,\n",
       " 'homeless': 3116,\n",
       " 'sign': 5715,\n",
       " 'save': 5490,\n",
       " 'law': 3695,\n",
       " 'average': 699,\n",
       " '___': 261,\n",
       " 'wilt': 7027,\n",
       " 'stress': 6080,\n",
       " 'read': 5173,\n",
       " 'coverage': 1600,\n",
       " 'shop': 5676,\n",
       " 'takeaway': 6273,\n",
       " 'figure': 2460,\n",
       " 'agree': 387,\n",
       " 'punctuate': 5066,\n",
       " 'tx': 6648,\n",
       " 'stay': 6030,\n",
       " 'ûó': 7263,\n",
       " 'mac': 3910,\n",
       " 'smartfriend': 5809,\n",
       " 'tm': 6476,\n",
       " 'cha': 1231,\n",
       " 'catch': 1191,\n",
       " 'piece': 4785,\n",
       " 'action': 316,\n",
       " 'street': 6077,\n",
       " 'cam': 1143,\n",
       " 'great': 2874,\n",
       " 'ui': 6667,\n",
       " 'demo': 1796,\n",
       " 'xoom': 7130,\n",
       " 'tablet': 6263,\n",
       " 'lavaca': 3693,\n",
       " '6th': 219,\n",
       " 'wrap': 7104,\n",
       " 'around': 594,\n",
       " 'block': 922,\n",
       " 'techcrunch': 6321,\n",
       " 'editor': 2118,\n",
       " 'ûªs': 7242,\n",
       " 'note': 4412,\n",
       " 'guest': 2915,\n",
       " 'po': 4851,\n",
       " 'facebook': 2356,\n",
       " 'reportedly': 5300,\n",
       " 'unveil': 6735,\n",
       " 'likely': 3779,\n",
       " 'googlecircles': 2826,\n",
       " 'googleme': 2836,\n",
       " 'checkin': 1260,\n",
       " 'crowley': 1661,\n",
       " 'space': 5926,\n",
       " 'look': 3843,\n",
       " 'think': 6415,\n",
       " 'might': 4108,\n",
       " 'weekend': 6971,\n",
       " 'without': 7052,\n",
       " 'twice': 6635,\n",
       " 'holler': 3107,\n",
       " 'gram': 2862,\n",
       " 'ti': 6448,\n",
       " 'cover': 1599,\n",
       " 'sauce': 5489,\n",
       " 'lose': 3855,\n",
       " '2nite': 115,\n",
       " 'attendee': 640,\n",
       " 'blame': 912,\n",
       " 'microsoft': 4101,\n",
       " 'fix': 2493,\n",
       " 'b4': 722,\n",
       " 'christmas': 1300,\n",
       " 'theme': 6396,\n",
       " 'simplicity': 5729,\n",
       " 'business': 1103,\n",
       " 'keep': 3583,\n",
       " 'mind': 4121,\n",
       " 'developing': 1846,\n",
       " 'deed': 1771,\n",
       " 'return': 5345,\n",
       " 'fun': 2649,\n",
       " 'future': 2659,\n",
       " 'present': 4962,\n",
       " 'local': 3818,\n",
       " 'brilliant': 1035,\n",
       " 'pr': 4931,\n",
       " 'stunt': 6102,\n",
       " 'idea': 3232,\n",
       " 'customer': 1694,\n",
       " 'response': 5325,\n",
       " 'draws': 2018,\n",
       " 'crowd': 1656,\n",
       " 'medium': 4045,\n",
       " 'revenue': 5355,\n",
       " 'tapworthy': 6292,\n",
       " 'tigerblood': 6454,\n",
       " 'tenet': 6356,\n",
       " 'life': 3764,\n",
       " 'sync': 6251,\n",
       " 'session': 5608,\n",
       " 'partial': 4650,\n",
       " 'fine': 2475,\n",
       " 'decide': 1767,\n",
       " 'googletv': 2842,\n",
       " 'connected': 1496,\n",
       " 'experience': 2325,\n",
       " 'connectedtv': 1499,\n",
       " 'fascinating': 2396,\n",
       " 'hobo': 3101,\n",
       " 'tell': 6344,\n",
       " 'morning': 4212,\n",
       " 'ride': 5379,\n",
       " 'anywhere': 525,\n",
       " 'dwnld': 2074,\n",
       " 'groundlink': 2891,\n",
       " '437': 161,\n",
       " 'simple': 5727,\n",
       " 'gesture': 2755,\n",
       " 'core': 1570,\n",
       " 'interaction': 3394,\n",
       " 'touchingstories': 6519,\n",
       " 'biyt': 898,\n",
       " 'ly': 3903,\n",
       " 'email': 2163,\n",
       " 'voice': 6874,\n",
       " 'loveit': 3871,\n",
       " 'startupbus': 6018,\n",
       " 'smallbiz': 5803,\n",
       " 'need': 4321,\n",
       " 'review': 5356,\n",
       " 'place': 4810,\n",
       " 'seo': 5590,\n",
       " 'ragtube': 5141,\n",
       " 'com': 1417,\n",
       " 'earthquake': 2092,\n",
       " 'redcross': 5231,\n",
       " 'chuck': 1305,\n",
       " 'greenberg': 2878,\n",
       " 'tokyo': 6487,\n",
       " 'hurricane': 3192,\n",
       " 'katrina': 3581,\n",
       " 'crescent': 1643,\n",
       " 'join': 3540,\n",
       " 'nfc': 4366,\n",
       " 'bandwagon': 758,\n",
       " 'slide': 5787,\n",
       " 'rfid': 5366,\n",
       " 'flipboard': 2516,\n",
       " 'develop': 1843,\n",
       " 'version': 6827,\n",
       " 'course': 1596,\n",
       " 'improve': 3288,\n",
       " 'surprise': 6154,\n",
       " 'news': 4354,\n",
       " 'implication': 3277,\n",
       " 'bing': 886,\n",
       " 'project': 5015,\n",
       " 'euphoria': 2256,\n",
       " 'recommendation': 5215,\n",
       " 'centric': 1219,\n",
       " 'interface': 3399,\n",
       " 'advantage': 353,\n",
       " 'topic': 6506,\n",
       " 'avoid': 700,\n",
       " 'sexy': 5621,\n",
       " 'hot': 3151,\n",
       " 'conversation': 1550,\n",
       " 'hit': 3089,\n",
       " 'heart': 3031,\n",
       " 'soul': 5915,\n",
       " 'accessibility': 291,\n",
       " 'world': 7086,\n",
       " 'meet': 4047,\n",
       " 'team': 6313,\n",
       " 'text': 6370,\n",
       " 'reddit': 5232,\n",
       " 'front': 2621,\n",
       " 'page': 4607,\n",
       " 'moonshine': 4205,\n",
       " 'nerds': 4333,\n",
       " 'twitter': 6642,\n",
       " 'anyway': 524,\n",
       " 'remove': 5288,\n",
       " 'burn': 1096,\n",
       " 'hashtags': 2998,\n",
       " 'eg': 2134,\n",
       " 'bore': 975,\n",
       " 'dinosaur': 1889,\n",
       " 'blackberry': 906,\n",
       " 'pc': 4690,\n",
       " 'convention': 1548,\n",
       " 'heard': 3029,\n",
       " 'give': 2781,\n",
       " 'money': 4190,\n",
       " 'relief': 5275,\n",
       " 'ever': 2275,\n",
       " 'hear': 3028,\n",
       " 'expect': 2323,\n",
       " 'glue': 2795,\n",
       " 'include': 3306,\n",
       " 'help': 3050,\n",
       " 'badass': 734,\n",
       " 'right': 5387,\n",
       " 'debug': 1763,\n",
       " 'emergency': 2168,\n",
       " 'anyone': 521,\n",
       " 'last': 3677,\n",
       " 'least': 3724,\n",
       " 'copy': 1566,\n",
       " 'stupid': 6103,\n",
       " 'game': 2688,\n",
       " 'plus': 4844,\n",
       " 'special': 5945,\n",
       " 'price': 4974,\n",
       " 'i18': 3208,\n",
       " 'zombie': 7210,\n",
       " 'code': 1396,\n",
       " 'valid': 6792,\n",
       " '00': 0,\n",
       " '11': 20,\n",
       " '59': 194,\n",
       " '03': 4,\n",
       " '12': 26,\n",
       " 'infektd': 3329,\n",
       " 'zomb': 7209,\n",
       " 'temp': 6346,\n",
       " 'congress': 1494,\n",
       " 'dope': 1991,\n",
       " 'popup': 4883,\n",
       " 'sat': 5486,\n",
       " 'opening': 4529,\n",
       " 'fire': 2481,\n",
       " 'shoot': 5675,\n",
       " 'title': 6474,\n",
       " 'technews': 6327,\n",
       " 'school': 5527,\n",
       " 'marketing': 3980,\n",
       " 'expert': 2329,\n",
       " 'tech_news': 6320,\n",
       " 'jobs_co': 3534,\n",
       " 'totally': 6515,\n",
       " 'redesigned': 5234,\n",
       " 'platform': 4823,\n",
       " 'geek': 2721,\n",
       " '16162': 58,\n",
       " 'road': 5406,\n",
       " 'picture': 4782,\n",
       " 'small': 5802,\n",
       " 'event': 2269,\n",
       " 'meeting': 4050,\n",
       " 'member': 4062,\n",
       " 'carry': 1175,\n",
       " 'bag': 739,\n",
       " 'wolfram': 7066,\n",
       " 'shortly': 5682,\n",
       " 'find': 2473,\n",
       " 'major': 3933,\n",
       " 'employee': 2174,\n",
       " 'emerge': 2167,\n",
       " 'queue': 5113,\n",
       " 'late': 3679,\n",
       " 'mistake': 4147,\n",
       " 'build': 1081,\n",
       " 'netflix': 4338,\n",
       " 'hilton': 3074,\n",
       " 'arrive': 595,\n",
       " 'industry': 3324,\n",
       " 'vp': 6887,\n",
       " 'pack': 4603,\n",
       " 'house': 3158,\n",
       " 'ranking': 5161,\n",
       " 'hope': 3141,\n",
       " 'catfight': 1194,\n",
       " 'qagb': 5090,\n",
       " 'report': 5299,\n",
       " 'possible': 4905,\n",
       " 'flash': 2500,\n",
       " 'bit': 894,\n",
       " 'g03mzb': 2668,\n",
       " 'austincrowd': 671,\n",
       " 'huzzah': 3198,\n",
       " 'gowalla': 2853,\n",
       " 'andoid': 483,\n",
       " 'choice': 1289,\n",
       " 'heave': 3036,\n",
       " 'river': 5403,\n",
       " 'flow': 2523,\n",
       " 'hmmm': 3096,\n",
       " 'even': 2267,\n",
       " 'bother': 983,\n",
       " 'month': 4200,\n",
       " 'worth': 7093,\n",
       " '3g': 149,\n",
       " 'everywhere': 2284,\n",
       " 'probably': 4994,\n",
       " 'wifi': 7015,\n",
       " 'hand': 2969,\n",
       " 'sticker': 6048,\n",
       " 'coupon': 1594,\n",
       " 'dodo': 1962,\n",
       " 'travel': 6560,\n",
       " '2011': 83,\n",
       " 'potential': 4915,\n",
       " 'breakout': 1018,\n",
       " 'gadget': 2673,\n",
       " 'festival': 2447,\n",
       " 'begin': 831,\n",
       " 'ubersocial': 6660,\n",
       " 'inclds': 3305,\n",
       " 'uberguide': 6658,\n",
       " 'sponsor': 5973,\n",
       " 'mashable': 3994,\n",
       " 'glad': 2783,\n",
       " 'faulty': 2407,\n",
       " 'die': 1860,\n",
       " 'quicker': 5116,\n",
       " 'safe': 5462,\n",
       " 'gogo': 2809,\n",
       " 'inflight': 3331,\n",
       " 'freshbooks': 2608,\n",
       " 'shuttle': 5703,\n",
       " 'yet': 7156,\n",
       " 'schedule': 5518,\n",
       " 'map': 3957,\n",
       " '3d': 148,\n",
       " 'building': 1082,\n",
       " 'super': 6138,\n",
       " 'render': 5289,\n",
       " 'missoni': 4145,\n",
       " 'top': 6504,\n",
       " 'visit': 6860,\n",
       " 'art': 600,\n",
       " '8th': 245,\n",
       " 'since': 5733,\n",
       " 'old': 4496,\n",
       " 'throw': 6432,\n",
       " 'away': 709,\n",
       " 'white': 6996,\n",
       " 'mashbash': 3995,\n",
       " 'statement': 6022,\n",
       " 'dammit': 1717,\n",
       " 'officially': 4482,\n",
       " 'deny': 1810,\n",
       " 'cont': 1522,\n",
       " 'finally': 2471,\n",
       " 'feed': 2431,\n",
       " 'angrybirds': 494,\n",
       " 'julian': 3563,\n",
       " 'scream': 5543,\n",
       " 'fly': 2529,\n",
       " 'zone': 7212,\n",
       " 'pigfucker': 4788,\n",
       " 'kid': 3602,\n",
       " 'update': 6743,\n",
       " 'alpha': 438,\n",
       " 'tester': 6366,\n",
       " 'download': 2002,\n",
       " '20': 78,\n",
       " 'track': 6533,\n",
       " 'available': 696,\n",
       " 'dtsxsw': 2049,\n",
       " 'fb': 2415,\n",
       " 'turkey': 6616,\n",
       " 'random': 5155,\n",
       " 'fan': 2379,\n",
       " 'lunch': 3894,\n",
       " 'source': 5920,\n",
       " 'statesman': 6023,\n",
       " 'sent': 5589,\n",
       " 'behind': 836,\n",
       " '100': 9,\n",
       " 'compose': 1461,\n",
       " 'reply': 5298,\n",
       " 'protip': 5031,\n",
       " 'interested': 3397,\n",
       " 'location': 3822,\n",
       " 'base': 779,\n",
       " 'indoor': 3322,\n",
       " 'venue': 6817,\n",
       " 'center': 1216,\n",
       " 'etc': 2251,\n",
       " 'recco': 5204,\n",
       " 'panel': 4626,\n",
       " 'def': 1773,\n",
       " 'friend': 2616,\n",
       " 'newbie': 4352,\n",
       " 'zaarly': 7187,\n",
       " 'person': 4741,\n",
       " 'signup': 5719,\n",
       " 'referral': 5243,\n",
       " 'craigslistkiller': 1618,\n",
       " 'omg': 4502,\n",
       " 'scar': 5509,\n",
       " 'netbook': 4337,\n",
       " 'firm': 2485,\n",
       " 'droid': 2030,\n",
       " 'megastore': 4055,\n",
       " 'model': 4176,\n",
       " 'cooler': 1559,\n",
       " 'groupon': 2896,\n",
       " 'type': 6652,\n",
       " '1k': 74,\n",
       " 'view': 6845,\n",
       " 'security': 5565,\n",
       " 'lock': 3824,\n",
       " 'haha': 2953,\n",
       " 'cause': 1198,\n",
       " 'windows': 7031,\n",
       " 'voluntarily': 6880,\n",
       " 'kawasaki': 3582,\n",
       " 'thisisdare': 6421,\n",
       " 'khoi': 3597,\n",
       " 'vinh': 6847,\n",
       " 'conde': 1476,\n",
       " 'nast': 4303,\n",
       " 'rush': 5448,\n",
       " 'publishing': 5057,\n",
       " 'fundamental': 2652,\n",
       " 'misunderstanding': 4150,\n",
       " 'unboxing': 6687,\n",
       " 'outside': 4577,\n",
       " 'route': 5433,\n",
       " 'feature': 2421,\n",
       " 'year': 7146,\n",
       " 'every': 2278,\n",
       " 'holytrafficjams': 3114,\n",
       " 'touch': 6517,\n",
       " 'trackpads': 6535,\n",
       " 'positive': 4902,\n",
       " 'natural': 4308,\n",
       " 'sit': 5745,\n",
       " 'relax': 5268,\n",
       " 'sxswnui': 6232,\n",
       " 'fancy': 2384,\n",
       " 'verizon': 6824,\n",
       " '4g': 173,\n",
       " 'bb': 806,\n",
       " 'card': 1166,\n",
       " 'drop': 2032,\n",
       " 'rock': 5414,\n",
       " 'steady': 6033,\n",
       " 'gofigure': 2807,\n",
       " 'story': 6063,\n",
       " 'magazine': 3925,\n",
       " 'tbwasxsw': 6303,\n",
       " 'showcase': 5692,\n",
       " 'peak': 4697,\n",
       " 'vector': 6807,\n",
       " 'based': 782,\n",
       " 'marissagoogle': 3973,\n",
       " 'nice': 4370,\n",
       " 'move': 4224,\n",
       " 'truth': 6596,\n",
       " 'girl': 2775,\n",
       " 'joint': 3541,\n",
       " 'akqa': 409,\n",
       " 'hiring': 3085,\n",
       " 'navigation': 4311,\n",
       " 'schema': 5522,\n",
       " 'ballroom': 752,\n",
       " 'jesus': 3522,\n",
       " 'hockey': 3102,\n",
       " 'mask': 3998,\n",
       " 'bad': 733,\n",
       " 'thought': 6426,\n",
       " 'break': 1014,\n",
       " 'screw': 5548,\n",
       " 'budge': 1075,\n",
       " 'replace': 5294,\n",
       " 'stand': 6006,\n",
       " 'ridley': 5383,\n",
       " 'refresh': 5245,\n",
       " 'welcome': 6977,\n",
       " 'photo': 4762,\n",
       " 'sheltongreen': 5654,\n",
       " 'ericschu_ras': 2237,\n",
       " 'itinerary': 3476,\n",
       " 'require': 5311,\n",
       " 'band': 756,\n",
       " 'badge': 736,\n",
       " 'fest': 2445,\n",
       " 'little': 3804,\n",
       " 'jazz': 3508,\n",
       " 'pushio': 5079,\n",
       " 'guess': 2914,\n",
       " 'bulletproof': 1086,\n",
       " 'ux': 6780,\n",
       " 'strategy': 6070,\n",
       " 'pattern': 4677,\n",
       " 'anatomy': 482,\n",
       " 'decision': 1768,\n",
       " 'amen': 461,\n",
       " 'explorer': 2335,\n",
       " 'taste': 6295,\n",
       " 'pull': 5060,\n",
       " 'article': 603,\n",
       " 'different': 1868,\n",
       " 'mag': 3924,\n",
       " 'sound': 5916,\n",
       " 'grrr': 2899,\n",
       " 'plancast': 4815,\n",
       " 'stuff': 6097,\n",
       " 'export': 2337,\n",
       " 'san': 5478,\n",
       " 'diego': 1861,\n",
       " 'pacific': 4602,\n",
       " 'shift': 5659,\n",
       " 'central': 1217,\n",
       " 'tme': 6477,\n",
       " 'wack': 6898,\n",
       " 'photography': 4766,\n",
       " 'oooorkut': 4521,\n",
       " 'drive': 2026,\n",
       " 'buddy': 1074,\n",
       " '30': 121,\n",
       " 'albany': 414,\n",
       " 'anna': 496,\n",
       " 'pick': 4776,\n",
       " 'week': 6970,\n",
       " 'sxflip': 6190,\n",
       " 'breaking': 1017,\n",
       " 'ther': 6402,\n",
       " 'yay': 7142,\n",
       " 'gotto': 2848,\n",
       " 'workspace': 7085,\n",
       " 'book': 955,\n",
       " 'virtualoffice': 6856,\n",
       " 'bitbop': 895,\n",
       " 'gdgtaustin': 2717,\n",
       " 'purevolume': 5073,\n",
       " '504': 189,\n",
       " 'trinity': 6577,\n",
       " 'monday': 4187,\n",
       " 'march': 3966,\n",
       " '14th': 48,\n",
       " 'close': 1356,\n",
       " 'tonite': 6497,\n",
       " 'sxtxstate': 6242,\n",
       " 'hard': 2986,\n",
       " 'back': 726,\n",
       " 'channel': 1241,\n",
       " 'priority': 4987,\n",
       " 'alert': 418,\n",
       " 'ala': 411,\n",
       " 'box': 993,\n",
       " 'ready': 5180,\n",
       " 'hee': 3043,\n",
       " 'drip': 2024,\n",
       " 'information': 3338,\n",
       " 'rival': 5402,\n",
       " 'writer': 7107,\n",
       " 'ass': 619,\n",
       " 'market': 3978,\n",
       " 'thousand': 6427,\n",
       " 'town': 6528,\n",
       " 'demonstrate': 1801,\n",
       " 'mar': 3962,\n",
       " 'charger': 1246,\n",
       " 'lanyard': 3666,\n",
       " 'rave': 5168,\n",
       " 'monksofinvention': 4196,\n",
       " 'lego': 3732,\n",
       " 'mindstorms': 4126,\n",
       " 'debut': 1764,\n",
       " 'selective': 5577,\n",
       " 'unsix': 6730,\n",
       " 'tweetup': 6634,\n",
       " 'happydance': 2983,\n",
       " 'borrow': 978,\n",
       " 'anniemal': 497,\n",
       " 'maura': 4011,\n",
       " 'gaslamp': 2704,\n",
       " 'strip': 6086,\n",
       " 'unless': 6713,\n",
       " 'reason': 5193,\n",
       " '19': 67,\n",
       " 'parakeet': 4641,\n",
       " 'employ': 2173,\n",
       " 'lady': 3654,\n",
       " 'must': 4264,\n",
       " 'bizzy': 902,\n",
       " 'trend': 6567,\n",
       " 'share': 5637,\n",
       " 'opinion': 4534,\n",
       " 'hold': 3104,\n",
       " 'annoying': 503,\n",
       " 'circus': 1321,\n",
       " 'approves': 563,\n",
       " 'irelay': 3456,\n",
       " 'easy': 2097,\n",
       " 'bah': 740,\n",
       " 'somehow': 5896,\n",
       " 'wipe': 7041,\n",
       " 'waze': 6941,\n",
       " 'duking': 2061,\n",
       " 'personalized': 4746,\n",
       " 'friendly': 2617,\n",
       " 'leave': 3726,\n",
       " 'discover': 1910,\n",
       " 'online': 4510,\n",
       " 'wait': 6901,\n",
       " 'sxswh': 6218,\n",
       " 'hey': 3057,\n",
       " 'instagram': 3372,\n",
       " 'hipstamatic': 3077,\n",
       " 'interest': 3396,\n",
       " 'brain': 1004,\n",
       " 'bettersearch': 866,\n",
       " 'handle': 2970,\n",
       " 'demand': 1795,\n",
       " 'order': 4546,\n",
       " 'waste': 6933,\n",
       " 'valuable': 6794,\n",
       " 'fellowship': 2440,\n",
       " 'redirect': 5236,\n",
       " 'daily': 1714,\n",
       " 'shipment': 5665,\n",
       " 'sf': 5623,\n",
       " 'bay': 805,\n",
       " 'area': 585,\n",
       " 'indie': 3318,\n",
       " 'development': 1847,\n",
       " 'gaming': 2695,\n",
       " 'answer': 509,\n",
       " 'doc': 1954,\n",
       " 'looseorganizations': 3850,\n",
       " 'blogger': 926,\n",
       " 'blogging': 927,\n",
       " 'purchase': 5068,\n",
       " 'mexican': 4089,\n",
       " 'mavis': 4014,\n",
       " 'boy': 995,\n",
       " 'bear': 814,\n",
       " 'thank': 6377,\n",
       " 'god': 2803,\n",
       " 'apple_store': 548,\n",
       " 'ipad_2': 3441,\n",
       " 'serve': 5601,\n",
       " 'horde': 3145,\n",
       " 'purchaser': 5069,\n",
       " 'ecademy': 2107,\n",
       " 'fascinate': 2395,\n",
       " 'true': 6587,\n",
       " 'itme': 3477,\n",
       " 'lot': 3858,\n",
       " 'introduces': 3415,\n",
       " 'fair': 2370,\n",
       " 'innovation': 3353,\n",
       " 'third': 6418,\n",
       " 'era': 2235,\n",
       " 'logo': 3831,\n",
       " 'googledoodle': 2828,\n",
       " 'hm': 3094,\n",
       " 'another': 508,\n",
       " 'envisions': 2222,\n",
       " 'hopefully': 3143,\n",
       " 'fact': 2361,\n",
       " 'prototyping': 5034,\n",
       " 'tool': 6499,\n",
       " 'sketchbook': 5757,\n",
       " 'sharpie': 5643,\n",
       " 'pen': 4709,\n",
       " ...}"
      ]
     },
     "execution_count": 124,
     "metadata": {},
     "output_type": "execute_result"
    }
   ],
   "source": [
    "bayes_pipe[0].vocabulary_"
   ]
  },
  {
   "cell_type": "code",
   "execution_count": 148,
   "metadata": {},
   "outputs": [],
   "source": [
    "bayes_smote_pipe = imbpipe([\n",
    "                            ('tfidf', TfidfVectorizer(stop_words=sw, \n",
    "                                                      tokenizer=TweetTokenizer().tokenize)),\n",
    "                            ('smote', SMOTE(random_state=42,\n",
    "                                            sampling_strategy = {0: 100, \n",
    "                                                                 1: 70, \n",
    "                                                                 2: 90})),\n",
    "                            ('mnb', MultinomialNB())\n",
    "])"
   ]
  },
  {
   "cell_type": "code",
   "execution_count": 149,
   "metadata": {
    "scrolled": true
   },
   "outputs": [
    {
     "data": {
      "text/plain": [
       "Pipeline(steps=[('tfidf',\n",
       "                 TfidfVectorizer(stop_words=['i', 'me', 'my', 'myself', 'we',\n",
       "                                             'our', 'ours', 'ourselves', 'you',\n",
       "                                             \"you're\", \"you've\", \"you'll\",\n",
       "                                             \"you'd\", 'your', 'yours',\n",
       "                                             'yourself', 'yourselves', 'he',\n",
       "                                             'him', 'his', 'himself', 'she',\n",
       "                                             \"she's\", 'her', 'hers', 'herself',\n",
       "                                             'it', \"it's\", 'its', 'itself', ...],\n",
       "                                 tokenizer=<bound method TweetTokenizer.tokenize of <nltk.tokenize.casual.TweetTokenizer object at 0x7ff6758aa1f0>>)),\n",
       "                ('smote', SMOTE(random_state=42)), ('mnb', MultinomialNB())])"
      ]
     },
     "execution_count": 149,
     "metadata": {},
     "output_type": "execute_result"
    }
   ],
   "source": [
    "bayes_smote_pipe.fit(df_train_clean['tokenized'], df_train_clean['target'])"
   ]
  },
  {
   "cell_type": "code",
   "execution_count": 150,
   "metadata": {
    "scrolled": true
   },
   "outputs": [
    {
     "name": "stdout",
     "output_type": "stream",
     "text": [
      "[0.79094989 0.77916978 0.78982797 0.78440539 0.78833209]\n",
      "Training Accuracy 0.7865370231862379\n",
      "##############\n",
      "[0.61555722 0.57816006 0.62079282 0.61406133 0.56394914]\n",
      "Cross_Val Accuracy 0.5985041136873598\n",
      "##############\n",
      "Training Macro Precision: 0.7100406611082108\n",
      "Cross_Val Macro Precision: 0.5193945190053315\n",
      "##############\n",
      "Training Macro Recall: 0.8482809033481045\n",
      "Cross_Val Macro Recall: 0.5936665577983826\n",
      "##############\n",
      "Training Macro F1: 0.74769029915003\n",
      "Cross_Val Macro F1: 0.5314317024863692\n"
     ]
    }
   ],
   "source": [
    "print_cv_scores(bayes_smote_pipe, df_train_clean['tokenized'], df_train_clean['target'])"
   ]
  },
  {
   "cell_type": "code",
   "execution_count": 151,
   "metadata": {
    "scrolled": true
   },
   "outputs": [
    {
     "data": {
      "image/png": "[encoded data removed]",
      "text/plain": [
       "<Figure size 432x288 with 2 Axes>"
      ]
     },
     "metadata": {
      "needs_background": "light"
     },
     "output_type": "display_data"
    }
   ],
   "source": [
    "plot_confusion_matrix(bayes_smote_pipe, \n",
    "                      df_train_clean['tokenized'], \n",
    "                      df_train_clean['target'], \n",
    "                      normalize='pred');"
   ]
  },
  {
   "cell_type": "code",
   "execution_count": 152,
   "metadata": {},
   "outputs": [],
   "source": [
    "xgb_pipe = imbpipe(steps=[('tfidf', TfidfVectorizer(stop_words=sw,\n",
    "                                                    tokenizer=TweetTokenizer().tokenize)),\n",
    "                          ('sm', SMOTE(random_state=42)),\n",
    "                          ('xgb', XGBClassifier(random_state=42,\n",
    "                                                max_depth = 6,\n",
    "                                                n_jobs = -1))])"
   ]
  },
  {
   "cell_type": "code",
   "execution_count": 153,
   "metadata": {},
   "outputs": [
    {
     "data": {
      "text/plain": [
       "Pipeline(steps=[('tfidf',\n",
       "                 TfidfVectorizer(stop_words=['i', 'me', 'my', 'myself', 'we',\n",
       "                                             'our', 'ours', 'ourselves', 'you',\n",
       "                                             \"you're\", \"you've\", \"you'll\",\n",
       "                                             \"you'd\", 'your', 'yours',\n",
       "                                             'yourself', 'yourselves', 'he',\n",
       "                                             'him', 'his', 'himself', 'she',\n",
       "                                             \"she's\", 'her', 'hers', 'herself',\n",
       "                                             'it', \"it's\", 'its', 'itself', ...],\n",
       "                                 tokenizer=<bound method TweetTokenizer.tokenize of <nltk.tokenize.casual...\n",
       "                               importance_type='gain',\n",
       "                               interaction_constraints='',\n",
       "                               learning_rate=0.300000012, max_delta_step=0,\n",
       "                               max_depth=6, min_child_weight=1, missing=nan,\n",
       "                               monotone_constraints='()', n_estimators=100,\n",
       "                               n_jobs=-1, num_parallel_tree=1,\n",
       "                               objective='multi:softprob', random_state=42,\n",
       "                               reg_alpha=0, reg_lambda=1, scale_pos_weight=None,\n",
       "                               subsample=1, tree_method='exact',\n",
       "                               validate_parameters=1, verbosity=None))])"
      ]
     },
     "execution_count": 153,
     "metadata": {},
     "output_type": "execute_result"
    }
   ],
   "source": [
    "xgb_pipe.fit(df_train_clean['tokenized'], df_train_clean['target'])"
   ]
  },
  {
   "cell_type": "code",
   "execution_count": 154,
   "metadata": {},
   "outputs": [
    {
     "name": "stdout",
     "output_type": "stream",
     "text": [
      "[0.87677636 0.87471952 0.86910995 0.86480927 0.87154076]\n",
      "Training Accuracy 0.8713911742707555\n",
      "##############\n",
      "[0.67913239 0.6776365  0.67988033 0.69184742 0.67389678]\n",
      "Cross_Val Accuracy 0.6804786836200449\n",
      "##############\n",
      "Training Macro Precision: 0.9154404725901131\n",
      "Cross_Val Macro Precision: 0.604557150242045\n",
      "##############\n",
      "Training Macro Recall: 0.7737538803170918\n",
      "Cross_Val Macro Recall: 0.49641646737697737\n",
      "##############\n",
      "Training Macro F1: 0.825486727374213\n",
      "Cross_Val Macro F1: 0.5183603527849806\n"
     ]
    }
   ],
   "source": [
    "print_cv_scores(xgb_pipe, df_train_clean['tokenized'], df_train_clean['target'])"
   ]
  },
  {
   "cell_type": "code",
   "execution_count": 156,
   "metadata": {},
   "outputs": [
    {
     "data": {
      "image/png": "[encoded data removed]",
      "text/plain": [
       "<Figure size 432x288 with 2 Axes>"
      ]
     },
     "metadata": {
      "needs_background": "light"
     },
     "output_type": "display_data"
    }
   ],
   "source": [
    "plot_confusion_matrix(xgb_pipe, \n",
    "                      df_train_clean['tokenized'], \n",
    "                      df_train_clean['target'], \n",
    "                      normalize='pred');"
   ]
  },
  {
   "cell_type": "code",
   "execution_count": 46,
   "metadata": {},
   "outputs": [],
   "source": [
    "xgb_gs_pipe = imbpipe(steps=[('tfidf', TfidfVectorizer(stop_words=sw, \n",
    "                                                       token_pattern=r'(?u)\\b[A-Za-z]+\\b')),\n",
    "                              ('sm', SMOTE(random_state=42)),\n",
    "                              ('xgb', XGBClassifier(random_state=42,\n",
    "                                                   n_jobs = -1,\n",
    "                                                   max_depth=6,\n",
    "                                                   tree_method= 'hist'))])"
   ]
  },
  {
   "cell_type": "code",
   "execution_count": 47,
   "metadata": {},
   "outputs": [],
   "source": [
    "param_grid = [{'tfidf__max_features': [5000, None],\n",
    "               'tfidf__ngram_range': [(1, 1), (1, 2), (2, 2)]}]\n",
    "\n",
    "gs_pipe = GridSearchCV(estimator=xgb_gs_pipe, \n",
    "                       param_grid=param_grid, \n",
    "                       verbose=2, \n",
    "                       scoring='precision_macro')"
   ]
  },
  {
   "cell_type": "code",
   "execution_count": 107,
   "metadata": {},
   "outputs": [
    {
     "name": "stdout",
     "output_type": "stream",
     "text": [
      "Fitting 5 folds for each of 6 candidates, totalling 30 fits\n",
      "[CV] END tfidf__max_features=5000, tfidf__ngram_range=(1, 1); total time=  10.4s\n",
      "[CV] END tfidf__max_features=5000, tfidf__ngram_range=(1, 1); total time=  10.3s\n",
      "[CV] END tfidf__max_features=5000, tfidf__ngram_range=(1, 1); total time=  10.3s\n",
      "[CV] END tfidf__max_features=5000, tfidf__ngram_range=(1, 1); total time=  10.2s\n",
      "[CV] END tfidf__max_features=5000, tfidf__ngram_range=(1, 1); total time=  10.3s\n",
      "[CV] END tfidf__max_features=5000, tfidf__ngram_range=(1, 2); total time=  14.2s\n",
      "[CV] END tfidf__max_features=5000, tfidf__ngram_range=(1, 2); total time=  14.4s\n",
      "[CV] END tfidf__max_features=5000, tfidf__ngram_range=(1, 2); total time=  14.2s\n",
      "[CV] END tfidf__max_features=5000, tfidf__ngram_range=(1, 2); total time=  14.1s\n",
      "[CV] END tfidf__max_features=5000, tfidf__ngram_range=(1, 2); total time=  13.8s\n",
      "[CV] END tfidf__max_features=5000, tfidf__ngram_range=(2, 2); total time=   5.0s\n",
      "[CV] END tfidf__max_features=5000, tfidf__ngram_range=(2, 2); total time=   5.0s\n",
      "[CV] END tfidf__max_features=5000, tfidf__ngram_range=(2, 2); total time=   5.0s\n",
      "[CV] END tfidf__max_features=5000, tfidf__ngram_range=(2, 2); total time=   4.9s\n",
      "[CV] END tfidf__max_features=5000, tfidf__ngram_range=(2, 2); total time=   4.9s\n",
      "[CV] END tfidf__max_features=None, tfidf__ngram_range=(1, 1); total time=  11.7s\n",
      "[CV] END tfidf__max_features=None, tfidf__ngram_range=(1, 1); total time=  11.7s\n",
      "[CV] END tfidf__max_features=None, tfidf__ngram_range=(1, 1); total time=  11.3s\n",
      "[CV] END tfidf__max_features=None, tfidf__ngram_range=(1, 1); total time=  11.4s\n",
      "[CV] END tfidf__max_features=None, tfidf__ngram_range=(1, 1); total time=  11.3s\n",
      "[CV] END tfidf__max_features=None, tfidf__ngram_range=(1, 2); total time=  31.9s\n",
      "[CV] END tfidf__max_features=None, tfidf__ngram_range=(1, 2); total time=  32.5s\n",
      "[CV] END tfidf__max_features=None, tfidf__ngram_range=(1, 2); total time=  31.7s\n",
      "[CV] END tfidf__max_features=None, tfidf__ngram_range=(1, 2); total time=  31.5s\n",
      "[CV] END tfidf__max_features=None, tfidf__ngram_range=(1, 2); total time=  31.1s\n",
      "[CV] END tfidf__max_features=None, tfidf__ngram_range=(2, 2); total time=  16.3s\n",
      "[CV] END tfidf__max_features=None, tfidf__ngram_range=(2, 2); total time=  16.8s\n",
      "[CV] END tfidf__max_features=None, tfidf__ngram_range=(2, 2); total time=  16.2s\n",
      "[CV] END tfidf__max_features=None, tfidf__ngram_range=(2, 2); total time=  16.6s\n",
      "[CV] END tfidf__max_features=None, tfidf__ngram_range=(2, 2); total time=  15.8s\n"
     ]
    },
    {
     "data": {
      "text/plain": [
       "GridSearchCV(estimator=Pipeline(steps=[('tfidf',\n",
       "                                        TfidfVectorizer(stop_words=['i', 'me',\n",
       "                                                                    'my',\n",
       "                                                                    'myself',\n",
       "                                                                    'we', 'our',\n",
       "                                                                    'ours',\n",
       "                                                                    'ourselves',\n",
       "                                                                    'you',\n",
       "                                                                    \"you're\",\n",
       "                                                                    \"you've\",\n",
       "                                                                    \"you'll\",\n",
       "                                                                    \"you'd\",\n",
       "                                                                    'your',\n",
       "                                                                    'yours',\n",
       "                                                                    'yourself',\n",
       "                                                                    'yourselves',\n",
       "                                                                    'he', 'him',\n",
       "                                                                    'his',\n",
       "                                                                    'himself',\n",
       "                                                                    'she',\n",
       "                                                                    \"she's\",\n",
       "                                                                    'her',\n",
       "                                                                    'hers',\n",
       "                                                                    'herself',\n",
       "                                                                    'it',\n",
       "                                                                    \"it's\",\n",
       "                                                                    'its',\n",
       "                                                                    'itself', ...],\n",
       "                                                        token_pattern='(?u)\\\\b[A-Za-z]+\\\\b')),\n",
       "                                       ('sm', S...\n",
       "                                                      missing=nan,\n",
       "                                                      monotone_constraints=None,\n",
       "                                                      n_estimators=100,\n",
       "                                                      n_jobs=-1,\n",
       "                                                      num_parallel_tree=None,\n",
       "                                                      random_state=42,\n",
       "                                                      reg_alpha=None,\n",
       "                                                      reg_lambda=None,\n",
       "                                                      scale_pos_weight=None,\n",
       "                                                      subsample=None,\n",
       "                                                      tree_method='hist',\n",
       "                                                      validate_parameters=None,\n",
       "                                                      verbosity=None))]),\n",
       "             param_grid=[{'tfidf__max_features': [5000, None],\n",
       "                          'tfidf__ngram_range': [(1, 1), (1, 2), (2, 2)]}],\n",
       "             scoring='precision_macro', verbose=2)"
      ]
     },
     "execution_count": 107,
     "metadata": {},
     "output_type": "execute_result"
    }
   ],
   "source": [
    "gs_pipe.fit(df_train_clean['text'], df_train_clean['target'])"
   ]
  },
  {
   "cell_type": "code",
   "execution_count": 109,
   "metadata": {
    "scrolled": true
   },
   "outputs": [
    {
     "data": {
      "text/html": [
       "<div>\n",
       "<style scoped>\n",
       "    .dataframe tbody tr th:only-of-type {\n",
       "        vertical-align: middle;\n",
       "    }\n",
       "\n",
       "    .dataframe tbody tr th {\n",
       "        vertical-align: top;\n",
       "    }\n",
       "\n",
       "    .dataframe thead th {\n",
       "        text-align: right;\n",
       "    }\n",
       "</style>\n",
       "<table border=\"1\" class=\"dataframe\">\n",
       "  <thead>\n",
       "    <tr style=\"text-align: right;\">\n",
       "      <th></th>\n",
       "      <th>mean_fit_time</th>\n",
       "      <th>std_fit_time</th>\n",
       "      <th>mean_score_time</th>\n",
       "      <th>std_score_time</th>\n",
       "      <th>param_tfidf__max_features</th>\n",
       "      <th>param_tfidf__ngram_range</th>\n",
       "      <th>params</th>\n",
       "      <th>split0_test_score</th>\n",
       "      <th>split1_test_score</th>\n",
       "      <th>split2_test_score</th>\n",
       "      <th>split3_test_score</th>\n",
       "      <th>split4_test_score</th>\n",
       "      <th>mean_test_score</th>\n",
       "      <th>std_test_score</th>\n",
       "      <th>rank_test_score</th>\n",
       "    </tr>\n",
       "  </thead>\n",
       "  <tbody>\n",
       "    <tr>\n",
       "      <th>0</th>\n",
       "      <td>10.256396</td>\n",
       "      <td>0.079050</td>\n",
       "      <td>0.029903</td>\n",
       "      <td>0.000230</td>\n",
       "      <td>5000</td>\n",
       "      <td>(1, 1)</td>\n",
       "      <td>{'tfidf__max_features': 5000, 'tfidf__ngram_ra...</td>\n",
       "      <td>0.607171</td>\n",
       "      <td>0.570861</td>\n",
       "      <td>0.591048</td>\n",
       "      <td>0.614592</td>\n",
       "      <td>0.529008</td>\n",
       "      <td>0.582536</td>\n",
       "      <td>0.030687</td>\n",
       "      <td>3</td>\n",
       "    </tr>\n",
       "    <tr>\n",
       "      <th>1</th>\n",
       "      <td>14.087179</td>\n",
       "      <td>0.176503</td>\n",
       "      <td>0.040029</td>\n",
       "      <td>0.000235</td>\n",
       "      <td>5000</td>\n",
       "      <td>(1, 2)</td>\n",
       "      <td>{'tfidf__max_features': 5000, 'tfidf__ngram_ra...</td>\n",
       "      <td>0.535832</td>\n",
       "      <td>0.584601</td>\n",
       "      <td>0.573057</td>\n",
       "      <td>0.623085</td>\n",
       "      <td>0.531591</td>\n",
       "      <td>0.569633</td>\n",
       "      <td>0.033712</td>\n",
       "      <td>4</td>\n",
       "    </tr>\n",
       "    <tr>\n",
       "      <th>2</th>\n",
       "      <td>4.915064</td>\n",
       "      <td>0.047946</td>\n",
       "      <td>0.030069</td>\n",
       "      <td>0.000142</td>\n",
       "      <td>5000</td>\n",
       "      <td>(2, 2)</td>\n",
       "      <td>{'tfidf__max_features': 5000, 'tfidf__ngram_ra...</td>\n",
       "      <td>0.471193</td>\n",
       "      <td>0.494502</td>\n",
       "      <td>0.468016</td>\n",
       "      <td>0.491837</td>\n",
       "      <td>0.465145</td>\n",
       "      <td>0.478139</td>\n",
       "      <td>0.012449</td>\n",
       "      <td>6</td>\n",
       "    </tr>\n",
       "    <tr>\n",
       "      <th>3</th>\n",
       "      <td>11.468010</td>\n",
       "      <td>0.155647</td>\n",
       "      <td>0.029715</td>\n",
       "      <td>0.000118</td>\n",
       "      <td>None</td>\n",
       "      <td>(1, 1)</td>\n",
       "      <td>{'tfidf__max_features': None, 'tfidf__ngram_ra...</td>\n",
       "      <td>0.625864</td>\n",
       "      <td>0.580207</td>\n",
       "      <td>0.586743</td>\n",
       "      <td>0.642704</td>\n",
       "      <td>0.561428</td>\n",
       "      <td>0.599389</td>\n",
       "      <td>0.030153</td>\n",
       "      <td>2</td>\n",
       "    </tr>\n",
       "    <tr>\n",
       "      <th>4</th>\n",
       "      <td>31.692422</td>\n",
       "      <td>0.462318</td>\n",
       "      <td>0.048071</td>\n",
       "      <td>0.000916</td>\n",
       "      <td>None</td>\n",
       "      <td>(1, 2)</td>\n",
       "      <td>{'tfidf__max_features': None, 'tfidf__ngram_ra...</td>\n",
       "      <td>0.640050</td>\n",
       "      <td>0.597764</td>\n",
       "      <td>0.609489</td>\n",
       "      <td>0.692304</td>\n",
       "      <td>0.556106</td>\n",
       "      <td>0.619143</td>\n",
       "      <td>0.045417</td>\n",
       "      <td>1</td>\n",
       "    </tr>\n",
       "    <tr>\n",
       "      <th>5</th>\n",
       "      <td>16.301852</td>\n",
       "      <td>0.323872</td>\n",
       "      <td>0.036296</td>\n",
       "      <td>0.000367</td>\n",
       "      <td>None</td>\n",
       "      <td>(2, 2)</td>\n",
       "      <td>{'tfidf__max_features': None, 'tfidf__ngram_ra...</td>\n",
       "      <td>0.596491</td>\n",
       "      <td>0.570866</td>\n",
       "      <td>0.552581</td>\n",
       "      <td>0.618080</td>\n",
       "      <td>0.506935</td>\n",
       "      <td>0.568991</td>\n",
       "      <td>0.038183</td>\n",
       "      <td>5</td>\n",
       "    </tr>\n",
       "  </tbody>\n",
       "</table>\n",
       "</div>"
      ],
      "text/plain": [
       "   mean_fit_time  std_fit_time  mean_score_time  std_score_time  \\\n",
       "0      10.256396      0.079050         0.029903        0.000230   \n",
       "1      14.087179      0.176503         0.040029        0.000235   \n",
       "2       4.915064      0.047946         0.030069        0.000142   \n",
       "3      11.468010      0.155647         0.029715        0.000118   \n",
       "4      31.692422      0.462318         0.048071        0.000916   \n",
       "5      16.301852      0.323872         0.036296        0.000367   \n",
       "\n",
       "  param_tfidf__max_features param_tfidf__ngram_range  \\\n",
       "0                      5000                   (1, 1)   \n",
       "1                      5000                   (1, 2)   \n",
       "2                      5000                   (2, 2)   \n",
       "3                      None                   (1, 1)   \n",
       "4                      None                   (1, 2)   \n",
       "5                      None                   (2, 2)   \n",
       "\n",
       "                                              params  split0_test_score  \\\n",
       "0  {'tfidf__max_features': 5000, 'tfidf__ngram_ra...           0.607171   \n",
       "1  {'tfidf__max_features': 5000, 'tfidf__ngram_ra...           0.535832   \n",
       "2  {'tfidf__max_features': 5000, 'tfidf__ngram_ra...           0.471193   \n",
       "3  {'tfidf__max_features': None, 'tfidf__ngram_ra...           0.625864   \n",
       "4  {'tfidf__max_features': None, 'tfidf__ngram_ra...           0.640050   \n",
       "5  {'tfidf__max_features': None, 'tfidf__ngram_ra...           0.596491   \n",
       "\n",
       "   split1_test_score  split2_test_score  split3_test_score  split4_test_score  \\\n",
       "0           0.570861           0.591048           0.614592           0.529008   \n",
       "1           0.584601           0.573057           0.623085           0.531591   \n",
       "2           0.494502           0.468016           0.491837           0.465145   \n",
       "3           0.580207           0.586743           0.642704           0.561428   \n",
       "4           0.597764           0.609489           0.692304           0.556106   \n",
       "5           0.570866           0.552581           0.618080           0.506935   \n",
       "\n",
       "   mean_test_score  std_test_score  rank_test_score  \n",
       "0         0.582536        0.030687                3  \n",
       "1         0.569633        0.033712                4  \n",
       "2         0.478139        0.012449                6  \n",
       "3         0.599389        0.030153                2  \n",
       "4         0.619143        0.045417                1  \n",
       "5         0.568991        0.038183                5  "
      ]
     },
     "execution_count": 109,
     "metadata": {},
     "output_type": "execute_result"
    }
   ],
   "source": [
    "pd.DataFrame(gs_pipe.cv_results_)"
   ]
  },
  {
   "cell_type": "code",
   "execution_count": 110,
   "metadata": {},
   "outputs": [
    {
     "data": {
      "text/plain": [
       "0.6191427132695128"
      ]
     },
     "execution_count": 110,
     "metadata": {},
     "output_type": "execute_result"
    }
   ],
   "source": [
    "gs_pipe.best_score_"
   ]
  },
  {
   "cell_type": "code",
   "execution_count": 191,
   "metadata": {
    "scrolled": true
   },
   "outputs": [
    {
     "name": "stdout",
     "output_type": "stream",
     "text": [
      "('aapl', 7.610546489643824)\n",
      "('aapl already', 9.114623886420098)\n",
      "('aapl knows', 9.114623886420098)\n",
      "('aapl link', 9.114623886420098)\n",
      "('aapl open', 9.114623886420098)\n"
     ]
    },
    {
     "data": {
      "text/plain": [
       "[None, None, None, None, None]"
      ]
     },
     "execution_count": 191,
     "metadata": {},
     "output_type": "execute_result"
    }
   ],
   "source": [
    "idf_values = dict(zip(gs_pipe.best_estimator_[0].get_feature_names(), gs_pipe.best_estimator_[0].idf_))\n",
    "[print(v) for i, v in enumerate(idf_values.items()) if i < 5]"
   ]
  },
  {
   "cell_type": "code",
   "execution_count": 112,
   "metadata": {},
   "outputs": [
    {
     "data": {
      "text/plain": [
       "9.114623886420098"
      ]
     },
     "execution_count": 112,
     "metadata": {},
     "output_type": "execute_result"
    }
   ],
   "source": [
    "max(gs_pipe.best_estimator_[0].idf_)"
   ]
  },
  {
   "cell_type": "code",
   "execution_count": 57,
   "metadata": {},
   "outputs": [],
   "source": [
    "rf_SVD_pipe = Pipeline([('tfidf', TfidfVectorizer(stop_words=sw)),\n",
    "                          ('svd', TruncatedSVD(n_components=30,\n",
    "                                               random_state=42)),\n",
    "                          ('rf', RandomForestClassifier(max_depth=12,\n",
    "                                                        class_weight='balanced',\n",
    "                                                        random_state=42))\n",
    "])"
   ]
  },
  {
   "cell_type": "code",
   "execution_count": 55,
   "metadata": {
    "scrolled": true
   },
   "outputs": [
    {
     "name": "stdout",
     "output_type": "stream",
     "text": [
      "[0.94596111 0.95381451 0.94839192 0.94932685 0.94970082]\n",
      "Training Accuracy 0.9494390426327598\n",
      "##############\n",
      "[0.59311892 0.59685864 0.62976814 0.63724757 0.59237098]\n",
      "Cross_Val Accuracy 0.6098728496634256\n",
      "##############\n",
      "Training Macro Precision: 0.8706077835003704\n",
      "Cross_Val Macro Precision: 0.469670593090141\n",
      "##############\n",
      "Training Macro Recall: 0.9648250223260119\n",
      "Cross_Val Macro Recall: 0.46365009368686644\n",
      "##############\n",
      "Training Macro F1: 0.9056831329137518\n",
      "Cross_Val Macro F1: 0.463640255382877\n"
     ]
    }
   ],
   "source": [
    "print_cv_scores(rf_SVD_pipe, df_train_clean['text'], df_train_clean['target'])"
   ]
  },
  {
   "cell_type": "code",
   "execution_count": 63,
   "metadata": {},
   "outputs": [],
   "source": [
    "param_grid = [{'svd__n_components': [100, 500, 1000],\n",
    "               'rf__max_depth': [5, 10, 15]}]\n",
    "\n",
    "gs_pipe = GridSearchCV(estimator=rf_SVD_pipe, \n",
    "                       param_grid=param_grid, \n",
    "                       verbose=2, \n",
    "                       scoring='precision_macro',\n",
    "                       return_train_score=True)"
   ]
  },
  {
   "cell_type": "code",
   "execution_count": 64,
   "metadata": {},
   "outputs": [
    {
     "name": "stdout",
     "output_type": "stream",
     "text": [
      "Fitting 5 folds for each of 9 candidates, totalling 45 fits\n",
      "[CV] END .............rf__max_depth=5, svd__n_components=100; total time=   1.9s\n",
      "[CV] END .............rf__max_depth=5, svd__n_components=100; total time=   1.8s\n",
      "[CV] END .............rf__max_depth=5, svd__n_components=100; total time=   1.8s\n",
      "[CV] END .............rf__max_depth=5, svd__n_components=100; total time=   1.8s\n",
      "[CV] END .............rf__max_depth=5, svd__n_components=100; total time=   1.8s\n",
      "[CV] END .............rf__max_depth=5, svd__n_components=500; total time=   6.2s\n",
      "[CV] END .............rf__max_depth=5, svd__n_components=500; total time=   6.2s\n",
      "[CV] END .............rf__max_depth=5, svd__n_components=500; total time=   6.2s\n",
      "[CV] END .............rf__max_depth=5, svd__n_components=500; total time=   6.2s\n",
      "[CV] END .............rf__max_depth=5, svd__n_components=500; total time=   6.3s\n",
      "[CV] END ............rf__max_depth=5, svd__n_components=1000; total time=  14.8s\n",
      "[CV] END ............rf__max_depth=5, svd__n_components=1000; total time=  14.8s\n",
      "[CV] END ............rf__max_depth=5, svd__n_components=1000; total time=  14.7s\n",
      "[CV] END ............rf__max_depth=5, svd__n_components=1000; total time=  14.7s\n",
      "[CV] END ............rf__max_depth=5, svd__n_components=1000; total time=  14.7s\n",
      "[CV] END ............rf__max_depth=10, svd__n_components=100; total time=   2.8s\n",
      "[CV] END ............rf__max_depth=10, svd__n_components=100; total time=   2.8s\n",
      "[CV] END ............rf__max_depth=10, svd__n_components=100; total time=   2.8s\n",
      "[CV] END ............rf__max_depth=10, svd__n_components=100; total time=   2.8s\n",
      "[CV] END ............rf__max_depth=10, svd__n_components=100; total time=   2.8s\n",
      "[CV] END ............rf__max_depth=10, svd__n_components=500; total time=   8.6s\n",
      "[CV] END ............rf__max_depth=10, svd__n_components=500; total time=   8.6s\n",
      "[CV] END ............rf__max_depth=10, svd__n_components=500; total time=   8.7s\n",
      "[CV] END ............rf__max_depth=10, svd__n_components=500; total time=   8.4s\n",
      "[CV] END ............rf__max_depth=10, svd__n_components=500; total time=   8.4s\n",
      "[CV] END ...........rf__max_depth=10, svd__n_components=1000; total time=  17.6s\n",
      "[CV] END ...........rf__max_depth=10, svd__n_components=1000; total time=  17.7s\n",
      "[CV] END ...........rf__max_depth=10, svd__n_components=1000; total time=  17.7s\n",
      "[CV] END ...........rf__max_depth=10, svd__n_components=1000; total time=  17.8s\n",
      "[CV] END ...........rf__max_depth=10, svd__n_components=1000; total time=  17.7s\n",
      "[CV] END ............rf__max_depth=15, svd__n_components=100; total time=   3.3s\n",
      "[CV] END ............rf__max_depth=15, svd__n_components=100; total time=   3.3s\n",
      "[CV] END ............rf__max_depth=15, svd__n_components=100; total time=   3.4s\n",
      "[CV] END ............rf__max_depth=15, svd__n_components=100; total time=   3.3s\n",
      "[CV] END ............rf__max_depth=15, svd__n_components=100; total time=   3.3s\n",
      "[CV] END ............rf__max_depth=15, svd__n_components=500; total time=   9.7s\n",
      "[CV] END ............rf__max_depth=15, svd__n_components=500; total time=   9.7s\n",
      "[CV] END ............rf__max_depth=15, svd__n_components=500; total time=   9.9s\n",
      "[CV] END ............rf__max_depth=15, svd__n_components=500; total time=   9.7s\n",
      "[CV] END ............rf__max_depth=15, svd__n_components=500; total time=   9.7s\n",
      "[CV] END ...........rf__max_depth=15, svd__n_components=1000; total time=  19.6s\n",
      "[CV] END ...........rf__max_depth=15, svd__n_components=1000; total time=  19.6s\n",
      "[CV] END ...........rf__max_depth=15, svd__n_components=1000; total time=  19.6s\n",
      "[CV] END ...........rf__max_depth=15, svd__n_components=1000; total time=  19.7s\n",
      "[CV] END ...........rf__max_depth=15, svd__n_components=1000; total time=  19.5s\n"
     ]
    },
    {
     "data": {
      "text/plain": [
       "GridSearchCV(estimator=Pipeline(steps=[('tfidf',\n",
       "                                        TfidfVectorizer(stop_words=['i', 'me',\n",
       "                                                                    'my',\n",
       "                                                                    'myself',\n",
       "                                                                    'we', 'our',\n",
       "                                                                    'ours',\n",
       "                                                                    'ourselves',\n",
       "                                                                    'you',\n",
       "                                                                    \"you're\",\n",
       "                                                                    \"you've\",\n",
       "                                                                    \"you'll\",\n",
       "                                                                    \"you'd\",\n",
       "                                                                    'your',\n",
       "                                                                    'yours',\n",
       "                                                                    'yourself',\n",
       "                                                                    'yourselves',\n",
       "                                                                    'he', 'him',\n",
       "                                                                    'his',\n",
       "                                                                    'himself',\n",
       "                                                                    'she',\n",
       "                                                                    \"she's\",\n",
       "                                                                    'her',\n",
       "                                                                    'hers',\n",
       "                                                                    'herself',\n",
       "                                                                    'it',\n",
       "                                                                    \"it's\",\n",
       "                                                                    'its',\n",
       "                                                                    'itself', ...])),\n",
       "                                       ('svd',\n",
       "                                        TruncatedSVD(n_components=30,\n",
       "                                                     random_state=42)),\n",
       "                                       ('rf',\n",
       "                                        RandomForestClassifier(class_weight='balanced',\n",
       "                                                               max_depth=12,\n",
       "                                                               random_state=42))]),\n",
       "             param_grid=[{'rf__max_depth': [5, 10, 15],\n",
       "                          'svd__n_components': [100, 500, 1000]}],\n",
       "             return_train_score=True, scoring='precision_macro', verbose=2)"
      ]
     },
     "execution_count": 64,
     "metadata": {},
     "output_type": "execute_result"
    }
   ],
   "source": [
    "gs_pipe.fit(df_train_clean['text'], df_train_clean['target'])"
   ]
  },
  {
   "cell_type": "code",
   "execution_count": 65,
   "metadata": {},
   "outputs": [
    {
     "data": {
      "text/html": [
       "<div>\n",
       "<style scoped>\n",
       "    .dataframe tbody tr th:only-of-type {\n",
       "        vertical-align: middle;\n",
       "    }\n",
       "\n",
       "    .dataframe tbody tr th {\n",
       "        vertical-align: top;\n",
       "    }\n",
       "\n",
       "    .dataframe thead th {\n",
       "        text-align: right;\n",
       "    }\n",
       "</style>\n",
       "<table border=\"1\" class=\"dataframe\">\n",
       "  <thead>\n",
       "    <tr style=\"text-align: right;\">\n",
       "      <th></th>\n",
       "      <th>mean_fit_time</th>\n",
       "      <th>std_fit_time</th>\n",
       "      <th>mean_score_time</th>\n",
       "      <th>std_score_time</th>\n",
       "      <th>param_rf__max_depth</th>\n",
       "      <th>param_svd__n_components</th>\n",
       "      <th>params</th>\n",
       "      <th>split0_test_score</th>\n",
       "      <th>split1_test_score</th>\n",
       "      <th>split2_test_score</th>\n",
       "      <th>...</th>\n",
       "      <th>mean_test_score</th>\n",
       "      <th>std_test_score</th>\n",
       "      <th>rank_test_score</th>\n",
       "      <th>split0_train_score</th>\n",
       "      <th>split1_train_score</th>\n",
       "      <th>split2_train_score</th>\n",
       "      <th>split3_train_score</th>\n",
       "      <th>split4_train_score</th>\n",
       "      <th>mean_train_score</th>\n",
       "      <th>std_train_score</th>\n",
       "    </tr>\n",
       "  </thead>\n",
       "  <tbody>\n",
       "    <tr>\n",
       "      <th>0</th>\n",
       "      <td>1.787059</td>\n",
       "      <td>0.039303</td>\n",
       "      <td>0.027843</td>\n",
       "      <td>0.000619</td>\n",
       "      <td>5</td>\n",
       "      <td>100</td>\n",
       "      <td>{'rf__max_depth': 5, 'svd__n_components': 100}</td>\n",
       "      <td>0.451629</td>\n",
       "      <td>0.468082</td>\n",
       "      <td>0.473999</td>\n",
       "      <td>...</td>\n",
       "      <td>0.462382</td>\n",
       "      <td>0.013318</td>\n",
       "      <td>9</td>\n",
       "      <td>0.587005</td>\n",
       "      <td>0.567776</td>\n",
       "      <td>0.580988</td>\n",
       "      <td>0.577023</td>\n",
       "      <td>0.587144</td>\n",
       "      <td>0.579987</td>\n",
       "      <td>0.007202</td>\n",
       "    </tr>\n",
       "    <tr>\n",
       "      <th>1</th>\n",
       "      <td>6.195171</td>\n",
       "      <td>0.023649</td>\n",
       "      <td>0.031676</td>\n",
       "      <td>0.000268</td>\n",
       "      <td>5</td>\n",
       "      <td>500</td>\n",
       "      <td>{'rf__max_depth': 5, 'svd__n_components': 500}</td>\n",
       "      <td>0.453384</td>\n",
       "      <td>0.473198</td>\n",
       "      <td>0.468341</td>\n",
       "      <td>...</td>\n",
       "      <td>0.470450</td>\n",
       "      <td>0.018959</td>\n",
       "      <td>8</td>\n",
       "      <td>0.662584</td>\n",
       "      <td>0.634029</td>\n",
       "      <td>0.656479</td>\n",
       "      <td>0.638764</td>\n",
       "      <td>0.678713</td>\n",
       "      <td>0.654114</td>\n",
       "      <td>0.016257</td>\n",
       "    </tr>\n",
       "    <tr>\n",
       "      <th>2</th>\n",
       "      <td>14.696884</td>\n",
       "      <td>0.049193</td>\n",
       "      <td>0.036631</td>\n",
       "      <td>0.000156</td>\n",
       "      <td>5</td>\n",
       "      <td>1000</td>\n",
       "      <td>{'rf__max_depth': 5, 'svd__n_components': 1000}</td>\n",
       "      <td>0.481138</td>\n",
       "      <td>0.484475</td>\n",
       "      <td>0.481824</td>\n",
       "      <td>...</td>\n",
       "      <td>0.484245</td>\n",
       "      <td>0.011723</td>\n",
       "      <td>7</td>\n",
       "      <td>0.761865</td>\n",
       "      <td>0.699525</td>\n",
       "      <td>0.758547</td>\n",
       "      <td>0.745546</td>\n",
       "      <td>0.785676</td>\n",
       "      <td>0.750232</td>\n",
       "      <td>0.028474</td>\n",
       "    </tr>\n",
       "    <tr>\n",
       "      <th>3</th>\n",
       "      <td>2.794363</td>\n",
       "      <td>0.013056</td>\n",
       "      <td>0.032406</td>\n",
       "      <td>0.000247</td>\n",
       "      <td>10</td>\n",
       "      <td>100</td>\n",
       "      <td>{'rf__max_depth': 10, 'svd__n_components': 100}</td>\n",
       "      <td>0.468117</td>\n",
       "      <td>0.482099</td>\n",
       "      <td>0.507326</td>\n",
       "      <td>...</td>\n",
       "      <td>0.484962</td>\n",
       "      <td>0.019515</td>\n",
       "      <td>6</td>\n",
       "      <td>0.827751</td>\n",
       "      <td>0.835881</td>\n",
       "      <td>0.827858</td>\n",
       "      <td>0.833400</td>\n",
       "      <td>0.869052</td>\n",
       "      <td>0.838788</td>\n",
       "      <td>0.015458</td>\n",
       "    </tr>\n",
       "    <tr>\n",
       "      <th>4</th>\n",
       "      <td>8.480714</td>\n",
       "      <td>0.115817</td>\n",
       "      <td>0.036625</td>\n",
       "      <td>0.000510</td>\n",
       "      <td>10</td>\n",
       "      <td>500</td>\n",
       "      <td>{'rf__max_depth': 10, 'svd__n_components': 500}</td>\n",
       "      <td>0.602361</td>\n",
       "      <td>0.595001</td>\n",
       "      <td>0.628228</td>\n",
       "      <td>...</td>\n",
       "      <td>0.606348</td>\n",
       "      <td>0.037657</td>\n",
       "      <td>4</td>\n",
       "      <td>0.983659</td>\n",
       "      <td>0.975650</td>\n",
       "      <td>0.984790</td>\n",
       "      <td>0.983291</td>\n",
       "      <td>0.984994</td>\n",
       "      <td>0.982477</td>\n",
       "      <td>0.003474</td>\n",
       "    </tr>\n",
       "    <tr>\n",
       "      <th>5</th>\n",
       "      <td>17.635099</td>\n",
       "      <td>0.066001</td>\n",
       "      <td>0.040234</td>\n",
       "      <td>0.000213</td>\n",
       "      <td>10</td>\n",
       "      <td>1000</td>\n",
       "      <td>{'rf__max_depth': 10, 'svd__n_components': 1000}</td>\n",
       "      <td>0.622484</td>\n",
       "      <td>0.642204</td>\n",
       "      <td>0.614015</td>\n",
       "      <td>...</td>\n",
       "      <td>0.651529</td>\n",
       "      <td>0.042376</td>\n",
       "      <td>3</td>\n",
       "      <td>0.989271</td>\n",
       "      <td>0.989608</td>\n",
       "      <td>0.990364</td>\n",
       "      <td>0.989204</td>\n",
       "      <td>0.989304</td>\n",
       "      <td>0.989550</td>\n",
       "      <td>0.000430</td>\n",
       "    </tr>\n",
       "    <tr>\n",
       "      <th>6</th>\n",
       "      <td>3.283544</td>\n",
       "      <td>0.032982</td>\n",
       "      <td>0.035952</td>\n",
       "      <td>0.000220</td>\n",
       "      <td>15</td>\n",
       "      <td>100</td>\n",
       "      <td>{'rf__max_depth': 15, 'svd__n_components': 100}</td>\n",
       "      <td>0.516187</td>\n",
       "      <td>0.534408</td>\n",
       "      <td>0.536103</td>\n",
       "      <td>...</td>\n",
       "      <td>0.558015</td>\n",
       "      <td>0.049176</td>\n",
       "      <td>5</td>\n",
       "      <td>0.979271</td>\n",
       "      <td>0.987188</td>\n",
       "      <td>0.982832</td>\n",
       "      <td>0.988042</td>\n",
       "      <td>0.990974</td>\n",
       "      <td>0.985661</td>\n",
       "      <td>0.004124</td>\n",
       "    </tr>\n",
       "    <tr>\n",
       "      <th>7</th>\n",
       "      <td>9.692638</td>\n",
       "      <td>0.066331</td>\n",
       "      <td>0.041285</td>\n",
       "      <td>0.001855</td>\n",
       "      <td>15</td>\n",
       "      <td>500</td>\n",
       "      <td>{'rf__max_depth': 15, 'svd__n_components': 500}</td>\n",
       "      <td>0.651235</td>\n",
       "      <td>0.638065</td>\n",
       "      <td>0.670096</td>\n",
       "      <td>...</td>\n",
       "      <td>0.672095</td>\n",
       "      <td>0.039197</td>\n",
       "      <td>1</td>\n",
       "      <td>0.995911</td>\n",
       "      <td>0.996722</td>\n",
       "      <td>0.996913</td>\n",
       "      <td>0.996805</td>\n",
       "      <td>0.995507</td>\n",
       "      <td>0.996372</td>\n",
       "      <td>0.000559</td>\n",
       "    </tr>\n",
       "    <tr>\n",
       "      <th>8</th>\n",
       "      <td>19.555878</td>\n",
       "      <td>0.078367</td>\n",
       "      <td>0.045110</td>\n",
       "      <td>0.000807</td>\n",
       "      <td>15</td>\n",
       "      <td>1000</td>\n",
       "      <td>{'rf__max_depth': 15, 'svd__n_components': 1000}</td>\n",
       "      <td>0.622469</td>\n",
       "      <td>0.680738</td>\n",
       "      <td>0.637233</td>\n",
       "      <td>...</td>\n",
       "      <td>0.661688</td>\n",
       "      <td>0.038014</td>\n",
       "      <td>2</td>\n",
       "      <td>0.995869</td>\n",
       "      <td>0.997016</td>\n",
       "      <td>0.996572</td>\n",
       "      <td>0.996708</td>\n",
       "      <td>0.996099</td>\n",
       "      <td>0.996453</td>\n",
       "      <td>0.000415</td>\n",
       "    </tr>\n",
       "  </tbody>\n",
       "</table>\n",
       "<p>9 rows × 22 columns</p>\n",
       "</div>"
      ],
      "text/plain": [
       "   mean_fit_time  std_fit_time  mean_score_time  std_score_time  \\\n",
       "0       1.787059      0.039303         0.027843        0.000619   \n",
       "1       6.195171      0.023649         0.031676        0.000268   \n",
       "2      14.696884      0.049193         0.036631        0.000156   \n",
       "3       2.794363      0.013056         0.032406        0.000247   \n",
       "4       8.480714      0.115817         0.036625        0.000510   \n",
       "5      17.635099      0.066001         0.040234        0.000213   \n",
       "6       3.283544      0.032982         0.035952        0.000220   \n",
       "7       9.692638      0.066331         0.041285        0.001855   \n",
       "8      19.555878      0.078367         0.045110        0.000807   \n",
       "\n",
       "  param_rf__max_depth param_svd__n_components  \\\n",
       "0                   5                     100   \n",
       "1                   5                     500   \n",
       "2                   5                    1000   \n",
       "3                  10                     100   \n",
       "4                  10                     500   \n",
       "5                  10                    1000   \n",
       "6                  15                     100   \n",
       "7                  15                     500   \n",
       "8                  15                    1000   \n",
       "\n",
       "                                             params  split0_test_score  \\\n",
       "0    {'rf__max_depth': 5, 'svd__n_components': 100}           0.451629   \n",
       "1    {'rf__max_depth': 5, 'svd__n_components': 500}           0.453384   \n",
       "2   {'rf__max_depth': 5, 'svd__n_components': 1000}           0.481138   \n",
       "3   {'rf__max_depth': 10, 'svd__n_components': 100}           0.468117   \n",
       "4   {'rf__max_depth': 10, 'svd__n_components': 500}           0.602361   \n",
       "5  {'rf__max_depth': 10, 'svd__n_components': 1000}           0.622484   \n",
       "6   {'rf__max_depth': 15, 'svd__n_components': 100}           0.516187   \n",
       "7   {'rf__max_depth': 15, 'svd__n_components': 500}           0.651235   \n",
       "8  {'rf__max_depth': 15, 'svd__n_components': 1000}           0.622469   \n",
       "\n",
       "   split1_test_score  split2_test_score  ...  mean_test_score  std_test_score  \\\n",
       "0           0.468082           0.473999  ...         0.462382        0.013318   \n",
       "1           0.473198           0.468341  ...         0.470450        0.018959   \n",
       "2           0.484475           0.481824  ...         0.484245        0.011723   \n",
       "3           0.482099           0.507326  ...         0.484962        0.019515   \n",
       "4           0.595001           0.628228  ...         0.606348        0.037657   \n",
       "5           0.642204           0.614015  ...         0.651529        0.042376   \n",
       "6           0.534408           0.536103  ...         0.558015        0.049176   \n",
       "7           0.638065           0.670096  ...         0.672095        0.039197   \n",
       "8           0.680738           0.637233  ...         0.661688        0.038014   \n",
       "\n",
       "   rank_test_score  split0_train_score  split1_train_score  \\\n",
       "0                9            0.587005            0.567776   \n",
       "1                8            0.662584            0.634029   \n",
       "2                7            0.761865            0.699525   \n",
       "3                6            0.827751            0.835881   \n",
       "4                4            0.983659            0.975650   \n",
       "5                3            0.989271            0.989608   \n",
       "6                5            0.979271            0.987188   \n",
       "7                1            0.995911            0.996722   \n",
       "8                2            0.995869            0.997016   \n",
       "\n",
       "   split2_train_score  split3_train_score  split4_train_score  \\\n",
       "0            0.580988            0.577023            0.587144   \n",
       "1            0.656479            0.638764            0.678713   \n",
       "2            0.758547            0.745546            0.785676   \n",
       "3            0.827858            0.833400            0.869052   \n",
       "4            0.984790            0.983291            0.984994   \n",
       "5            0.990364            0.989204            0.989304   \n",
       "6            0.982832            0.988042            0.990974   \n",
       "7            0.996913            0.996805            0.995507   \n",
       "8            0.996572            0.996708            0.996099   \n",
       "\n",
       "   mean_train_score  std_train_score  \n",
       "0          0.579987         0.007202  \n",
       "1          0.654114         0.016257  \n",
       "2          0.750232         0.028474  \n",
       "3          0.838788         0.015458  \n",
       "4          0.982477         0.003474  \n",
       "5          0.989550         0.000430  \n",
       "6          0.985661         0.004124  \n",
       "7          0.996372         0.000559  \n",
       "8          0.996453         0.000415  \n",
       "\n",
       "[9 rows x 22 columns]"
      ]
     },
     "execution_count": 65,
     "metadata": {},
     "output_type": "execute_result"
    }
   ],
   "source": [
    "pd.DataFrame(gs_pipe.cv_results_)"
   ]
  },
  {
   "cell_type": "code",
   "execution_count": 66,
   "metadata": {},
   "outputs": [
    {
     "data": {
      "image/png": "[encoded data removed]",
      "text/plain": [
       "<Figure size 432x288 with 2 Axes>"
      ]
     },
     "metadata": {
      "needs_background": "light"
     },
     "output_type": "display_data"
    }
   ],
   "source": [
    "plot_confusion_matrix(gs_pipe.best_estimator_, \n",
    "                      df_train_clean['text'], \n",
    "                      df_train_clean['target'],\n",
    "                      normalize='pred');"
   ]
  },
  {
   "cell_type": "code",
   "execution_count": null,
   "metadata": {},
   "outputs": [],
   "source": []
  },
  {
   "cell_type": "markdown",
   "metadata": {},
   "source": [
    "## Word2Vec Model"
   ]
  },
  {
   "cell_type": "code",
   "execution_count": 129,
   "metadata": {},
   "outputs": [],
   "source": [
    "from gensim.models import Word2Vec\n",
    "from nltk import word_tokenize\n",
    "df_train_clean[\"new_column\"] = df_train_clean['text'].str.replace('[^\\w\\s]','')\n",
    "data = df_train_clean['new_column'].map(word_tokenize)\n",
    "\n"
   ]
  },
  {
   "cell_type": "code",
   "execution_count": 130,
   "metadata": {},
   "outputs": [
    {
     "data": {
      "text/plain": [
       "2769    [I, want, one, Its, not, a, rumor, Apple, is, ...\n",
       "2787    [AAPL, already, the, big, winner, at, sxsw, li...\n",
       "7021    [mention, Only, Googles, disavowal, of, its, p...\n",
       "715     [So, link, is, part, of, my, presentation, at,...\n",
       "4072    [iPad2, Sold, Out, 70, Went, to, New, Buyers, ...\n",
       "Name: new_column, dtype: object"
      ]
     },
     "execution_count": 130,
     "metadata": {},
     "output_type": "execute_result"
    }
   ],
   "source": [
    "data[:5]"
   ]
  },
  {
   "cell_type": "code",
   "execution_count": 131,
   "metadata": {},
   "outputs": [
    {
     "data": {
      "text/plain": [
       "(431013, 586135)"
      ]
     },
     "execution_count": 131,
     "metadata": {},
     "output_type": "execute_result"
    }
   ],
   "source": [
    "model = Word2Vec(data, size=100, window=5, min_count=1, workers=4)\n",
    "\n",
    "model.train(data, total_examples=model.corpus_count, epochs=model.epochs)"
   ]
  },
  {
   "cell_type": "code",
   "execution_count": 132,
   "metadata": {},
   "outputs": [],
   "source": [
    "wv = model.wv"
   ]
  },
  {
   "cell_type": "code",
   "execution_count": 134,
   "metadata": {},
   "outputs": [
    {
     "data": {
      "text/plain": [
       "[('shop', 0.9840596914291382),\n",
       " ('popup', 0.9822860360145569),\n",
       " ('sets', 0.9808186292648315),\n",
       " ('open', 0.9798450469970703),\n",
       " ('makeshift', 0.9779982566833496),\n",
       " ('Temp', 0.9774917364120483),\n",
       " ('quotpopupquot', 0.976834237575531),\n",
       " ('opens', 0.9750840067863464),\n",
       " ('311', 0.9743818044662476),\n",
       " ('temp', 0.9718767404556274)]"
      ]
     },
     "execution_count": 134,
     "metadata": {},
     "output_type": "execute_result"
    }
   ],
   "source": [
    "wv.most_similar('Apple')"
   ]
  },
  {
   "cell_type": "markdown",
   "metadata": {},
   "source": [
    "## EDA"
   ]
  },
  {
   "cell_type": "code",
   "execution_count": null,
   "metadata": {},
   "outputs": [],
   "source": []
  },
  {
   "cell_type": "code",
   "execution_count": 113,
   "metadata": {},
   "outputs": [],
   "source": [
    "token = RegexpTokenizer(r'[a-zA-Z0-9]+')\n",
    "cv = CountVectorizer(lowercase=True,stop_words='english',ngram_range = (1,1),tokenizer = token.tokenize)\n",
    "text_counts= cv.fit_transform(df['text'].values.astype('U'))\n",
    "total_df = pd.DataFrame(text_counts.todense(),columns = cv.get_feature_names())"
   ]
  },
  {
   "cell_type": "code",
   "execution_count": 117,
   "metadata": {},
   "outputs": [
    {
     "data": {
      "image/png": "[encoded data removed]",
      "text/plain": [
       "<Figure size 720x360 with 1 Axes>"
      ]
     },
     "metadata": {},
     "output_type": "display_data"
    }
   ],
   "source": [
    "plt.figure(figsize = (10,5))\n",
    "sns.set_style(\"darkgrid\")\n",
    "all_count_viz = sns.countplot(x=df['target'], palette='cool_r')\n",
    "all_count_viz.set_title('Emotion Identified of All Tweets',fontsize = 20)\n",
    "all_count_viz.set_xlabel('Emotions',fontsize = 15)\n",
    "all_count_viz.set_ylabel('Tweets',fontsize = 15)\n",
    "plt.show()"
   ]
  },
  {
   "cell_type": "code",
   "execution_count": 116,
   "metadata": {},
   "outputs": [
    {
     "data": {
      "image/png": "[encoded data removed]",
      "text/plain": [
       "<Figure size 720x360 with 1 Axes>"
      ]
     },
     "metadata": {},
     "output_type": "display_data"
    }
   ],
   "source": [
    "apple_products = ('iPhone', 'iPad or iPhone App', 'iPad','Apple','Other Apple product or service')\n",
    "google_products = ('Google','Android','Android App','Other Google product or service')\n",
    "def brand(x):\n",
    "    if x in apple_products:\n",
    "        return 'Apple'\n",
    "    if x in google_products:\n",
    "        return 'Google'\n",
    "    else:\n",
    "        return 'Neither'\n",
    "df['brand'] = df['emotion_in_tweet_is_directed_at'].apply(brand)\n",
    "\n",
    "# Plot resulting counts of tweet targets\n",
    "plt.figure(figsize = (10,5))\n",
    "sns.set_style(\"darkgrid\")\n",
    "brand_viz = sns.countplot(x=df['brand'], palette = 'cool_r')\n",
    "brand_viz.set_title('Number of Tweets per Company',fontsize = 20)\n",
    "brand_viz.set_xlabel('Companies',fontsize = 15)\n",
    "brand_viz.set_ylabel('Tweets',fontsize = 15)\n",
    "brand_viz.set_xticklabels(['Apple','Google', 'Undetermined'],fontsize = 13)\n",
    "plt.show()"
   ]
  },
  {
   "cell_type": "markdown",
   "metadata": {},
   "source": [
    "## Metrics"
   ]
  },
  {
   "cell_type": "code",
   "execution_count": null,
   "metadata": {},
   "outputs": [],
   "source": []
  },
  {
   "cell_type": "code",
   "execution_count": null,
   "metadata": {},
   "outputs": [],
   "source": []
  }
 ],
 "metadata": {
  "kernelspec": {
   "display_name": "Python (learn-env)",
   "language": "python",
   "name": "learn-env"
  },
  "language_info": {
   "codemirror_mode": {
    "name": "ipython",
    "version": 3
   },
   "file_extension": ".py",
   "mimetype": "text/x-python",
   "name": "python",
   "nbconvert_exporter": "python",
   "pygments_lexer": "ipython3",
   "version": "3.8.5"
  }
 },
 "nbformat": 4,
 "nbformat_minor": 4
}
