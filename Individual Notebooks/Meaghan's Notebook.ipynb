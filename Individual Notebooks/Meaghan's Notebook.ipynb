{
 "cells": [
  {
   "cell_type": "markdown",
   "metadata": {},
   "source": [
    "# Phase 4 Project"
   ]
  },
  {
   "cell_type": "code",
   "execution_count": 1,
   "metadata": {},
   "outputs": [],
   "source": [
    "import pandas as pd\n",
    "import numpy as np\n",
    "import matplotlib.pyplot as plt\n",
    "import seaborn as sns\n",
    "\n",
    "\n",
    "import nltk\n",
    "from nltk import word_tokenize\n",
    "from nltk.probability import FreqDist\n",
    "from nltk.corpus import stopwords\n",
    "from nltk.stem import PorterStemmer, WordNetLemmatizer\n",
    "from nltk.tokenize import RegexpTokenizer\n",
    "\n",
    "from sklearn.model_selection import train_test_split, cross_validate, GridSearchCV\n",
    "from sklearn.feature_extraction.text import CountVectorizer, TfidfVectorizer, TfidfTransformer\n",
    "from sklearn.compose import ColumnTransformer\n",
    "from sklearn.decomposition import TruncatedSVD\n",
    "from sklearn.pipeline import Pipeline\n",
    "from sklearn.preprocessing import StandardScaler, FunctionTransformer, LabelEncoder, OrdinalEncoder\n",
    "\n",
    "from sklearn.naive_bayes import MultinomialNB\n",
    "from sklearn.linear_model import LogisticRegression\n",
    "from sklearn.ensemble import RandomForestClassifier\n",
    "from xgboost import XGBClassifier\n",
    "\n",
    "\n",
    "from imblearn.over_sampling import SMOTE\n",
    "from imblearn.pipeline import Pipeline as imbpipe\n",
    "\n",
    "from sklearn.metrics import confusion_matrix, classification_report, accuracy_score, f1_score, plot_confusion_matrix"
   ]
  },
  {
   "cell_type": "code",
   "execution_count": 2,
   "metadata": {},
   "outputs": [],
   "source": [
    "import warnings\n",
    "warnings.filterwarnings('ignore')"
   ]
  },
  {
   "cell_type": "code",
   "execution_count": 3,
   "metadata": {},
   "outputs": [],
   "source": [
    "df = pd.read_csv('/Users/meaghanross/Documents/Flatiron/Phase4/NLP_project/data/tweet_product_company.csv', encoding='latin1' )"
   ]
  },
  {
   "cell_type": "code",
   "execution_count": 4,
   "metadata": {},
   "outputs": [
    {
     "data": {
      "text/html": [
       "<div>\n",
       "<style scoped>\n",
       "    .dataframe tbody tr th:only-of-type {\n",
       "        vertical-align: middle;\n",
       "    }\n",
       "\n",
       "    .dataframe tbody tr th {\n",
       "        vertical-align: top;\n",
       "    }\n",
       "\n",
       "    .dataframe thead th {\n",
       "        text-align: right;\n",
       "    }\n",
       "</style>\n",
       "<table border=\"1\" class=\"dataframe\">\n",
       "  <thead>\n",
       "    <tr style=\"text-align: right;\">\n",
       "      <th></th>\n",
       "      <th>tweet_text</th>\n",
       "      <th>emotion_in_tweet_is_directed_at</th>\n",
       "      <th>is_there_an_emotion_directed_at_a_brand_or_product</th>\n",
       "    </tr>\n",
       "  </thead>\n",
       "  <tbody>\n",
       "    <tr>\n",
       "      <th>0</th>\n",
       "      <td>.@wesley83 I have a 3G iPhone. After 3 hrs twe...</td>\n",
       "      <td>iPhone</td>\n",
       "      <td>Negative emotion</td>\n",
       "    </tr>\n",
       "    <tr>\n",
       "      <th>1</th>\n",
       "      <td>@jessedee Know about @fludapp ? Awesome iPad/i...</td>\n",
       "      <td>iPad or iPhone App</td>\n",
       "      <td>Positive emotion</td>\n",
       "    </tr>\n",
       "    <tr>\n",
       "      <th>2</th>\n",
       "      <td>@swonderlin Can not wait for #iPad 2 also. The...</td>\n",
       "      <td>iPad</td>\n",
       "      <td>Positive emotion</td>\n",
       "    </tr>\n",
       "    <tr>\n",
       "      <th>3</th>\n",
       "      <td>@sxsw I hope this year's festival isn't as cra...</td>\n",
       "      <td>iPad or iPhone App</td>\n",
       "      <td>Negative emotion</td>\n",
       "    </tr>\n",
       "    <tr>\n",
       "      <th>4</th>\n",
       "      <td>@sxtxstate great stuff on Fri #SXSW: Marissa M...</td>\n",
       "      <td>Google</td>\n",
       "      <td>Positive emotion</td>\n",
       "    </tr>\n",
       "  </tbody>\n",
       "</table>\n",
       "</div>"
      ],
      "text/plain": [
       "                                          tweet_text  \\\n",
       "0  .@wesley83 I have a 3G iPhone. After 3 hrs twe...   \n",
       "1  @jessedee Know about @fludapp ? Awesome iPad/i...   \n",
       "2  @swonderlin Can not wait for #iPad 2 also. The...   \n",
       "3  @sxsw I hope this year's festival isn't as cra...   \n",
       "4  @sxtxstate great stuff on Fri #SXSW: Marissa M...   \n",
       "\n",
       "  emotion_in_tweet_is_directed_at  \\\n",
       "0                          iPhone   \n",
       "1              iPad or iPhone App   \n",
       "2                            iPad   \n",
       "3              iPad or iPhone App   \n",
       "4                          Google   \n",
       "\n",
       "  is_there_an_emotion_directed_at_a_brand_or_product  \n",
       "0                                   Negative emotion  \n",
       "1                                   Positive emotion  \n",
       "2                                   Positive emotion  \n",
       "3                                   Negative emotion  \n",
       "4                                   Positive emotion  "
      ]
     },
     "execution_count": 4,
     "metadata": {},
     "output_type": "execute_result"
    }
   ],
   "source": [
    "df.head()"
   ]
  },
  {
   "cell_type": "code",
   "execution_count": 5,
   "metadata": {},
   "outputs": [
    {
     "data": {
      "text/plain": [
       "(9093, 3)"
      ]
     },
     "execution_count": 5,
     "metadata": {},
     "output_type": "execute_result"
    }
   ],
   "source": [
    "df.shape"
   ]
  },
  {
   "cell_type": "code",
   "execution_count": 6,
   "metadata": {},
   "outputs": [
    {
     "data": {
      "text/plain": [
       "No emotion toward brand or product    5389\n",
       "Positive emotion                      2978\n",
       "Negative emotion                       570\n",
       "I can't tell                           156\n",
       "Name: is_there_an_emotion_directed_at_a_brand_or_product, dtype: int64"
      ]
     },
     "execution_count": 6,
     "metadata": {},
     "output_type": "execute_result"
    }
   ],
   "source": [
    "df['is_there_an_emotion_directed_at_a_brand_or_product'].value_counts()"
   ]
  },
  {
   "cell_type": "code",
   "execution_count": 7,
   "metadata": {},
   "outputs": [
    {
     "data": {
      "text/plain": [
       "tweet_text                                               1\n",
       "emotion_in_tweet_is_directed_at                       5802\n",
       "is_there_an_emotion_directed_at_a_brand_or_product       0\n",
       "dtype: int64"
      ]
     },
     "execution_count": 7,
     "metadata": {},
     "output_type": "execute_result"
    }
   ],
   "source": [
    "df.isna().sum()"
   ]
  },
  {
   "cell_type": "markdown",
   "metadata": {},
   "source": [
    "To do\n",
    "\n",
    "2) Fill nas for the brand\n",
    "3) Label encode the target \n",
    "6) dropping 'I can't tell'\n",
    "7) drop duplicates\n"
   ]
  },
  {
   "cell_type": "code",
   "execution_count": 8,
   "metadata": {},
   "outputs": [],
   "source": [
    "df['target']=df['is_there_an_emotion_directed_at_a_brand_or_product']"
   ]
  },
  {
   "cell_type": "code",
   "execution_count": 9,
   "metadata": {},
   "outputs": [],
   "source": [
    "df.drop('is_there_an_emotion_directed_at_a_brand_or_product',axis=1, inplace=True)"
   ]
  },
  {
   "cell_type": "code",
   "execution_count": 10,
   "metadata": {},
   "outputs": [],
   "source": [
    "df['text']=df['tweet_text']"
   ]
  },
  {
   "cell_type": "code",
   "execution_count": 11,
   "metadata": {},
   "outputs": [],
   "source": [
    "df.drop('tweet_text',axis=1, inplace=True)"
   ]
  },
  {
   "cell_type": "code",
   "execution_count": 12,
   "metadata": {},
   "outputs": [
    {
     "data": {
      "text/plain": [
       "(9093, 3)"
      ]
     },
     "execution_count": 12,
     "metadata": {},
     "output_type": "execute_result"
    }
   ],
   "source": [
    "df.shape"
   ]
  },
  {
   "cell_type": "markdown",
   "metadata": {},
   "source": [
    "__Drop Duplicates__"
   ]
  },
  {
   "cell_type": "code",
   "execution_count": 13,
   "metadata": {
    "scrolled": true
   },
   "outputs": [
    {
     "data": {
      "text/plain": [
       "22"
      ]
     },
     "execution_count": 13,
     "metadata": {},
     "output_type": "execute_result"
    }
   ],
   "source": [
    "df.duplicated().sum()"
   ]
  },
  {
   "cell_type": "code",
   "execution_count": 14,
   "metadata": {},
   "outputs": [],
   "source": [
    "df.drop_duplicates(inplace=True)"
   ]
  },
  {
   "cell_type": "code",
   "execution_count": 15,
   "metadata": {},
   "outputs": [
    {
     "data": {
      "text/plain": [
       "(9071, 3)"
      ]
     },
     "execution_count": 15,
     "metadata": {},
     "output_type": "execute_result"
    }
   ],
   "source": [
    "df.shape"
   ]
  },
  {
   "cell_type": "code",
   "execution_count": 16,
   "metadata": {
    "scrolled": true
   },
   "outputs": [],
   "source": [
    "df.dropna(subset=['text'], inplace=True)"
   ]
  },
  {
   "cell_type": "code",
   "execution_count": 17,
   "metadata": {},
   "outputs": [
    {
     "data": {
      "text/plain": [
       "No emotion toward brand or product    5375\n",
       "Positive emotion                      2970\n",
       "Negative emotion                       569\n",
       "I can't tell                           156\n",
       "Name: target, dtype: int64"
      ]
     },
     "execution_count": 17,
     "metadata": {},
     "output_type": "execute_result"
    }
   ],
   "source": [
    "df.target.value_counts()"
   ]
  },
  {
   "cell_type": "code",
   "execution_count": 18,
   "metadata": {},
   "outputs": [
    {
     "data": {
      "text/plain": [
       "0"
      ]
     },
     "execution_count": 18,
     "metadata": {},
     "output_type": "execute_result"
    }
   ],
   "source": [
    "df.text.isna().sum()"
   ]
  },
  {
   "cell_type": "code",
   "execution_count": 196,
   "metadata": {},
   "outputs": [],
   "source": [
    "from nltk.tokenize import TweetTokenizer\n",
    "from nltk import pos_tag\n",
    "from nltk.stem import PorterStemmer"
   ]
  },
  {
   "cell_type": "code",
   "execution_count": 87,
   "metadata": {},
   "outputs": [],
   "source": [
    "from nltk.corpus import wordnet\n",
    "\n",
    "def get_wordnet_pos(treebank_tag):\n",
    "\n",
    "    if treebank_tag.startswith('J'):\n",
    "        return wordnet.ADJ\n",
    "    elif treebank_tag.startswith('V'):\n",
    "        return wordnet.VERB\n",
    "    elif treebank_tag.startswith('N'):\n",
    "        return wordnet.NOUN\n",
    "    elif treebank_tag.startswith('R'):\n",
    "        return wordnet.ADV\n",
    "    else:\n",
    "        return wordnet.NOUN"
   ]
  },
  {
   "cell_type": "code",
   "execution_count": 199,
   "metadata": {},
   "outputs": [],
   "source": [
    "def doc_preparer(doc, stop_words=sw):\n",
    "    '''\n",
    "    \n",
    "    :param doc: a document from the review corpus \n",
    "    :return: a document string with words which have been \n",
    "            lemmatized, \n",
    "            parsed for stopwords, \n",
    "            made lowercase,\n",
    "            and stripped of punctuation and numbers.\n",
    "    '''\n",
    "    \n",
    "    tweet_token = TweetTokenizer()\n",
    "    doc = tweet_token.tokenize(doc)\n",
    "    doc = [word.lower() for word in doc]\n",
    "    doc = [word for word in doc if word not in sw]\n",
    "    stemmer = PorterStemmer() \n",
    "    doc = [stemmer.stem(word) for word in doc]\n",
    "    doc = pos_tag(doc)\n",
    "    doc = [(word[0], get_wordnet_pos(word[1])) for word in doc]\n",
    "    lemmatizer = WordNetLemmatizer() \n",
    "    doc = [lemmatizer.lemmatize(word[0], word[1]) for word in doc]\n",
    "    return ' '.join(doc)"
   ]
  },
  {
   "cell_type": "code",
   "execution_count": 198,
   "metadata": {},
   "outputs": [
    {
     "data": {
      "text/plain": [
       "['europ', 'swim']"
      ]
     },
     "execution_count": 198,
     "metadata": {},
     "output_type": "execute_result"
    }
   ],
   "source": [
    "tweet_token = TweetTokenizer()\n",
    "doc1 = 'Europe is swimming'\n",
    "doc1 = tweet_token.tokenize(doc1)\n",
    "doc1 = [word.lower() for word in doc1]\n",
    "doc1 = [word for word in doc1 if word not in sw]\n",
    "stemmer = PorterStemmer() \n",
    "doc1 = [stemmer.stem(word) for word in doc1]\n",
    "doc1= pos_tag(doc1)\n",
    "doc1 = [(word[0], get_wordnet_pos(word[1])) for word in doc1]\n",
    "lemmatizer = WordNetLemmatizer() \n",
    "[lemmatizer.lemmatize(word[0], word[1]) for word in doc1]"
   ]
  },
  {
   "cell_type": "code",
   "execution_count": 200,
   "metadata": {},
   "outputs": [],
   "source": [
    "df['tokenized'] = df['text'].apply(doc_preparer)"
   ]
  },
  {
   "cell_type": "code",
   "execution_count": 201,
   "metadata": {},
   "outputs": [
    {
     "data": {
      "text/html": [
       "<div>\n",
       "<style scoped>\n",
       "    .dataframe tbody tr th:only-of-type {\n",
       "        vertical-align: middle;\n",
       "    }\n",
       "\n",
       "    .dataframe tbody tr th {\n",
       "        vertical-align: top;\n",
       "    }\n",
       "\n",
       "    .dataframe thead th {\n",
       "        text-align: right;\n",
       "    }\n",
       "</style>\n",
       "<table border=\"1\" class=\"dataframe\">\n",
       "  <thead>\n",
       "    <tr style=\"text-align: right;\">\n",
       "      <th></th>\n",
       "      <th>emotion_in_tweet_is_directed_at</th>\n",
       "      <th>target</th>\n",
       "      <th>text</th>\n",
       "      <th>tokenized</th>\n",
       "    </tr>\n",
       "  </thead>\n",
       "  <tbody>\n",
       "    <tr>\n",
       "      <th>0</th>\n",
       "      <td>iPhone</td>\n",
       "      <td>Negative emotion</td>\n",
       "      <td>.@wesley83 I have a 3G iPhone. After 3 hrs twe...</td>\n",
       "      <td>. @wesley83 3g iphon . 3 hr tweet #rise_austin...</td>\n",
       "    </tr>\n",
       "    <tr>\n",
       "      <th>1</th>\n",
       "      <td>iPad or iPhone App</td>\n",
       "      <td>Positive emotion</td>\n",
       "      <td>@jessedee Know about @fludapp ? Awesome iPad/i...</td>\n",
       "      <td>@jessede know @fludapp ? awesom ipad / iphon a...</td>\n",
       "    </tr>\n",
       "    <tr>\n",
       "      <th>2</th>\n",
       "      <td>iPad</td>\n",
       "      <td>Positive emotion</td>\n",
       "      <td>@swonderlin Can not wait for #iPad 2 also. The...</td>\n",
       "      <td>@swonderlin wait #ipad 2 also . sale #sxsw .</td>\n",
       "    </tr>\n",
       "    <tr>\n",
       "      <th>3</th>\n",
       "      <td>iPad or iPhone App</td>\n",
       "      <td>Negative emotion</td>\n",
       "      <td>@sxsw I hope this year's festival isn't as cra...</td>\n",
       "      <td>@sxsw hope year' festiv crashi year' iphon app...</td>\n",
       "    </tr>\n",
       "    <tr>\n",
       "      <th>4</th>\n",
       "      <td>Google</td>\n",
       "      <td>Positive emotion</td>\n",
       "      <td>@sxtxstate great stuff on Fri #SXSW: Marissa M...</td>\n",
       "      <td>@sxtxstate great stuff fri #sxsw : marissa may...</td>\n",
       "    </tr>\n",
       "  </tbody>\n",
       "</table>\n",
       "</div>"
      ],
      "text/plain": [
       "  emotion_in_tweet_is_directed_at            target  \\\n",
       "0                          iPhone  Negative emotion   \n",
       "1              iPad or iPhone App  Positive emotion   \n",
       "2                            iPad  Positive emotion   \n",
       "3              iPad or iPhone App  Negative emotion   \n",
       "4                          Google  Positive emotion   \n",
       "\n",
       "                                                text  \\\n",
       "0  .@wesley83 I have a 3G iPhone. After 3 hrs twe...   \n",
       "1  @jessedee Know about @fludapp ? Awesome iPad/i...   \n",
       "2  @swonderlin Can not wait for #iPad 2 also. The...   \n",
       "3  @sxsw I hope this year's festival isn't as cra...   \n",
       "4  @sxtxstate great stuff on Fri #SXSW: Marissa M...   \n",
       "\n",
       "                                           tokenized  \n",
       "0  . @wesley83 3g iphon . 3 hr tweet #rise_austin...  \n",
       "1  @jessede know @fludapp ? awesom ipad / iphon a...  \n",
       "2       @swonderlin wait #ipad 2 also . sale #sxsw .  \n",
       "3  @sxsw hope year' festiv crashi year' iphon app...  \n",
       "4  @sxtxstate great stuff fri #sxsw : marissa may...  "
      ]
     },
     "execution_count": 201,
     "metadata": {},
     "output_type": "execute_result"
    }
   ],
   "source": [
    "df.head()"
   ]
  },
  {
   "cell_type": "markdown",
   "metadata": {},
   "source": [
    "__Train-Test Split__"
   ]
  },
  {
   "cell_type": "code",
   "execution_count": 202,
   "metadata": {},
   "outputs": [],
   "source": [
    "X_train, X_test, y_train, y_test = train_test_split(df['tokenized'],\n",
    "                                                    df['target'], \n",
    "                                                    random_state=42,\n",
    "                                                    stratify=df['target'])"
   ]
  },
  {
   "cell_type": "code",
   "execution_count": 203,
   "metadata": {},
   "outputs": [
    {
     "data": {
      "text/plain": [
       "(6802,)"
      ]
     },
     "execution_count": 203,
     "metadata": {},
     "output_type": "execute_result"
    }
   ],
   "source": [
    "X_train.shape"
   ]
  },
  {
   "cell_type": "markdown",
   "metadata": {},
   "source": [
    "__Data Cleaning__"
   ]
  },
  {
   "cell_type": "markdown",
   "metadata": {},
   "source": [
    "For cleaning we want to drop 'I can't tell' after merging `X_train` with `y_train` and `X_test` with `y_test` to and Label Encode the target to numerical data."
   ]
  },
  {
   "cell_type": "code",
   "execution_count": 204,
   "metadata": {},
   "outputs": [],
   "source": [
    "df_train=pd.concat([X_train, y_train], axis=1)\n",
    "df_test=pd.concat([X_test, y_test], axis=1)"
   ]
  },
  {
   "cell_type": "code",
   "execution_count": 205,
   "metadata": {},
   "outputs": [
    {
     "data": {
      "text/plain": [
       "No emotion toward brand or product    4031\n",
       "Positive emotion                      2227\n",
       "Negative emotion                       427\n",
       "I can't tell                           117\n",
       "Name: target, dtype: int64"
      ]
     },
     "execution_count": 205,
     "metadata": {},
     "output_type": "execute_result"
    }
   ],
   "source": [
    "y_train.value_counts()"
   ]
  },
  {
   "cell_type": "code",
   "execution_count": 206,
   "metadata": {},
   "outputs": [
    {
     "data": {
      "text/html": [
       "<div>\n",
       "<style scoped>\n",
       "    .dataframe tbody tr th:only-of-type {\n",
       "        vertical-align: middle;\n",
       "    }\n",
       "\n",
       "    .dataframe tbody tr th {\n",
       "        vertical-align: top;\n",
       "    }\n",
       "\n",
       "    .dataframe thead th {\n",
       "        text-align: right;\n",
       "    }\n",
       "</style>\n",
       "<table border=\"1\" class=\"dataframe\">\n",
       "  <thead>\n",
       "    <tr style=\"text-align: right;\">\n",
       "      <th></th>\n",
       "      <th>tokenized</th>\n",
       "      <th>target</th>\n",
       "    </tr>\n",
       "  </thead>\n",
       "  <tbody>\n",
       "    <tr>\n",
       "      <th>2769</th>\n",
       "      <td>want one ! ! rumor : appl open temporari store...</td>\n",
       "      <td>Positive emotion</td>\n",
       "    </tr>\n",
       "    <tr>\n",
       "      <th>2787</th>\n",
       "      <td>#aapl alreadi big winner #sxsw { link } #in</td>\n",
       "      <td>No emotion toward brand or product</td>\n",
       "    </tr>\n",
       "    <tr>\n",
       "      <th>7021</th>\n",
       "      <td>@mention google' disavow plan launch #sxsw .</td>\n",
       "      <td>No emotion toward brand or product</td>\n",
       "    </tr>\n",
       "    <tr>\n",
       "      <th>4882</th>\n",
       "      <td>anyon go buy new ipad donat #japan #tsunami vi...</td>\n",
       "      <td>I can't tell</td>\n",
       "    </tr>\n",
       "    <tr>\n",
       "      <th>715</th>\n",
       "      <td>{ link } part present #sxsw good thing crash i...</td>\n",
       "      <td>Positive emotion</td>\n",
       "    </tr>\n",
       "  </tbody>\n",
       "</table>\n",
       "</div>"
      ],
      "text/plain": [
       "                                              tokenized  \\\n",
       "2769  want one ! ! rumor : appl open temporari store...   \n",
       "2787        #aapl alreadi big winner #sxsw { link } #in   \n",
       "7021       @mention google' disavow plan launch #sxsw .   \n",
       "4882  anyon go buy new ipad donat #japan #tsunami vi...   \n",
       "715   { link } part present #sxsw good thing crash i...   \n",
       "\n",
       "                                  target  \n",
       "2769                    Positive emotion  \n",
       "2787  No emotion toward brand or product  \n",
       "7021  No emotion toward brand or product  \n",
       "4882                        I can't tell  \n",
       "715                     Positive emotion  "
      ]
     },
     "execution_count": 206,
     "metadata": {},
     "output_type": "execute_result"
    }
   ],
   "source": [
    "df_train.head()"
   ]
  },
  {
   "cell_type": "code",
   "execution_count": 207,
   "metadata": {},
   "outputs": [],
   "source": [
    "def drop_unidentified(df):\n",
    "    '''\n",
    "    Drop rows from DataFrame where the target is 'I can't tell'.\n",
    "    '''\n",
    "    df.drop(df.loc[df['target']==\"I can't tell\"].index, inplace=True)\n",
    "    return df"
   ]
  },
  {
   "cell_type": "code",
   "execution_count": 208,
   "metadata": {},
   "outputs": [],
   "source": [
    "def label(df):\n",
    "    '''\n",
    "    Encode values of the target to numerical data.\n",
    "    '''\n",
    "    df['target'] = df['target'].map({'No emotion toward brand or product': 0,\n",
    "                                     'Negative emotion': 1,\n",
    "                                     'Positive emotion': 2})\n",
    "    return df"
   ]
  },
  {
   "cell_type": "code",
   "execution_count": 209,
   "metadata": {},
   "outputs": [],
   "source": [
    "cleaning_pipeline = Pipeline(steps=[\n",
    "    ('drop', FunctionTransformer(drop_unidentified)),\n",
    "    ('label', FunctionTransformer(label))\n",
    "])"
   ]
  },
  {
   "cell_type": "code",
   "execution_count": 210,
   "metadata": {},
   "outputs": [],
   "source": [
    "df_train_clean = cleaning_pipeline.fit_transform(df_train)\n",
    "df_test_clean = cleaning_pipeline.transform(df_test)"
   ]
  },
  {
   "cell_type": "code",
   "execution_count": 211,
   "metadata": {
    "scrolled": true
   },
   "outputs": [
    {
     "data": {
      "text/html": [
       "<div>\n",
       "<style scoped>\n",
       "    .dataframe tbody tr th:only-of-type {\n",
       "        vertical-align: middle;\n",
       "    }\n",
       "\n",
       "    .dataframe tbody tr th {\n",
       "        vertical-align: top;\n",
       "    }\n",
       "\n",
       "    .dataframe thead th {\n",
       "        text-align: right;\n",
       "    }\n",
       "</style>\n",
       "<table border=\"1\" class=\"dataframe\">\n",
       "  <thead>\n",
       "    <tr style=\"text-align: right;\">\n",
       "      <th></th>\n",
       "      <th>tokenized</th>\n",
       "      <th>target</th>\n",
       "    </tr>\n",
       "  </thead>\n",
       "  <tbody>\n",
       "    <tr>\n",
       "      <th>5039</th>\n",
       "      <td>rt @mention : aron pilhof new york time endors...</td>\n",
       "      <td>0</td>\n",
       "    </tr>\n",
       "    <tr>\n",
       "      <th>643</th>\n",
       "      <td>ok nerd , total bateman . want sign ipad 2 ? #...</td>\n",
       "      <td>0</td>\n",
       "    </tr>\n",
       "    <tr>\n",
       "      <th>4451</th>\n",
       "      <td>podcast social busi summit 2011 austin { link ...</td>\n",
       "      <td>2</td>\n",
       "    </tr>\n",
       "    <tr>\n",
       "      <th>177</th>\n",
       "      <td>#win pictur #android #googl #sxsw { link }</td>\n",
       "      <td>2</td>\n",
       "    </tr>\n",
       "    <tr>\n",
       "      <th>4980</th>\n",
       "      <td>team android sxsw  ûò full parti detail revea...</td>\n",
       "      <td>2</td>\n",
       "    </tr>\n",
       "  </tbody>\n",
       "</table>\n",
       "</div>"
      ],
      "text/plain": [
       "                                              tokenized  target\n",
       "5039  rt @mention : aron pilhof new york time endors...       0\n",
       "643   ok nerd , total bateman . want sign ipad 2 ? #...       0\n",
       "4451  podcast social busi summit 2011 austin { link ...       2\n",
       "177          #win pictur #android #googl #sxsw { link }       2\n",
       "4980  team android sxsw  ûò full parti detail revea...       2"
      ]
     },
     "execution_count": 211,
     "metadata": {},
     "output_type": "execute_result"
    }
   ],
   "source": [
    "df_test_clean.head()"
   ]
  },
  {
   "cell_type": "markdown",
   "metadata": {},
   "source": [
    "## Model Iterations"
   ]
  },
  {
   "cell_type": "code",
   "execution_count": 212,
   "metadata": {},
   "outputs": [],
   "source": [
    "def print_cv_scores(pipe, X, y):\n",
    "    '''\n",
    "    Runs cross_validate on given feature and multiclass target arrays using given pipeline, \n",
    "    printing the scoring results for both training and cross_val.\n",
    "    '''\n",
    "    scoring = ['accuracy','precision_macro', 'recall_macro', 'f1_macro']\n",
    "    \n",
    "    results = cross_validate(pipe, X, \n",
    "                                   y, \n",
    "                                   return_train_score=True, scoring=scoring)\n",
    "    \n",
    "    print(results['train_accuracy'])\n",
    "    print('Training Accuracy', results['train_accuracy'].mean())\n",
    "    print('##############')\n",
    "    print(results['test_accuracy'])\n",
    "    print('Cross_Val Accuracy', results['test_accuracy'].mean())\n",
    "    print('##############')\n",
    "    print('Training Macro Precision:', results['train_precision_macro'].mean())\n",
    "    print('Cross_Val Macro Precision:', results['test_precision_macro'].mean())\n",
    "    print('##############')\n",
    "    print('Training Macro Recall:', results['train_recall_macro'].mean())\n",
    "    print('Cross_Val Macro Recall:', results['test_recall_macro'].mean())\n",
    "    print('##############')\n",
    "    print('Training Macro F1:', results['train_f1_macro'].mean())\n",
    "    print('Cross_Val Macro F1:', results['test_f1_macro'].mean())\n"
   ]
  },
  {
   "cell_type": "markdown",
   "metadata": {},
   "source": [
    "### FSM"
   ]
  },
  {
   "cell_type": "code",
   "execution_count": 213,
   "metadata": {},
   "outputs": [],
   "source": [
    "sw = stopwords.words('english')"
   ]
  },
  {
   "cell_type": "code",
   "execution_count": 214,
   "metadata": {},
   "outputs": [],
   "source": [
    "fsm_pipe = Pipeline([('cv', CountVectorizer(stop_words=sw)),\n",
    "                     ('mnb', MultinomialNB())\n",
    "])"
   ]
  },
  {
   "cell_type": "code",
   "execution_count": 215,
   "metadata": {},
   "outputs": [
    {
     "data": {
      "text/plain": [
       "Pipeline(steps=[('cv',\n",
       "                 CountVectorizer(stop_words=['i', 'me', 'my', 'myself', 'we',\n",
       "                                             'our', 'ours', 'ourselves', 'you',\n",
       "                                             \"you're\", \"you've\", \"you'll\",\n",
       "                                             \"you'd\", 'your', 'yours',\n",
       "                                             'yourself', 'yourselves', 'he',\n",
       "                                             'him', 'his', 'himself', 'she',\n",
       "                                             \"she's\", 'her', 'hers', 'herself',\n",
       "                                             'it', \"it's\", 'its', 'itself', ...])),\n",
       "                ('mnb', MultinomialNB())])"
      ]
     },
     "execution_count": 215,
     "metadata": {},
     "output_type": "execute_result"
    }
   ],
   "source": [
    "fsm_pipe.fit(df_train_clean['tokenized'], df_train_clean['target'])"
   ]
  },
  {
   "cell_type": "code",
   "execution_count": 216,
   "metadata": {},
   "outputs": [
    {
     "name": "stdout",
     "output_type": "stream",
     "text": [
      "[0.81750187 0.80890052 0.81993269 0.81899776 0.81993269]\n",
      "Training Accuracy 0.8170531039640988\n",
      "##############\n",
      "[0.66417352 0.66043381 0.66641735 0.68885565 0.63350785]\n",
      "Cross_Val Accuracy 0.6626776364996261\n",
      "##############\n",
      "Training Macro Precision: 0.8151284668686385\n",
      "Cross_Val Macro Precision: 0.6236818689355725\n",
      "##############\n",
      "Training Macro Recall: 0.6841889284979017\n",
      "Cross_Val Macro Recall: 0.4829897113475604\n",
      "##############\n",
      "Training Macro F1: 0.7247304398946743\n",
      "Cross_Val Macro F1: 0.502312244302612\n"
     ]
    }
   ],
   "source": [
    "print_cv_scores(fsm_pipe, df_train_clean['tokenized'], df_train_clean['target'])"
   ]
  },
  {
   "cell_type": "code",
   "execution_count": 217,
   "metadata": {},
   "outputs": [
    {
     "data": {
      "image/png": "[encoded data removed]",
      "text/plain": [
       "<Figure size 432x288 with 2 Axes>"
      ]
     },
     "metadata": {
      "needs_background": "light"
     },
     "output_type": "display_data"
    }
   ],
   "source": [
    "plot_confusion_matrix(fsm_pipe, \n",
    "                      df_train_clean['tokenized'], \n",
    "                      df_train_clean['target'], \n",
    "                      normalize='pred');"
   ]
  },
  {
   "cell_type": "code",
   "execution_count": 218,
   "metadata": {},
   "outputs": [],
   "source": [
    "bayes_pipe = Pipeline([('tfidf', TfidfVectorizer(stop_words=sw)),\n",
    "                       ('mnb', MultinomialNB())\n",
    "])"
   ]
  },
  {
   "cell_type": "code",
   "execution_count": 219,
   "metadata": {},
   "outputs": [
    {
     "data": {
      "text/plain": [
       "Pipeline(steps=[('tfidf',\n",
       "                 TfidfVectorizer(stop_words=['i', 'me', 'my', 'myself', 'we',\n",
       "                                             'our', 'ours', 'ourselves', 'you',\n",
       "                                             \"you're\", \"you've\", \"you'll\",\n",
       "                                             \"you'd\", 'your', 'yours',\n",
       "                                             'yourself', 'yourselves', 'he',\n",
       "                                             'him', 'his', 'himself', 'she',\n",
       "                                             \"she's\", 'her', 'hers', 'herself',\n",
       "                                             'it', \"it's\", 'its', 'itself', ...])),\n",
       "                ('mnb', MultinomialNB())])"
      ]
     },
     "execution_count": 219,
     "metadata": {},
     "output_type": "execute_result"
    }
   ],
   "source": [
    "bayes_pipe.fit(df_train_clean['tokenized'], df_train_clean['target'])"
   ]
  },
  {
   "cell_type": "code",
   "execution_count": 220,
   "metadata": {
    "scrolled": false
   },
   "outputs": [
    {
     "name": "stdout",
     "output_type": "stream",
     "text": [
      "[0.7460733  0.74700823 0.74308153 0.73934181 0.75448766]\n",
      "Training Accuracy 0.7459985041136874\n",
      "##############\n",
      "[0.6499626  0.64921466 0.66492147 0.65445026 0.64098728]\n",
      "Cross_Val Accuracy 0.6519072550486164\n",
      "##############\n",
      "Training Macro Precision: 0.8745680906330675\n",
      "Cross_Val Macro Precision: 0.7493263672200777\n",
      "##############\n",
      "Training Macro Recall: 0.4855068247072231\n",
      "Cross_Val Macro Recall: 0.3983479901848868\n",
      "##############\n",
      "Training Macro F1: 0.4902655231955134\n",
      "Cross_Val Macro F1: 0.38008587682970113\n"
     ]
    }
   ],
   "source": [
    "print_cv_scores(bayes_pipe, df_train_clean['tokenized'], df_train_clean['target'])"
   ]
  },
  {
   "cell_type": "code",
   "execution_count": 221,
   "metadata": {
    "scrolled": false
   },
   "outputs": [
    {
     "data": {
      "image/png": "[encoded data removed]",
      "text/plain": [
       "<Figure size 432x288 with 2 Axes>"
      ]
     },
     "metadata": {
      "needs_background": "light"
     },
     "output_type": "display_data"
    }
   ],
   "source": [
    "plot_confusion_matrix(bayes_pipe, \n",
    "                      df_train_clean['tokenized'], \n",
    "                      df_train_clean['target'], \n",
    "                      normalize='pred');"
   ]
  },
  {
   "cell_type": "code",
   "execution_count": 222,
   "metadata": {},
   "outputs": [
    {
     "data": {
      "text/plain": [
       "{'want': 6281,\n",
       " 'one': 4115,\n",
       " 'rumor': 4922,\n",
       " 'appl': 509,\n",
       " 'open': 4132,\n",
       " 'temporari': 5768,\n",
       " 'store': 5494,\n",
       " 'downtown': 1829,\n",
       " 'austin': 616,\n",
       " 'sxsw': 5623,\n",
       " 'ipad': 3123,\n",
       " 'launch': 3364,\n",
       " 'link': 3458,\n",
       " 'aapl': 268,\n",
       " 'alreadi': 419,\n",
       " 'big': 810,\n",
       " 'winner': 6391,\n",
       " 'mention': 3704,\n",
       " 'google': 2574,\n",
       " 'disavow': 1731,\n",
       " 'plan': 4388,\n",
       " 'part': 4237,\n",
       " 'present': 4502,\n",
       " 'good': 2568,\n",
       " 'thing': 5828,\n",
       " 'crash': 1485,\n",
       " 'instead': 3079,\n",
       " 'work': 6432,\n",
       " 'best': 793,\n",
       " 'iphon': 3128,\n",
       " 'android': 461,\n",
       " 'ipad2': 3124,\n",
       " 'sell': 5050,\n",
       " '70': 220,\n",
       " 'go': 2550,\n",
       " 'new': 3970,\n",
       " 'buyer': 1026,\n",
       " 'wow': 6449,\n",
       " 'via': 6204,\n",
       " 'yesterday': 6503,\n",
       " 'listen': 3467,\n",
       " 'marissa': 3619,\n",
       " 'mayer': 3661,\n",
       " 'discus': 1743,\n",
       " 'mobil': 3797,\n",
       " 'technolog': 5750,\n",
       " '40': 153,\n",
       " 'user': 6146,\n",
       " 'use': 6144,\n",
       " 'map': 3605,\n",
       " 'phone': 4339,\n",
       " 'noth': 4034,\n",
       " 'quit': 4640,\n",
       " 'like': 3448,\n",
       " 'make': 3586,\n",
       " 'desper': 1666,\n",
       " 'almost': 412,\n",
       " 'drool': 1847,\n",
       " 'guy': 2673,\n",
       " 'next': 3983,\n",
       " 'everyon': 2071,\n",
       " 'buy': 1025,\n",
       " 'app': 503,\n",
       " 'day': 1598,\n",
       " 'birth': 826,\n",
       " 'happi': 2722,\n",
       " 'gsdm': 2649,\n",
       " 'rt': 4916,\n",
       " 'gear': 2476,\n",
       " 'interact': 3089,\n",
       " 'trade': 5944,\n",
       " 'show': 5148,\n",
       " 'across': 306,\n",
       " 'googl': 2573,\n",
       " 'tweet': 6021,\n",
       " 'fast': 2174,\n",
       " 'appear': 507,\n",
       " 'may': 3659,\n",
       " 'preview': 4509,\n",
       " 'today': 5896,\n",
       " 'circl': 1225,\n",
       " 'social': 5310,\n",
       " 'endeavor': 1991,\n",
       " 'kara': 3258,\n",
       " 'swisher': 5608,\n",
       " 'stylish': 5537,\n",
       " 'fascist': 2172,\n",
       " 'compani': 1332,\n",
       " 'america': 438,\n",
       " 'enjoy': 2000,\n",
       " 'rooftop': 4905,\n",
       " 'terrac': 5781,\n",
       " 'speakeasi': 5380,\n",
       " 'reassur': 4706,\n",
       " 'extraordinari': 2124,\n",
       " 'hack': 2685,\n",
       " 'mean': 3672,\n",
       " 'soft': 5324,\n",
       " 'couch': 1450,\n",
       " 'bar': 704,\n",
       " 'exist': 2103,\n",
       " 'tri': 5969,\n",
       " 'whole': 6360,\n",
       " 'trip': 5978,\n",
       " 'laptop': 3348,\n",
       " 'upsid': 6131,\n",
       " 'start': 5450,\n",
       " 'releas': 4769,\n",
       " 'remind': 4781,\n",
       " 'chrome': 1210,\n",
       " 'tt': 6001,\n",
       " 'talk': 5703,\n",
       " 'pm': 4419,\n",
       " 'contextu': 1408,\n",
       " 'discoveri': 1738,\n",
       " 'search': 5027,\n",
       " 'combin': 1314,\n",
       " 'calendar': 1048,\n",
       " 'weather': 6305,\n",
       " 'flight': 2281,\n",
       " 'traffic': 5947,\n",
       " 'data': 1589,\n",
       " 'creat': 1494,\n",
       " 'person': 4322,\n",
       " 'advis': 340,\n",
       " 'long': 3503,\n",
       " 'line': 3456,\n",
       " 'uppward': 6129,\n",
       " 'tshirt': 5997,\n",
       " 'clever': 1252,\n",
       " 'design': 1659,\n",
       " 'jerk': 3201,\n",
       " 'brace': 925,\n",
       " 'audio': 608,\n",
       " 'onslaught': 4122,\n",
       " 'free': 2363,\n",
       " 'music': 3881,\n",
       " 'sampler': 4950,\n",
       " 'itun': 3160,\n",
       " 'featuredartist': 2194,\n",
       " 'feel': 2204,\n",
       " 'alway': 428,\n",
       " 'someth': 5342,\n",
       " 'run': 4924,\n",
       " 'batteri': 733,\n",
       " 'set': 5076,\n",
       " 'network': 3965,\n",
       " 'latitud': 3361,\n",
       " 'check': 1168,\n",
       " 'follow': 2308,\n",
       " 'foursquar': 2347,\n",
       " 'reward': 4845,\n",
       " 'googlela': 2582,\n",
       " 'googlemarch': 2585,\n",
       " 'ûï': 6590,\n",
       " 'offici': 4090,\n",
       " 'among': 447,\n",
       " 'miss': 3775,\n",
       " 'aclu': 302,\n",
       " '80': 227,\n",
       " 'danc': 1574,\n",
       " 'parti': 4239,\n",
       " 'way': 6299,\n",
       " 'upgrad': 6126,\n",
       " 'pager': 4201,\n",
       " 'favorit': 2184,\n",
       " 'moment': 3815,\n",
       " 'creativ': 1495,\n",
       " 'take': 5694,\n",
       " 'speech': 5389,\n",
       " 'therapi': 5819,\n",
       " 'commun': 1327,\n",
       " 'showcas': 5149,\n",
       " 'confer': 1366,\n",
       " 'augcomm': 610,\n",
       " 'hcsm': 2752,\n",
       " 'mhealth': 3727,\n",
       " 'would': 6448,\n",
       " 'dashboard': 1587,\n",
       " 'govt': 2600,\n",
       " 'know': 3314,\n",
       " 'credit': 1498,\n",
       " 'score': 5009,\n",
       " 'watch': 6294,\n",
       " 'someon': 5341,\n",
       " 'time': 5873,\n",
       " 'squar': 5425,\n",
       " 'tv': 6018,\n",
       " 'screen': 5016,\n",
       " 'tech': 5740,\n",
       " 'amaz': 431,\n",
       " 'win': 6385,\n",
       " 'love': 3529,\n",
       " 'pop': 4437,\n",
       " 'question': 4631,\n",
       " 'bring': 958,\n",
       " 'truck': 5986,\n",
       " 'signal': 5167,\n",
       " 'plea': 4405,\n",
       " 'say': 4973,\n",
       " 'ye': 6492,\n",
       " 'awesom': 652,\n",
       " 'rough': 4909,\n",
       " 'calcul': 1047,\n",
       " 'beard': 751,\n",
       " 'ratio': 4681,\n",
       " 'wonder': 6422,\n",
       " 'mani': 3600,\n",
       " 'tomorrow': 5904,\n",
       " 'stop': 5491,\n",
       " 'let': 3419,\n",
       " 'custom': 1549,\n",
       " 'case': 1096,\n",
       " 'zazzlesxsw': 6540,\n",
       " 'sxswi': 5647,\n",
       " 'call': 1052,\n",
       " 'possibl': 4461,\n",
       " 'product': 4539,\n",
       " 'plenti': 4407,\n",
       " 'el': 1953,\n",
       " 'cc': 1117,\n",
       " 'shape': 5099,\n",
       " 'citi': 1233,\n",
       " 'expand': 2105,\n",
       " 'contract': 1412,\n",
       " 'real': 4693,\n",
       " 'develop': 1680,\n",
       " 'encourag': 1989,\n",
       " 'audienc': 607,\n",
       " 'japan': 3180,\n",
       " 'retail': 4825,\n",
       " 'updat': 6125,\n",
       " 'song': 5345,\n",
       " 'info': 3053,\n",
       " '24': 95,\n",
       " 'stream': 5507,\n",
       " 'also': 421,\n",
       " 'live': 3471,\n",
       " 'video': 6210,\n",
       " 'get': 2508,\n",
       " 'kick': 3277,\n",
       " 'ipod': 3135,\n",
       " 'ianyth': 2950,\n",
       " 'impactdashboard': 3001,\n",
       " 'demo': 1643,\n",
       " 'becom': 756,\n",
       " 'analyt': 455,\n",
       " 'bavcid': 739,\n",
       " 'buzz': 1027,\n",
       " 'bill': 815,\n",
       " 'entrepreneur': 2011,\n",
       " 'award': 649,\n",
       " 'thank': 5795,\n",
       " 'wish': 6402,\n",
       " 'could': 1453,\n",
       " 'head': 2755,\n",
       " '1pm': 75,\n",
       " 'cst': 1529,\n",
       " 'vip': 6218,\n",
       " 'access': 287,\n",
       " 'acoust': 303,\n",
       " 'solo': 5336,\n",
       " 'tonight': 5908,\n",
       " 'dawn': 1597,\n",
       " 'coincid': 1302,\n",
       " 'gain': 2439,\n",
       " 'maximum': 3658,\n",
       " 'hipster': 2815,\n",
       " 'attent': 596,\n",
       " 'geniu': 2496,\n",
       " 'chri': 1206,\n",
       " 'sacca': 4934,\n",
       " 'fake': 2148,\n",
       " 'beta': 797,\n",
       " 'invit': 3115,\n",
       " 'swarm': 5597,\n",
       " 'ensu': 2003,\n",
       " 'yen': 6500,\n",
       " 'import': 3007,\n",
       " 'sure': 5578,\n",
       " 'donat': 1798,\n",
       " 'japanes': 3181,\n",
       " 'red': 4731,\n",
       " 'cross': 1514,\n",
       " 'sxswcare': 5636,\n",
       " 'quak': 4618,\n",
       " 'come': 1316,\n",
       " 'uj': 6061,\n",
       " 'booth': 898,\n",
       " 'acc': 283,\n",
       " 'hall': 2708,\n",
       " 'snap': 5293,\n",
       " 'pic': 4351,\n",
       " 'send': 5055,\n",
       " 'em': 1971,\n",
       " 'fightthepaddl': 2228,\n",
       " 'soni': 5346,\n",
       " 'xperia': 6480,\n",
       " 'play': 4396,\n",
       " 'later': 3356,\n",
       " 'detail': 1672,\n",
       " 'oh': 4097,\n",
       " 'excus': 2097,\n",
       " 'cool': 1428,\n",
       " 'realli': 4698,\n",
       " 'braill': 928,\n",
       " 'shirt': 5128,\n",
       " 'see': 5037,\n",
       " 'peopl': 4299,\n",
       " 'wear': 6304,\n",
       " 'mayb': 3660,\n",
       " 'ask': 572,\n",
       " 'door': 1811,\n",
       " 'startup': 5451,\n",
       " 'premium': 4497,\n",
       " 'servic': 5070,\n",
       " '1st': 76,\n",
       " 'job': 3213,\n",
       " 'post': 4462,\n",
       " 'lean': 3389,\n",
       " 'leanux': 3391,\n",
       " 'leanstartup': 3390,\n",
       " 'founder': 2345,\n",
       " 'dedic': 1620,\n",
       " 'well': 6337,\n",
       " 'first': 2253,\n",
       " '10': 8,\n",
       " 'hour': 2887,\n",
       " 'sleepi': 5231,\n",
       " 'pas': 4246,\n",
       " 'homeless': 2852,\n",
       " 'sign': 5166,\n",
       " 'save': 4966,\n",
       " 'law': 3369,\n",
       " 'averag': 641,\n",
       " '___': 259,\n",
       " 'wilt': 6384,\n",
       " 'stress': 5512,\n",
       " 'read': 4687,\n",
       " 'coverag': 1464,\n",
       " 'apple': 511,\n",
       " 'shop': 5136,\n",
       " 'takeaway': 5695,\n",
       " 'figur': 2229,\n",
       " 'agre': 366,\n",
       " 'punctuat': 4589,\n",
       " 'tx': 6042,\n",
       " 'stay': 5463,\n",
       " 'ûó': 6607,\n",
       " 'tim': 5872,\n",
       " 'mac': 3568,\n",
       " 'smartfriend': 5258,\n",
       " 'tm': 5888,\n",
       " 'cha': 1142,\n",
       " 'catch': 1104,\n",
       " 'piec': 4360,\n",
       " 'action': 308,\n",
       " 'street': 5509,\n",
       " 'cam': 1056,\n",
       " 'great': 2621,\n",
       " 'ui': 6059,\n",
       " 'xoom': 6479,\n",
       " 'tablet': 5688,\n",
       " 'lavaca': 3367,\n",
       " '6th': 217,\n",
       " 'wrap': 6455,\n",
       " 'around': 553,\n",
       " 'block': 856,\n",
       " 'techcrunch': 5742,\n",
       " 'editor': 1930,\n",
       " 'ûª': 6584,\n",
       " 'note': 4029,\n",
       " 'guest': 2660,\n",
       " 'po': 4421,\n",
       " 'facebook': 2135,\n",
       " 'reportedli': 4794,\n",
       " 'unveil': 6120,\n",
       " 'googlecircl': 2577,\n",
       " 'googlem': 2583,\n",
       " 'checkin': 1169,\n",
       " 'crowley': 1520,\n",
       " 'space': 5369,\n",
       " 'look': 3506,\n",
       " 'think': 5830,\n",
       " 'might': 3743,\n",
       " 'weekend': 6329,\n",
       " 'without': 6407,\n",
       " 'twice': 6029,\n",
       " 'holler': 2844,\n",
       " 'gram': 2609,\n",
       " 'ti': 5862,\n",
       " 'cover': 1463,\n",
       " 'sauc': 4965,\n",
       " 'lose': 3517,\n",
       " '2nite': 114,\n",
       " 'attende': 594,\n",
       " 'blame': 846,\n",
       " 'microsoft': 3736,\n",
       " 'fix': 2260,\n",
       " 'b4': 661,\n",
       " 'christma': 1209,\n",
       " 'theme': 5812,\n",
       " 'simplic': 5181,\n",
       " 'busi': 1020,\n",
       " 'keep': 3262,\n",
       " 'mind': 3756,\n",
       " 'deed': 1621,\n",
       " 'return': 4832,\n",
       " 'fun': 2407,\n",
       " 'futur': 2417,\n",
       " 'local': 3484,\n",
       " 'brilliant': 957,\n",
       " 'pr': 4483,\n",
       " 'stunt': 5533,\n",
       " 'idea': 2963,\n",
       " 'respons': 4814,\n",
       " 'draw': 1835,\n",
       " 'crowd': 1517,\n",
       " 'medium': 3683,\n",
       " 'revenu': 4840,\n",
       " 'tapworthi': 5713,\n",
       " 'tigerblood': 5868,\n",
       " 'tenet': 5775,\n",
       " 'life': 3435,\n",
       " 'sync': 5678,\n",
       " 'session': 5074,\n",
       " 'partial': 4240,\n",
       " 'fine': 2242,\n",
       " 'decid': 1617,\n",
       " 'googletv': 2590,\n",
       " 'connect': 1377,\n",
       " 'experi': 2108,\n",
       " 'connectedtv': 1380,\n",
       " 'fascin': 2171,\n",
       " 'hobo': 2837,\n",
       " 'tell': 5765,\n",
       " 'morn': 3840,\n",
       " 'ride': 4863,\n",
       " 'anywher': 491,\n",
       " 'dwnld': 1889,\n",
       " 'groundlink': 2637,\n",
       " '437': 159,\n",
       " 'simple': 5178,\n",
       " 'gestur': 2507,\n",
       " 'core': 1440,\n",
       " 'touchingstori': 5926,\n",
       " 'biyt': 833,\n",
       " 'li': 3427,\n",
       " 'email': 1972,\n",
       " 'voic': 6237,\n",
       " 'loveit': 3532,\n",
       " 'startupbu': 5452,\n",
       " 'smallbiz': 5252,\n",
       " 'need': 3946,\n",
       " 'review': 4841,\n",
       " 'place': 4384,\n",
       " 'seo': 5059,\n",
       " 'ragtube': 4657,\n",
       " 'com': 1313,\n",
       " 'earthquak': 1906,\n",
       " 'redcross': 4734,\n",
       " 'chuck': 1213,\n",
       " 'greenberg': 2625,\n",
       " 'tokyo': 5899,\n",
       " 'hurrican': 2922,\n",
       " 'katrina': 3260,\n",
       " 'crescent': 1503,\n",
       " 'join': 3221,\n",
       " 'nfc': 3986,\n",
       " 'bandwagon': 697,\n",
       " 'slide': 5236,\n",
       " 'rfid': 4850,\n",
       " 'flipboard': 2283,\n",
       " 'version': 6199,\n",
       " 'cours': 1460,\n",
       " 'improv': 3012,\n",
       " 'surpris': 5583,\n",
       " 'news': 3975,\n",
       " 'implic': 3005,\n",
       " 'bing': 821,\n",
       " 'project': 4547,\n",
       " 'euphoria': 2049,\n",
       " 'recommend': 4723,\n",
       " 'centric': 1131,\n",
       " 'interfac': 3092,\n",
       " 'advantag': 334,\n",
       " 'topic': 5917,\n",
       " 'avoid': 642,\n",
       " 'sexi': 5084,\n",
       " 'hot': 2881,\n",
       " 'convers': 1423,\n",
       " 'hit': 2824,\n",
       " 'heart': 2768,\n",
       " 'soul': 5358,\n",
       " 'world': 6437,\n",
       " 'meet': 3685,\n",
       " 'team': 5734,\n",
       " 'text': 5789,\n",
       " 'reddit': 4735,\n",
       " 'front': 2383,\n",
       " 'page': 4199,\n",
       " 'moonshin': 3834,\n",
       " 'nerd': 3950,\n",
       " 'twitter': 6036,\n",
       " 'anyway': 490,\n",
       " 'remov': 4783,\n",
       " 'burn': 1015,\n",
       " 'hashtag': 2738,\n",
       " 'eg': 1944,\n",
       " 'bore': 905,\n",
       " 'dinosaur': 1718,\n",
       " 'blackberri': 840,\n",
       " 'pc': 4275,\n",
       " 'convent': 1421,\n",
       " 'heard': 2767,\n",
       " 'give': 2533,\n",
       " 'money': 3819,\n",
       " 'relief': 4773,\n",
       " 'ever': 2065,\n",
       " 'hear': 2766,\n",
       " 'expect': 2106,\n",
       " 'glu': 2546,\n",
       " 'includ': 3028,\n",
       " 'help': 2788,\n",
       " 'badass': 673,\n",
       " 'right': 4870,\n",
       " 'debug': 1613,\n",
       " 'emerg': 1976,\n",
       " 'anyon': 488,\n",
       " 'last': 3353,\n",
       " 'least': 3396,\n",
       " 'copi': 1436,\n",
       " 'stupid': 5534,\n",
       " 'game': 2447,\n",
       " 'plu': 4409,\n",
       " 'special': 5385,\n",
       " 'price': 4511,\n",
       " 'i18': 2938,\n",
       " 'zombi': 6556,\n",
       " 'code': 1297,\n",
       " 'valid': 6166,\n",
       " '00': 0,\n",
       " '11': 20,\n",
       " '59': 192,\n",
       " '03': 4,\n",
       " '12': 26,\n",
       " 'infektd': 3047,\n",
       " 'zomb': 6555,\n",
       " 'temp': 5766,\n",
       " 'congress': 1376,\n",
       " 'dope': 1812,\n",
       " 'popup': 4444,\n",
       " 'sat': 4962,\n",
       " 'fire': 2248,\n",
       " 'shot': 5143,\n",
       " 'titl': 5885,\n",
       " 'technew': 5747,\n",
       " 'school': 4999,\n",
       " 'market': 3625,\n",
       " 'expert': 2111,\n",
       " 'tech_new': 5741,\n",
       " 'jobs_co': 3215,\n",
       " 'total': 5924,\n",
       " 'redesign': 4737,\n",
       " 'platform': 4395,\n",
       " 'geek': 2478,\n",
       " '16162': 58,\n",
       " 'road': 4888,\n",
       " 'pictur': 4357,\n",
       " 'small': 5251,\n",
       " 'event': 2061,\n",
       " 'member': 3699,\n",
       " 'carri': 1086,\n",
       " 'bag': 678,\n",
       " 'wolfram': 6419,\n",
       " 'shortli': 5142,\n",
       " 'find': 2240,\n",
       " 'major': 3585,\n",
       " 'employe': 1982,\n",
       " 'queue': 4632,\n",
       " 'late': 3355,\n",
       " 'mistak': 3779,\n",
       " 'build': 1000,\n",
       " 'netflix': 3961,\n",
       " 'hilton': 2810,\n",
       " 'arriv': 554,\n",
       " 'industri': 3042,\n",
       " 'vp': 6250,\n",
       " 'pack': 4196,\n",
       " 'hous': 2888,\n",
       " 'rank': 4676,\n",
       " 'hope': 2874,\n",
       " 'catfight': 1107,\n",
       " 'qagb': 4610,\n",
       " 'report': 4793,\n",
       " 'flash': 2266,\n",
       " 'bit': 829,\n",
       " 'ly': 3562,\n",
       " 'g03mzb': 2426,\n",
       " 'austincrowd': 618,\n",
       " 'huzzah': 2928,\n",
       " 'gowalla': 2601,\n",
       " 'andoid': 457,\n",
       " 'choic': 1197,\n",
       " 'heav': 2773,\n",
       " 'river': 4885,\n",
       " 'flow': 2290,\n",
       " 'hmmm': 2832,\n",
       " 'even': 2060,\n",
       " 'bother': 912,\n",
       " 'month': 3828,\n",
       " 'worth': 6444,\n",
       " '3g': 148,\n",
       " 'everywher': 2076,\n",
       " 'probabl': 4531,\n",
       " 'wifi': 6374,\n",
       " 'hand': 2711,\n",
       " 'sticker': 5481,\n",
       " 'coupon': 1459,\n",
       " 'dodo': 1784,\n",
       " 'travel': 5963,\n",
       " '2011': 82,\n",
       " 'potenti': 4469,\n",
       " 'breakout': 942,\n",
       " 'gadget': 2432,\n",
       " 'festiv': 2216,\n",
       " 'begin': 766,\n",
       " 'ubersoci': 6052,\n",
       " 'incld': 3027,\n",
       " 'uberguid': 6050,\n",
       " 'sponsor': 5412,\n",
       " 'mashabl': 3636,\n",
       " 'glad': 2535,\n",
       " 'faulti': 2181,\n",
       " 'everyone': 2072,\n",
       " 'die': 1692,\n",
       " 'quicker': 4635,\n",
       " 'safe': 4939,\n",
       " 'gogo': 2561,\n",
       " 'inflight': 3049,\n",
       " 'freshbook': 2371,\n",
       " 'shuttl': 5157,\n",
       " 'yet': 6504,\n",
       " 'schedul': 4993,\n",
       " '3d': 147,\n",
       " 'super': 5568,\n",
       " 'render': 4784,\n",
       " 'missoni': 3777,\n",
       " 'top': 5915,\n",
       " 'visit': 6227,\n",
       " 'art': 559,\n",
       " '8th': 243,\n",
       " 'sinc': 5184,\n",
       " 'old': 4104,\n",
       " 'throw': 5848,\n",
       " 'away': 650,\n",
       " 'white': 6355,\n",
       " 'mashbash': 3637,\n",
       " 'statement': 5456,\n",
       " 'dammit': 1570,\n",
       " 'deni': 1649,\n",
       " 'cont': 1399,\n",
       " 'final': 2237,\n",
       " 'fed': 2196,\n",
       " 'angrybird': 468,\n",
       " 'julian': 3244,\n",
       " 'scream': 5015,\n",
       " 'fli': 2280,\n",
       " 'zone': 6558,\n",
       " 'pigfuck': 4363,\n",
       " 'kid': 3281,\n",
       " 'alpha': 416,\n",
       " 'tester': 5785,\n",
       " 'download': 1824,\n",
       " '20': 77,\n",
       " 'track': 5939,\n",
       " 'avail': 638,\n",
       " 'dtsxsw': 1864,\n",
       " 'fb': 2187,\n",
       " 'turkey': 6013,\n",
       " 'random': 4672,\n",
       " 'fan': 2156,\n",
       " 'lunch': 3553,\n",
       " 'sourc': 5363,\n",
       " 'statesman': 5457,\n",
       " 'sent': 5058,\n",
       " 'behind': 771,\n",
       " '100': 9,\n",
       " 'compos': 1349,\n",
       " 'repli': 4791,\n",
       " 'protip': 4560,\n",
       " 'interest': 3091,\n",
       " 'locat': 3486,\n",
       " 'base': 717,\n",
       " 'indoor': 3041,\n",
       " 'venu': 6189,\n",
       " 'center': 1128,\n",
       " 'etc': 2044,\n",
       " 'recco': 4713,\n",
       " 'panel': 4217,\n",
       " 'def': 1623,\n",
       " 'friend': 2379,\n",
       " 'newbi': 3973,\n",
       " 'zaarli': 6533,\n",
       " 'signup': 5169,\n",
       " 'referr': 4745,\n",
       " 'craigslistkil': 1482,\n",
       " 'omg': 4110,\n",
       " 'scare': 4986,\n",
       " 'netbook': 3960,\n",
       " 'firm': 2252,\n",
       " 'droid': 1846,\n",
       " 'megastor': 3691,\n",
       " 'model': 3807,\n",
       " 'cooler': 1430,\n",
       " 'groupon': 2642,\n",
       " 'typ': 6044,\n",
       " '1k': 73,\n",
       " 'view': 6213,\n",
       " 'secur': 5036,\n",
       " 'lock': 3489,\n",
       " 'haha': 2695,\n",
       " 'caus': 1111,\n",
       " 'window': 6387,\n",
       " 'voluntarili': 6245,\n",
       " 'kawasaki': 3261,\n",
       " 'thisisdar': 5836,\n",
       " 'khoi': 3276,\n",
       " 'vinh': 6215,\n",
       " 'cond': 1361,\n",
       " 'nast': 3929,\n",
       " 'rush': 4926,\n",
       " 'publish': 4580,\n",
       " 'fundament': 2409,\n",
       " 'misunderstand': 3782,\n",
       " 'unbox': 6077,\n",
       " 'outsid': 4172,\n",
       " 'rout': 4912,\n",
       " 'featur': 2193,\n",
       " 'year': 6495,\n",
       " 'everi': 2067,\n",
       " 'holytrafficjam': 2850,\n",
       " 'touch': 5925,\n",
       " 'trackpad': 5941,\n",
       " 'posit': 4460,\n",
       " 'natur': 3934,\n",
       " 'sit': 5195,\n",
       " 'relax': 4767,\n",
       " 'sxswnui': 5659,\n",
       " 'fanci': 2159,\n",
       " 'verizon': 6196,\n",
       " '4g': 171,\n",
       " 'bb': 742,\n",
       " 'card': 1079,\n",
       " 'drop': 1848,\n",
       " 'rock': 4895,\n",
       " 'steadi': 5466,\n",
       " 'gofigur': 2559,\n",
       " 'stori': 5495,\n",
       " 'magazin': 3579,\n",
       " 'tbwasxsw': 5723,\n",
       " 'peak': 4282,\n",
       " 'vector': 6180,\n",
       " 'bas': 716,\n",
       " 'marissagoogl': 3620,\n",
       " 'nice': 3990,\n",
       " 'move': 3852,\n",
       " 'truth': 5995,\n",
       " 'girl': 2527,\n",
       " 'joint': 3222,\n",
       " 'akqa': 388,\n",
       " 'hire': 2818,\n",
       " 'navig': 3936,\n",
       " 'schema': 4994,\n",
       " 'ballroom': 691,\n",
       " 'jesu': 3203,\n",
       " 'hockey': 2838,\n",
       " 'mask': 3640,\n",
       " 'wors': 6441,\n",
       " 'break': 939,\n",
       " 'bad': 672,\n",
       " 'screw': 5019,\n",
       " 'budg': 994,\n",
       " 'replac': 4789,\n",
       " 'stand': 5443,\n",
       " 'ridley': 4866,\n",
       " 'refresh': 4747,\n",
       " 'welcom': 6335,\n",
       " 'photo': 4340,\n",
       " 'sheltongreen': 5114,\n",
       " 'ericschu_ra': 2032,\n",
       " 'itinerari': 3157,\n",
       " 'requir': 4803,\n",
       " 'band': 695,\n",
       " 'badg': 675,\n",
       " 'fest': 2214,\n",
       " 'littl': 3470,\n",
       " 'jazz': 3189,\n",
       " 'pushio': 4599,\n",
       " 'guess': 2659,\n",
       " 'bulletproof': 1004,\n",
       " 'ux': 6154,\n",
       " 'strategi': 5503,\n",
       " 'pattern': 4262,\n",
       " 'anatomi': 456,\n",
       " 'decis': 1618,\n",
       " 'amen': 436,\n",
       " 'explor': 2115,\n",
       " 'tast': 5716,\n",
       " 'pull': 4584,\n",
       " 'articl': 562,\n",
       " 'differ': 1698,\n",
       " 'mag': 3578,\n",
       " 'sound': 5359,\n",
       " 'grrr': 2644,\n",
       " 'plancast': 4389,\n",
       " 'stuff': 5529,\n",
       " 'export': 2117,\n",
       " 'san': 4955,\n",
       " 'diego': 1693,\n",
       " 'pacif': 4195,\n",
       " 'shift': 5121,\n",
       " 'central': 1130,\n",
       " 'tme': 5889,\n",
       " 'wack': 6261,\n",
       " 'photographi': 4343,\n",
       " 'feed': 2201,\n",
       " 'oooorkut': 4129,\n",
       " 'drive': 1843,\n",
       " 'buddi': 993,\n",
       " '30': 120,\n",
       " 'albani': 393,\n",
       " 'anna': 470,\n",
       " 'pick': 4352,\n",
       " 'week': 6328,\n",
       " 'sxflip': 5617,\n",
       " 'ther': 5818,\n",
       " 'yay': 6490,\n",
       " 'gotto': 2596,\n",
       " 'workspac': 6436,\n",
       " 'book': 887,\n",
       " 'virtualoffic': 6223,\n",
       " 'bitbop': 830,\n",
       " 'gdgtaustin': 2474,\n",
       " 'purevolum': 4594,\n",
       " '504': 187,\n",
       " 'triniti': 5977,\n",
       " 'monday': 3817,\n",
       " 'march': 3612,\n",
       " '14th': 48,\n",
       " 'close': 1262,\n",
       " 'tonit': 5909,\n",
       " 'sxtxstate': 5669,\n",
       " 'hard': 2729,\n",
       " 'back': 665,\n",
       " 'channel': 1151,\n",
       " 'prioriti': 4524,\n",
       " 'alert': 396,\n",
       " 'ala': 390,\n",
       " 'box': 920,\n",
       " 'readi': 4691,\n",
       " 'else': 1968,\n",
       " 'hee': 2781,\n",
       " 'drip': 1841,\n",
       " 'inform': 3054,\n",
       " 'rival': 4884,\n",
       " 'writer': 6458,\n",
       " 'thousand': 5842,\n",
       " 'town': 5934,\n",
       " 'demonstr': 1647,\n",
       " 'mar': 3608,\n",
       " 'charger': 1155,\n",
       " 'lanyard': 3342,\n",
       " 'rave': 4682,\n",
       " 'monksofinvent': 3824,\n",
       " 'lego': 3405,\n",
       " 'mindstorm': 3759,\n",
       " 'debut': 1614,\n",
       " 'select': 5046,\n",
       " 'unsix': 6115,\n",
       " 'tweetup': 6028,\n",
       " 'happyd': 2725,\n",
       " 'borrow': 907,\n",
       " 'anniem': 471,\n",
       " 'maura': 3653,\n",
       " 'gaslamp': 2461,\n",
       " 'strip': 5518,\n",
       " 'unless': 6101,\n",
       " 'reason': 4704,\n",
       " '19': 67,\n",
       " 'parakeet': 4232,\n",
       " 'employ': 1981,\n",
       " 'ladi': 3330,\n",
       " 'must': 3891,\n",
       " 'bizzi': 836,\n",
       " 'trend': 5968,\n",
       " 'share': 5100,\n",
       " 'opinion': 4138,\n",
       " 'hold': 2840,\n",
       " 'annoy': 473,\n",
       " 'circu': 1226,\n",
       " 'approv': 525,\n",
       " 'irelay': 3139,\n",
       " 'easy': 1912,\n",
       " 'bah': 679,\n",
       " 'somehow': 5340,\n",
       " 'wipe': 6396,\n",
       " 'waze': 6300,\n",
       " 'duke': 1876,\n",
       " 'friendli': 2380,\n",
       " 'leav': 3398,\n",
       " 'leave': 3399,\n",
       " 'discov': 1736,\n",
       " 'onlin': 4119,\n",
       " 'wait': 6264,\n",
       " 'sxswh': 5645,\n",
       " 'hey': 2794,\n",
       " 'instagram': 3075,\n",
       " 'hipstamat': 2813,\n",
       " 'brain': 929,\n",
       " 'bettersearch': 801,\n",
       " 'handl': 2713,\n",
       " 'demand': 1642,\n",
       " 'order': 4148,\n",
       " 'wast': 6292,\n",
       " 'valuabl': 6169,\n",
       " 'fellowship': 2209,\n",
       " 'redirect': 4739,\n",
       " 'daili': 1567,\n",
       " 'shipment': 5127,\n",
       " 'sf': 5087,\n",
       " 'bay': 741,\n",
       " 'area': 544,\n",
       " 'indi': 3036,\n",
       " 'answer': 477,\n",
       " 'doc': 1777,\n",
       " 'looseorgan': 3512,\n",
       " 'blogger': 859,\n",
       " 'blog': 857,\n",
       " 'purchas': 4591,\n",
       " 'mexican': 3724,\n",
       " 'mavi': 3656,\n",
       " 'boy': 921,\n",
       " 'bear': 750,\n",
       " 'god': 2554,\n",
       " 'apple_stor': 513,\n",
       " 'ipad_2': 3126,\n",
       " 'serv': 5068,\n",
       " 'hord': 2876,\n",
       " 'ecademi': 1920,\n",
       " 'true': 5987,\n",
       " 'itm': 3158,\n",
       " 'lot': 3520,\n",
       " 'introduc': 3106,\n",
       " 'fair': 2147,\n",
       " 'innov': 3064,\n",
       " 'third': 5833,\n",
       " 'era': 2030,\n",
       " 'logo': 3495,\n",
       " 'googledoodl': 2578,\n",
       " 'hm': 2830,\n",
       " 'anoth': 476,\n",
       " 'envis': 2018,\n",
       " 'fact': 2139,\n",
       " 'fly': 2296,\n",
       " 'prototyp': 4562,\n",
       " 'tool': 5911,\n",
       " 'sketchbook': 5207,\n",
       " 'sharpi': 5104,\n",
       " 'pen': 4292,\n",
       " 'photoshop': 4345,\n",
       " 'balsam': 692,\n",
       " 'axsur': 657,\n",
       " 'myprototyp': 3903,\n",
       " 'coyn': 1470,\n",
       " 'mix': 3784,\n",
       " 'realest': 4694,\n",
       " 'happen': 2721,\n",
       " '15': 49,\n",
       " 'killer': 3290,\n",
       " 'sxswchi': 5637,\n",
       " '200m': 80,\n",
       " 'click': 1253,\n",
       " 'fwd': 2422,\n",
       " 'dj': 1769,\n",
       " 'dark': 1583,\n",
       " 'put': 4602,\n",
       " 'pickup': 4354,\n",
       " 'congrat': 1374,\n",
       " 'raffl': 4655,\n",
       " 'smileyparti': 5271,\n",
       " 'inbox': 3021,\n",
       " 'room': 4906,\n",
       " '8a': 240,\n",
       " 'charl': 1157,\n",
       " 'chen': 1177,\n",
       " 'quash': 4628,\n",
       " 'rumour': 4923,\n",
       " 'ht': 2900,\n",
       " 'thekil': 5811,\n",
       " ...}"
      ]
     },
     "execution_count": 222,
     "metadata": {},
     "output_type": "execute_result"
    }
   ],
   "source": [
    "bayes_pipe[0].vocabulary_"
   ]
  },
  {
   "cell_type": "code",
   "execution_count": 223,
   "metadata": {},
   "outputs": [],
   "source": [
    "bayes_smote_pipe = imbpipe([\n",
    "                            ('tfidf', TfidfVectorizer(stop_words=sw)),\n",
    "                            ('smote', SMOTE(random_state=42)),\n",
    "                            ('mnb', MultinomialNB())\n",
    "])"
   ]
  },
  {
   "cell_type": "code",
   "execution_count": 224,
   "metadata": {
    "scrolled": true
   },
   "outputs": [
    {
     "data": {
      "text/plain": [
       "Pipeline(steps=[('tfidf',\n",
       "                 TfidfVectorizer(stop_words=['i', 'me', 'my', 'myself', 'we',\n",
       "                                             'our', 'ours', 'ourselves', 'you',\n",
       "                                             \"you're\", \"you've\", \"you'll\",\n",
       "                                             \"you'd\", 'your', 'yours',\n",
       "                                             'yourself', 'yourselves', 'he',\n",
       "                                             'him', 'his', 'himself', 'she',\n",
       "                                             \"she's\", 'her', 'hers', 'herself',\n",
       "                                             'it', \"it's\", 'its', 'itself', ...])),\n",
       "                ('smote', SMOTE(random_state=42)), ('mnb', MultinomialNB())])"
      ]
     },
     "execution_count": 224,
     "metadata": {},
     "output_type": "execute_result"
    }
   ],
   "source": [
    "bayes_smote_pipe.fit(df_train_clean['tokenized'], df_train_clean['target'])"
   ]
  },
  {
   "cell_type": "code",
   "execution_count": 225,
   "metadata": {
    "scrolled": true
   },
   "outputs": [
    {
     "name": "stdout",
     "output_type": "stream",
     "text": [
      "[0.77337322 0.77112939 0.76907255 0.76813762 0.77225131]\n",
      "Training Accuracy 0.7707928197456994\n",
      "##############\n",
      "[0.60508601 0.57442034 0.59685864 0.6013463  0.56170531]\n",
      "Cross_Val Accuracy 0.5878833208676141\n",
      "##############\n",
      "Training Macro Precision: 0.6979222252663616\n",
      "Cross_Val Macro Precision: 0.5096119977276307\n",
      "##############\n",
      "Training Macro Recall: 0.8374685814559226\n",
      "Cross_Val Macro Recall: 0.5793815921638226\n",
      "##############\n",
      "Training Macro F1: 0.7347014988932066\n",
      "Cross_Val Macro F1: 0.5206497112826833\n"
     ]
    }
   ],
   "source": [
    "print_cv_scores(bayes_smote_pipe, df_train_clean['tokenized'], df_train_clean['target'])"
   ]
  },
  {
   "cell_type": "code",
   "execution_count": 226,
   "metadata": {
    "scrolled": true
   },
   "outputs": [
    {
     "data": {
      "image/png": "[encoded data removed]",
      "text/plain": [
       "<Figure size 432x288 with 2 Axes>"
      ]
     },
     "metadata": {
      "needs_background": "light"
     },
     "output_type": "display_data"
    }
   ],
   "source": [
    "plot_confusion_matrix(bayes_smote_pipe, \n",
    "                      df_train_clean['tokenized'], \n",
    "                      df_train_clean['target'], \n",
    "                      normalize='pred');"
   ]
  },
  {
   "cell_type": "code",
   "execution_count": 227,
   "metadata": {},
   "outputs": [],
   "source": [
    "xgb_pipe = imbpipe(steps=[('tfidf', TfidfVectorizer(stop_words=sw)),\n",
    "                          ('sm', SMOTE(random_state=42)),\n",
    "                          ('xgb', XGBClassifier(random_state=42,\n",
    "                                                max_depth = 6,\n",
    "                                                n_jobs = -1))])"
   ]
  },
  {
   "cell_type": "code",
   "execution_count": 228,
   "metadata": {},
   "outputs": [
    {
     "data": {
      "text/plain": [
       "Pipeline(steps=[('tfidf',\n",
       "                 TfidfVectorizer(stop_words=['i', 'me', 'my', 'myself', 'we',\n",
       "                                             'our', 'ours', 'ourselves', 'you',\n",
       "                                             \"you're\", \"you've\", \"you'll\",\n",
       "                                             \"you'd\", 'your', 'yours',\n",
       "                                             'yourself', 'yourselves', 'he',\n",
       "                                             'him', 'his', 'himself', 'she',\n",
       "                                             \"she's\", 'her', 'hers', 'herself',\n",
       "                                             'it', \"it's\", 'its', 'itself', ...])),\n",
       "                ('sm', SMOTE(random_state=42)),\n",
       "                ('xgb',\n",
       "                 XGBClassifier(base_score=0.5,...\n",
       "                               importance_type='gain',\n",
       "                               interaction_constraints='',\n",
       "                               learning_rate=0.300000012, max_delta_step=0,\n",
       "                               max_depth=6, min_child_weight=1, missing=nan,\n",
       "                               monotone_constraints='()', n_estimators=100,\n",
       "                               n_jobs=-1, num_parallel_tree=1,\n",
       "                               objective='multi:softprob', random_state=42,\n",
       "                               reg_alpha=0, reg_lambda=1, scale_pos_weight=None,\n",
       "                               subsample=1, tree_method='exact',\n",
       "                               validate_parameters=1, verbosity=None))])"
      ]
     },
     "execution_count": 228,
     "metadata": {},
     "output_type": "execute_result"
    }
   ],
   "source": [
    "xgb_pipe.fit(df_train_clean['tokenized'], df_train_clean['target'])"
   ]
  },
  {
   "cell_type": "code",
   "execution_count": null,
   "metadata": {},
   "outputs": [],
   "source": [
    "print_cv_scores(xgb_pipe, df_train_clean['tokenized'], df_train_clean['target'])"
   ]
  },
  {
   "cell_type": "code",
   "execution_count": null,
   "metadata": {},
   "outputs": [],
   "source": [
    "plot_confusion_matrix(xgb_pipe, \n",
    "                      df_train_clean['tokenized'], \n",
    "                      df_train_clean['target'], \n",
    "                      normalize='pred');"
   ]
  },
  {
   "cell_type": "code",
   "execution_count": 46,
   "metadata": {},
   "outputs": [],
   "source": [
    "xgb_gs_pipe = imbpipe(steps=[('tfidf', TfidfVectorizer(stop_words=sw, \n",
    "                                                       token_pattern=r'(?u)\\b[A-Za-z]+\\b')),\n",
    "                              ('sm', SMOTE(random_state=42)),\n",
    "                              ('xgb', XGBClassifier(random_state=42,\n",
    "                                                   n_jobs = -1,\n",
    "                                                   max_depth=6,\n",
    "                                                   tree_method= 'hist'))])"
   ]
  },
  {
   "cell_type": "code",
   "execution_count": 47,
   "metadata": {},
   "outputs": [],
   "source": [
    "param_grid = [{'tfidf__max_features': [5000, None],\n",
    "               'tfidf__ngram_range': [(1, 1), (1, 2), (2, 2)]}]\n",
    "\n",
    "gs_pipe = GridSearchCV(estimator=xgb_gs_pipe, \n",
    "                       param_grid=param_grid, \n",
    "                       verbose=2, \n",
    "                       scoring='precision_macro')"
   ]
  },
  {
   "cell_type": "code",
   "execution_count": 107,
   "metadata": {},
   "outputs": [
    {
     "name": "stdout",
     "output_type": "stream",
     "text": [
      "Fitting 5 folds for each of 6 candidates, totalling 30 fits\n",
      "[CV] END tfidf__max_features=5000, tfidf__ngram_range=(1, 1); total time=  10.4s\n",
      "[CV] END tfidf__max_features=5000, tfidf__ngram_range=(1, 1); total time=  10.3s\n",
      "[CV] END tfidf__max_features=5000, tfidf__ngram_range=(1, 1); total time=  10.3s\n",
      "[CV] END tfidf__max_features=5000, tfidf__ngram_range=(1, 1); total time=  10.2s\n",
      "[CV] END tfidf__max_features=5000, tfidf__ngram_range=(1, 1); total time=  10.3s\n",
      "[CV] END tfidf__max_features=5000, tfidf__ngram_range=(1, 2); total time=  14.2s\n",
      "[CV] END tfidf__max_features=5000, tfidf__ngram_range=(1, 2); total time=  14.4s\n",
      "[CV] END tfidf__max_features=5000, tfidf__ngram_range=(1, 2); total time=  14.2s\n",
      "[CV] END tfidf__max_features=5000, tfidf__ngram_range=(1, 2); total time=  14.1s\n",
      "[CV] END tfidf__max_features=5000, tfidf__ngram_range=(1, 2); total time=  13.8s\n",
      "[CV] END tfidf__max_features=5000, tfidf__ngram_range=(2, 2); total time=   5.0s\n",
      "[CV] END tfidf__max_features=5000, tfidf__ngram_range=(2, 2); total time=   5.0s\n",
      "[CV] END tfidf__max_features=5000, tfidf__ngram_range=(2, 2); total time=   5.0s\n",
      "[CV] END tfidf__max_features=5000, tfidf__ngram_range=(2, 2); total time=   4.9s\n",
      "[CV] END tfidf__max_features=5000, tfidf__ngram_range=(2, 2); total time=   4.9s\n",
      "[CV] END tfidf__max_features=None, tfidf__ngram_range=(1, 1); total time=  11.7s\n",
      "[CV] END tfidf__max_features=None, tfidf__ngram_range=(1, 1); total time=  11.7s\n",
      "[CV] END tfidf__max_features=None, tfidf__ngram_range=(1, 1); total time=  11.3s\n",
      "[CV] END tfidf__max_features=None, tfidf__ngram_range=(1, 1); total time=  11.4s\n",
      "[CV] END tfidf__max_features=None, tfidf__ngram_range=(1, 1); total time=  11.3s\n",
      "[CV] END tfidf__max_features=None, tfidf__ngram_range=(1, 2); total time=  31.9s\n",
      "[CV] END tfidf__max_features=None, tfidf__ngram_range=(1, 2); total time=  32.5s\n",
      "[CV] END tfidf__max_features=None, tfidf__ngram_range=(1, 2); total time=  31.7s\n",
      "[CV] END tfidf__max_features=None, tfidf__ngram_range=(1, 2); total time=  31.5s\n",
      "[CV] END tfidf__max_features=None, tfidf__ngram_range=(1, 2); total time=  31.1s\n",
      "[CV] END tfidf__max_features=None, tfidf__ngram_range=(2, 2); total time=  16.3s\n",
      "[CV] END tfidf__max_features=None, tfidf__ngram_range=(2, 2); total time=  16.8s\n",
      "[CV] END tfidf__max_features=None, tfidf__ngram_range=(2, 2); total time=  16.2s\n",
      "[CV] END tfidf__max_features=None, tfidf__ngram_range=(2, 2); total time=  16.6s\n",
      "[CV] END tfidf__max_features=None, tfidf__ngram_range=(2, 2); total time=  15.8s\n"
     ]
    },
    {
     "data": {
      "text/plain": [
       "GridSearchCV(estimator=Pipeline(steps=[('tfidf',\n",
       "                                        TfidfVectorizer(stop_words=['i', 'me',\n",
       "                                                                    'my',\n",
       "                                                                    'myself',\n",
       "                                                                    'we', 'our',\n",
       "                                                                    'ours',\n",
       "                                                                    'ourselves',\n",
       "                                                                    'you',\n",
       "                                                                    \"you're\",\n",
       "                                                                    \"you've\",\n",
       "                                                                    \"you'll\",\n",
       "                                                                    \"you'd\",\n",
       "                                                                    'your',\n",
       "                                                                    'yours',\n",
       "                                                                    'yourself',\n",
       "                                                                    'yourselves',\n",
       "                                                                    'he', 'him',\n",
       "                                                                    'his',\n",
       "                                                                    'himself',\n",
       "                                                                    'she',\n",
       "                                                                    \"she's\",\n",
       "                                                                    'her',\n",
       "                                                                    'hers',\n",
       "                                                                    'herself',\n",
       "                                                                    'it',\n",
       "                                                                    \"it's\",\n",
       "                                                                    'its',\n",
       "                                                                    'itself', ...],\n",
       "                                                        token_pattern='(?u)\\\\b[A-Za-z]+\\\\b')),\n",
       "                                       ('sm', S...\n",
       "                                                      missing=nan,\n",
       "                                                      monotone_constraints=None,\n",
       "                                                      n_estimators=100,\n",
       "                                                      n_jobs=-1,\n",
       "                                                      num_parallel_tree=None,\n",
       "                                                      random_state=42,\n",
       "                                                      reg_alpha=None,\n",
       "                                                      reg_lambda=None,\n",
       "                                                      scale_pos_weight=None,\n",
       "                                                      subsample=None,\n",
       "                                                      tree_method='hist',\n",
       "                                                      validate_parameters=None,\n",
       "                                                      verbosity=None))]),\n",
       "             param_grid=[{'tfidf__max_features': [5000, None],\n",
       "                          'tfidf__ngram_range': [(1, 1), (1, 2), (2, 2)]}],\n",
       "             scoring='precision_macro', verbose=2)"
      ]
     },
     "execution_count": 107,
     "metadata": {},
     "output_type": "execute_result"
    }
   ],
   "source": [
    "gs_pipe.fit(df_train_clean['text'], df_train_clean['target'])"
   ]
  },
  {
   "cell_type": "code",
   "execution_count": 109,
   "metadata": {
    "scrolled": true
   },
   "outputs": [
    {
     "data": {
      "text/html": [
       "<div>\n",
       "<style scoped>\n",
       "    .dataframe tbody tr th:only-of-type {\n",
       "        vertical-align: middle;\n",
       "    }\n",
       "\n",
       "    .dataframe tbody tr th {\n",
       "        vertical-align: top;\n",
       "    }\n",
       "\n",
       "    .dataframe thead th {\n",
       "        text-align: right;\n",
       "    }\n",
       "</style>\n",
       "<table border=\"1\" class=\"dataframe\">\n",
       "  <thead>\n",
       "    <tr style=\"text-align: right;\">\n",
       "      <th></th>\n",
       "      <th>mean_fit_time</th>\n",
       "      <th>std_fit_time</th>\n",
       "      <th>mean_score_time</th>\n",
       "      <th>std_score_time</th>\n",
       "      <th>param_tfidf__max_features</th>\n",
       "      <th>param_tfidf__ngram_range</th>\n",
       "      <th>params</th>\n",
       "      <th>split0_test_score</th>\n",
       "      <th>split1_test_score</th>\n",
       "      <th>split2_test_score</th>\n",
       "      <th>split3_test_score</th>\n",
       "      <th>split4_test_score</th>\n",
       "      <th>mean_test_score</th>\n",
       "      <th>std_test_score</th>\n",
       "      <th>rank_test_score</th>\n",
       "    </tr>\n",
       "  </thead>\n",
       "  <tbody>\n",
       "    <tr>\n",
       "      <th>0</th>\n",
       "      <td>10.256396</td>\n",
       "      <td>0.079050</td>\n",
       "      <td>0.029903</td>\n",
       "      <td>0.000230</td>\n",
       "      <td>5000</td>\n",
       "      <td>(1, 1)</td>\n",
       "      <td>{'tfidf__max_features': 5000, 'tfidf__ngram_ra...</td>\n",
       "      <td>0.607171</td>\n",
       "      <td>0.570861</td>\n",
       "      <td>0.591048</td>\n",
       "      <td>0.614592</td>\n",
       "      <td>0.529008</td>\n",
       "      <td>0.582536</td>\n",
       "      <td>0.030687</td>\n",
       "      <td>3</td>\n",
       "    </tr>\n",
       "    <tr>\n",
       "      <th>1</th>\n",
       "      <td>14.087179</td>\n",
       "      <td>0.176503</td>\n",
       "      <td>0.040029</td>\n",
       "      <td>0.000235</td>\n",
       "      <td>5000</td>\n",
       "      <td>(1, 2)</td>\n",
       "      <td>{'tfidf__max_features': 5000, 'tfidf__ngram_ra...</td>\n",
       "      <td>0.535832</td>\n",
       "      <td>0.584601</td>\n",
       "      <td>0.573057</td>\n",
       "      <td>0.623085</td>\n",
       "      <td>0.531591</td>\n",
       "      <td>0.569633</td>\n",
       "      <td>0.033712</td>\n",
       "      <td>4</td>\n",
       "    </tr>\n",
       "    <tr>\n",
       "      <th>2</th>\n",
       "      <td>4.915064</td>\n",
       "      <td>0.047946</td>\n",
       "      <td>0.030069</td>\n",
       "      <td>0.000142</td>\n",
       "      <td>5000</td>\n",
       "      <td>(2, 2)</td>\n",
       "      <td>{'tfidf__max_features': 5000, 'tfidf__ngram_ra...</td>\n",
       "      <td>0.471193</td>\n",
       "      <td>0.494502</td>\n",
       "      <td>0.468016</td>\n",
       "      <td>0.491837</td>\n",
       "      <td>0.465145</td>\n",
       "      <td>0.478139</td>\n",
       "      <td>0.012449</td>\n",
       "      <td>6</td>\n",
       "    </tr>\n",
       "    <tr>\n",
       "      <th>3</th>\n",
       "      <td>11.468010</td>\n",
       "      <td>0.155647</td>\n",
       "      <td>0.029715</td>\n",
       "      <td>0.000118</td>\n",
       "      <td>None</td>\n",
       "      <td>(1, 1)</td>\n",
       "      <td>{'tfidf__max_features': None, 'tfidf__ngram_ra...</td>\n",
       "      <td>0.625864</td>\n",
       "      <td>0.580207</td>\n",
       "      <td>0.586743</td>\n",
       "      <td>0.642704</td>\n",
       "      <td>0.561428</td>\n",
       "      <td>0.599389</td>\n",
       "      <td>0.030153</td>\n",
       "      <td>2</td>\n",
       "    </tr>\n",
       "    <tr>\n",
       "      <th>4</th>\n",
       "      <td>31.692422</td>\n",
       "      <td>0.462318</td>\n",
       "      <td>0.048071</td>\n",
       "      <td>0.000916</td>\n",
       "      <td>None</td>\n",
       "      <td>(1, 2)</td>\n",
       "      <td>{'tfidf__max_features': None, 'tfidf__ngram_ra...</td>\n",
       "      <td>0.640050</td>\n",
       "      <td>0.597764</td>\n",
       "      <td>0.609489</td>\n",
       "      <td>0.692304</td>\n",
       "      <td>0.556106</td>\n",
       "      <td>0.619143</td>\n",
       "      <td>0.045417</td>\n",
       "      <td>1</td>\n",
       "    </tr>\n",
       "    <tr>\n",
       "      <th>5</th>\n",
       "      <td>16.301852</td>\n",
       "      <td>0.323872</td>\n",
       "      <td>0.036296</td>\n",
       "      <td>0.000367</td>\n",
       "      <td>None</td>\n",
       "      <td>(2, 2)</td>\n",
       "      <td>{'tfidf__max_features': None, 'tfidf__ngram_ra...</td>\n",
       "      <td>0.596491</td>\n",
       "      <td>0.570866</td>\n",
       "      <td>0.552581</td>\n",
       "      <td>0.618080</td>\n",
       "      <td>0.506935</td>\n",
       "      <td>0.568991</td>\n",
       "      <td>0.038183</td>\n",
       "      <td>5</td>\n",
       "    </tr>\n",
       "  </tbody>\n",
       "</table>\n",
       "</div>"
      ],
      "text/plain": [
       "   mean_fit_time  std_fit_time  mean_score_time  std_score_time  \\\n",
       "0      10.256396      0.079050         0.029903        0.000230   \n",
       "1      14.087179      0.176503         0.040029        0.000235   \n",
       "2       4.915064      0.047946         0.030069        0.000142   \n",
       "3      11.468010      0.155647         0.029715        0.000118   \n",
       "4      31.692422      0.462318         0.048071        0.000916   \n",
       "5      16.301852      0.323872         0.036296        0.000367   \n",
       "\n",
       "  param_tfidf__max_features param_tfidf__ngram_range  \\\n",
       "0                      5000                   (1, 1)   \n",
       "1                      5000                   (1, 2)   \n",
       "2                      5000                   (2, 2)   \n",
       "3                      None                   (1, 1)   \n",
       "4                      None                   (1, 2)   \n",
       "5                      None                   (2, 2)   \n",
       "\n",
       "                                              params  split0_test_score  \\\n",
       "0  {'tfidf__max_features': 5000, 'tfidf__ngram_ra...           0.607171   \n",
       "1  {'tfidf__max_features': 5000, 'tfidf__ngram_ra...           0.535832   \n",
       "2  {'tfidf__max_features': 5000, 'tfidf__ngram_ra...           0.471193   \n",
       "3  {'tfidf__max_features': None, 'tfidf__ngram_ra...           0.625864   \n",
       "4  {'tfidf__max_features': None, 'tfidf__ngram_ra...           0.640050   \n",
       "5  {'tfidf__max_features': None, 'tfidf__ngram_ra...           0.596491   \n",
       "\n",
       "   split1_test_score  split2_test_score  split3_test_score  split4_test_score  \\\n",
       "0           0.570861           0.591048           0.614592           0.529008   \n",
       "1           0.584601           0.573057           0.623085           0.531591   \n",
       "2           0.494502           0.468016           0.491837           0.465145   \n",
       "3           0.580207           0.586743           0.642704           0.561428   \n",
       "4           0.597764           0.609489           0.692304           0.556106   \n",
       "5           0.570866           0.552581           0.618080           0.506935   \n",
       "\n",
       "   mean_test_score  std_test_score  rank_test_score  \n",
       "0         0.582536        0.030687                3  \n",
       "1         0.569633        0.033712                4  \n",
       "2         0.478139        0.012449                6  \n",
       "3         0.599389        0.030153                2  \n",
       "4         0.619143        0.045417                1  \n",
       "5         0.568991        0.038183                5  "
      ]
     },
     "execution_count": 109,
     "metadata": {},
     "output_type": "execute_result"
    }
   ],
   "source": [
    "pd.DataFrame(gs_pipe.cv_results_)"
   ]
  },
  {
   "cell_type": "code",
   "execution_count": 110,
   "metadata": {},
   "outputs": [
    {
     "data": {
      "text/plain": [
       "0.6191427132695128"
      ]
     },
     "execution_count": 110,
     "metadata": {},
     "output_type": "execute_result"
    }
   ],
   "source": [
    "gs_pipe.best_score_"
   ]
  },
  {
   "cell_type": "code",
   "execution_count": 191,
   "metadata": {
    "scrolled": true
   },
   "outputs": [
    {
     "name": "stdout",
     "output_type": "stream",
     "text": [
      "('aapl', 7.610546489643824)\n",
      "('aapl already', 9.114623886420098)\n",
      "('aapl knows', 9.114623886420098)\n",
      "('aapl link', 9.114623886420098)\n",
      "('aapl open', 9.114623886420098)\n"
     ]
    },
    {
     "data": {
      "text/plain": [
       "[None, None, None, None, None]"
      ]
     },
     "execution_count": 191,
     "metadata": {},
     "output_type": "execute_result"
    }
   ],
   "source": [
    "idf_values = dict(zip(gs_pipe.best_estimator_[0].get_feature_names(), gs_pipe.best_estimator_[0].idf_))\n",
    "[print(v) for i, v in enumerate(idf_values.items()) if i < 5]"
   ]
  },
  {
   "cell_type": "code",
   "execution_count": 112,
   "metadata": {},
   "outputs": [
    {
     "data": {
      "text/plain": [
       "9.114623886420098"
      ]
     },
     "execution_count": 112,
     "metadata": {},
     "output_type": "execute_result"
    }
   ],
   "source": [
    "max(gs_pipe.best_estimator_[0].idf_)"
   ]
  },
  {
   "cell_type": "code",
   "execution_count": 57,
   "metadata": {},
   "outputs": [],
   "source": [
    "rf_SVD_pipe = Pipeline([('tfidf', TfidfVectorizer(stop_words=sw)),\n",
    "                          ('svd', TruncatedSVD(n_components=30,\n",
    "                                               random_state=42)),\n",
    "                          ('rf', RandomForestClassifier(max_depth=12,\n",
    "                                                        class_weight='balanced',\n",
    "                                                        random_state=42))\n",
    "])"
   ]
  },
  {
   "cell_type": "code",
   "execution_count": 55,
   "metadata": {
    "scrolled": true
   },
   "outputs": [
    {
     "name": "stdout",
     "output_type": "stream",
     "text": [
      "[0.94596111 0.95381451 0.94839192 0.94932685 0.94970082]\n",
      "Training Accuracy 0.9494390426327598\n",
      "##############\n",
      "[0.59311892 0.59685864 0.62976814 0.63724757 0.59237098]\n",
      "Cross_Val Accuracy 0.6098728496634256\n",
      "##############\n",
      "Training Macro Precision: 0.8706077835003704\n",
      "Cross_Val Macro Precision: 0.469670593090141\n",
      "##############\n",
      "Training Macro Recall: 0.9648250223260119\n",
      "Cross_Val Macro Recall: 0.46365009368686644\n",
      "##############\n",
      "Training Macro F1: 0.9056831329137518\n",
      "Cross_Val Macro F1: 0.463640255382877\n"
     ]
    }
   ],
   "source": [
    "print_cv_scores(rf_SVD_pipe, df_train_clean['text'], df_train_clean['target'])"
   ]
  },
  {
   "cell_type": "code",
   "execution_count": 63,
   "metadata": {},
   "outputs": [],
   "source": [
    "param_grid = [{'svd__n_components': [100, 500, 1000],\n",
    "               'rf__max_depth': [5, 10, 15]}]\n",
    "\n",
    "gs_pipe = GridSearchCV(estimator=rf_SVD_pipe, \n",
    "                       param_grid=param_grid, \n",
    "                       verbose=2, \n",
    "                       scoring='precision_macro',\n",
    "                       return_train_score=True)"
   ]
  },
  {
   "cell_type": "code",
   "execution_count": 64,
   "metadata": {},
   "outputs": [
    {
     "name": "stdout",
     "output_type": "stream",
     "text": [
      "Fitting 5 folds for each of 9 candidates, totalling 45 fits\n",
      "[CV] END .............rf__max_depth=5, svd__n_components=100; total time=   1.9s\n",
      "[CV] END .............rf__max_depth=5, svd__n_components=100; total time=   1.8s\n",
      "[CV] END .............rf__max_depth=5, svd__n_components=100; total time=   1.8s\n",
      "[CV] END .............rf__max_depth=5, svd__n_components=100; total time=   1.8s\n",
      "[CV] END .............rf__max_depth=5, svd__n_components=100; total time=   1.8s\n",
      "[CV] END .............rf__max_depth=5, svd__n_components=500; total time=   6.2s\n",
      "[CV] END .............rf__max_depth=5, svd__n_components=500; total time=   6.2s\n",
      "[CV] END .............rf__max_depth=5, svd__n_components=500; total time=   6.2s\n",
      "[CV] END .............rf__max_depth=5, svd__n_components=500; total time=   6.2s\n",
      "[CV] END .............rf__max_depth=5, svd__n_components=500; total time=   6.3s\n",
      "[CV] END ............rf__max_depth=5, svd__n_components=1000; total time=  14.8s\n",
      "[CV] END ............rf__max_depth=5, svd__n_components=1000; total time=  14.8s\n",
      "[CV] END ............rf__max_depth=5, svd__n_components=1000; total time=  14.7s\n",
      "[CV] END ............rf__max_depth=5, svd__n_components=1000; total time=  14.7s\n",
      "[CV] END ............rf__max_depth=5, svd__n_components=1000; total time=  14.7s\n",
      "[CV] END ............rf__max_depth=10, svd__n_components=100; total time=   2.8s\n",
      "[CV] END ............rf__max_depth=10, svd__n_components=100; total time=   2.8s\n",
      "[CV] END ............rf__max_depth=10, svd__n_components=100; total time=   2.8s\n",
      "[CV] END ............rf__max_depth=10, svd__n_components=100; total time=   2.8s\n",
      "[CV] END ............rf__max_depth=10, svd__n_components=100; total time=   2.8s\n",
      "[CV] END ............rf__max_depth=10, svd__n_components=500; total time=   8.6s\n",
      "[CV] END ............rf__max_depth=10, svd__n_components=500; total time=   8.6s\n",
      "[CV] END ............rf__max_depth=10, svd__n_components=500; total time=   8.7s\n",
      "[CV] END ............rf__max_depth=10, svd__n_components=500; total time=   8.4s\n",
      "[CV] END ............rf__max_depth=10, svd__n_components=500; total time=   8.4s\n",
      "[CV] END ...........rf__max_depth=10, svd__n_components=1000; total time=  17.6s\n",
      "[CV] END ...........rf__max_depth=10, svd__n_components=1000; total time=  17.7s\n",
      "[CV] END ...........rf__max_depth=10, svd__n_components=1000; total time=  17.7s\n",
      "[CV] END ...........rf__max_depth=10, svd__n_components=1000; total time=  17.8s\n",
      "[CV] END ...........rf__max_depth=10, svd__n_components=1000; total time=  17.7s\n",
      "[CV] END ............rf__max_depth=15, svd__n_components=100; total time=   3.3s\n",
      "[CV] END ............rf__max_depth=15, svd__n_components=100; total time=   3.3s\n",
      "[CV] END ............rf__max_depth=15, svd__n_components=100; total time=   3.4s\n",
      "[CV] END ............rf__max_depth=15, svd__n_components=100; total time=   3.3s\n",
      "[CV] END ............rf__max_depth=15, svd__n_components=100; total time=   3.3s\n",
      "[CV] END ............rf__max_depth=15, svd__n_components=500; total time=   9.7s\n",
      "[CV] END ............rf__max_depth=15, svd__n_components=500; total time=   9.7s\n",
      "[CV] END ............rf__max_depth=15, svd__n_components=500; total time=   9.9s\n",
      "[CV] END ............rf__max_depth=15, svd__n_components=500; total time=   9.7s\n",
      "[CV] END ............rf__max_depth=15, svd__n_components=500; total time=   9.7s\n",
      "[CV] END ...........rf__max_depth=15, svd__n_components=1000; total time=  19.6s\n",
      "[CV] END ...........rf__max_depth=15, svd__n_components=1000; total time=  19.6s\n",
      "[CV] END ...........rf__max_depth=15, svd__n_components=1000; total time=  19.6s\n",
      "[CV] END ...........rf__max_depth=15, svd__n_components=1000; total time=  19.7s\n",
      "[CV] END ...........rf__max_depth=15, svd__n_components=1000; total time=  19.5s\n"
     ]
    },
    {
     "data": {
      "text/plain": [
       "GridSearchCV(estimator=Pipeline(steps=[('tfidf',\n",
       "                                        TfidfVectorizer(stop_words=['i', 'me',\n",
       "                                                                    'my',\n",
       "                                                                    'myself',\n",
       "                                                                    'we', 'our',\n",
       "                                                                    'ours',\n",
       "                                                                    'ourselves',\n",
       "                                                                    'you',\n",
       "                                                                    \"you're\",\n",
       "                                                                    \"you've\",\n",
       "                                                                    \"you'll\",\n",
       "                                                                    \"you'd\",\n",
       "                                                                    'your',\n",
       "                                                                    'yours',\n",
       "                                                                    'yourself',\n",
       "                                                                    'yourselves',\n",
       "                                                                    'he', 'him',\n",
       "                                                                    'his',\n",
       "                                                                    'himself',\n",
       "                                                                    'she',\n",
       "                                                                    \"she's\",\n",
       "                                                                    'her',\n",
       "                                                                    'hers',\n",
       "                                                                    'herself',\n",
       "                                                                    'it',\n",
       "                                                                    \"it's\",\n",
       "                                                                    'its',\n",
       "                                                                    'itself', ...])),\n",
       "                                       ('svd',\n",
       "                                        TruncatedSVD(n_components=30,\n",
       "                                                     random_state=42)),\n",
       "                                       ('rf',\n",
       "                                        RandomForestClassifier(class_weight='balanced',\n",
       "                                                               max_depth=12,\n",
       "                                                               random_state=42))]),\n",
       "             param_grid=[{'rf__max_depth': [5, 10, 15],\n",
       "                          'svd__n_components': [100, 500, 1000]}],\n",
       "             return_train_score=True, scoring='precision_macro', verbose=2)"
      ]
     },
     "execution_count": 64,
     "metadata": {},
     "output_type": "execute_result"
    }
   ],
   "source": [
    "gs_pipe.fit(df_train_clean['text'], df_train_clean['target'])"
   ]
  },
  {
   "cell_type": "code",
   "execution_count": 65,
   "metadata": {},
   "outputs": [
    {
     "data": {
      "text/html": [
       "<div>\n",
       "<style scoped>\n",
       "    .dataframe tbody tr th:only-of-type {\n",
       "        vertical-align: middle;\n",
       "    }\n",
       "\n",
       "    .dataframe tbody tr th {\n",
       "        vertical-align: top;\n",
       "    }\n",
       "\n",
       "    .dataframe thead th {\n",
       "        text-align: right;\n",
       "    }\n",
       "</style>\n",
       "<table border=\"1\" class=\"dataframe\">\n",
       "  <thead>\n",
       "    <tr style=\"text-align: right;\">\n",
       "      <th></th>\n",
       "      <th>mean_fit_time</th>\n",
       "      <th>std_fit_time</th>\n",
       "      <th>mean_score_time</th>\n",
       "      <th>std_score_time</th>\n",
       "      <th>param_rf__max_depth</th>\n",
       "      <th>param_svd__n_components</th>\n",
       "      <th>params</th>\n",
       "      <th>split0_test_score</th>\n",
       "      <th>split1_test_score</th>\n",
       "      <th>split2_test_score</th>\n",
       "      <th>...</th>\n",
       "      <th>mean_test_score</th>\n",
       "      <th>std_test_score</th>\n",
       "      <th>rank_test_score</th>\n",
       "      <th>split0_train_score</th>\n",
       "      <th>split1_train_score</th>\n",
       "      <th>split2_train_score</th>\n",
       "      <th>split3_train_score</th>\n",
       "      <th>split4_train_score</th>\n",
       "      <th>mean_train_score</th>\n",
       "      <th>std_train_score</th>\n",
       "    </tr>\n",
       "  </thead>\n",
       "  <tbody>\n",
       "    <tr>\n",
       "      <th>0</th>\n",
       "      <td>1.787059</td>\n",
       "      <td>0.039303</td>\n",
       "      <td>0.027843</td>\n",
       "      <td>0.000619</td>\n",
       "      <td>5</td>\n",
       "      <td>100</td>\n",
       "      <td>{'rf__max_depth': 5, 'svd__n_components': 100}</td>\n",
       "      <td>0.451629</td>\n",
       "      <td>0.468082</td>\n",
       "      <td>0.473999</td>\n",
       "      <td>...</td>\n",
       "      <td>0.462382</td>\n",
       "      <td>0.013318</td>\n",
       "      <td>9</td>\n",
       "      <td>0.587005</td>\n",
       "      <td>0.567776</td>\n",
       "      <td>0.580988</td>\n",
       "      <td>0.577023</td>\n",
       "      <td>0.587144</td>\n",
       "      <td>0.579987</td>\n",
       "      <td>0.007202</td>\n",
       "    </tr>\n",
       "    <tr>\n",
       "      <th>1</th>\n",
       "      <td>6.195171</td>\n",
       "      <td>0.023649</td>\n",
       "      <td>0.031676</td>\n",
       "      <td>0.000268</td>\n",
       "      <td>5</td>\n",
       "      <td>500</td>\n",
       "      <td>{'rf__max_depth': 5, 'svd__n_components': 500}</td>\n",
       "      <td>0.453384</td>\n",
       "      <td>0.473198</td>\n",
       "      <td>0.468341</td>\n",
       "      <td>...</td>\n",
       "      <td>0.470450</td>\n",
       "      <td>0.018959</td>\n",
       "      <td>8</td>\n",
       "      <td>0.662584</td>\n",
       "      <td>0.634029</td>\n",
       "      <td>0.656479</td>\n",
       "      <td>0.638764</td>\n",
       "      <td>0.678713</td>\n",
       "      <td>0.654114</td>\n",
       "      <td>0.016257</td>\n",
       "    </tr>\n",
       "    <tr>\n",
       "      <th>2</th>\n",
       "      <td>14.696884</td>\n",
       "      <td>0.049193</td>\n",
       "      <td>0.036631</td>\n",
       "      <td>0.000156</td>\n",
       "      <td>5</td>\n",
       "      <td>1000</td>\n",
       "      <td>{'rf__max_depth': 5, 'svd__n_components': 1000}</td>\n",
       "      <td>0.481138</td>\n",
       "      <td>0.484475</td>\n",
       "      <td>0.481824</td>\n",
       "      <td>...</td>\n",
       "      <td>0.484245</td>\n",
       "      <td>0.011723</td>\n",
       "      <td>7</td>\n",
       "      <td>0.761865</td>\n",
       "      <td>0.699525</td>\n",
       "      <td>0.758547</td>\n",
       "      <td>0.745546</td>\n",
       "      <td>0.785676</td>\n",
       "      <td>0.750232</td>\n",
       "      <td>0.028474</td>\n",
       "    </tr>\n",
       "    <tr>\n",
       "      <th>3</th>\n",
       "      <td>2.794363</td>\n",
       "      <td>0.013056</td>\n",
       "      <td>0.032406</td>\n",
       "      <td>0.000247</td>\n",
       "      <td>10</td>\n",
       "      <td>100</td>\n",
       "      <td>{'rf__max_depth': 10, 'svd__n_components': 100}</td>\n",
       "      <td>0.468117</td>\n",
       "      <td>0.482099</td>\n",
       "      <td>0.507326</td>\n",
       "      <td>...</td>\n",
       "      <td>0.484962</td>\n",
       "      <td>0.019515</td>\n",
       "      <td>6</td>\n",
       "      <td>0.827751</td>\n",
       "      <td>0.835881</td>\n",
       "      <td>0.827858</td>\n",
       "      <td>0.833400</td>\n",
       "      <td>0.869052</td>\n",
       "      <td>0.838788</td>\n",
       "      <td>0.015458</td>\n",
       "    </tr>\n",
       "    <tr>\n",
       "      <th>4</th>\n",
       "      <td>8.480714</td>\n",
       "      <td>0.115817</td>\n",
       "      <td>0.036625</td>\n",
       "      <td>0.000510</td>\n",
       "      <td>10</td>\n",
       "      <td>500</td>\n",
       "      <td>{'rf__max_depth': 10, 'svd__n_components': 500}</td>\n",
       "      <td>0.602361</td>\n",
       "      <td>0.595001</td>\n",
       "      <td>0.628228</td>\n",
       "      <td>...</td>\n",
       "      <td>0.606348</td>\n",
       "      <td>0.037657</td>\n",
       "      <td>4</td>\n",
       "      <td>0.983659</td>\n",
       "      <td>0.975650</td>\n",
       "      <td>0.984790</td>\n",
       "      <td>0.983291</td>\n",
       "      <td>0.984994</td>\n",
       "      <td>0.982477</td>\n",
       "      <td>0.003474</td>\n",
       "    </tr>\n",
       "    <tr>\n",
       "      <th>5</th>\n",
       "      <td>17.635099</td>\n",
       "      <td>0.066001</td>\n",
       "      <td>0.040234</td>\n",
       "      <td>0.000213</td>\n",
       "      <td>10</td>\n",
       "      <td>1000</td>\n",
       "      <td>{'rf__max_depth': 10, 'svd__n_components': 1000}</td>\n",
       "      <td>0.622484</td>\n",
       "      <td>0.642204</td>\n",
       "      <td>0.614015</td>\n",
       "      <td>...</td>\n",
       "      <td>0.651529</td>\n",
       "      <td>0.042376</td>\n",
       "      <td>3</td>\n",
       "      <td>0.989271</td>\n",
       "      <td>0.989608</td>\n",
       "      <td>0.990364</td>\n",
       "      <td>0.989204</td>\n",
       "      <td>0.989304</td>\n",
       "      <td>0.989550</td>\n",
       "      <td>0.000430</td>\n",
       "    </tr>\n",
       "    <tr>\n",
       "      <th>6</th>\n",
       "      <td>3.283544</td>\n",
       "      <td>0.032982</td>\n",
       "      <td>0.035952</td>\n",
       "      <td>0.000220</td>\n",
       "      <td>15</td>\n",
       "      <td>100</td>\n",
       "      <td>{'rf__max_depth': 15, 'svd__n_components': 100}</td>\n",
       "      <td>0.516187</td>\n",
       "      <td>0.534408</td>\n",
       "      <td>0.536103</td>\n",
       "      <td>...</td>\n",
       "      <td>0.558015</td>\n",
       "      <td>0.049176</td>\n",
       "      <td>5</td>\n",
       "      <td>0.979271</td>\n",
       "      <td>0.987188</td>\n",
       "      <td>0.982832</td>\n",
       "      <td>0.988042</td>\n",
       "      <td>0.990974</td>\n",
       "      <td>0.985661</td>\n",
       "      <td>0.004124</td>\n",
       "    </tr>\n",
       "    <tr>\n",
       "      <th>7</th>\n",
       "      <td>9.692638</td>\n",
       "      <td>0.066331</td>\n",
       "      <td>0.041285</td>\n",
       "      <td>0.001855</td>\n",
       "      <td>15</td>\n",
       "      <td>500</td>\n",
       "      <td>{'rf__max_depth': 15, 'svd__n_components': 500}</td>\n",
       "      <td>0.651235</td>\n",
       "      <td>0.638065</td>\n",
       "      <td>0.670096</td>\n",
       "      <td>...</td>\n",
       "      <td>0.672095</td>\n",
       "      <td>0.039197</td>\n",
       "      <td>1</td>\n",
       "      <td>0.995911</td>\n",
       "      <td>0.996722</td>\n",
       "      <td>0.996913</td>\n",
       "      <td>0.996805</td>\n",
       "      <td>0.995507</td>\n",
       "      <td>0.996372</td>\n",
       "      <td>0.000559</td>\n",
       "    </tr>\n",
       "    <tr>\n",
       "      <th>8</th>\n",
       "      <td>19.555878</td>\n",
       "      <td>0.078367</td>\n",
       "      <td>0.045110</td>\n",
       "      <td>0.000807</td>\n",
       "      <td>15</td>\n",
       "      <td>1000</td>\n",
       "      <td>{'rf__max_depth': 15, 'svd__n_components': 1000}</td>\n",
       "      <td>0.622469</td>\n",
       "      <td>0.680738</td>\n",
       "      <td>0.637233</td>\n",
       "      <td>...</td>\n",
       "      <td>0.661688</td>\n",
       "      <td>0.038014</td>\n",
       "      <td>2</td>\n",
       "      <td>0.995869</td>\n",
       "      <td>0.997016</td>\n",
       "      <td>0.996572</td>\n",
       "      <td>0.996708</td>\n",
       "      <td>0.996099</td>\n",
       "      <td>0.996453</td>\n",
       "      <td>0.000415</td>\n",
       "    </tr>\n",
       "  </tbody>\n",
       "</table>\n",
       "<p>9 rows × 22 columns</p>\n",
       "</div>"
      ],
      "text/plain": [
       "   mean_fit_time  std_fit_time  mean_score_time  std_score_time  \\\n",
       "0       1.787059      0.039303         0.027843        0.000619   \n",
       "1       6.195171      0.023649         0.031676        0.000268   \n",
       "2      14.696884      0.049193         0.036631        0.000156   \n",
       "3       2.794363      0.013056         0.032406        0.000247   \n",
       "4       8.480714      0.115817         0.036625        0.000510   \n",
       "5      17.635099      0.066001         0.040234        0.000213   \n",
       "6       3.283544      0.032982         0.035952        0.000220   \n",
       "7       9.692638      0.066331         0.041285        0.001855   \n",
       "8      19.555878      0.078367         0.045110        0.000807   \n",
       "\n",
       "  param_rf__max_depth param_svd__n_components  \\\n",
       "0                   5                     100   \n",
       "1                   5                     500   \n",
       "2                   5                    1000   \n",
       "3                  10                     100   \n",
       "4                  10                     500   \n",
       "5                  10                    1000   \n",
       "6                  15                     100   \n",
       "7                  15                     500   \n",
       "8                  15                    1000   \n",
       "\n",
       "                                             params  split0_test_score  \\\n",
       "0    {'rf__max_depth': 5, 'svd__n_components': 100}           0.451629   \n",
       "1    {'rf__max_depth': 5, 'svd__n_components': 500}           0.453384   \n",
       "2   {'rf__max_depth': 5, 'svd__n_components': 1000}           0.481138   \n",
       "3   {'rf__max_depth': 10, 'svd__n_components': 100}           0.468117   \n",
       "4   {'rf__max_depth': 10, 'svd__n_components': 500}           0.602361   \n",
       "5  {'rf__max_depth': 10, 'svd__n_components': 1000}           0.622484   \n",
       "6   {'rf__max_depth': 15, 'svd__n_components': 100}           0.516187   \n",
       "7   {'rf__max_depth': 15, 'svd__n_components': 500}           0.651235   \n",
       "8  {'rf__max_depth': 15, 'svd__n_components': 1000}           0.622469   \n",
       "\n",
       "   split1_test_score  split2_test_score  ...  mean_test_score  std_test_score  \\\n",
       "0           0.468082           0.473999  ...         0.462382        0.013318   \n",
       "1           0.473198           0.468341  ...         0.470450        0.018959   \n",
       "2           0.484475           0.481824  ...         0.484245        0.011723   \n",
       "3           0.482099           0.507326  ...         0.484962        0.019515   \n",
       "4           0.595001           0.628228  ...         0.606348        0.037657   \n",
       "5           0.642204           0.614015  ...         0.651529        0.042376   \n",
       "6           0.534408           0.536103  ...         0.558015        0.049176   \n",
       "7           0.638065           0.670096  ...         0.672095        0.039197   \n",
       "8           0.680738           0.637233  ...         0.661688        0.038014   \n",
       "\n",
       "   rank_test_score  split0_train_score  split1_train_score  \\\n",
       "0                9            0.587005            0.567776   \n",
       "1                8            0.662584            0.634029   \n",
       "2                7            0.761865            0.699525   \n",
       "3                6            0.827751            0.835881   \n",
       "4                4            0.983659            0.975650   \n",
       "5                3            0.989271            0.989608   \n",
       "6                5            0.979271            0.987188   \n",
       "7                1            0.995911            0.996722   \n",
       "8                2            0.995869            0.997016   \n",
       "\n",
       "   split2_train_score  split3_train_score  split4_train_score  \\\n",
       "0            0.580988            0.577023            0.587144   \n",
       "1            0.656479            0.638764            0.678713   \n",
       "2            0.758547            0.745546            0.785676   \n",
       "3            0.827858            0.833400            0.869052   \n",
       "4            0.984790            0.983291            0.984994   \n",
       "5            0.990364            0.989204            0.989304   \n",
       "6            0.982832            0.988042            0.990974   \n",
       "7            0.996913            0.996805            0.995507   \n",
       "8            0.996572            0.996708            0.996099   \n",
       "\n",
       "   mean_train_score  std_train_score  \n",
       "0          0.579987         0.007202  \n",
       "1          0.654114         0.016257  \n",
       "2          0.750232         0.028474  \n",
       "3          0.838788         0.015458  \n",
       "4          0.982477         0.003474  \n",
       "5          0.989550         0.000430  \n",
       "6          0.985661         0.004124  \n",
       "7          0.996372         0.000559  \n",
       "8          0.996453         0.000415  \n",
       "\n",
       "[9 rows x 22 columns]"
      ]
     },
     "execution_count": 65,
     "metadata": {},
     "output_type": "execute_result"
    }
   ],
   "source": [
    "pd.DataFrame(gs_pipe.cv_results_)"
   ]
  },
  {
   "cell_type": "code",
   "execution_count": 66,
   "metadata": {},
   "outputs": [
    {
     "data": {
      "image/png": "[encoded data removed]",
      "text/plain": [
       "<Figure size 432x288 with 2 Axes>"
      ]
     },
     "metadata": {
      "needs_background": "light"
     },
     "output_type": "display_data"
    }
   ],
   "source": [
    "plot_confusion_matrix(gs_pipe.best_estimator_, \n",
    "                      df_train_clean['text'], \n",
    "                      df_train_clean['target'],\n",
    "                      normalize='pred');"
   ]
  },
  {
   "cell_type": "code",
   "execution_count": null,
   "metadata": {},
   "outputs": [],
   "source": []
  },
  {
   "cell_type": "markdown",
   "metadata": {},
   "source": [
    "## Word2Vec Model"
   ]
  },
  {
   "cell_type": "code",
   "execution_count": 129,
   "metadata": {},
   "outputs": [],
   "source": [
    "from gensim.models import Word2Vec\n",
    "from nltk import word_tokenize\n",
    "df_train_clean[\"new_column\"] = df_train_clean['text'].str.replace('[^\\w\\s]','')\n",
    "data = df_train_clean['new_column'].map(word_tokenize)\n",
    "\n"
   ]
  },
  {
   "cell_type": "code",
   "execution_count": 130,
   "metadata": {},
   "outputs": [
    {
     "data": {
      "text/plain": [
       "2769    [I, want, one, Its, not, a, rumor, Apple, is, ...\n",
       "2787    [AAPL, already, the, big, winner, at, sxsw, li...\n",
       "7021    [mention, Only, Googles, disavowal, of, its, p...\n",
       "715     [So, link, is, part, of, my, presentation, at,...\n",
       "4072    [iPad2, Sold, Out, 70, Went, to, New, Buyers, ...\n",
       "Name: new_column, dtype: object"
      ]
     },
     "execution_count": 130,
     "metadata": {},
     "output_type": "execute_result"
    }
   ],
   "source": [
    "data[:5]"
   ]
  },
  {
   "cell_type": "code",
   "execution_count": 131,
   "metadata": {},
   "outputs": [
    {
     "data": {
      "text/plain": [
       "(431013, 586135)"
      ]
     },
     "execution_count": 131,
     "metadata": {},
     "output_type": "execute_result"
    }
   ],
   "source": [
    "model = Word2Vec(data, size=100, window=5, min_count=1, workers=4)\n",
    "\n",
    "model.train(data, total_examples=model.corpus_count, epochs=model.epochs)"
   ]
  },
  {
   "cell_type": "code",
   "execution_count": 132,
   "metadata": {},
   "outputs": [],
   "source": [
    "wv = model.wv"
   ]
  },
  {
   "cell_type": "code",
   "execution_count": 134,
   "metadata": {},
   "outputs": [
    {
     "data": {
      "text/plain": [
       "[('shop', 0.9840596914291382),\n",
       " ('popup', 0.9822860360145569),\n",
       " ('sets', 0.9808186292648315),\n",
       " ('open', 0.9798450469970703),\n",
       " ('makeshift', 0.9779982566833496),\n",
       " ('Temp', 0.9774917364120483),\n",
       " ('quotpopupquot', 0.976834237575531),\n",
       " ('opens', 0.9750840067863464),\n",
       " ('311', 0.9743818044662476),\n",
       " ('temp', 0.9718767404556274)]"
      ]
     },
     "execution_count": 134,
     "metadata": {},
     "output_type": "execute_result"
    }
   ],
   "source": [
    "wv.most_similar('Apple')"
   ]
  },
  {
   "cell_type": "markdown",
   "metadata": {},
   "source": [
    "## EDA"
   ]
  },
  {
   "cell_type": "code",
   "execution_count": null,
   "metadata": {},
   "outputs": [],
   "source": []
  },
  {
   "cell_type": "code",
   "execution_count": 113,
   "metadata": {},
   "outputs": [],
   "source": [
    "token = RegexpTokenizer(r'[a-zA-Z0-9]+')\n",
    "cv = CountVectorizer(lowercase=True,stop_words='english',ngram_range = (1,1),tokenizer = token.tokenize)\n",
    "text_counts= cv.fit_transform(df['text'].values.astype('U'))\n",
    "total_df = pd.DataFrame(text_counts.todense(),columns = cv.get_feature_names())"
   ]
  },
  {
   "cell_type": "code",
   "execution_count": 117,
   "metadata": {},
   "outputs": [
    {
     "data": {
      "image/png": "[encoded data removed]",
      "text/plain": [
       "<Figure size 720x360 with 1 Axes>"
      ]
     },
     "metadata": {},
     "output_type": "display_data"
    }
   ],
   "source": [
    "plt.figure(figsize = (10,5))\n",
    "sns.set_style(\"darkgrid\")\n",
    "all_count_viz = sns.countplot(x=df['target'], palette='cool_r')\n",
    "all_count_viz.set_title('Emotion Identified of All Tweets',fontsize = 20)\n",
    "all_count_viz.set_xlabel('Emotions',fontsize = 15)\n",
    "all_count_viz.set_ylabel('Tweets',fontsize = 15)\n",
    "plt.show()"
   ]
  },
  {
   "cell_type": "code",
   "execution_count": 116,
   "metadata": {},
   "outputs": [
    {
     "data": {
      "image/png": "[encoded data removed]",
      "text/plain": [
       "<Figure size 720x360 with 1 Axes>"
      ]
     },
     "metadata": {},
     "output_type": "display_data"
    }
   ],
   "source": [
    "apple_products = ('iPhone', 'iPad or iPhone App', 'iPad','Apple','Other Apple product or service')\n",
    "google_products = ('Google','Android','Android App','Other Google product or service')\n",
    "def brand(x):\n",
    "    if x in apple_products:\n",
    "        return 'Apple'\n",
    "    if x in google_products:\n",
    "        return 'Google'\n",
    "    else:\n",
    "        return 'Neither'\n",
    "df['brand'] = df['emotion_in_tweet_is_directed_at'].apply(brand)\n",
    "\n",
    "# Plot resulting counts of tweet targets\n",
    "plt.figure(figsize = (10,5))\n",
    "sns.set_style(\"darkgrid\")\n",
    "brand_viz = sns.countplot(x=df['brand'], palette = 'cool_r')\n",
    "brand_viz.set_title('Number of Tweets per Company',fontsize = 20)\n",
    "brand_viz.set_xlabel('Companies',fontsize = 15)\n",
    "brand_viz.set_ylabel('Tweets',fontsize = 15)\n",
    "brand_viz.set_xticklabels(['Apple','Google', 'Undetermined'],fontsize = 13)\n",
    "plt.show()"
   ]
  },
  {
   "cell_type": "markdown",
   "metadata": {},
   "source": [
    "## Metrics"
   ]
  },
  {
   "cell_type": "code",
   "execution_count": null,
   "metadata": {},
   "outputs": [],
   "source": []
  },
  {
   "cell_type": "code",
   "execution_count": null,
   "metadata": {},
   "outputs": [],
   "source": []
  }
 ],
 "metadata": {
  "kernelspec": {
   "display_name": "Python (learn-env)",
   "language": "python",
   "name": "learn-env"
  },
  "language_info": {
   "codemirror_mode": {
    "name": "ipython",
    "version": 3
   },
   "file_extension": ".py",
   "mimetype": "text/x-python",
   "name": "python",
   "nbconvert_exporter": "python",
   "pygments_lexer": "ipython3",
   "version": "3.8.5"
  }
 },
 "nbformat": 4,
 "nbformat_minor": 4
}
