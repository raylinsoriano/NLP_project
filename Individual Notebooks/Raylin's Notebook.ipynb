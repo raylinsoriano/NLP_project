{
 "cells": [
  {
   "cell_type": "code",
   "execution_count": 177,
   "id": "56fbc258",
   "metadata": {},
   "outputs": [],
   "source": [
    "#pip install -U imbalanced-learn"
   ]
  },
  {
   "cell_type": "code",
   "execution_count": 243,
   "id": "9960fe4e",
   "metadata": {},
   "outputs": [],
   "source": [
    "import pandas as pd\n",
    "import numpy as np\n",
    "import matplotlib.pyplot as plt\n",
    "import seaborn as sns\n",
    "import imblearn\n",
    "\n",
    "import nltk\n",
    "from nltk import word_tokenize\n",
    "from nltk.probability import FreqDist\n",
    "from nltk.corpus import stopwords\n",
    "from nltk.stem import PorterStemmer, WordNetLemmatizer\n",
    "from nltk.tokenize import RegexpTokenizer, word_tokenize\n",
    "from imblearn.pipeline import Pipeline as imbpipe\n",
    "from sklearn.model_selection import GridSearchCV\n",
    "\n",
    "from sklearn.model_selection import train_test_split, cross_val_score, cross_validate\n",
    "from sklearn.feature_extraction.text import CountVectorizer, TfidfVectorizer, TfidfTransformer\n",
    "from sklearn.compose import ColumnTransformer\n",
    "from sklearn.pipeline import Pipeline\n",
    "from sklearn.preprocessing import StandardScaler, FunctionTransformer, LabelEncoder, OrdinalEncoder\n",
    "from imblearn.over_sampling import SMOTE \n",
    "from sklearn.decomposition import TruncatedSVD\n",
    "\n",
    "from sklearn.naive_bayes import MultinomialNB\n",
    "from sklearn.linear_model import LogisticRegression\n",
    "from sklearn.tree import DecisionTreeClassifier\n",
    "from sklearn.ensemble import RandomForestClassifier\n",
    "from sklearn.metrics import confusion_matrix, classification_report, accuracy_score, f1_score, plot_confusion_matrix"
   ]
  },
  {
   "cell_type": "code",
   "execution_count": 244,
   "id": "a8e3f143",
   "metadata": {},
   "outputs": [
    {
     "name": "stdout",
     "output_type": "stream",
     "text": [
      "Allison's Notebook.ipynb  Meaghan's Notebook.ipynb  Raylin's Notebook.ipynb\r\n"
     ]
    }
   ],
   "source": [
    "ls"
   ]
  },
  {
   "cell_type": "code",
   "execution_count": 245,
   "id": "ba110190",
   "metadata": {},
   "outputs": [
    {
     "name": "stdout",
     "output_type": "stream",
     "text": [
      "ls: data: No such file or directory\r\n"
     ]
    }
   ],
   "source": [
    "ls data "
   ]
  },
  {
   "cell_type": "code",
   "execution_count": 246,
   "id": "c95e8106",
   "metadata": {},
   "outputs": [],
   "source": [
    "df = pd.read_csv('/Users/raylinsoriano/Documents/Flatiron/project_4/NLP_project/data/judge_tweet_product_company.csv', encoding='latin1')"
   ]
  },
  {
   "cell_type": "code",
   "execution_count": 247,
   "id": "21dc7957",
   "metadata": {},
   "outputs": [
    {
     "data": {
      "text/html": [
       "<div>\n",
       "<style scoped>\n",
       "    .dataframe tbody tr th:only-of-type {\n",
       "        vertical-align: middle;\n",
       "    }\n",
       "\n",
       "    .dataframe tbody tr th {\n",
       "        vertical-align: top;\n",
       "    }\n",
       "\n",
       "    .dataframe thead th {\n",
       "        text-align: right;\n",
       "    }\n",
       "</style>\n",
       "<table border=\"1\" class=\"dataframe\">\n",
       "  <thead>\n",
       "    <tr style=\"text-align: right;\">\n",
       "      <th></th>\n",
       "      <th>tweet_text</th>\n",
       "      <th>emotion_in_tweet_is_directed_at</th>\n",
       "      <th>is_there_an_emotion_directed_at_a_brand_or_product</th>\n",
       "    </tr>\n",
       "  </thead>\n",
       "  <tbody>\n",
       "    <tr>\n",
       "      <th>0</th>\n",
       "      <td>.@wesley83 I have a 3G iPhone. After 3 hrs twe...</td>\n",
       "      <td>iPhone</td>\n",
       "      <td>Negative emotion</td>\n",
       "    </tr>\n",
       "    <tr>\n",
       "      <th>1</th>\n",
       "      <td>@jessedee Know about @fludapp ? Awesome iPad/i...</td>\n",
       "      <td>iPad or iPhone App</td>\n",
       "      <td>Positive emotion</td>\n",
       "    </tr>\n",
       "    <tr>\n",
       "      <th>2</th>\n",
       "      <td>@swonderlin Can not wait for #iPad 2 also. The...</td>\n",
       "      <td>iPad</td>\n",
       "      <td>Positive emotion</td>\n",
       "    </tr>\n",
       "    <tr>\n",
       "      <th>3</th>\n",
       "      <td>@sxsw I hope this year's festival isn't as cra...</td>\n",
       "      <td>iPad or iPhone App</td>\n",
       "      <td>Negative emotion</td>\n",
       "    </tr>\n",
       "    <tr>\n",
       "      <th>4</th>\n",
       "      <td>@sxtxstate great stuff on Fri #SXSW: Marissa M...</td>\n",
       "      <td>Google</td>\n",
       "      <td>Positive emotion</td>\n",
       "    </tr>\n",
       "    <tr>\n",
       "      <th>...</th>\n",
       "      <td>...</td>\n",
       "      <td>...</td>\n",
       "      <td>...</td>\n",
       "    </tr>\n",
       "    <tr>\n",
       "      <th>9088</th>\n",
       "      <td>Ipad everywhere. #SXSW {link}</td>\n",
       "      <td>iPad</td>\n",
       "      <td>Positive emotion</td>\n",
       "    </tr>\n",
       "    <tr>\n",
       "      <th>9089</th>\n",
       "      <td>Wave, buzz... RT @mention We interrupt your re...</td>\n",
       "      <td>NaN</td>\n",
       "      <td>No emotion toward brand or product</td>\n",
       "    </tr>\n",
       "    <tr>\n",
       "      <th>9090</th>\n",
       "      <td>Google's Zeiger, a physician never reported po...</td>\n",
       "      <td>NaN</td>\n",
       "      <td>No emotion toward brand or product</td>\n",
       "    </tr>\n",
       "    <tr>\n",
       "      <th>9091</th>\n",
       "      <td>Some Verizon iPhone customers complained their...</td>\n",
       "      <td>NaN</td>\n",
       "      <td>No emotion toward brand or product</td>\n",
       "    </tr>\n",
       "    <tr>\n",
       "      <th>9092</th>\n",
       "      <td>Ï¡Ïàü_ÊÎÒ£Áââ_£â_ÛâRT @...</td>\n",
       "      <td>NaN</td>\n",
       "      <td>No emotion toward brand or product</td>\n",
       "    </tr>\n",
       "  </tbody>\n",
       "</table>\n",
       "<p>9093 rows × 3 columns</p>\n",
       "</div>"
      ],
      "text/plain": [
       "                                             tweet_text  \\\n",
       "0     .@wesley83 I have a 3G iPhone. After 3 hrs twe...   \n",
       "1     @jessedee Know about @fludapp ? Awesome iPad/i...   \n",
       "2     @swonderlin Can not wait for #iPad 2 also. The...   \n",
       "3     @sxsw I hope this year's festival isn't as cra...   \n",
       "4     @sxtxstate great stuff on Fri #SXSW: Marissa M...   \n",
       "...                                                 ...   \n",
       "9088                      Ipad everywhere. #SXSW {link}   \n",
       "9089  Wave, buzz... RT @mention We interrupt your re...   \n",
       "9090  Google's Zeiger, a physician never reported po...   \n",
       "9091  Some Verizon iPhone customers complained their...   \n",
       "9092  Ï¡Ïàü_ÊÎÒ£Áââ_£â_ÛâRT @...   \n",
       "\n",
       "     emotion_in_tweet_is_directed_at  \\\n",
       "0                             iPhone   \n",
       "1                 iPad or iPhone App   \n",
       "2                               iPad   \n",
       "3                 iPad or iPhone App   \n",
       "4                             Google   \n",
       "...                              ...   \n",
       "9088                            iPad   \n",
       "9089                             NaN   \n",
       "9090                             NaN   \n",
       "9091                             NaN   \n",
       "9092                             NaN   \n",
       "\n",
       "     is_there_an_emotion_directed_at_a_brand_or_product  \n",
       "0                                      Negative emotion  \n",
       "1                                      Positive emotion  \n",
       "2                                      Positive emotion  \n",
       "3                                      Negative emotion  \n",
       "4                                      Positive emotion  \n",
       "...                                                 ...  \n",
       "9088                                   Positive emotion  \n",
       "9089                 No emotion toward brand or product  \n",
       "9090                 No emotion toward brand or product  \n",
       "9091                 No emotion toward brand or product  \n",
       "9092                 No emotion toward brand or product  \n",
       "\n",
       "[9093 rows x 3 columns]"
      ]
     },
     "execution_count": 247,
     "metadata": {},
     "output_type": "execute_result"
    }
   ],
   "source": [
    "df"
   ]
  },
  {
   "cell_type": "code",
   "execution_count": 248,
   "id": "0161ccb5",
   "metadata": {},
   "outputs": [
    {
     "data": {
      "text/plain": [
       "Index(['tweet_text', 'emotion_in_tweet_is_directed_at',\n",
       "       'is_there_an_emotion_directed_at_a_brand_or_product'],\n",
       "      dtype='object')"
      ]
     },
     "execution_count": 248,
     "metadata": {},
     "output_type": "execute_result"
    }
   ],
   "source": [
    "df.columns"
   ]
  },
  {
   "cell_type": "markdown",
   "id": "a55e0649",
   "metadata": {},
   "source": [
    "Rename columns\n",
    "target columns \n",
    "Do we need to do cleaning for EDA?\n",
    "Precsion is important \n",
    "dropping the 'i can't tell'\n",
    "drop duplicates"
   ]
  },
  {
   "cell_type": "code",
   "execution_count": 249,
   "id": "65312d44",
   "metadata": {},
   "outputs": [
    {
     "data": {
      "text/plain": [
       "2744    No emotion toward brand or product\n",
       "8820                      Negative emotion\n",
       "6624                      Positive emotion\n",
       "3817                      Negative emotion\n",
       "3111                      Positive emotion\n",
       "2162                      Positive emotion\n",
       "193                       Positive emotion\n",
       "4545                      Positive emotion\n",
       "8134    No emotion toward brand or product\n",
       "6690    No emotion toward brand or product\n",
       "Name: is_there_an_emotion_directed_at_a_brand_or_product, dtype: object"
      ]
     },
     "execution_count": 249,
     "metadata": {},
     "output_type": "execute_result"
    }
   ],
   "source": [
    "df['is_there_an_emotion_directed_at_a_brand_or_product'].sample(10)"
   ]
  },
  {
   "cell_type": "code",
   "execution_count": 250,
   "id": "6c37044c",
   "metadata": {},
   "outputs": [
    {
     "data": {
      "text/plain": [
       "\"I can't tell\""
      ]
     },
     "execution_count": 250,
     "metadata": {},
     "output_type": "execute_result"
    }
   ],
   "source": [
    "df['is_there_an_emotion_directed_at_a_brand_or_product'][8846]"
   ]
  },
  {
   "cell_type": "code",
   "execution_count": 251,
   "id": "3b2e3c98",
   "metadata": {},
   "outputs": [
    {
     "data": {
      "text/plain": [
       "tweet_text                                               1\n",
       "emotion_in_tweet_is_directed_at                       5802\n",
       "is_there_an_emotion_directed_at_a_brand_or_product       0\n",
       "dtype: int64"
      ]
     },
     "execution_count": 251,
     "metadata": {},
     "output_type": "execute_result"
    }
   ],
   "source": [
    "df.isnull().sum()"
   ]
  },
  {
   "cell_type": "code",
   "execution_count": 252,
   "id": "93048f45",
   "metadata": {},
   "outputs": [
    {
     "data": {
      "text/plain": [
       "22"
      ]
     },
     "execution_count": 252,
     "metadata": {},
     "output_type": "execute_result"
    }
   ],
   "source": [
    "df.duplicated().sum()"
   ]
  },
  {
   "cell_type": "code",
   "execution_count": 253,
   "id": "61b8bf27",
   "metadata": {},
   "outputs": [],
   "source": [
    "df.drop_duplicates(inplace=True)"
   ]
  },
  {
   "cell_type": "code",
   "execution_count": 254,
   "id": "4790a8a1",
   "metadata": {},
   "outputs": [],
   "source": [
    "df['target']= df['is_there_an_emotion_directed_at_a_brand_or_product']"
   ]
  },
  {
   "cell_type": "code",
   "execution_count": 255,
   "id": "3e6c83e8",
   "metadata": {},
   "outputs": [
    {
     "data": {
      "text/html": [
       "<div>\n",
       "<style scoped>\n",
       "    .dataframe tbody tr th:only-of-type {\n",
       "        vertical-align: middle;\n",
       "    }\n",
       "\n",
       "    .dataframe tbody tr th {\n",
       "        vertical-align: top;\n",
       "    }\n",
       "\n",
       "    .dataframe thead th {\n",
       "        text-align: right;\n",
       "    }\n",
       "</style>\n",
       "<table border=\"1\" class=\"dataframe\">\n",
       "  <thead>\n",
       "    <tr style=\"text-align: right;\">\n",
       "      <th></th>\n",
       "      <th>tweet_text</th>\n",
       "      <th>emotion_in_tweet_is_directed_at</th>\n",
       "      <th>target</th>\n",
       "    </tr>\n",
       "  </thead>\n",
       "  <tbody>\n",
       "    <tr>\n",
       "      <th>0</th>\n",
       "      <td>.@wesley83 I have a 3G iPhone. After 3 hrs twe...</td>\n",
       "      <td>iPhone</td>\n",
       "      <td>Negative emotion</td>\n",
       "    </tr>\n",
       "    <tr>\n",
       "      <th>1</th>\n",
       "      <td>@jessedee Know about @fludapp ? Awesome iPad/i...</td>\n",
       "      <td>iPad or iPhone App</td>\n",
       "      <td>Positive emotion</td>\n",
       "    </tr>\n",
       "    <tr>\n",
       "      <th>2</th>\n",
       "      <td>@swonderlin Can not wait for #iPad 2 also. The...</td>\n",
       "      <td>iPad</td>\n",
       "      <td>Positive emotion</td>\n",
       "    </tr>\n",
       "    <tr>\n",
       "      <th>3</th>\n",
       "      <td>@sxsw I hope this year's festival isn't as cra...</td>\n",
       "      <td>iPad or iPhone App</td>\n",
       "      <td>Negative emotion</td>\n",
       "    </tr>\n",
       "    <tr>\n",
       "      <th>4</th>\n",
       "      <td>@sxtxstate great stuff on Fri #SXSW: Marissa M...</td>\n",
       "      <td>Google</td>\n",
       "      <td>Positive emotion</td>\n",
       "    </tr>\n",
       "    <tr>\n",
       "      <th>...</th>\n",
       "      <td>...</td>\n",
       "      <td>...</td>\n",
       "      <td>...</td>\n",
       "    </tr>\n",
       "    <tr>\n",
       "      <th>9088</th>\n",
       "      <td>Ipad everywhere. #SXSW {link}</td>\n",
       "      <td>iPad</td>\n",
       "      <td>Positive emotion</td>\n",
       "    </tr>\n",
       "    <tr>\n",
       "      <th>9089</th>\n",
       "      <td>Wave, buzz... RT @mention We interrupt your re...</td>\n",
       "      <td>NaN</td>\n",
       "      <td>No emotion toward brand or product</td>\n",
       "    </tr>\n",
       "    <tr>\n",
       "      <th>9090</th>\n",
       "      <td>Google's Zeiger, a physician never reported po...</td>\n",
       "      <td>NaN</td>\n",
       "      <td>No emotion toward brand or product</td>\n",
       "    </tr>\n",
       "    <tr>\n",
       "      <th>9091</th>\n",
       "      <td>Some Verizon iPhone customers complained their...</td>\n",
       "      <td>NaN</td>\n",
       "      <td>No emotion toward brand or product</td>\n",
       "    </tr>\n",
       "    <tr>\n",
       "      <th>9092</th>\n",
       "      <td>Ï¡Ïàü_ÊÎÒ£Áââ_£â_ÛâRT @...</td>\n",
       "      <td>NaN</td>\n",
       "      <td>No emotion toward brand or product</td>\n",
       "    </tr>\n",
       "  </tbody>\n",
       "</table>\n",
       "<p>9071 rows × 3 columns</p>\n",
       "</div>"
      ],
      "text/plain": [
       "                                             tweet_text  \\\n",
       "0     .@wesley83 I have a 3G iPhone. After 3 hrs twe...   \n",
       "1     @jessedee Know about @fludapp ? Awesome iPad/i...   \n",
       "2     @swonderlin Can not wait for #iPad 2 also. The...   \n",
       "3     @sxsw I hope this year's festival isn't as cra...   \n",
       "4     @sxtxstate great stuff on Fri #SXSW: Marissa M...   \n",
       "...                                                 ...   \n",
       "9088                      Ipad everywhere. #SXSW {link}   \n",
       "9089  Wave, buzz... RT @mention We interrupt your re...   \n",
       "9090  Google's Zeiger, a physician never reported po...   \n",
       "9091  Some Verizon iPhone customers complained their...   \n",
       "9092  Ï¡Ïàü_ÊÎÒ£Áââ_£â_ÛâRT @...   \n",
       "\n",
       "     emotion_in_tweet_is_directed_at                              target  \n",
       "0                             iPhone                    Negative emotion  \n",
       "1                 iPad or iPhone App                    Positive emotion  \n",
       "2                               iPad                    Positive emotion  \n",
       "3                 iPad or iPhone App                    Negative emotion  \n",
       "4                             Google                    Positive emotion  \n",
       "...                              ...                                 ...  \n",
       "9088                            iPad                    Positive emotion  \n",
       "9089                             NaN  No emotion toward brand or product  \n",
       "9090                             NaN  No emotion toward brand or product  \n",
       "9091                             NaN  No emotion toward brand or product  \n",
       "9092                             NaN  No emotion toward brand or product  \n",
       "\n",
       "[9071 rows x 3 columns]"
      ]
     },
     "execution_count": 255,
     "metadata": {},
     "output_type": "execute_result"
    }
   ],
   "source": [
    "df.drop('is_there_an_emotion_directed_at_a_brand_or_product', axis=1)"
   ]
  },
  {
   "cell_type": "code",
   "execution_count": 256,
   "id": "e8ff6e06",
   "metadata": {},
   "outputs": [],
   "source": [
    "df['text']=df['tweet_text']"
   ]
  },
  {
   "cell_type": "code",
   "execution_count": 257,
   "id": "8764e091",
   "metadata": {},
   "outputs": [],
   "source": [
    "df.drop('tweet_text',axis=1, inplace=True)"
   ]
  },
  {
   "cell_type": "code",
   "execution_count": 259,
   "id": "c1e75da5",
   "metadata": {},
   "outputs": [],
   "source": [
    "df.dropna(subset=['text'], inplace=True)"
   ]
  },
  {
   "cell_type": "code",
   "execution_count": 342,
   "id": "7c116afd",
   "metadata": {},
   "outputs": [],
   "source": [
    "df['length']= df['text'].str.len()"
   ]
  },
  {
   "cell_type": "code",
   "execution_count": 343,
   "id": "ad4e8134",
   "metadata": {},
   "outputs": [
    {
     "data": {
      "text/html": [
       "<div>\n",
       "<style scoped>\n",
       "    .dataframe tbody tr th:only-of-type {\n",
       "        vertical-align: middle;\n",
       "    }\n",
       "\n",
       "    .dataframe tbody tr th {\n",
       "        vertical-align: top;\n",
       "    }\n",
       "\n",
       "    .dataframe thead th {\n",
       "        text-align: right;\n",
       "    }\n",
       "</style>\n",
       "<table border=\"1\" class=\"dataframe\">\n",
       "  <thead>\n",
       "    <tr style=\"text-align: right;\">\n",
       "      <th></th>\n",
       "      <th>emotion_in_tweet_is_directed_at</th>\n",
       "      <th>is_there_an_emotion_directed_at_a_brand_or_product</th>\n",
       "      <th>target</th>\n",
       "      <th>text</th>\n",
       "      <th>tokenized</th>\n",
       "      <th>length</th>\n",
       "    </tr>\n",
       "  </thead>\n",
       "  <tbody>\n",
       "    <tr>\n",
       "      <th>0</th>\n",
       "      <td>iPhone</td>\n",
       "      <td>Negative emotion</td>\n",
       "      <td>Negative emotion</td>\n",
       "      <td>.@wesley83 I have a 3G iPhone. After 3 hrs twe...</td>\n",
       "      <td>. @wesley83 3g iphon . 3 hr tweet #rise_austin...</td>\n",
       "      <td>127</td>\n",
       "    </tr>\n",
       "    <tr>\n",
       "      <th>1</th>\n",
       "      <td>iPad or iPhone App</td>\n",
       "      <td>Positive emotion</td>\n",
       "      <td>Positive emotion</td>\n",
       "      <td>@jessedee Know about @fludapp ? Awesome iPad/i...</td>\n",
       "      <td>@jessede know @fludapp ? awesom ipad / iphon a...</td>\n",
       "      <td>139</td>\n",
       "    </tr>\n",
       "    <tr>\n",
       "      <th>2</th>\n",
       "      <td>iPad</td>\n",
       "      <td>Positive emotion</td>\n",
       "      <td>Positive emotion</td>\n",
       "      <td>@swonderlin Can not wait for #iPad 2 also. The...</td>\n",
       "      <td>@swonderlin wait #ipad 2 also . sale #sxsw .</td>\n",
       "      <td>79</td>\n",
       "    </tr>\n",
       "    <tr>\n",
       "      <th>3</th>\n",
       "      <td>iPad or iPhone App</td>\n",
       "      <td>Negative emotion</td>\n",
       "      <td>Negative emotion</td>\n",
       "      <td>@sxsw I hope this year's festival isn't as cra...</td>\n",
       "      <td>@sxsw hope year' festiv crashi year' iphon app...</td>\n",
       "      <td>82</td>\n",
       "    </tr>\n",
       "    <tr>\n",
       "      <th>4</th>\n",
       "      <td>Google</td>\n",
       "      <td>Positive emotion</td>\n",
       "      <td>Positive emotion</td>\n",
       "      <td>@sxtxstate great stuff on Fri #SXSW: Marissa M...</td>\n",
       "      <td>@sxtxstate great stuff fri #sxsw : marissa may...</td>\n",
       "      <td>131</td>\n",
       "    </tr>\n",
       "  </tbody>\n",
       "</table>\n",
       "</div>"
      ],
      "text/plain": [
       "  emotion_in_tweet_is_directed_at  \\\n",
       "0                          iPhone   \n",
       "1              iPad or iPhone App   \n",
       "2                            iPad   \n",
       "3              iPad or iPhone App   \n",
       "4                          Google   \n",
       "\n",
       "  is_there_an_emotion_directed_at_a_brand_or_product            target  \\\n",
       "0                                   Negative emotion  Negative emotion   \n",
       "1                                   Positive emotion  Positive emotion   \n",
       "2                                   Positive emotion  Positive emotion   \n",
       "3                                   Negative emotion  Negative emotion   \n",
       "4                                   Positive emotion  Positive emotion   \n",
       "\n",
       "                                                text  \\\n",
       "0  .@wesley83 I have a 3G iPhone. After 3 hrs twe...   \n",
       "1  @jessedee Know about @fludapp ? Awesome iPad/i...   \n",
       "2  @swonderlin Can not wait for #iPad 2 also. The...   \n",
       "3  @sxsw I hope this year's festival isn't as cra...   \n",
       "4  @sxtxstate great stuff on Fri #SXSW: Marissa M...   \n",
       "\n",
       "                                           tokenized  length  \n",
       "0  . @wesley83 3g iphon . 3 hr tweet #rise_austin...     127  \n",
       "1  @jessede know @fludapp ? awesom ipad / iphon a...     139  \n",
       "2       @swonderlin wait #ipad 2 also . sale #sxsw .      79  \n",
       "3  @sxsw hope year' festiv crashi year' iphon app...      82  \n",
       "4  @sxtxstate great stuff fri #sxsw : marissa may...     131  "
      ]
     },
     "execution_count": 343,
     "metadata": {},
     "output_type": "execute_result"
    }
   ],
   "source": [
    "df.head()"
   ]
  },
  {
   "cell_type": "code",
   "execution_count": 345,
   "id": "8d2e3525",
   "metadata": {},
   "outputs": [
    {
     "data": {
      "text/plain": [
       "178"
      ]
     },
     "execution_count": 345,
     "metadata": {},
     "output_type": "execute_result"
    }
   ],
   "source": []
  },
  {
   "cell_type": "code",
   "execution_count": 230,
   "id": "6356e603",
   "metadata": {},
   "outputs": [],
   "source": [
    "from nltk.tokenize import sent_tokenize\n",
    "from nltk.tokenize import word_tokenize\n",
    "from nltk.tokenize import RegexpTokenizer, word_tokenize"
   ]
  },
  {
   "cell_type": "code",
   "execution_count": 231,
   "id": "c3d5c5ea",
   "metadata": {},
   "outputs": [],
   "source": [
    "ps = PorterStemmer()"
   ]
  },
  {
   "cell_type": "code",
   "execution_count": 232,
   "id": "b58678c6",
   "metadata": {},
   "outputs": [
    {
     "data": {
      "text/plain": [
       "'.@wesley83 I have a 3G iPhone. After 3 hrs tweeting at #RISE_Austin, it was dead!  I need to upgrade. Plugin stations at #SXSW.'"
      ]
     },
     "execution_count": 232,
     "metadata": {},
     "output_type": "execute_result"
    }
   ],
   "source": [
    "df['text'][0]"
   ]
  },
  {
   "cell_type": "code",
   "execution_count": 233,
   "id": "c42db468",
   "metadata": {},
   "outputs": [],
   "source": [
    "import re"
   ]
  },
  {
   "cell_type": "code",
   "execution_count": 166,
   "id": "dc243bb4",
   "metadata": {},
   "outputs": [
    {
     "name": "stderr",
     "output_type": "stream",
     "text": [
      "[nltk_data] Downloading package punkt to\n",
      "[nltk_data]     /Users/raylinsoriano/nltk_data...\n",
      "[nltk_data]   Package punkt is already up-to-date!\n",
      "[nltk_data] Downloading package averaged_perceptron_tagger to\n",
      "[nltk_data]     /Users/raylinsoriano/nltk_data...\n",
      "[nltk_data]   Package averaged_perceptron_tagger is already up-to-\n",
      "[nltk_data]       date!\n",
      "[nltk_data] Downloading package wordnet to\n",
      "[nltk_data]     /Users/raylinsoriano/nltk_data...\n",
      "[nltk_data]   Unzipping corpora/wordnet.zip.\n"
     ]
    },
    {
     "data": {
      "text/plain": [
       "True"
      ]
     },
     "execution_count": 166,
     "metadata": {},
     "output_type": "execute_result"
    }
   ],
   "source": [
    "import nltk\n",
    "nltk.download('punkt')\n",
    "nltk.download('averaged_perceptron_tagger')\n",
    "nltk.download('wordnet')\n"
   ]
  },
  {
   "cell_type": "code",
   "execution_count": 156,
   "id": "9f317eea",
   "metadata": {},
   "outputs": [],
   "source": [
    "#df['text'] = re.sub(\"[^a-zA-Z]\",  # Search for all non-letters\n",
    "                        #  \" \",          # Replace all non-letters with spaces\n",
    "                       #   str(df['text']))"
   ]
  },
  {
   "cell_type": "code",
   "execution_count": 157,
   "id": "2bcca888",
   "metadata": {},
   "outputs": [],
   "source": [
    "#tokenize = sent_tokenize(df['text'])"
   ]
  },
  {
   "cell_type": "code",
   "execution_count": 346,
   "id": "80e87603",
   "metadata": {},
   "outputs": [],
   "source": [
    "#for words in df['text']:\n",
    "#    words = tokenize.word_tokenize(words)\n",
    "#    for w in words:\n",
    "#        print(ps.stem(w))"
   ]
  },
  {
   "cell_type": "code",
   "execution_count": 260,
   "id": "729ac73b",
   "metadata": {},
   "outputs": [],
   "source": [
    "from nltk.tokenize import TweetTokenizer\n",
    "from nltk import pos_tag\n",
    "from nltk.stem import PorterStemmer"
   ]
  },
  {
   "cell_type": "code",
   "execution_count": 261,
   "id": "02ba6c9f",
   "metadata": {},
   "outputs": [],
   "source": [
    "from nltk.corpus import wordnet\n",
    "\n",
    "def get_wordnet_pos(treebank_tag):\n",
    "\n",
    "    if treebank_tag.startswith('J'):\n",
    "        return wordnet.ADJ\n",
    "    elif treebank_tag.startswith('V'):\n",
    "        return wordnet.VERB\n",
    "    elif treebank_tag.startswith('N'):\n",
    "        return wordnet.NOUN\n",
    "    elif treebank_tag.startswith('R'):\n",
    "        return wordnet.ADV\n",
    "    else:\n",
    "        return wordnet.NOUN"
   ]
  },
  {
   "cell_type": "code",
   "execution_count": 262,
   "id": "41e0f093",
   "metadata": {},
   "outputs": [],
   "source": [
    "def doc_preparer(doc, stop_words=sw):\n",
    "    '''\n",
    "    \n",
    "    :param doc: a document from the review corpus \n",
    "    :return: a document string with words which have been \n",
    "            lemmatized, \n",
    "            parsed for stopwords, \n",
    "            made lowercase,\n",
    "            and stripped of punctuation and numbers.\n",
    "    '''\n",
    "    \n",
    "    tweet_token = TweetTokenizer()\n",
    "    doc = tweet_token.tokenize(doc)\n",
    "    doc = [word.lower() for word in doc]\n",
    "    doc = [word for word in doc if word not in sw]\n",
    "    stemmer = PorterStemmer() \n",
    "    doc = [stemmer.stem(word) for word in doc]\n",
    "    doc = pos_tag(doc)\n",
    "    doc = [(word[0], get_wordnet_pos(word[1])) for word in doc]\n",
    "    lemmatizer = WordNetLemmatizer() \n",
    "    doc = [lemmatizer.lemmatize(word[0], word[1]) for word in doc]\n",
    "    return ' '.join(doc)"
   ]
  },
  {
   "cell_type": "code",
   "execution_count": 263,
   "id": "65934e0a",
   "metadata": {},
   "outputs": [
    {
     "data": {
      "text/html": [
       "<div>\n",
       "<style scoped>\n",
       "    .dataframe tbody tr th:only-of-type {\n",
       "        vertical-align: middle;\n",
       "    }\n",
       "\n",
       "    .dataframe tbody tr th {\n",
       "        vertical-align: top;\n",
       "    }\n",
       "\n",
       "    .dataframe thead th {\n",
       "        text-align: right;\n",
       "    }\n",
       "</style>\n",
       "<table border=\"1\" class=\"dataframe\">\n",
       "  <thead>\n",
       "    <tr style=\"text-align: right;\">\n",
       "      <th></th>\n",
       "      <th>emotion_in_tweet_is_directed_at</th>\n",
       "      <th>is_there_an_emotion_directed_at_a_brand_or_product</th>\n",
       "      <th>target</th>\n",
       "      <th>text</th>\n",
       "    </tr>\n",
       "  </thead>\n",
       "  <tbody>\n",
       "    <tr>\n",
       "      <th>0</th>\n",
       "      <td>iPhone</td>\n",
       "      <td>Negative emotion</td>\n",
       "      <td>Negative emotion</td>\n",
       "      <td>.@wesley83 I have a 3G iPhone. After 3 hrs twe...</td>\n",
       "    </tr>\n",
       "    <tr>\n",
       "      <th>1</th>\n",
       "      <td>iPad or iPhone App</td>\n",
       "      <td>Positive emotion</td>\n",
       "      <td>Positive emotion</td>\n",
       "      <td>@jessedee Know about @fludapp ? Awesome iPad/i...</td>\n",
       "    </tr>\n",
       "    <tr>\n",
       "      <th>2</th>\n",
       "      <td>iPad</td>\n",
       "      <td>Positive emotion</td>\n",
       "      <td>Positive emotion</td>\n",
       "      <td>@swonderlin Can not wait for #iPad 2 also. The...</td>\n",
       "    </tr>\n",
       "    <tr>\n",
       "      <th>3</th>\n",
       "      <td>iPad or iPhone App</td>\n",
       "      <td>Negative emotion</td>\n",
       "      <td>Negative emotion</td>\n",
       "      <td>@sxsw I hope this year's festival isn't as cra...</td>\n",
       "    </tr>\n",
       "    <tr>\n",
       "      <th>4</th>\n",
       "      <td>Google</td>\n",
       "      <td>Positive emotion</td>\n",
       "      <td>Positive emotion</td>\n",
       "      <td>@sxtxstate great stuff on Fri #SXSW: Marissa M...</td>\n",
       "    </tr>\n",
       "  </tbody>\n",
       "</table>\n",
       "</div>"
      ],
      "text/plain": [
       "  emotion_in_tweet_is_directed_at  \\\n",
       "0                          iPhone   \n",
       "1              iPad or iPhone App   \n",
       "2                            iPad   \n",
       "3              iPad or iPhone App   \n",
       "4                          Google   \n",
       "\n",
       "  is_there_an_emotion_directed_at_a_brand_or_product            target  \\\n",
       "0                                   Negative emotion  Negative emotion   \n",
       "1                                   Positive emotion  Positive emotion   \n",
       "2                                   Positive emotion  Positive emotion   \n",
       "3                                   Negative emotion  Negative emotion   \n",
       "4                                   Positive emotion  Positive emotion   \n",
       "\n",
       "                                                text  \n",
       "0  .@wesley83 I have a 3G iPhone. After 3 hrs twe...  \n",
       "1  @jessedee Know about @fludapp ? Awesome iPad/i...  \n",
       "2  @swonderlin Can not wait for #iPad 2 also. The...  \n",
       "3  @sxsw I hope this year's festival isn't as cra...  \n",
       "4  @sxtxstate great stuff on Fri #SXSW: Marissa M...  "
      ]
     },
     "execution_count": 263,
     "metadata": {},
     "output_type": "execute_result"
    }
   ],
   "source": [
    "df.head()"
   ]
  },
  {
   "cell_type": "code",
   "execution_count": 264,
   "id": "81a74571",
   "metadata": {},
   "outputs": [],
   "source": [
    "df['tokenized'] = df['text'].apply(doc_preparer)"
   ]
  },
  {
   "cell_type": "code",
   "execution_count": 348,
   "id": "be122e3a",
   "metadata": {},
   "outputs": [
    {
     "name": "stdout",
     "output_type": "stream",
     "text": [
      "Collecting wordcloud\n",
      "  Downloading wordcloud-1.8.1.tar.gz (220 kB)\n",
      "\u001b[K     |████████████████████████████████| 220 kB 8.0 MB/s eta 0:00:01\n",
      "\u001b[?25hRequirement already satisfied: numpy>=1.6.1 in /Users/raylinsoriano/anaconda3/lib/python3.8/site-packages (from wordcloud) (1.20.3)\n",
      "Requirement already satisfied: pillow in /Users/raylinsoriano/anaconda3/lib/python3.8/site-packages (from wordcloud) (8.3.1)\n",
      "Requirement already satisfied: matplotlib in /Users/raylinsoriano/anaconda3/lib/python3.8/site-packages (from wordcloud) (3.4.2)\n",
      "Requirement already satisfied: pyparsing>=2.2.1 in /Users/raylinsoriano/anaconda3/lib/python3.8/site-packages (from matplotlib->wordcloud) (2.4.7)\n",
      "Requirement already satisfied: python-dateutil>=2.7 in /Users/raylinsoriano/anaconda3/lib/python3.8/site-packages (from matplotlib->wordcloud) (2.8.2)\n",
      "Requirement already satisfied: cycler>=0.10 in /Users/raylinsoriano/anaconda3/lib/python3.8/site-packages (from matplotlib->wordcloud) (0.10.0)\n",
      "Requirement already satisfied: kiwisolver>=1.0.1 in /Users/raylinsoriano/anaconda3/lib/python3.8/site-packages (from matplotlib->wordcloud) (1.3.1)\n",
      "Requirement already satisfied: six in /Users/raylinsoriano/anaconda3/lib/python3.8/site-packages (from cycler>=0.10->matplotlib->wordcloud) (1.16.0)\n",
      "Building wheels for collected packages: wordcloud\n",
      "  Building wheel for wordcloud (setup.py) ... \u001b[?25ldone\n",
      "\u001b[?25h  Created wheel for wordcloud: filename=wordcloud-1.8.1-cp38-cp38-macosx_10_9_x86_64.whl size=159756 sha256=22dbe87deb7d49e43ad58d969104446b77f4a484d17fa6cad855d6c5c59d2d05\n",
      "  Stored in directory: /Users/raylinsoriano/Library/Caches/pip/wheels/4d/3f/0d/a2ba9b7895c9f1be89018b3141c3df3d4f9c786c882ccfbc3b\n",
      "Successfully built wordcloud\n",
      "Installing collected packages: wordcloud\n",
      "Successfully installed wordcloud-1.8.1\n",
      "Note: you may need to restart the kernel to use updated packages.\n"
     ]
    }
   ],
   "source": [
    "pip install wordcloud"
   ]
  },
  {
   "cell_type": "code",
   "execution_count": 349,
   "id": "0a72f1fe",
   "metadata": {},
   "outputs": [],
   "source": [
    "\n",
    "from os import path\n",
    "from PIL import Image\n",
    "from wordcloud import WordCloud, STOPWORDS, ImageColorGenerator\n",
    "\n",
    "import matplotlib.pyplot as plt"
   ]
  },
  {
   "cell_type": "code",
   "execution_count": 350,
   "id": "1e756fe8",
   "metadata": {},
   "outputs": [
    {
     "data": {
      "text/html": [
       "<div>\n",
       "<style scoped>\n",
       "    .dataframe tbody tr th:only-of-type {\n",
       "        vertical-align: middle;\n",
       "    }\n",
       "\n",
       "    .dataframe tbody tr th {\n",
       "        vertical-align: top;\n",
       "    }\n",
       "\n",
       "    .dataframe thead th {\n",
       "        text-align: right;\n",
       "    }\n",
       "</style>\n",
       "<table border=\"1\" class=\"dataframe\">\n",
       "  <thead>\n",
       "    <tr style=\"text-align: right;\">\n",
       "      <th></th>\n",
       "      <th>emotion_in_tweet_is_directed_at</th>\n",
       "      <th>is_there_an_emotion_directed_at_a_brand_or_product</th>\n",
       "      <th>target</th>\n",
       "      <th>text</th>\n",
       "      <th>tokenized</th>\n",
       "      <th>length</th>\n",
       "    </tr>\n",
       "  </thead>\n",
       "  <tbody>\n",
       "    <tr>\n",
       "      <th>0</th>\n",
       "      <td>iPhone</td>\n",
       "      <td>Negative emotion</td>\n",
       "      <td>Negative emotion</td>\n",
       "      <td>.@wesley83 I have a 3G iPhone. After 3 hrs twe...</td>\n",
       "      <td>. @wesley83 3g iphon . 3 hr tweet #rise_austin...</td>\n",
       "      <td>127</td>\n",
       "    </tr>\n",
       "    <tr>\n",
       "      <th>1</th>\n",
       "      <td>iPad or iPhone App</td>\n",
       "      <td>Positive emotion</td>\n",
       "      <td>Positive emotion</td>\n",
       "      <td>@jessedee Know about @fludapp ? Awesome iPad/i...</td>\n",
       "      <td>@jessede know @fludapp ? awesom ipad / iphon a...</td>\n",
       "      <td>139</td>\n",
       "    </tr>\n",
       "    <tr>\n",
       "      <th>2</th>\n",
       "      <td>iPad</td>\n",
       "      <td>Positive emotion</td>\n",
       "      <td>Positive emotion</td>\n",
       "      <td>@swonderlin Can not wait for #iPad 2 also. The...</td>\n",
       "      <td>@swonderlin wait #ipad 2 also . sale #sxsw .</td>\n",
       "      <td>79</td>\n",
       "    </tr>\n",
       "    <tr>\n",
       "      <th>3</th>\n",
       "      <td>iPad or iPhone App</td>\n",
       "      <td>Negative emotion</td>\n",
       "      <td>Negative emotion</td>\n",
       "      <td>@sxsw I hope this year's festival isn't as cra...</td>\n",
       "      <td>@sxsw hope year' festiv crashi year' iphon app...</td>\n",
       "      <td>82</td>\n",
       "    </tr>\n",
       "    <tr>\n",
       "      <th>4</th>\n",
       "      <td>Google</td>\n",
       "      <td>Positive emotion</td>\n",
       "      <td>Positive emotion</td>\n",
       "      <td>@sxtxstate great stuff on Fri #SXSW: Marissa M...</td>\n",
       "      <td>@sxtxstate great stuff fri #sxsw : marissa may...</td>\n",
       "      <td>131</td>\n",
       "    </tr>\n",
       "    <tr>\n",
       "      <th>...</th>\n",
       "      <td>...</td>\n",
       "      <td>...</td>\n",
       "      <td>...</td>\n",
       "      <td>...</td>\n",
       "      <td>...</td>\n",
       "      <td>...</td>\n",
       "    </tr>\n",
       "    <tr>\n",
       "      <th>9088</th>\n",
       "      <td>iPad</td>\n",
       "      <td>Positive emotion</td>\n",
       "      <td>Positive emotion</td>\n",
       "      <td>Ipad everywhere. #SXSW {link}</td>\n",
       "      <td>ipad everywher . #sxsw { link }</td>\n",
       "      <td>29</td>\n",
       "    </tr>\n",
       "    <tr>\n",
       "      <th>9089</th>\n",
       "      <td>NaN</td>\n",
       "      <td>No emotion toward brand or product</td>\n",
       "      <td>No emotion toward brand or product</td>\n",
       "      <td>Wave, buzz... RT @mention We interrupt your re...</td>\n",
       "      <td>wave , buzz ... rt @mention interrupt regularl...</td>\n",
       "      <td>125</td>\n",
       "    </tr>\n",
       "    <tr>\n",
       "      <th>9090</th>\n",
       "      <td>NaN</td>\n",
       "      <td>No emotion toward brand or product</td>\n",
       "      <td>No emotion toward brand or product</td>\n",
       "      <td>Google's Zeiger, a physician never reported po...</td>\n",
       "      <td>google' zeiger , physician never report potent...</td>\n",
       "      <td>145</td>\n",
       "    </tr>\n",
       "    <tr>\n",
       "      <th>9091</th>\n",
       "      <td>NaN</td>\n",
       "      <td>No emotion toward brand or product</td>\n",
       "      <td>No emotion toward brand or product</td>\n",
       "      <td>Some Verizon iPhone customers complained their...</td>\n",
       "      <td>verizon iphon custom complain time fell back h...</td>\n",
       "      <td>140</td>\n",
       "    </tr>\n",
       "    <tr>\n",
       "      <th>9092</th>\n",
       "      <td>NaN</td>\n",
       "      <td>No emotion toward brand or product</td>\n",
       "      <td>No emotion toward brand or product</td>\n",
       "      <td>Ï¡Ïàü_ÊÎÒ£Áââ_£â_ÛâRT @...</td>\n",
       "      <td> ï ¡  ïà  ü_   ê   î   ò   £   á ...</td>\n",
       "      <td>104</td>\n",
       "    </tr>\n",
       "  </tbody>\n",
       "</table>\n",
       "<p>9070 rows × 6 columns</p>\n",
       "</div>"
      ],
      "text/plain": [
       "     emotion_in_tweet_is_directed_at  \\\n",
       "0                             iPhone   \n",
       "1                 iPad or iPhone App   \n",
       "2                               iPad   \n",
       "3                 iPad or iPhone App   \n",
       "4                             Google   \n",
       "...                              ...   \n",
       "9088                            iPad   \n",
       "9089                             NaN   \n",
       "9090                             NaN   \n",
       "9091                             NaN   \n",
       "9092                             NaN   \n",
       "\n",
       "     is_there_an_emotion_directed_at_a_brand_or_product  \\\n",
       "0                                      Negative emotion   \n",
       "1                                      Positive emotion   \n",
       "2                                      Positive emotion   \n",
       "3                                      Negative emotion   \n",
       "4                                      Positive emotion   \n",
       "...                                                 ...   \n",
       "9088                                   Positive emotion   \n",
       "9089                 No emotion toward brand or product   \n",
       "9090                 No emotion toward brand or product   \n",
       "9091                 No emotion toward brand or product   \n",
       "9092                 No emotion toward brand or product   \n",
       "\n",
       "                                  target  \\\n",
       "0                       Negative emotion   \n",
       "1                       Positive emotion   \n",
       "2                       Positive emotion   \n",
       "3                       Negative emotion   \n",
       "4                       Positive emotion   \n",
       "...                                  ...   \n",
       "9088                    Positive emotion   \n",
       "9089  No emotion toward brand or product   \n",
       "9090  No emotion toward brand or product   \n",
       "9091  No emotion toward brand or product   \n",
       "9092  No emotion toward brand or product   \n",
       "\n",
       "                                                   text  \\\n",
       "0     .@wesley83 I have a 3G iPhone. After 3 hrs twe...   \n",
       "1     @jessedee Know about @fludapp ? Awesome iPad/i...   \n",
       "2     @swonderlin Can not wait for #iPad 2 also. The...   \n",
       "3     @sxsw I hope this year's festival isn't as cra...   \n",
       "4     @sxtxstate great stuff on Fri #SXSW: Marissa M...   \n",
       "...                                                 ...   \n",
       "9088                      Ipad everywhere. #SXSW {link}   \n",
       "9089  Wave, buzz... RT @mention We interrupt your re...   \n",
       "9090  Google's Zeiger, a physician never reported po...   \n",
       "9091  Some Verizon iPhone customers complained their...   \n",
       "9092  Ï¡Ïàü_ÊÎÒ£Áââ_£â_ÛâRT @...   \n",
       "\n",
       "                                              tokenized  length  \n",
       "0     . @wesley83 3g iphon . 3 hr tweet #rise_austin...     127  \n",
       "1     @jessede know @fludapp ? awesom ipad / iphon a...     139  \n",
       "2          @swonderlin wait #ipad 2 also . sale #sxsw .      79  \n",
       "3     @sxsw hope year' festiv crashi year' iphon app...      82  \n",
       "4     @sxtxstate great stuff fri #sxsw : marissa may...     131  \n",
       "...                                                 ...     ...  \n",
       "9088                    ipad everywher . #sxsw { link }      29  \n",
       "9089  wave , buzz ... rt @mention interrupt regularl...     125  \n",
       "9090  google' zeiger , physician never report potent...     145  \n",
       "9091  verizon iphon custom complain time fell back h...     140  \n",
       "9092   ï ¡  ïà  ü_   ê   î   ò   £   á ...     104  \n",
       "\n",
       "[9070 rows x 6 columns]"
      ]
     },
     "execution_count": 350,
     "metadata": {},
     "output_type": "execute_result"
    }
   ],
   "source": [
    "df"
   ]
  },
  {
   "cell_type": "code",
   "execution_count": 352,
   "id": "23f58f7d",
   "metadata": {},
   "outputs": [
    {
     "data": {
      "text/plain": [
       "'.@wesley83 I have a 3G iPhone. After 3 hrs tweeting at #RISE_Austin, it was dead!  I need to upgrade. Plugin stations at #SXSW.'"
      ]
     },
     "execution_count": 352,
     "metadata": {},
     "output_type": "execute_result"
    }
   ],
   "source": [
    "# Start with one review:\n",
    "text = df.text[0]\n",
    "\n",
    "\n",
    "text"
   ]
  },
  {
   "cell_type": "code",
   "execution_count": 353,
   "id": "8819346c",
   "metadata": {},
   "outputs": [],
   "source": [
    "# Create and generate a word cloud image:\n",
    "wordcloud = WordCloud().generate(text)\n"
   ]
  },
  {
   "cell_type": "code",
   "execution_count": 354,
   "id": "1c6592dd",
   "metadata": {},
   "outputs": [
    {
     "data": {
      "image/png": "[encoded data removed]",
      "text/plain": [
       "<Figure size 432x288 with 1 Axes>"
      ]
     },
     "metadata": {
      "needs_background": "light"
     },
     "output_type": "display_data"
    }
   ],
   "source": [
    "# Display the generated image:\n",
    "plt.imshow(wordcloud, interpolation='bilinear')\n",
    "plt.axis(\"off\")\n",
    "plt.show()"
   ]
  },
  {
   "cell_type": "code",
   "execution_count": 362,
   "id": "16a2ebc7",
   "metadata": {},
   "outputs": [
    {
     "name": "stdout",
     "output_type": "stream",
     "text": [
      "There are 961053 words in the combination of all tweets.\n"
     ]
    }
   ],
   "source": [
    "text1 = \" \".join(review for review in df.text)\n",
    "print (\"There are {} words in the combination of all tweets.\".format(len(text1)))\n"
   ]
  },
  {
   "cell_type": "code",
   "execution_count": 363,
   "id": "0495b68e",
   "metadata": {},
   "outputs": [],
   "source": [
    "stopwords = set(STOPWORDS)"
   ]
  },
  {
   "cell_type": "code",
   "execution_count": 364,
   "id": "1115c276",
   "metadata": {},
   "outputs": [
    {
     "data": {
      "image/png": "[encoded data removed]",
      "text/plain": [
       "<Figure size 432x288 with 1 Axes>"
      ]
     },
     "metadata": {
      "needs_background": "light"
     },
     "output_type": "display_data"
    }
   ],
   "source": [
    "# Generate a word cloud image\n",
    "wordcloud = WordCloud(stopwords=stopwords, background_color=\"white\").generate(text1)\n",
    "\n",
    "# Display the generated image:\n",
    "# the matplotlib way:\n",
    "plt.imshow(wordcloud, interpolation='bilinear')\n",
    "plt.axis(\"off\")\n",
    "plt.show()"
   ]
  },
  {
   "cell_type": "markdown",
   "id": "a18d220c",
   "metadata": {},
   "source": [
    "### Train Test Split"
   ]
  },
  {
   "cell_type": "code",
   "execution_count": 266,
   "id": "46aa8e2f",
   "metadata": {},
   "outputs": [],
   "source": [
    "\n",
    "\n",
    "X_train, X_test, y_train, y_test = train_test_split(df['tokenized'], df['target'], random_state=42, stratify=df['target'])"
   ]
  },
  {
   "cell_type": "code",
   "execution_count": 267,
   "id": "50a7b81d",
   "metadata": {},
   "outputs": [
    {
     "data": {
      "text/plain": [
       "(6802,)"
      ]
     },
     "execution_count": 267,
     "metadata": {},
     "output_type": "execute_result"
    }
   ],
   "source": [
    "X_train.shape"
   ]
  },
  {
   "cell_type": "markdown",
   "id": "236e2fbf",
   "metadata": {},
   "source": [
    "### Data Cleaning "
   ]
  },
  {
   "cell_type": "code",
   "execution_count": 268,
   "id": "bf78f330",
   "metadata": {},
   "outputs": [],
   "source": [
    "df_train = pd.concat([X_train, y_train], axis =1)\n"
   ]
  },
  {
   "cell_type": "code",
   "execution_count": 269,
   "id": "e3ffd716",
   "metadata": {},
   "outputs": [],
   "source": [
    "df_test = pd.concat([X_test, y_test], axis =1)\n"
   ]
  },
  {
   "cell_type": "code",
   "execution_count": 270,
   "id": "e37e4552",
   "metadata": {},
   "outputs": [],
   "source": [
    "def drop_unidentified(df):\n",
    "    '''\n",
    "    Drop rows from DataFrame where the target is 'I can't tell'.\n",
    "    '''\n",
    "    df.drop(df.loc[df['target']==\"I can't tell\"].index, inplace=True)\n",
    "    return df"
   ]
  },
  {
   "cell_type": "code",
   "execution_count": 271,
   "id": "39af8d02",
   "metadata": {},
   "outputs": [],
   "source": [
    "def label(df):\n",
    "    '''\n",
    "    Encode values of the target to numerical data.\n",
    "    '''\n",
    "    df['target'] = df['target'].map({'No emotion toward brand or product': 0,\n",
    "                                     'Negative emotion': 1,\n",
    "                                     'Positive emotion': 2})\n",
    "    return df"
   ]
  },
  {
   "cell_type": "code",
   "execution_count": 272,
   "id": "6602f5ca",
   "metadata": {},
   "outputs": [],
   "source": [
    "cleaning_pipeline = Pipeline(steps=[\n",
    "    ('drop', FunctionTransformer(drop_unidentified)),\n",
    "    ('label', FunctionTransformer(label))\n",
    "])"
   ]
  },
  {
   "cell_type": "code",
   "execution_count": 273,
   "id": "5bfd9383",
   "metadata": {},
   "outputs": [],
   "source": [
    "df_train_clean = cleaning_pipeline.fit_transform(df_train)\n",
    "df_test_clean = cleaning_pipeline.transform(df_test)"
   ]
  },
  {
   "cell_type": "markdown",
   "id": "0c67491e",
   "metadata": {},
   "source": [
    "#### Logistic with stemming and lemming "
   ]
  },
  {
   "cell_type": "code",
   "execution_count": 339,
   "id": "1b35853c",
   "metadata": {},
   "outputs": [
    {
     "data": {
      "text/plain": [
       "Pipeline(steps=[('tifidf',\n",
       "                 TfidfVectorizer(stop_words=['i', 'me', 'my', 'myself', 'we',\n",
       "                                             'our', 'ours', 'ourselves', 'you',\n",
       "                                             \"you're\", \"you've\", \"you'll\",\n",
       "                                             \"you'd\", 'your', 'yours',\n",
       "                                             'yourself', 'yourselves', 'he',\n",
       "                                             'him', 'his', 'himself', 'she',\n",
       "                                             \"she's\", 'her', 'hers', 'herself',\n",
       "                                             'it', \"it's\", 'its', 'itself', ...])),\n",
       "                ('log',\n",
       "                 LogisticRegression(class_weight={0: 1.0, 1: 2.0, 2: 1.5},\n",
       "                                    max_iter=100000))])"
      ]
     },
     "execution_count": 339,
     "metadata": {},
     "output_type": "execute_result"
    }
   ],
   "source": [
    "weights = {0: 1.0, 1: 2.0, 2: 1.5}\n",
    "log_lem_pipe= imbpipe([('tifidf', TfidfVectorizer(stop_words=sw)),\n",
    "                    ('log', LogisticRegression(max_iter=100000, class_weight=weights))\n",
    "                     \n",
    "                    ])\n",
    "\n",
    "log_lem_pipe.fit(df_train_clean['tokenized'], df_train_clean['target'])"
   ]
  },
  {
   "cell_type": "code",
   "execution_count": 340,
   "id": "6f66264d",
   "metadata": {},
   "outputs": [
    {
     "name": "stdout",
     "output_type": "stream",
     "text": [
      "[0.8565819  0.84760658 0.85321616 0.85172027 0.85695587]\n",
      "Training Accuracy 0.8532161555721766\n",
      "##############\n",
      "[0.66417352 0.68586387 0.67688856 0.68511593 0.65220643]\n",
      "Cross_Val Accuracy 0.6728496634255795\n",
      "##############\n",
      "Training Macro Precision: 0.8673202405135626\n",
      "Cross_Val Macro Precision: 0.6204462229803754\n",
      "##############\n",
      "Training Macro Recall: 0.771007295115868\n",
      "Cross_Val Macro Recall: 0.5163821573957509\n",
      "##############\n",
      "Training Macro F1: 0.8067485266749091\n",
      "Cross_Val Macro F1: 0.538757335543347\n"
     ]
    }
   ],
   "source": [
    "print_cv_scores(log_lem_pipe, df_train_clean['tokenized'], df_train_clean['target'])"
   ]
  },
  {
   "cell_type": "code",
   "execution_count": 341,
   "id": "fb1e950d",
   "metadata": {},
   "outputs": [
    {
     "data": {
      "image/png": "[encoded data removed]",
      "text/plain": [
       "<Figure size 432x288 with 2 Axes>"
      ]
     },
     "metadata": {
      "needs_background": "light"
     },
     "output_type": "display_data"
    }
   ],
   "source": [
    "plot_confusion_matrix(log_lem_pipe, \n",
    "                      df_train_clean['tokenized'], \n",
    "                      df_train_clean['target'], \n",
    "                      normalize='pred');"
   ]
  },
  {
   "cell_type": "code",
   "execution_count": 324,
   "id": "2d12a33b",
   "metadata": {},
   "outputs": [
    {
     "name": "stderr",
     "output_type": "stream",
     "text": [
      "/Users/raylinsoriano/anaconda3/lib/python3.8/site-packages/sklearn/naive_bayes.py:508: UserWarning: alpha too small will result in numeric errors, setting alpha = 1.0e-10\n",
      "  warnings.warn('alpha too small will result in numeric errors, '\n"
     ]
    },
    {
     "data": {
      "text/plain": [
       "Pipeline(steps=[('tifidf',\n",
       "                 TfidfVectorizer(stop_words=['i', 'me', 'my', 'myself', 'we',\n",
       "                                             'our', 'ours', 'ourselves', 'you',\n",
       "                                             \"you're\", \"you've\", \"you'll\",\n",
       "                                             \"you'd\", 'your', 'yours',\n",
       "                                             'yourself', 'yourselves', 'he',\n",
       "                                             'him', 'his', 'himself', 'she',\n",
       "                                             \"she's\", 'her', 'hers', 'herself',\n",
       "                                             'it', \"it's\", 'its', 'itself', ...])),\n",
       "                ('nb', MultinomialNB(alpha=0))])"
      ]
     },
     "execution_count": 324,
     "metadata": {},
     "output_type": "execute_result"
    }
   ],
   "source": [
    "bayes_pipe = Pipeline([('tifidf', TfidfVectorizer(stop_words=sw)),\n",
    "                    ('nb', MultinomialNB())\n",
    "                     \n",
    "                    ])\n",
    "bayes_pipe.fit(df_train_clean['tokenized'], df_train_clean['target'])"
   ]
  },
  {
   "cell_type": "code",
   "execution_count": 325,
   "id": "fc4e40e9",
   "metadata": {},
   "outputs": [
    {
     "name": "stderr",
     "output_type": "stream",
     "text": [
      "/Users/raylinsoriano/anaconda3/lib/python3.8/site-packages/sklearn/naive_bayes.py:508: UserWarning: alpha too small will result in numeric errors, setting alpha = 1.0e-10\n",
      "  warnings.warn('alpha too small will result in numeric errors, '\n",
      "/Users/raylinsoriano/anaconda3/lib/python3.8/site-packages/sklearn/naive_bayes.py:508: UserWarning: alpha too small will result in numeric errors, setting alpha = 1.0e-10\n",
      "  warnings.warn('alpha too small will result in numeric errors, '\n",
      "/Users/raylinsoriano/anaconda3/lib/python3.8/site-packages/sklearn/naive_bayes.py:508: UserWarning: alpha too small will result in numeric errors, setting alpha = 1.0e-10\n",
      "  warnings.warn('alpha too small will result in numeric errors, '\n",
      "/Users/raylinsoriano/anaconda3/lib/python3.8/site-packages/sklearn/naive_bayes.py:508: UserWarning: alpha too small will result in numeric errors, setting alpha = 1.0e-10\n",
      "  warnings.warn('alpha too small will result in numeric errors, '\n",
      "/Users/raylinsoriano/anaconda3/lib/python3.8/site-packages/sklearn/naive_bayes.py:508: UserWarning: alpha too small will result in numeric errors, setting alpha = 1.0e-10\n",
      "  warnings.warn('alpha too small will result in numeric errors, '\n"
     ]
    },
    {
     "name": "stdout",
     "output_type": "stream",
     "text": [
      "[0.88649963 0.88612565 0.88500374 0.88668661 0.89098728]\n",
      "Training Accuracy 0.8870605833956621\n",
      "##############\n",
      "[0.66043381 0.64397906 0.64622289 0.66267764 0.64248317]\n",
      "Cross_Val Accuracy 0.6511593118922963\n",
      "##############\n",
      "Training Macro Precision: 0.9012097615347828\n",
      "Cross_Val Macro Precision: 0.5963882578692783\n",
      "##############\n",
      "Training Macro Recall: 0.8478719874792763\n",
      "Cross_Val Macro Recall: 0.5045613648534482\n",
      "##############\n",
      "Training Macro F1: 0.8716324566915535\n",
      "Cross_Val Macro F1: 0.5300633250337279\n"
     ]
    }
   ],
   "source": [
    "print_cv_scores(bayes_pipe,df_train_clean['tokenized'], df_train_clean['target'] )"
   ]
  },
  {
   "cell_type": "code",
   "execution_count": 326,
   "id": "d0b69a4c",
   "metadata": {},
   "outputs": [
    {
     "data": {
      "image/png": "[encoded data removed]",
      "text/plain": [
       "<Figure size 432x288 with 2 Axes>"
      ]
     },
     "metadata": {
      "needs_background": "light"
     },
     "output_type": "display_data"
    }
   ],
   "source": [
    "plot_confusion_matrix(bayes_pipe, \n",
    "                      df_train_clean['tokenized'], \n",
    "                      df_train_clean['target'], \n",
    "                      normalize='pred');"
   ]
  },
  {
   "cell_type": "markdown",
   "id": "163a5a7e",
   "metadata": {},
   "source": [
    "#### First Model Pipline\n",
    "\n"
   ]
  },
  {
   "cell_type": "code",
   "execution_count": 197,
   "id": "c868c77d",
   "metadata": {},
   "outputs": [],
   "source": [
    "sw = stopwords.words('english')"
   ]
  },
  {
   "cell_type": "code",
   "execution_count": 198,
   "id": "9f4df4f2",
   "metadata": {},
   "outputs": [],
   "source": [
    "\n",
    "\n",
    "fsm_pipe= Pipeline([('cv', CountVectorizer(stop_words=sw)),\n",
    "                    ('nb', MultinomialNB())\n",
    "                     \n",
    "                    ])"
   ]
  },
  {
   "cell_type": "code",
   "execution_count": 199,
   "id": "ac29c02f",
   "metadata": {},
   "outputs": [
    {
     "data": {
      "text/plain": [
       "Pipeline(steps=[('cv',\n",
       "                 CountVectorizer(stop_words=['i', 'me', 'my', 'myself', 'we',\n",
       "                                             'our', 'ours', 'ourselves', 'you',\n",
       "                                             \"you're\", \"you've\", \"you'll\",\n",
       "                                             \"you'd\", 'your', 'yours',\n",
       "                                             'yourself', 'yourselves', 'he',\n",
       "                                             'him', 'his', 'himself', 'she',\n",
       "                                             \"she's\", 'her', 'hers', 'herself',\n",
       "                                             'it', \"it's\", 'its', 'itself', ...])),\n",
       "                ('nb', MultinomialNB())])"
      ]
     },
     "execution_count": 199,
     "metadata": {},
     "output_type": "execute_result"
    }
   ],
   "source": [
    "fsm_pipe.fit(df_train_clean['text'], df_train_clean['target'])"
   ]
  },
  {
   "cell_type": "code",
   "execution_count": 27,
   "id": "c1bf40be",
   "metadata": {},
   "outputs": [],
   "source": [
    "y_hat = fsm_pipe.predict(df_train_clean['text'])"
   ]
  },
  {
   "cell_type": "code",
   "execution_count": 28,
   "id": "e33f268e",
   "metadata": {},
   "outputs": [
    {
     "data": {
      "text/plain": [
       "0.8250074783128926"
      ]
     },
     "execution_count": 28,
     "metadata": {},
     "output_type": "execute_result"
    }
   ],
   "source": [
    "accuracy_score(df_train_clean['target'], y_hat)"
   ]
  },
  {
   "cell_type": "code",
   "execution_count": 29,
   "id": "c9d9f6d9",
   "metadata": {},
   "outputs": [
    {
     "data": {
      "text/plain": [
       "array([[3655,   31,  346],\n",
       "       [ 147,  191,   89],\n",
       "       [ 554,    3, 1670]])"
      ]
     },
     "execution_count": 29,
     "metadata": {},
     "output_type": "execute_result"
    }
   ],
   "source": [
    "confusion_matrix(df_train_clean['target'], y_hat)"
   ]
  },
  {
   "cell_type": "code",
   "execution_count": 30,
   "id": "319765fa",
   "metadata": {},
   "outputs": [
    {
     "data": {
      "text/plain": [
       "<sklearn.metrics._plot.confusion_matrix.ConfusionMatrixDisplay at 0x7fb0bb37ad90>"
      ]
     },
     "execution_count": 30,
     "metadata": {},
     "output_type": "execute_result"
    },
    {
     "data": {
      "image/png": "[encoded data removed]",
      "text/plain": [
       "<Figure size 432x288 with 2 Axes>"
      ]
     },
     "metadata": {
      "needs_background": "light"
     },
     "output_type": "display_data"
    }
   ],
   "source": [
    "plot_confusion_matrix(fsm_pipe, df_train_clean['text'], df_train_clean['target'], normalize='pred')"
   ]
  },
  {
   "cell_type": "code",
   "execution_count": 31,
   "id": "ab2a1537",
   "metadata": {},
   "outputs": [],
   "source": [
    "#cross_val_score(MultinomialNB(),  df_train_clean['text'], df_train_clean['target'])"
   ]
  },
  {
   "cell_type": "code",
   "execution_count": 32,
   "id": "bcba580c",
   "metadata": {},
   "outputs": [],
   "source": [
    "def print_cv_scores(pipe, X, y):\n",
    "    '''\n",
    "    Runs cross_validate on given feature and multiclass target arrays using given pipeline, \n",
    "    printing the scoring results for both training and cross_val.\n",
    "    '''\n",
    "    scoring = ['accuracy','precision_macro', 'recall_macro', 'f1_macro']\n",
    "    \n",
    "    results = cross_validate(pipe, X, \n",
    "                                   y, \n",
    "                                   return_train_score=True, scoring=scoring)\n",
    "    \n",
    "    print(results['train_accuracy'])\n",
    "    print('Training Accuracy', results['train_accuracy'].mean())\n",
    "    print('##############')\n",
    "    print(results['test_accuracy'])\n",
    "    print('Cross_Val Accuracy', results['test_accuracy'].mean())\n",
    "    print('##############')\n",
    "    print('Training Macro Precision:', results['train_precision_macro'].mean())\n",
    "    print('Cross_Val Macro Precision:', results['test_precision_macro'].mean())\n",
    "    print('##############')\n",
    "    print('Training Macro Recall:', results['train_recall_macro'].mean())\n",
    "    print('Cross_Val Macro Recall:', results['test_recall_macro'].mean())\n",
    "    print('##############')\n",
    "    print('Training Macro F1:', results['train_f1_macro'].mean())\n",
    "    print('Cross_Val Macro F1:', results['test_f1_macro'].mean())"
   ]
  },
  {
   "cell_type": "code",
   "execution_count": 33,
   "id": "1a1a622a",
   "metadata": {},
   "outputs": [
    {
     "name": "stdout",
     "output_type": "stream",
     "text": [
      "[0.83320868 0.8315573  0.83716583 0.83174425 0.83062255]\n",
      "Training Accuracy 0.8328597198981544\n",
      "##############\n",
      "[0.65620329 0.66566941 0.65220643 0.65445026 0.6776365 ]\n",
      "Cross_Val Accuracy 0.6612331782664935\n",
      "##############\n",
      "Training Macro Precision: 0.8402823256340284\n",
      "Cross_Val Macro Precision: 0.6235520169778846\n",
      "##############\n",
      "Training Macro Recall: 0.7073065001140836\n",
      "Cross_Val Macro Recall: 0.47856438405752827\n",
      "##############\n",
      "Training Macro F1: 0.7507747531463266\n",
      "Cross_Val Macro F1: 0.49794966918633354\n"
     ]
    }
   ],
   "source": [
    "print_cv_scores(fsm_pipe, df_train_clean['text'], df_train_clean['target'])"
   ]
  },
  {
   "cell_type": "code",
   "execution_count": 34,
   "id": "15fcca09",
   "metadata": {},
   "outputs": [],
   "source": [
    "sec_pipe= imbpipe([('tifid', TfidfVectorizer(stop_words=sw)),\n",
    "                    ('smote', SMOTE(random_state=42)),\n",
    "                    ('nb', MultinomialNB())\n",
    "                     \n",
    "                    ])"
   ]
  },
  {
   "cell_type": "code",
   "execution_count": 35,
   "id": "7e1826fb",
   "metadata": {},
   "outputs": [
    {
     "data": {
      "text/plain": [
       "Pipeline(steps=[('tifid',\n",
       "                 TfidfVectorizer(stop_words=['i', 'me', 'my', 'myself', 'we',\n",
       "                                             'our', 'ours', 'ourselves', 'you',\n",
       "                                             \"you're\", \"you've\", \"you'll\",\n",
       "                                             \"you'd\", 'your', 'yours',\n",
       "                                             'yourself', 'yourselves', 'he',\n",
       "                                             'him', 'his', 'himself', 'she',\n",
       "                                             \"she's\", 'her', 'hers', 'herself',\n",
       "                                             'it', \"it's\", 'its', 'itself', ...])),\n",
       "                ('smote', SMOTE(random_state=42)), ('nb', MultinomialNB())])"
      ]
     },
     "execution_count": 35,
     "metadata": {},
     "output_type": "execute_result"
    }
   ],
   "source": [
    "sec_pipe.fit(df_train_clean['text'], df_train_clean['target'])"
   ]
  },
  {
   "cell_type": "code",
   "execution_count": 36,
   "id": "20df6b54",
   "metadata": {},
   "outputs": [
    {
     "data": {
      "text/plain": [
       "<sklearn.metrics._plot.confusion_matrix.ConfusionMatrixDisplay at 0x7fb0bdeadf10>"
      ]
     },
     "execution_count": 36,
     "metadata": {},
     "output_type": "execute_result"
    },
    {
     "data": {
      "image/png": "[encoded data removed]",
      "text/plain": [
       "<Figure size 432x288 with 2 Axes>"
      ]
     },
     "metadata": {
      "needs_background": "light"
     },
     "output_type": "display_data"
    }
   ],
   "source": [
    "plot_confusion_matrix(sec_pipe, df_train_clean['text'], df_train_clean['target'], normalize='pred')"
   ]
  },
  {
   "cell_type": "code",
   "execution_count": 185,
   "id": "d7ad98e5",
   "metadata": {},
   "outputs": [
    {
     "name": "stdout",
     "output_type": "stream",
     "text": [
      "[0.79394166 0.80164517 0.79323238 0.79622359 0.79398018]\n",
      "Training Accuracy 0.7958045968091395\n",
      "##############\n",
      "[0.5799701  0.59461481 0.57068063 0.57666417 0.59760658]\n",
      "Cross_Val Accuracy 0.5839072595206233\n",
      "##############\n",
      "Training Macro Precision: 0.7220145734861586\n",
      "Cross_Val Macro Precision: 0.505769334019282\n",
      "##############\n",
      "Training Macro Recall: 0.858773519015488\n",
      "Cross_Val Macro Recall: 0.5774607393080815\n",
      "##############\n",
      "Training Macro F1: 0.7609760019135543\n",
      "Cross_Val Macro F1: 0.5167083774129507\n"
     ]
    }
   ],
   "source": [
    "print_cv_scores(sec_pipe, df_train_clean['text'], df_train_clean['target'])"
   ]
  },
  {
   "cell_type": "markdown",
   "id": "797ec6c0",
   "metadata": {},
   "source": [
    "### Running Logistic Models"
   ]
  },
  {
   "cell_type": "code",
   "execution_count": 37,
   "id": "2b15544e",
   "metadata": {},
   "outputs": [],
   "source": [
    "param = {'log__class_weight': [None, 'balanced'], \n",
    "         'log__tol': [0.0001, 0.01, 0.1]\n",
    "        }"
   ]
  },
  {
   "cell_type": "code",
   "execution_count": 38,
   "id": "1e706d66",
   "metadata": {},
   "outputs": [
    {
     "data": {
      "text/plain": [
       "Pipeline(steps=[('cv',\n",
       "                 CountVectorizer(stop_words=['i', 'me', 'my', 'myself', 'we',\n",
       "                                             'our', 'ours', 'ourselves', 'you',\n",
       "                                             \"you're\", \"you've\", \"you'll\",\n",
       "                                             \"you'd\", 'your', 'yours',\n",
       "                                             'yourself', 'yourselves', 'he',\n",
       "                                             'him', 'his', 'himself', 'she',\n",
       "                                             \"she's\", 'her', 'hers', 'herself',\n",
       "                                             'it', \"it's\", 'its', 'itself', ...])),\n",
       "                ('log', LogisticRegression(max_iter=100000))])"
      ]
     },
     "execution_count": 38,
     "metadata": {},
     "output_type": "execute_result"
    }
   ],
   "source": [
    "log_pipe= Pipeline([('cv', CountVectorizer(stop_words=sw)),\n",
    "                    ('log', LogisticRegression(max_iter=100000))\n",
    "                     \n",
    "                    ])\n",
    "\n",
    "log_pipe.fit(df_train_clean['text'], df_train_clean['target'])"
   ]
  },
  {
   "cell_type": "code",
   "execution_count": 223,
   "id": "3412d540",
   "metadata": {},
   "outputs": [],
   "source": [
    "grid = GridSearchCV(log_pipe, param, scoring= 'precision_macro',cv=5)"
   ]
  },
  {
   "cell_type": "code",
   "execution_count": 202,
   "id": "2de333c1",
   "metadata": {},
   "outputs": [
    {
     "data": {
      "text/plain": [
       "GridSearchCV(cv=5,\n",
       "             estimator=Pipeline(steps=[('cv',\n",
       "                                        CountVectorizer(stop_words=['i', 'me',\n",
       "                                                                    'my',\n",
       "                                                                    'myself',\n",
       "                                                                    'we', 'our',\n",
       "                                                                    'ours',\n",
       "                                                                    'ourselves',\n",
       "                                                                    'you',\n",
       "                                                                    \"you're\",\n",
       "                                                                    \"you've\",\n",
       "                                                                    \"you'll\",\n",
       "                                                                    \"you'd\",\n",
       "                                                                    'your',\n",
       "                                                                    'yours',\n",
       "                                                                    'yourself',\n",
       "                                                                    'yourselves',\n",
       "                                                                    'he', 'him',\n",
       "                                                                    'his',\n",
       "                                                                    'himself',\n",
       "                                                                    'she',\n",
       "                                                                    \"she's\",\n",
       "                                                                    'her',\n",
       "                                                                    'hers',\n",
       "                                                                    'herself',\n",
       "                                                                    'it',\n",
       "                                                                    \"it's\",\n",
       "                                                                    'its',\n",
       "                                                                    'itself', ...])),\n",
       "                                       ('log',\n",
       "                                        LogisticRegression(max_iter=1000))]),\n",
       "             param_grid={'log__class_weight': [None, 'balanced'],\n",
       "                         'log__tol': [0.0001, 0.01, 0.1]},\n",
       "             scoring='precision_macro')"
      ]
     },
     "execution_count": 202,
     "metadata": {},
     "output_type": "execute_result"
    }
   ],
   "source": [
    "grid.fit(df_train_clean['text'], df_train_clean['target'])"
   ]
  },
  {
   "cell_type": "code",
   "execution_count": 203,
   "id": "f61689ba",
   "metadata": {},
   "outputs": [
    {
     "data": {
      "text/plain": [
       "Pipeline(steps=[('cv',\n",
       "                 CountVectorizer(stop_words=['i', 'me', 'my', 'myself', 'we',\n",
       "                                             'our', 'ours', 'ourselves', 'you',\n",
       "                                             \"you're\", \"you've\", \"you'll\",\n",
       "                                             \"you'd\", 'your', 'yours',\n",
       "                                             'yourself', 'yourselves', 'he',\n",
       "                                             'him', 'his', 'himself', 'she',\n",
       "                                             \"she's\", 'her', 'hers', 'herself',\n",
       "                                             'it', \"it's\", 'its', 'itself', ...])),\n",
       "                ('log', LogisticRegression(max_iter=1000))])"
      ]
     },
     "execution_count": 203,
     "metadata": {},
     "output_type": "execute_result"
    }
   ],
   "source": [
    "grid.best_estimator_"
   ]
  },
  {
   "cell_type": "code",
   "execution_count": 204,
   "id": "98d92ab2",
   "metadata": {},
   "outputs": [
    {
     "data": {
      "text/plain": [
       "{'log__class_weight': None, 'log__tol': 0.0001}"
      ]
     },
     "execution_count": 204,
     "metadata": {},
     "output_type": "execute_result"
    }
   ],
   "source": [
    "grid.best_params_"
   ]
  },
  {
   "cell_type": "code",
   "execution_count": 205,
   "id": "65b57029",
   "metadata": {},
   "outputs": [
    {
     "data": {
      "text/plain": [
       "0.6200105211453915"
      ]
     },
     "execution_count": 205,
     "metadata": {},
     "output_type": "execute_result"
    }
   ],
   "source": [
    "grid.best_score_"
   ]
  },
  {
   "cell_type": "code",
   "execution_count": 63,
   "id": "4a5d7b17",
   "metadata": {},
   "outputs": [
    {
     "name": "stdout",
     "output_type": "stream",
     "text": [
      "[0.92183994 0.9212937  0.9209198  0.92353711 0.92148065]\n",
      "Training Accuracy 0.9218142396687293\n",
      "##############\n",
      "[0.67713004 0.6881077  0.68362004 0.67389678 0.67539267]\n",
      "Cross_Val Accuracy 0.679629449507129\n",
      "##############\n",
      "Training Macro Precision: 0.9450352765352561\n",
      "Cross_Val Macro Precision: 0.6200105211453915\n",
      "##############\n",
      "Training Macro Recall: 0.8790958617664917\n",
      "Cross_Val Macro Recall: 0.5224336726940089\n",
      "##############\n",
      "Training Macro F1: 0.9081806986636474\n",
      "Cross_Val Macro F1: 0.5479293229316939\n"
     ]
    }
   ],
   "source": [
    "print_cv_scores(log_pipe, df_train_clean['text'], df_train_clean['target'])"
   ]
  },
  {
   "cell_type": "markdown",
   "id": "82bf6aab",
   "metadata": {},
   "source": [
    "##### running logistic with smote"
   ]
  },
  {
   "cell_type": "code",
   "execution_count": 39,
   "id": "b36b3c6d",
   "metadata": {},
   "outputs": [
    {
     "data": {
      "text/plain": [
       "Pipeline(steps=[('cv',\n",
       "                 CountVectorizer(stop_words=['i', 'me', 'my', 'myself', 'we',\n",
       "                                             'our', 'ours', 'ourselves', 'you',\n",
       "                                             \"you're\", \"you've\", \"you'll\",\n",
       "                                             \"you'd\", 'your', 'yours',\n",
       "                                             'yourself', 'yourselves', 'he',\n",
       "                                             'him', 'his', 'himself', 'she',\n",
       "                                             \"she's\", 'her', 'hers', 'herself',\n",
       "                                             'it', \"it's\", 'its', 'itself', ...])),\n",
       "                ('smote', SMOTE(random_state=42)),\n",
       "                ('log', LogisticRegression(max_iter=1000))])"
      ]
     },
     "execution_count": 39,
     "metadata": {},
     "output_type": "execute_result"
    }
   ],
   "source": [
    "log_smote_pipe= imbpipe([('cv', CountVectorizer(stop_words=sw)),\n",
    "                    ('smote', SMOTE(random_state=42)),\n",
    "                    ('log', LogisticRegression(max_iter=1000))\n",
    "                     \n",
    "                    ])\n",
    "\n",
    "log_smote_pipe.fit(df_train_clean['text'], df_train_clean['target'])"
   ]
  },
  {
   "cell_type": "code",
   "execution_count": 207,
   "id": "786a2745",
   "metadata": {},
   "outputs": [],
   "source": [
    "grid2 = GridSearchCV(log_smote_pipe, param, scoring= 'precision_macro',cv=5)"
   ]
  },
  {
   "cell_type": "code",
   "execution_count": 208,
   "id": "0799ef63",
   "metadata": {},
   "outputs": [
    {
     "data": {
      "text/plain": [
       "GridSearchCV(cv=5,\n",
       "             estimator=Pipeline(steps=[('cv',\n",
       "                                        CountVectorizer(stop_words=['i', 'me',\n",
       "                                                                    'my',\n",
       "                                                                    'myself',\n",
       "                                                                    'we', 'our',\n",
       "                                                                    'ours',\n",
       "                                                                    'ourselves',\n",
       "                                                                    'you',\n",
       "                                                                    \"you're\",\n",
       "                                                                    \"you've\",\n",
       "                                                                    \"you'll\",\n",
       "                                                                    \"you'd\",\n",
       "                                                                    'your',\n",
       "                                                                    'yours',\n",
       "                                                                    'yourself',\n",
       "                                                                    'yourselves',\n",
       "                                                                    'he', 'him',\n",
       "                                                                    'his',\n",
       "                                                                    'himself',\n",
       "                                                                    'she',\n",
       "                                                                    \"she's\",\n",
       "                                                                    'her',\n",
       "                                                                    'hers',\n",
       "                                                                    'herself',\n",
       "                                                                    'it',\n",
       "                                                                    \"it's\",\n",
       "                                                                    'its',\n",
       "                                                                    'itself', ...])),\n",
       "                                       ('smote', SMOTE(random_state=42)),\n",
       "                                       ('log',\n",
       "                                        LogisticRegression(max_iter=1000))]),\n",
       "             param_grid={'log__class_weight': [None, 'balanced'],\n",
       "                         'log__tol': [0.0001, 0.01, 0.1]},\n",
       "             scoring='precision_macro')"
      ]
     },
     "execution_count": 208,
     "metadata": {},
     "output_type": "execute_result"
    }
   ],
   "source": [
    "grid2.fit(df_train_clean['text'], df_train_clean['target'])"
   ]
  },
  {
   "cell_type": "code",
   "execution_count": 209,
   "id": "cce13de5",
   "metadata": {},
   "outputs": [
    {
     "data": {
      "text/plain": [
       "{'log__class_weight': None, 'log__tol': 0.0001}"
      ]
     },
     "execution_count": 209,
     "metadata": {},
     "output_type": "execute_result"
    }
   ],
   "source": [
    "grid2.best_params_"
   ]
  },
  {
   "cell_type": "code",
   "execution_count": 210,
   "id": "20767fbe",
   "metadata": {},
   "outputs": [
    {
     "data": {
      "text/plain": [
       "0.5008482161299347"
      ]
     },
     "execution_count": 210,
     "metadata": {},
     "output_type": "execute_result"
    }
   ],
   "source": [
    "grid2.best_score_"
   ]
  },
  {
   "cell_type": "markdown",
   "id": "1d779131",
   "metadata": {},
   "source": [
    "The model did worst with smoteing"
   ]
  },
  {
   "cell_type": "code",
   "execution_count": 40,
   "id": "33d2b503",
   "metadata": {},
   "outputs": [
    {
     "name": "stdout",
     "output_type": "stream",
     "text": [
      "[0.90052356 0.89549448 0.89605534 0.90315947 0.89661619]\n",
      "Training Accuracy 0.8983698083215634\n",
      "##############\n",
      "[0.60762332 0.61256545 0.60957367 0.61106956 0.63051608]\n",
      "Cross_Val Accuracy 0.6142696150608249\n",
      "##############\n",
      "Training Macro Precision: 0.8639969509739605\n",
      "Cross_Val Macro Precision: 0.5008482161299347\n",
      "##############\n",
      "Training Macro Recall: 0.884176477266094\n",
      "Cross_Val Macro Recall: 0.5288772099777101\n",
      "##############\n",
      "Training Macro F1: 0.8736002995230747\n",
      "Cross_Val Macro F1: 0.5106749517847732\n"
     ]
    }
   ],
   "source": [
    "print_cv_scores(log_smote_pipe, df_train_clean['text'], df_train_clean['target'])"
   ]
  },
  {
   "cell_type": "markdown",
   "id": "d10791ff",
   "metadata": {},
   "source": [
    "##### Adding more paramters to grid search"
   ]
  },
  {
   "cell_type": "code",
   "execution_count": 41,
   "id": "38c27ae4",
   "metadata": {},
   "outputs": [],
   "source": [
    "param2 = {'log__class_weight': [None, 'balanced'], \n",
    "         'log__tol': [0.0001, 0.01, 0.1],\n",
    "         'log__C' : [0.0001,0.001,0.01],\n",
    "         'log__penalty': ['l2','none']\n",
    "        }\n"
   ]
  },
  {
   "cell_type": "code",
   "execution_count": 226,
   "id": "45824d4a",
   "metadata": {},
   "outputs": [],
   "source": [
    "grid3 = GridSearchCV(log_pipe, param2, scoring= 'precision_macro',cv=5, verbose=2)"
   ]
  },
  {
   "cell_type": "code",
   "execution_count": 227,
   "id": "cbad9ce5",
   "metadata": {},
   "outputs": [
    {
     "name": "stdout",
     "output_type": "stream",
     "text": [
      "Fitting 5 folds for each of 36 candidates, totalling 180 fits\n"
     ]
    },
    {
     "name": "stderr",
     "output_type": "stream",
     "text": [
      "/Users/raylinsoriano/anaconda3/lib/python3.8/site-packages/sklearn/metrics/_classification.py:1248: UndefinedMetricWarning: Precision is ill-defined and being set to 0.0 in labels with no predicted samples. Use `zero_division` parameter to control this behavior.\n",
      "  _warn_prf(average, modifier, msg_start, len(result))\n"
     ]
    },
    {
     "name": "stdout",
     "output_type": "stream",
     "text": [
      "[CV] END log__C=0.0001, log__class_weight=None, log__penalty=l2, log__tol=0.0001; total time=   0.3s\n"
     ]
    },
    {
     "name": "stderr",
     "output_type": "stream",
     "text": [
      "/Users/raylinsoriano/anaconda3/lib/python3.8/site-packages/sklearn/metrics/_classification.py:1248: UndefinedMetricWarning: Precision is ill-defined and being set to 0.0 in labels with no predicted samples. Use `zero_division` parameter to control this behavior.\n",
      "  _warn_prf(average, modifier, msg_start, len(result))\n"
     ]
    },
    {
     "name": "stdout",
     "output_type": "stream",
     "text": [
      "[CV] END log__C=0.0001, log__class_weight=None, log__penalty=l2, log__tol=0.0001; total time=   0.3s\n"
     ]
    },
    {
     "name": "stderr",
     "output_type": "stream",
     "text": [
      "/Users/raylinsoriano/anaconda3/lib/python3.8/site-packages/sklearn/metrics/_classification.py:1248: UndefinedMetricWarning: Precision is ill-defined and being set to 0.0 in labels with no predicted samples. Use `zero_division` parameter to control this behavior.\n",
      "  _warn_prf(average, modifier, msg_start, len(result))\n"
     ]
    },
    {
     "name": "stdout",
     "output_type": "stream",
     "text": [
      "[CV] END log__C=0.0001, log__class_weight=None, log__penalty=l2, log__tol=0.0001; total time=   0.4s\n"
     ]
    },
    {
     "name": "stderr",
     "output_type": "stream",
     "text": [
      "/Users/raylinsoriano/anaconda3/lib/python3.8/site-packages/sklearn/metrics/_classification.py:1248: UndefinedMetricWarning: Precision is ill-defined and being set to 0.0 in labels with no predicted samples. Use `zero_division` parameter to control this behavior.\n",
      "  _warn_prf(average, modifier, msg_start, len(result))\n"
     ]
    },
    {
     "name": "stdout",
     "output_type": "stream",
     "text": [
      "[CV] END log__C=0.0001, log__class_weight=None, log__penalty=l2, log__tol=0.0001; total time=   0.5s\n"
     ]
    },
    {
     "name": "stderr",
     "output_type": "stream",
     "text": [
      "/Users/raylinsoriano/anaconda3/lib/python3.8/site-packages/sklearn/metrics/_classification.py:1248: UndefinedMetricWarning: Precision is ill-defined and being set to 0.0 in labels with no predicted samples. Use `zero_division` parameter to control this behavior.\n",
      "  _warn_prf(average, modifier, msg_start, len(result))\n"
     ]
    },
    {
     "name": "stdout",
     "output_type": "stream",
     "text": [
      "[CV] END log__C=0.0001, log__class_weight=None, log__penalty=l2, log__tol=0.0001; total time=   0.4s\n"
     ]
    },
    {
     "name": "stderr",
     "output_type": "stream",
     "text": [
      "/Users/raylinsoriano/anaconda3/lib/python3.8/site-packages/sklearn/metrics/_classification.py:1248: UndefinedMetricWarning: Precision is ill-defined and being set to 0.0 in labels with no predicted samples. Use `zero_division` parameter to control this behavior.\n",
      "  _warn_prf(average, modifier, msg_start, len(result))\n"
     ]
    },
    {
     "name": "stdout",
     "output_type": "stream",
     "text": [
      "[CV] END log__C=0.0001, log__class_weight=None, log__penalty=l2, log__tol=0.01; total time=   0.4s\n"
     ]
    },
    {
     "name": "stderr",
     "output_type": "stream",
     "text": [
      "/Users/raylinsoriano/anaconda3/lib/python3.8/site-packages/sklearn/metrics/_classification.py:1248: UndefinedMetricWarning: Precision is ill-defined and being set to 0.0 in labels with no predicted samples. Use `zero_division` parameter to control this behavior.\n",
      "  _warn_prf(average, modifier, msg_start, len(result))\n"
     ]
    },
    {
     "name": "stdout",
     "output_type": "stream",
     "text": [
      "[CV] END log__C=0.0001, log__class_weight=None, log__penalty=l2, log__tol=0.01; total time=   0.5s\n"
     ]
    },
    {
     "name": "stderr",
     "output_type": "stream",
     "text": [
      "/Users/raylinsoriano/anaconda3/lib/python3.8/site-packages/sklearn/metrics/_classification.py:1248: UndefinedMetricWarning: Precision is ill-defined and being set to 0.0 in labels with no predicted samples. Use `zero_division` parameter to control this behavior.\n",
      "  _warn_prf(average, modifier, msg_start, len(result))\n"
     ]
    },
    {
     "name": "stdout",
     "output_type": "stream",
     "text": [
      "[CV] END log__C=0.0001, log__class_weight=None, log__penalty=l2, log__tol=0.01; total time=   0.4s\n"
     ]
    },
    {
     "name": "stderr",
     "output_type": "stream",
     "text": [
      "/Users/raylinsoriano/anaconda3/lib/python3.8/site-packages/sklearn/metrics/_classification.py:1248: UndefinedMetricWarning: Precision is ill-defined and being set to 0.0 in labels with no predicted samples. Use `zero_division` parameter to control this behavior.\n",
      "  _warn_prf(average, modifier, msg_start, len(result))\n"
     ]
    },
    {
     "name": "stdout",
     "output_type": "stream",
     "text": [
      "[CV] END log__C=0.0001, log__class_weight=None, log__penalty=l2, log__tol=0.01; total time=   0.3s\n"
     ]
    },
    {
     "name": "stderr",
     "output_type": "stream",
     "text": [
      "/Users/raylinsoriano/anaconda3/lib/python3.8/site-packages/sklearn/metrics/_classification.py:1248: UndefinedMetricWarning: Precision is ill-defined and being set to 0.0 in labels with no predicted samples. Use `zero_division` parameter to control this behavior.\n",
      "  _warn_prf(average, modifier, msg_start, len(result))\n"
     ]
    },
    {
     "name": "stdout",
     "output_type": "stream",
     "text": [
      "[CV] END log__C=0.0001, log__class_weight=None, log__penalty=l2, log__tol=0.01; total time=   0.7s\n"
     ]
    },
    {
     "name": "stderr",
     "output_type": "stream",
     "text": [
      "/Users/raylinsoriano/anaconda3/lib/python3.8/site-packages/sklearn/metrics/_classification.py:1248: UndefinedMetricWarning: Precision is ill-defined and being set to 0.0 in labels with no predicted samples. Use `zero_division` parameter to control this behavior.\n",
      "  _warn_prf(average, modifier, msg_start, len(result))\n"
     ]
    },
    {
     "name": "stdout",
     "output_type": "stream",
     "text": [
      "[CV] END log__C=0.0001, log__class_weight=None, log__penalty=l2, log__tol=0.1; total time=   0.3s\n"
     ]
    },
    {
     "name": "stderr",
     "output_type": "stream",
     "text": [
      "/Users/raylinsoriano/anaconda3/lib/python3.8/site-packages/sklearn/metrics/_classification.py:1248: UndefinedMetricWarning: Precision is ill-defined and being set to 0.0 in labels with no predicted samples. Use `zero_division` parameter to control this behavior.\n",
      "  _warn_prf(average, modifier, msg_start, len(result))\n"
     ]
    },
    {
     "name": "stdout",
     "output_type": "stream",
     "text": [
      "[CV] END log__C=0.0001, log__class_weight=None, log__penalty=l2, log__tol=0.1; total time=   0.3s\n"
     ]
    },
    {
     "name": "stderr",
     "output_type": "stream",
     "text": [
      "/Users/raylinsoriano/anaconda3/lib/python3.8/site-packages/sklearn/metrics/_classification.py:1248: UndefinedMetricWarning: Precision is ill-defined and being set to 0.0 in labels with no predicted samples. Use `zero_division` parameter to control this behavior.\n",
      "  _warn_prf(average, modifier, msg_start, len(result))\n"
     ]
    },
    {
     "name": "stdout",
     "output_type": "stream",
     "text": [
      "[CV] END log__C=0.0001, log__class_weight=None, log__penalty=l2, log__tol=0.1; total time=   0.3s\n"
     ]
    },
    {
     "name": "stderr",
     "output_type": "stream",
     "text": [
      "/Users/raylinsoriano/anaconda3/lib/python3.8/site-packages/sklearn/metrics/_classification.py:1248: UndefinedMetricWarning: Precision is ill-defined and being set to 0.0 in labels with no predicted samples. Use `zero_division` parameter to control this behavior.\n",
      "  _warn_prf(average, modifier, msg_start, len(result))\n"
     ]
    },
    {
     "name": "stdout",
     "output_type": "stream",
     "text": [
      "[CV] END log__C=0.0001, log__class_weight=None, log__penalty=l2, log__tol=0.1; total time=   0.3s\n"
     ]
    },
    {
     "name": "stderr",
     "output_type": "stream",
     "text": [
      "/Users/raylinsoriano/anaconda3/lib/python3.8/site-packages/sklearn/metrics/_classification.py:1248: UndefinedMetricWarning: Precision is ill-defined and being set to 0.0 in labels with no predicted samples. Use `zero_division` parameter to control this behavior.\n",
      "  _warn_prf(average, modifier, msg_start, len(result))\n",
      "/Users/raylinsoriano/anaconda3/lib/python3.8/site-packages/sklearn/linear_model/_logistic.py:1322: UserWarning: Setting penalty='none' will ignore the C and l1_ratio parameters\n",
      "  warnings.warn(\n"
     ]
    },
    {
     "name": "stdout",
     "output_type": "stream",
     "text": [
      "[CV] END log__C=0.0001, log__class_weight=None, log__penalty=l2, log__tol=0.1; total time=   0.3s\n",
      "[CV] END log__C=0.0001, log__class_weight=None, log__penalty=none, log__tol=0.0001; total time=  40.8s\n"
     ]
    },
    {
     "name": "stderr",
     "output_type": "stream",
     "text": [
      "/Users/raylinsoriano/anaconda3/lib/python3.8/site-packages/sklearn/linear_model/_logistic.py:1322: UserWarning: Setting penalty='none' will ignore the C and l1_ratio parameters\n",
      "  warnings.warn(\n"
     ]
    },
    {
     "name": "stdout",
     "output_type": "stream",
     "text": [
      "[CV] END log__C=0.0001, log__class_weight=None, log__penalty=none, log__tol=0.0001; total time=  17.8s\n"
     ]
    },
    {
     "name": "stderr",
     "output_type": "stream",
     "text": [
      "/Users/raylinsoriano/anaconda3/lib/python3.8/site-packages/sklearn/linear_model/_logistic.py:1322: UserWarning: Setting penalty='none' will ignore the C and l1_ratio parameters\n",
      "  warnings.warn(\n"
     ]
    },
    {
     "name": "stdout",
     "output_type": "stream",
     "text": [
      "[CV] END log__C=0.0001, log__class_weight=None, log__penalty=none, log__tol=0.0001; total time=  40.8s\n"
     ]
    },
    {
     "name": "stderr",
     "output_type": "stream",
     "text": [
      "/Users/raylinsoriano/anaconda3/lib/python3.8/site-packages/sklearn/linear_model/_logistic.py:1322: UserWarning: Setting penalty='none' will ignore the C and l1_ratio parameters\n",
      "  warnings.warn(\n"
     ]
    },
    {
     "name": "stdout",
     "output_type": "stream",
     "text": [
      "[CV] END log__C=0.0001, log__class_weight=None, log__penalty=none, log__tol=0.0001; total time=  19.8s\n"
     ]
    },
    {
     "name": "stderr",
     "output_type": "stream",
     "text": [
      "/Users/raylinsoriano/anaconda3/lib/python3.8/site-packages/sklearn/linear_model/_logistic.py:1322: UserWarning: Setting penalty='none' will ignore the C and l1_ratio parameters\n",
      "  warnings.warn(\n"
     ]
    },
    {
     "name": "stdout",
     "output_type": "stream",
     "text": [
      "[CV] END log__C=0.0001, log__class_weight=None, log__penalty=none, log__tol=0.0001; total time=  36.8s\n"
     ]
    },
    {
     "name": "stderr",
     "output_type": "stream",
     "text": [
      "/Users/raylinsoriano/anaconda3/lib/python3.8/site-packages/sklearn/linear_model/_logistic.py:1322: UserWarning: Setting penalty='none' will ignore the C and l1_ratio parameters\n",
      "  warnings.warn(\n"
     ]
    },
    {
     "name": "stdout",
     "output_type": "stream",
     "text": [
      "[CV] END log__C=0.0001, log__class_weight=None, log__penalty=none, log__tol=0.01; total time=  13.3s\n"
     ]
    },
    {
     "name": "stderr",
     "output_type": "stream",
     "text": [
      "/Users/raylinsoriano/anaconda3/lib/python3.8/site-packages/sklearn/linear_model/_logistic.py:1322: UserWarning: Setting penalty='none' will ignore the C and l1_ratio parameters\n",
      "  warnings.warn(\n"
     ]
    },
    {
     "name": "stdout",
     "output_type": "stream",
     "text": [
      "[CV] END log__C=0.0001, log__class_weight=None, log__penalty=none, log__tol=0.01; total time=   6.4s\n"
     ]
    },
    {
     "name": "stderr",
     "output_type": "stream",
     "text": [
      "/Users/raylinsoriano/anaconda3/lib/python3.8/site-packages/sklearn/linear_model/_logistic.py:1322: UserWarning: Setting penalty='none' will ignore the C and l1_ratio parameters\n",
      "  warnings.warn(\n"
     ]
    },
    {
     "name": "stdout",
     "output_type": "stream",
     "text": [
      "[CV] END log__C=0.0001, log__class_weight=None, log__penalty=none, log__tol=0.01; total time=  14.8s\n"
     ]
    },
    {
     "name": "stderr",
     "output_type": "stream",
     "text": [
      "/Users/raylinsoriano/anaconda3/lib/python3.8/site-packages/sklearn/linear_model/_logistic.py:1322: UserWarning: Setting penalty='none' will ignore the C and l1_ratio parameters\n",
      "  warnings.warn(\n"
     ]
    },
    {
     "name": "stdout",
     "output_type": "stream",
     "text": [
      "[CV] END log__C=0.0001, log__class_weight=None, log__penalty=none, log__tol=0.01; total time=  11.4s\n"
     ]
    },
    {
     "name": "stderr",
     "output_type": "stream",
     "text": [
      "/Users/raylinsoriano/anaconda3/lib/python3.8/site-packages/sklearn/linear_model/_logistic.py:1322: UserWarning: Setting penalty='none' will ignore the C and l1_ratio parameters\n",
      "  warnings.warn(\n"
     ]
    },
    {
     "name": "stdout",
     "output_type": "stream",
     "text": [
      "[CV] END log__C=0.0001, log__class_weight=None, log__penalty=none, log__tol=0.01; total time=  16.6s\n"
     ]
    },
    {
     "name": "stderr",
     "output_type": "stream",
     "text": [
      "/Users/raylinsoriano/anaconda3/lib/python3.8/site-packages/sklearn/linear_model/_logistic.py:1322: UserWarning: Setting penalty='none' will ignore the C and l1_ratio parameters\n",
      "  warnings.warn(\n"
     ]
    },
    {
     "name": "stdout",
     "output_type": "stream",
     "text": [
      "[CV] END log__C=0.0001, log__class_weight=None, log__penalty=none, log__tol=0.1; total time=   4.5s\n"
     ]
    },
    {
     "name": "stderr",
     "output_type": "stream",
     "text": [
      "/Users/raylinsoriano/anaconda3/lib/python3.8/site-packages/sklearn/linear_model/_logistic.py:1322: UserWarning: Setting penalty='none' will ignore the C and l1_ratio parameters\n",
      "  warnings.warn(\n"
     ]
    },
    {
     "name": "stdout",
     "output_type": "stream",
     "text": [
      "[CV] END log__C=0.0001, log__class_weight=None, log__penalty=none, log__tol=0.1; total time=   3.0s\n"
     ]
    },
    {
     "name": "stderr",
     "output_type": "stream",
     "text": [
      "/Users/raylinsoriano/anaconda3/lib/python3.8/site-packages/sklearn/linear_model/_logistic.py:1322: UserWarning: Setting penalty='none' will ignore the C and l1_ratio parameters\n",
      "  warnings.warn(\n"
     ]
    },
    {
     "name": "stdout",
     "output_type": "stream",
     "text": [
      "[CV] END log__C=0.0001, log__class_weight=None, log__penalty=none, log__tol=0.1; total time=   6.0s\n"
     ]
    },
    {
     "name": "stderr",
     "output_type": "stream",
     "text": [
      "/Users/raylinsoriano/anaconda3/lib/python3.8/site-packages/sklearn/linear_model/_logistic.py:1322: UserWarning: Setting penalty='none' will ignore the C and l1_ratio parameters\n",
      "  warnings.warn(\n"
     ]
    },
    {
     "name": "stdout",
     "output_type": "stream",
     "text": [
      "[CV] END log__C=0.0001, log__class_weight=None, log__penalty=none, log__tol=0.1; total time=   3.7s\n"
     ]
    },
    {
     "name": "stderr",
     "output_type": "stream",
     "text": [
      "/Users/raylinsoriano/anaconda3/lib/python3.8/site-packages/sklearn/linear_model/_logistic.py:1322: UserWarning: Setting penalty='none' will ignore the C and l1_ratio parameters\n",
      "  warnings.warn(\n"
     ]
    },
    {
     "name": "stdout",
     "output_type": "stream",
     "text": [
      "[CV] END log__C=0.0001, log__class_weight=None, log__penalty=none, log__tol=0.1; total time=   4.3s\n",
      "[CV] END log__C=0.0001, log__class_weight=balanced, log__penalty=l2, log__tol=0.0001; total time=   0.3s\n",
      "[CV] END log__C=0.0001, log__class_weight=balanced, log__penalty=l2, log__tol=0.0001; total time=   0.3s\n",
      "[CV] END log__C=0.0001, log__class_weight=balanced, log__penalty=l2, log__tol=0.0001; total time=   0.3s\n",
      "[CV] END log__C=0.0001, log__class_weight=balanced, log__penalty=l2, log__tol=0.0001; total time=   0.3s\n",
      "[CV] END log__C=0.0001, log__class_weight=balanced, log__penalty=l2, log__tol=0.0001; total time=   0.3s\n",
      "[CV] END log__C=0.0001, log__class_weight=balanced, log__penalty=l2, log__tol=0.01; total time=   0.3s\n",
      "[CV] END log__C=0.0001, log__class_weight=balanced, log__penalty=l2, log__tol=0.01; total time=   0.6s\n",
      "[CV] END log__C=0.0001, log__class_weight=balanced, log__penalty=l2, log__tol=0.01; total time=   0.3s\n",
      "[CV] END log__C=0.0001, log__class_weight=balanced, log__penalty=l2, log__tol=0.01; total time=   0.3s\n",
      "[CV] END log__C=0.0001, log__class_weight=balanced, log__penalty=l2, log__tol=0.01; total time=   0.2s\n",
      "[CV] END log__C=0.0001, log__class_weight=balanced, log__penalty=l2, log__tol=0.1; total time=   0.3s\n",
      "[CV] END log__C=0.0001, log__class_weight=balanced, log__penalty=l2, log__tol=0.1; total time=   0.2s\n",
      "[CV] END log__C=0.0001, log__class_weight=balanced, log__penalty=l2, log__tol=0.1; total time=   0.2s\n",
      "[CV] END log__C=0.0001, log__class_weight=balanced, log__penalty=l2, log__tol=0.1; total time=   0.2s\n",
      "[CV] END log__C=0.0001, log__class_weight=balanced, log__penalty=l2, log__tol=0.1; total time=   0.2s\n"
     ]
    },
    {
     "name": "stderr",
     "output_type": "stream",
     "text": [
      "/Users/raylinsoriano/anaconda3/lib/python3.8/site-packages/sklearn/linear_model/_logistic.py:1322: UserWarning: Setting penalty='none' will ignore the C and l1_ratio parameters\n",
      "  warnings.warn(\n"
     ]
    },
    {
     "name": "stdout",
     "output_type": "stream",
     "text": [
      "[CV] END log__C=0.0001, log__class_weight=balanced, log__penalty=none, log__tol=0.0001; total time=  51.6s\n"
     ]
    },
    {
     "name": "stderr",
     "output_type": "stream",
     "text": [
      "/Users/raylinsoriano/anaconda3/lib/python3.8/site-packages/sklearn/linear_model/_logistic.py:1322: UserWarning: Setting penalty='none' will ignore the C and l1_ratio parameters\n",
      "  warnings.warn(\n"
     ]
    },
    {
     "name": "stdout",
     "output_type": "stream",
     "text": [
      "[CV] END log__C=0.0001, log__class_weight=balanced, log__penalty=none, log__tol=0.0001; total time=  15.6s\n"
     ]
    },
    {
     "name": "stderr",
     "output_type": "stream",
     "text": [
      "/Users/raylinsoriano/anaconda3/lib/python3.8/site-packages/sklearn/linear_model/_logistic.py:1322: UserWarning: Setting penalty='none' will ignore the C and l1_ratio parameters\n",
      "  warnings.warn(\n"
     ]
    },
    {
     "name": "stdout",
     "output_type": "stream",
     "text": [
      "[CV] END log__C=0.0001, log__class_weight=balanced, log__penalty=none, log__tol=0.0001; total time=  30.8s\n"
     ]
    },
    {
     "name": "stderr",
     "output_type": "stream",
     "text": [
      "/Users/raylinsoriano/anaconda3/lib/python3.8/site-packages/sklearn/linear_model/_logistic.py:1322: UserWarning: Setting penalty='none' will ignore the C and l1_ratio parameters\n",
      "  warnings.warn(\n"
     ]
    },
    {
     "name": "stdout",
     "output_type": "stream",
     "text": [
      "[CV] END log__C=0.0001, log__class_weight=balanced, log__penalty=none, log__tol=0.0001; total time=  31.0s\n"
     ]
    },
    {
     "name": "stderr",
     "output_type": "stream",
     "text": [
      "/Users/raylinsoriano/anaconda3/lib/python3.8/site-packages/sklearn/linear_model/_logistic.py:1322: UserWarning: Setting penalty='none' will ignore the C and l1_ratio parameters\n",
      "  warnings.warn(\n"
     ]
    },
    {
     "name": "stdout",
     "output_type": "stream",
     "text": [
      "[CV] END log__C=0.0001, log__class_weight=balanced, log__penalty=none, log__tol=0.0001; total time=  28.1s\n"
     ]
    },
    {
     "name": "stderr",
     "output_type": "stream",
     "text": [
      "/Users/raylinsoriano/anaconda3/lib/python3.8/site-packages/sklearn/linear_model/_logistic.py:1322: UserWarning: Setting penalty='none' will ignore the C and l1_ratio parameters\n",
      "  warnings.warn(\n"
     ]
    },
    {
     "name": "stdout",
     "output_type": "stream",
     "text": [
      "[CV] END log__C=0.0001, log__class_weight=balanced, log__penalty=none, log__tol=0.01; total time=   9.2s\n"
     ]
    },
    {
     "name": "stderr",
     "output_type": "stream",
     "text": [
      "/Users/raylinsoriano/anaconda3/lib/python3.8/site-packages/sklearn/linear_model/_logistic.py:1322: UserWarning: Setting penalty='none' will ignore the C and l1_ratio parameters\n",
      "  warnings.warn(\n"
     ]
    },
    {
     "name": "stdout",
     "output_type": "stream",
     "text": [
      "[CV] END log__C=0.0001, log__class_weight=balanced, log__penalty=none, log__tol=0.01; total time=   7.8s\n"
     ]
    },
    {
     "name": "stderr",
     "output_type": "stream",
     "text": [
      "/Users/raylinsoriano/anaconda3/lib/python3.8/site-packages/sklearn/linear_model/_logistic.py:1322: UserWarning: Setting penalty='none' will ignore the C and l1_ratio parameters\n",
      "  warnings.warn(\n"
     ]
    },
    {
     "name": "stdout",
     "output_type": "stream",
     "text": [
      "[CV] END log__C=0.0001, log__class_weight=balanced, log__penalty=none, log__tol=0.01; total time=  13.1s\n"
     ]
    },
    {
     "name": "stderr",
     "output_type": "stream",
     "text": [
      "/Users/raylinsoriano/anaconda3/lib/python3.8/site-packages/sklearn/linear_model/_logistic.py:1322: UserWarning: Setting penalty='none' will ignore the C and l1_ratio parameters\n",
      "  warnings.warn(\n"
     ]
    },
    {
     "name": "stdout",
     "output_type": "stream",
     "text": [
      "[CV] END log__C=0.0001, log__class_weight=balanced, log__penalty=none, log__tol=0.01; total time=  11.5s\n"
     ]
    },
    {
     "name": "stderr",
     "output_type": "stream",
     "text": [
      "/Users/raylinsoriano/anaconda3/lib/python3.8/site-packages/sklearn/linear_model/_logistic.py:1322: UserWarning: Setting penalty='none' will ignore the C and l1_ratio parameters\n",
      "  warnings.warn(\n"
     ]
    },
    {
     "name": "stdout",
     "output_type": "stream",
     "text": [
      "[CV] END log__C=0.0001, log__class_weight=balanced, log__penalty=none, log__tol=0.01; total time=  13.3s\n"
     ]
    },
    {
     "name": "stderr",
     "output_type": "stream",
     "text": [
      "/Users/raylinsoriano/anaconda3/lib/python3.8/site-packages/sklearn/linear_model/_logistic.py:1322: UserWarning: Setting penalty='none' will ignore the C and l1_ratio parameters\n",
      "  warnings.warn(\n"
     ]
    },
    {
     "name": "stdout",
     "output_type": "stream",
     "text": [
      "[CV] END log__C=0.0001, log__class_weight=balanced, log__penalty=none, log__tol=0.1; total time=   3.7s\n"
     ]
    },
    {
     "name": "stderr",
     "output_type": "stream",
     "text": [
      "/Users/raylinsoriano/anaconda3/lib/python3.8/site-packages/sklearn/linear_model/_logistic.py:1322: UserWarning: Setting penalty='none' will ignore the C and l1_ratio parameters\n",
      "  warnings.warn(\n"
     ]
    },
    {
     "name": "stdout",
     "output_type": "stream",
     "text": [
      "[CV] END log__C=0.0001, log__class_weight=balanced, log__penalty=none, log__tol=0.1; total time=   3.5s\n"
     ]
    },
    {
     "name": "stderr",
     "output_type": "stream",
     "text": [
      "/Users/raylinsoriano/anaconda3/lib/python3.8/site-packages/sklearn/linear_model/_logistic.py:1322: UserWarning: Setting penalty='none' will ignore the C and l1_ratio parameters\n",
      "  warnings.warn(\n"
     ]
    },
    {
     "name": "stdout",
     "output_type": "stream",
     "text": [
      "[CV] END log__C=0.0001, log__class_weight=balanced, log__penalty=none, log__tol=0.1; total time=   3.8s\n"
     ]
    },
    {
     "name": "stderr",
     "output_type": "stream",
     "text": [
      "/Users/raylinsoriano/anaconda3/lib/python3.8/site-packages/sklearn/linear_model/_logistic.py:1322: UserWarning: Setting penalty='none' will ignore the C and l1_ratio parameters\n",
      "  warnings.warn(\n"
     ]
    },
    {
     "name": "stdout",
     "output_type": "stream",
     "text": [
      "[CV] END log__C=0.0001, log__class_weight=balanced, log__penalty=none, log__tol=0.1; total time=   3.9s\n"
     ]
    },
    {
     "name": "stderr",
     "output_type": "stream",
     "text": [
      "/Users/raylinsoriano/anaconda3/lib/python3.8/site-packages/sklearn/linear_model/_logistic.py:1322: UserWarning: Setting penalty='none' will ignore the C and l1_ratio parameters\n",
      "  warnings.warn(\n"
     ]
    },
    {
     "name": "stdout",
     "output_type": "stream",
     "text": [
      "[CV] END log__C=0.0001, log__class_weight=balanced, log__penalty=none, log__tol=0.1; total time=   3.3s\n"
     ]
    },
    {
     "name": "stderr",
     "output_type": "stream",
     "text": [
      "/Users/raylinsoriano/anaconda3/lib/python3.8/site-packages/sklearn/metrics/_classification.py:1248: UndefinedMetricWarning: Precision is ill-defined and being set to 0.0 in labels with no predicted samples. Use `zero_division` parameter to control this behavior.\n",
      "  _warn_prf(average, modifier, msg_start, len(result))\n"
     ]
    },
    {
     "name": "stdout",
     "output_type": "stream",
     "text": [
      "[CV] END log__C=0.001, log__class_weight=None, log__penalty=l2, log__tol=0.0001; total time=   0.3s\n"
     ]
    },
    {
     "name": "stderr",
     "output_type": "stream",
     "text": [
      "/Users/raylinsoriano/anaconda3/lib/python3.8/site-packages/sklearn/metrics/_classification.py:1248: UndefinedMetricWarning: Precision is ill-defined and being set to 0.0 in labels with no predicted samples. Use `zero_division` parameter to control this behavior.\n",
      "  _warn_prf(average, modifier, msg_start, len(result))\n"
     ]
    },
    {
     "name": "stdout",
     "output_type": "stream",
     "text": [
      "[CV] END log__C=0.001, log__class_weight=None, log__penalty=l2, log__tol=0.0001; total time=   0.3s\n"
     ]
    },
    {
     "name": "stderr",
     "output_type": "stream",
     "text": [
      "/Users/raylinsoriano/anaconda3/lib/python3.8/site-packages/sklearn/metrics/_classification.py:1248: UndefinedMetricWarning: Precision is ill-defined and being set to 0.0 in labels with no predicted samples. Use `zero_division` parameter to control this behavior.\n",
      "  _warn_prf(average, modifier, msg_start, len(result))\n"
     ]
    },
    {
     "name": "stdout",
     "output_type": "stream",
     "text": [
      "[CV] END log__C=0.001, log__class_weight=None, log__penalty=l2, log__tol=0.0001; total time=   0.3s\n"
     ]
    },
    {
     "name": "stderr",
     "output_type": "stream",
     "text": [
      "/Users/raylinsoriano/anaconda3/lib/python3.8/site-packages/sklearn/metrics/_classification.py:1248: UndefinedMetricWarning: Precision is ill-defined and being set to 0.0 in labels with no predicted samples. Use `zero_division` parameter to control this behavior.\n",
      "  _warn_prf(average, modifier, msg_start, len(result))\n"
     ]
    },
    {
     "name": "stdout",
     "output_type": "stream",
     "text": [
      "[CV] END log__C=0.001, log__class_weight=None, log__penalty=l2, log__tol=0.0001; total time=   0.6s\n"
     ]
    },
    {
     "name": "stderr",
     "output_type": "stream",
     "text": [
      "/Users/raylinsoriano/anaconda3/lib/python3.8/site-packages/sklearn/metrics/_classification.py:1248: UndefinedMetricWarning: Precision is ill-defined and being set to 0.0 in labels with no predicted samples. Use `zero_division` parameter to control this behavior.\n",
      "  _warn_prf(average, modifier, msg_start, len(result))\n"
     ]
    },
    {
     "name": "stdout",
     "output_type": "stream",
     "text": [
      "[CV] END log__C=0.001, log__class_weight=None, log__penalty=l2, log__tol=0.0001; total time=   0.3s\n"
     ]
    },
    {
     "name": "stderr",
     "output_type": "stream",
     "text": [
      "/Users/raylinsoriano/anaconda3/lib/python3.8/site-packages/sklearn/metrics/_classification.py:1248: UndefinedMetricWarning: Precision is ill-defined and being set to 0.0 in labels with no predicted samples. Use `zero_division` parameter to control this behavior.\n",
      "  _warn_prf(average, modifier, msg_start, len(result))\n"
     ]
    },
    {
     "name": "stdout",
     "output_type": "stream",
     "text": [
      "[CV] END log__C=0.001, log__class_weight=None, log__penalty=l2, log__tol=0.01; total time=   0.3s\n"
     ]
    },
    {
     "name": "stderr",
     "output_type": "stream",
     "text": [
      "/Users/raylinsoriano/anaconda3/lib/python3.8/site-packages/sklearn/metrics/_classification.py:1248: UndefinedMetricWarning: Precision is ill-defined and being set to 0.0 in labels with no predicted samples. Use `zero_division` parameter to control this behavior.\n",
      "  _warn_prf(average, modifier, msg_start, len(result))\n"
     ]
    },
    {
     "name": "stdout",
     "output_type": "stream",
     "text": [
      "[CV] END log__C=0.001, log__class_weight=None, log__penalty=l2, log__tol=0.01; total time=   0.3s\n"
     ]
    },
    {
     "name": "stderr",
     "output_type": "stream",
     "text": [
      "/Users/raylinsoriano/anaconda3/lib/python3.8/site-packages/sklearn/metrics/_classification.py:1248: UndefinedMetricWarning: Precision is ill-defined and being set to 0.0 in labels with no predicted samples. Use `zero_division` parameter to control this behavior.\n",
      "  _warn_prf(average, modifier, msg_start, len(result))\n"
     ]
    },
    {
     "name": "stdout",
     "output_type": "stream",
     "text": [
      "[CV] END log__C=0.001, log__class_weight=None, log__penalty=l2, log__tol=0.01; total time=   0.3s\n"
     ]
    },
    {
     "name": "stderr",
     "output_type": "stream",
     "text": [
      "/Users/raylinsoriano/anaconda3/lib/python3.8/site-packages/sklearn/metrics/_classification.py:1248: UndefinedMetricWarning: Precision is ill-defined and being set to 0.0 in labels with no predicted samples. Use `zero_division` parameter to control this behavior.\n",
      "  _warn_prf(average, modifier, msg_start, len(result))\n"
     ]
    },
    {
     "name": "stdout",
     "output_type": "stream",
     "text": [
      "[CV] END log__C=0.001, log__class_weight=None, log__penalty=l2, log__tol=0.01; total time=   0.3s\n"
     ]
    },
    {
     "name": "stderr",
     "output_type": "stream",
     "text": [
      "/Users/raylinsoriano/anaconda3/lib/python3.8/site-packages/sklearn/metrics/_classification.py:1248: UndefinedMetricWarning: Precision is ill-defined and being set to 0.0 in labels with no predicted samples. Use `zero_division` parameter to control this behavior.\n",
      "  _warn_prf(average, modifier, msg_start, len(result))\n"
     ]
    },
    {
     "name": "stdout",
     "output_type": "stream",
     "text": [
      "[CV] END log__C=0.001, log__class_weight=None, log__penalty=l2, log__tol=0.01; total time=   0.3s\n"
     ]
    },
    {
     "name": "stderr",
     "output_type": "stream",
     "text": [
      "/Users/raylinsoriano/anaconda3/lib/python3.8/site-packages/sklearn/metrics/_classification.py:1248: UndefinedMetricWarning: Precision is ill-defined and being set to 0.0 in labels with no predicted samples. Use `zero_division` parameter to control this behavior.\n",
      "  _warn_prf(average, modifier, msg_start, len(result))\n"
     ]
    },
    {
     "name": "stdout",
     "output_type": "stream",
     "text": [
      "[CV] END log__C=0.001, log__class_weight=None, log__penalty=l2, log__tol=0.1; total time=   0.3s\n"
     ]
    },
    {
     "name": "stderr",
     "output_type": "stream",
     "text": [
      "/Users/raylinsoriano/anaconda3/lib/python3.8/site-packages/sklearn/metrics/_classification.py:1248: UndefinedMetricWarning: Precision is ill-defined and being set to 0.0 in labels with no predicted samples. Use `zero_division` parameter to control this behavior.\n",
      "  _warn_prf(average, modifier, msg_start, len(result))\n"
     ]
    },
    {
     "name": "stdout",
     "output_type": "stream",
     "text": [
      "[CV] END log__C=0.001, log__class_weight=None, log__penalty=l2, log__tol=0.1; total time=   0.3s\n"
     ]
    },
    {
     "name": "stderr",
     "output_type": "stream",
     "text": [
      "/Users/raylinsoriano/anaconda3/lib/python3.8/site-packages/sklearn/metrics/_classification.py:1248: UndefinedMetricWarning: Precision is ill-defined and being set to 0.0 in labels with no predicted samples. Use `zero_division` parameter to control this behavior.\n",
      "  _warn_prf(average, modifier, msg_start, len(result))\n"
     ]
    },
    {
     "name": "stdout",
     "output_type": "stream",
     "text": [
      "[CV] END log__C=0.001, log__class_weight=None, log__penalty=l2, log__tol=0.1; total time=   1.1s\n"
     ]
    },
    {
     "name": "stderr",
     "output_type": "stream",
     "text": [
      "/Users/raylinsoriano/anaconda3/lib/python3.8/site-packages/sklearn/metrics/_classification.py:1248: UndefinedMetricWarning: Precision is ill-defined and being set to 0.0 in labels with no predicted samples. Use `zero_division` parameter to control this behavior.\n",
      "  _warn_prf(average, modifier, msg_start, len(result))\n"
     ]
    },
    {
     "name": "stdout",
     "output_type": "stream",
     "text": [
      "[CV] END log__C=0.001, log__class_weight=None, log__penalty=l2, log__tol=0.1; total time=   0.4s\n"
     ]
    },
    {
     "name": "stderr",
     "output_type": "stream",
     "text": [
      "/Users/raylinsoriano/anaconda3/lib/python3.8/site-packages/sklearn/metrics/_classification.py:1248: UndefinedMetricWarning: Precision is ill-defined and being set to 0.0 in labels with no predicted samples. Use `zero_division` parameter to control this behavior.\n",
      "  _warn_prf(average, modifier, msg_start, len(result))\n",
      "/Users/raylinsoriano/anaconda3/lib/python3.8/site-packages/sklearn/linear_model/_logistic.py:1322: UserWarning: Setting penalty='none' will ignore the C and l1_ratio parameters\n",
      "  warnings.warn(\n"
     ]
    },
    {
     "name": "stdout",
     "output_type": "stream",
     "text": [
      "[CV] END log__C=0.001, log__class_weight=None, log__penalty=l2, log__tol=0.1; total time=   0.4s\n",
      "[CV] END log__C=0.001, log__class_weight=None, log__penalty=none, log__tol=0.0001; total time=  46.1s\n"
     ]
    },
    {
     "name": "stderr",
     "output_type": "stream",
     "text": [
      "/Users/raylinsoriano/anaconda3/lib/python3.8/site-packages/sklearn/linear_model/_logistic.py:1322: UserWarning: Setting penalty='none' will ignore the C and l1_ratio parameters\n",
      "  warnings.warn(\n"
     ]
    },
    {
     "name": "stdout",
     "output_type": "stream",
     "text": [
      "[CV] END log__C=0.001, log__class_weight=None, log__penalty=none, log__tol=0.0001; total time=  18.0s\n"
     ]
    },
    {
     "name": "stderr",
     "output_type": "stream",
     "text": [
      "/Users/raylinsoriano/anaconda3/lib/python3.8/site-packages/sklearn/linear_model/_logistic.py:1322: UserWarning: Setting penalty='none' will ignore the C and l1_ratio parameters\n",
      "  warnings.warn(\n"
     ]
    },
    {
     "name": "stdout",
     "output_type": "stream",
     "text": [
      "[CV] END log__C=0.001, log__class_weight=None, log__penalty=none, log__tol=0.0001; total time=  44.5s\n"
     ]
    },
    {
     "name": "stderr",
     "output_type": "stream",
     "text": [
      "/Users/raylinsoriano/anaconda3/lib/python3.8/site-packages/sklearn/linear_model/_logistic.py:1322: UserWarning: Setting penalty='none' will ignore the C and l1_ratio parameters\n",
      "  warnings.warn(\n"
     ]
    },
    {
     "name": "stdout",
     "output_type": "stream",
     "text": [
      "[CV] END log__C=0.001, log__class_weight=None, log__penalty=none, log__tol=0.0001; total time=  21.5s\n"
     ]
    },
    {
     "name": "stderr",
     "output_type": "stream",
     "text": [
      "/Users/raylinsoriano/anaconda3/lib/python3.8/site-packages/sklearn/linear_model/_logistic.py:1322: UserWarning: Setting penalty='none' will ignore the C and l1_ratio parameters\n",
      "  warnings.warn(\n"
     ]
    },
    {
     "name": "stdout",
     "output_type": "stream",
     "text": [
      "[CV] END log__C=0.001, log__class_weight=None, log__penalty=none, log__tol=0.0001; total time=  40.5s\n"
     ]
    },
    {
     "name": "stderr",
     "output_type": "stream",
     "text": [
      "/Users/raylinsoriano/anaconda3/lib/python3.8/site-packages/sklearn/linear_model/_logistic.py:1322: UserWarning: Setting penalty='none' will ignore the C and l1_ratio parameters\n",
      "  warnings.warn(\n"
     ]
    },
    {
     "name": "stdout",
     "output_type": "stream",
     "text": [
      "[CV] END log__C=0.001, log__class_weight=None, log__penalty=none, log__tol=0.01; total time=  14.5s\n"
     ]
    },
    {
     "name": "stderr",
     "output_type": "stream",
     "text": [
      "/Users/raylinsoriano/anaconda3/lib/python3.8/site-packages/sklearn/linear_model/_logistic.py:1322: UserWarning: Setting penalty='none' will ignore the C and l1_ratio parameters\n",
      "  warnings.warn(\n"
     ]
    },
    {
     "name": "stdout",
     "output_type": "stream",
     "text": [
      "[CV] END log__C=0.001, log__class_weight=None, log__penalty=none, log__tol=0.01; total time=   8.1s\n"
     ]
    },
    {
     "name": "stderr",
     "output_type": "stream",
     "text": [
      "/Users/raylinsoriano/anaconda3/lib/python3.8/site-packages/sklearn/linear_model/_logistic.py:1322: UserWarning: Setting penalty='none' will ignore the C and l1_ratio parameters\n",
      "  warnings.warn(\n"
     ]
    },
    {
     "name": "stdout",
     "output_type": "stream",
     "text": [
      "[CV] END log__C=0.001, log__class_weight=None, log__penalty=none, log__tol=0.01; total time=  14.8s\n"
     ]
    },
    {
     "name": "stderr",
     "output_type": "stream",
     "text": [
      "/Users/raylinsoriano/anaconda3/lib/python3.8/site-packages/sklearn/linear_model/_logistic.py:1322: UserWarning: Setting penalty='none' will ignore the C and l1_ratio parameters\n",
      "  warnings.warn(\n"
     ]
    },
    {
     "name": "stdout",
     "output_type": "stream",
     "text": [
      "[CV] END log__C=0.001, log__class_weight=None, log__penalty=none, log__tol=0.01; total time=  10.2s\n"
     ]
    },
    {
     "name": "stderr",
     "output_type": "stream",
     "text": [
      "/Users/raylinsoriano/anaconda3/lib/python3.8/site-packages/sklearn/linear_model/_logistic.py:1322: UserWarning: Setting penalty='none' will ignore the C and l1_ratio parameters\n",
      "  warnings.warn(\n"
     ]
    },
    {
     "name": "stdout",
     "output_type": "stream",
     "text": [
      "[CV] END log__C=0.001, log__class_weight=None, log__penalty=none, log__tol=0.01; total time=  18.9s\n"
     ]
    },
    {
     "name": "stderr",
     "output_type": "stream",
     "text": [
      "/Users/raylinsoriano/anaconda3/lib/python3.8/site-packages/sklearn/linear_model/_logistic.py:1322: UserWarning: Setting penalty='none' will ignore the C and l1_ratio parameters\n",
      "  warnings.warn(\n"
     ]
    },
    {
     "name": "stdout",
     "output_type": "stream",
     "text": [
      "[CV] END log__C=0.001, log__class_weight=None, log__penalty=none, log__tol=0.1; total time=   4.2s\n"
     ]
    },
    {
     "name": "stderr",
     "output_type": "stream",
     "text": [
      "/Users/raylinsoriano/anaconda3/lib/python3.8/site-packages/sklearn/linear_model/_logistic.py:1322: UserWarning: Setting penalty='none' will ignore the C and l1_ratio parameters\n",
      "  warnings.warn(\n"
     ]
    },
    {
     "name": "stdout",
     "output_type": "stream",
     "text": [
      "[CV] END log__C=0.001, log__class_weight=None, log__penalty=none, log__tol=0.1; total time=   3.6s\n"
     ]
    },
    {
     "name": "stderr",
     "output_type": "stream",
     "text": [
      "/Users/raylinsoriano/anaconda3/lib/python3.8/site-packages/sklearn/linear_model/_logistic.py:1322: UserWarning: Setting penalty='none' will ignore the C and l1_ratio parameters\n",
      "  warnings.warn(\n"
     ]
    },
    {
     "name": "stdout",
     "output_type": "stream",
     "text": [
      "[CV] END log__C=0.001, log__class_weight=None, log__penalty=none, log__tol=0.1; total time=   5.5s\n"
     ]
    },
    {
     "name": "stderr",
     "output_type": "stream",
     "text": [
      "/Users/raylinsoriano/anaconda3/lib/python3.8/site-packages/sklearn/linear_model/_logistic.py:1322: UserWarning: Setting penalty='none' will ignore the C and l1_ratio parameters\n",
      "  warnings.warn(\n"
     ]
    },
    {
     "name": "stdout",
     "output_type": "stream",
     "text": [
      "[CV] END log__C=0.001, log__class_weight=None, log__penalty=none, log__tol=0.1; total time=   4.0s\n"
     ]
    },
    {
     "name": "stderr",
     "output_type": "stream",
     "text": [
      "/Users/raylinsoriano/anaconda3/lib/python3.8/site-packages/sklearn/linear_model/_logistic.py:1322: UserWarning: Setting penalty='none' will ignore the C and l1_ratio parameters\n",
      "  warnings.warn(\n"
     ]
    },
    {
     "name": "stdout",
     "output_type": "stream",
     "text": [
      "[CV] END log__C=0.001, log__class_weight=None, log__penalty=none, log__tol=0.1; total time=   4.0s\n",
      "[CV] END log__C=0.001, log__class_weight=balanced, log__penalty=l2, log__tol=0.0001; total time=   0.6s\n",
      "[CV] END log__C=0.001, log__class_weight=balanced, log__penalty=l2, log__tol=0.0001; total time=   0.3s\n",
      "[CV] END log__C=0.001, log__class_weight=balanced, log__penalty=l2, log__tol=0.0001; total time=   0.3s\n",
      "[CV] END log__C=0.001, log__class_weight=balanced, log__penalty=l2, log__tol=0.0001; total time=   0.3s\n",
      "[CV] END log__C=0.001, log__class_weight=balanced, log__penalty=l2, log__tol=0.0001; total time=   0.3s\n",
      "[CV] END log__C=0.001, log__class_weight=balanced, log__penalty=l2, log__tol=0.01; total time=   0.3s\n",
      "[CV] END log__C=0.001, log__class_weight=balanced, log__penalty=l2, log__tol=0.01; total time=   0.3s\n",
      "[CV] END log__C=0.001, log__class_weight=balanced, log__penalty=l2, log__tol=0.01; total time=   0.3s\n",
      "[CV] END log__C=0.001, log__class_weight=balanced, log__penalty=l2, log__tol=0.01; total time=   0.3s\n",
      "[CV] END log__C=0.001, log__class_weight=balanced, log__penalty=l2, log__tol=0.01; total time=   0.6s\n",
      "[CV] END log__C=0.001, log__class_weight=balanced, log__penalty=l2, log__tol=0.1; total time=   0.3s\n",
      "[CV] END log__C=0.001, log__class_weight=balanced, log__penalty=l2, log__tol=0.1; total time=   0.3s\n",
      "[CV] END log__C=0.001, log__class_weight=balanced, log__penalty=l2, log__tol=0.1; total time=   0.3s\n",
      "[CV] END log__C=0.001, log__class_weight=balanced, log__penalty=l2, log__tol=0.1; total time=   0.3s\n",
      "[CV] END log__C=0.001, log__class_weight=balanced, log__penalty=l2, log__tol=0.1; total time=   0.3s\n"
     ]
    },
    {
     "name": "stderr",
     "output_type": "stream",
     "text": [
      "/Users/raylinsoriano/anaconda3/lib/python3.8/site-packages/sklearn/linear_model/_logistic.py:1322: UserWarning: Setting penalty='none' will ignore the C and l1_ratio parameters\n",
      "  warnings.warn(\n"
     ]
    },
    {
     "name": "stdout",
     "output_type": "stream",
     "text": [
      "[CV] END log__C=0.001, log__class_weight=balanced, log__penalty=none, log__tol=0.0001; total time=  50.3s\n"
     ]
    },
    {
     "name": "stderr",
     "output_type": "stream",
     "text": [
      "/Users/raylinsoriano/anaconda3/lib/python3.8/site-packages/sklearn/linear_model/_logistic.py:1322: UserWarning: Setting penalty='none' will ignore the C and l1_ratio parameters\n",
      "  warnings.warn(\n"
     ]
    },
    {
     "name": "stdout",
     "output_type": "stream",
     "text": [
      "[CV] END log__C=0.001, log__class_weight=balanced, log__penalty=none, log__tol=0.0001; total time=  16.5s\n"
     ]
    },
    {
     "name": "stderr",
     "output_type": "stream",
     "text": [
      "/Users/raylinsoriano/anaconda3/lib/python3.8/site-packages/sklearn/linear_model/_logistic.py:1322: UserWarning: Setting penalty='none' will ignore the C and l1_ratio parameters\n",
      "  warnings.warn(\n"
     ]
    },
    {
     "name": "stdout",
     "output_type": "stream",
     "text": [
      "[CV] END log__C=0.001, log__class_weight=balanced, log__penalty=none, log__tol=0.0001; total time=  30.9s\n"
     ]
    },
    {
     "name": "stderr",
     "output_type": "stream",
     "text": [
      "/Users/raylinsoriano/anaconda3/lib/python3.8/site-packages/sklearn/linear_model/_logistic.py:1322: UserWarning: Setting penalty='none' will ignore the C and l1_ratio parameters\n",
      "  warnings.warn(\n"
     ]
    },
    {
     "name": "stdout",
     "output_type": "stream",
     "text": [
      "[CV] END log__C=0.001, log__class_weight=balanced, log__penalty=none, log__tol=0.0001; total time=  29.2s\n"
     ]
    },
    {
     "name": "stderr",
     "output_type": "stream",
     "text": [
      "/Users/raylinsoriano/anaconda3/lib/python3.8/site-packages/sklearn/linear_model/_logistic.py:1322: UserWarning: Setting penalty='none' will ignore the C and l1_ratio parameters\n",
      "  warnings.warn(\n"
     ]
    },
    {
     "name": "stdout",
     "output_type": "stream",
     "text": [
      "[CV] END log__C=0.001, log__class_weight=balanced, log__penalty=none, log__tol=0.0001; total time=  24.7s\n"
     ]
    },
    {
     "name": "stderr",
     "output_type": "stream",
     "text": [
      "/Users/raylinsoriano/anaconda3/lib/python3.8/site-packages/sklearn/linear_model/_logistic.py:1322: UserWarning: Setting penalty='none' will ignore the C and l1_ratio parameters\n",
      "  warnings.warn(\n"
     ]
    },
    {
     "name": "stdout",
     "output_type": "stream",
     "text": [
      "[CV] END log__C=0.001, log__class_weight=balanced, log__penalty=none, log__tol=0.01; total time=  10.0s\n"
     ]
    },
    {
     "name": "stderr",
     "output_type": "stream",
     "text": [
      "/Users/raylinsoriano/anaconda3/lib/python3.8/site-packages/sklearn/linear_model/_logistic.py:1322: UserWarning: Setting penalty='none' will ignore the C and l1_ratio parameters\n",
      "  warnings.warn(\n"
     ]
    },
    {
     "name": "stdout",
     "output_type": "stream",
     "text": [
      "[CV] END log__C=0.001, log__class_weight=balanced, log__penalty=none, log__tol=0.01; total time=   9.2s\n"
     ]
    },
    {
     "name": "stderr",
     "output_type": "stream",
     "text": [
      "/Users/raylinsoriano/anaconda3/lib/python3.8/site-packages/sklearn/linear_model/_logistic.py:1322: UserWarning: Setting penalty='none' will ignore the C and l1_ratio parameters\n",
      "  warnings.warn(\n"
     ]
    },
    {
     "name": "stdout",
     "output_type": "stream",
     "text": [
      "[CV] END log__C=0.001, log__class_weight=balanced, log__penalty=none, log__tol=0.01; total time=  11.8s\n"
     ]
    },
    {
     "name": "stderr",
     "output_type": "stream",
     "text": [
      "/Users/raylinsoriano/anaconda3/lib/python3.8/site-packages/sklearn/linear_model/_logistic.py:1322: UserWarning: Setting penalty='none' will ignore the C and l1_ratio parameters\n",
      "  warnings.warn(\n"
     ]
    },
    {
     "name": "stdout",
     "output_type": "stream",
     "text": [
      "[CV] END log__C=0.001, log__class_weight=balanced, log__penalty=none, log__tol=0.01; total time=   9.3s\n"
     ]
    },
    {
     "name": "stderr",
     "output_type": "stream",
     "text": [
      "/Users/raylinsoriano/anaconda3/lib/python3.8/site-packages/sklearn/linear_model/_logistic.py:1322: UserWarning: Setting penalty='none' will ignore the C and l1_ratio parameters\n",
      "  warnings.warn(\n"
     ]
    },
    {
     "name": "stdout",
     "output_type": "stream",
     "text": [
      "[CV] END log__C=0.001, log__class_weight=balanced, log__penalty=none, log__tol=0.01; total time=  14.1s\n"
     ]
    },
    {
     "name": "stderr",
     "output_type": "stream",
     "text": [
      "/Users/raylinsoriano/anaconda3/lib/python3.8/site-packages/sklearn/linear_model/_logistic.py:1322: UserWarning: Setting penalty='none' will ignore the C and l1_ratio parameters\n",
      "  warnings.warn(\n"
     ]
    },
    {
     "name": "stdout",
     "output_type": "stream",
     "text": [
      "[CV] END log__C=0.001, log__class_weight=balanced, log__penalty=none, log__tol=0.1; total time=   3.7s\n"
     ]
    },
    {
     "name": "stderr",
     "output_type": "stream",
     "text": [
      "/Users/raylinsoriano/anaconda3/lib/python3.8/site-packages/sklearn/linear_model/_logistic.py:1322: UserWarning: Setting penalty='none' will ignore the C and l1_ratio parameters\n",
      "  warnings.warn(\n"
     ]
    },
    {
     "name": "stdout",
     "output_type": "stream",
     "text": [
      "[CV] END log__C=0.001, log__class_weight=balanced, log__penalty=none, log__tol=0.1; total time=   3.4s\n"
     ]
    },
    {
     "name": "stderr",
     "output_type": "stream",
     "text": [
      "/Users/raylinsoriano/anaconda3/lib/python3.8/site-packages/sklearn/linear_model/_logistic.py:1322: UserWarning: Setting penalty='none' will ignore the C and l1_ratio parameters\n",
      "  warnings.warn(\n"
     ]
    },
    {
     "name": "stdout",
     "output_type": "stream",
     "text": [
      "[CV] END log__C=0.001, log__class_weight=balanced, log__penalty=none, log__tol=0.1; total time=   4.0s\n"
     ]
    },
    {
     "name": "stderr",
     "output_type": "stream",
     "text": [
      "/Users/raylinsoriano/anaconda3/lib/python3.8/site-packages/sklearn/linear_model/_logistic.py:1322: UserWarning: Setting penalty='none' will ignore the C and l1_ratio parameters\n",
      "  warnings.warn(\n"
     ]
    },
    {
     "name": "stdout",
     "output_type": "stream",
     "text": [
      "[CV] END log__C=0.001, log__class_weight=balanced, log__penalty=none, log__tol=0.1; total time=   3.7s\n"
     ]
    },
    {
     "name": "stderr",
     "output_type": "stream",
     "text": [
      "/Users/raylinsoriano/anaconda3/lib/python3.8/site-packages/sklearn/linear_model/_logistic.py:1322: UserWarning: Setting penalty='none' will ignore the C and l1_ratio parameters\n",
      "  warnings.warn(\n"
     ]
    },
    {
     "name": "stdout",
     "output_type": "stream",
     "text": [
      "[CV] END log__C=0.001, log__class_weight=balanced, log__penalty=none, log__tol=0.1; total time=   3.1s\n"
     ]
    },
    {
     "name": "stderr",
     "output_type": "stream",
     "text": [
      "/Users/raylinsoriano/anaconda3/lib/python3.8/site-packages/sklearn/metrics/_classification.py:1248: UndefinedMetricWarning: Precision is ill-defined and being set to 0.0 in labels with no predicted samples. Use `zero_division` parameter to control this behavior.\n",
      "  _warn_prf(average, modifier, msg_start, len(result))\n"
     ]
    },
    {
     "name": "stdout",
     "output_type": "stream",
     "text": [
      "[CV] END log__C=0.01, log__class_weight=None, log__penalty=l2, log__tol=0.0001; total time=   0.4s\n"
     ]
    },
    {
     "name": "stderr",
     "output_type": "stream",
     "text": [
      "/Users/raylinsoriano/anaconda3/lib/python3.8/site-packages/sklearn/metrics/_classification.py:1248: UndefinedMetricWarning: Precision is ill-defined and being set to 0.0 in labels with no predicted samples. Use `zero_division` parameter to control this behavior.\n",
      "  _warn_prf(average, modifier, msg_start, len(result))\n"
     ]
    },
    {
     "name": "stdout",
     "output_type": "stream",
     "text": [
      "[CV] END log__C=0.01, log__class_weight=None, log__penalty=l2, log__tol=0.0001; total time=   0.4s\n"
     ]
    },
    {
     "name": "stderr",
     "output_type": "stream",
     "text": [
      "/Users/raylinsoriano/anaconda3/lib/python3.8/site-packages/sklearn/metrics/_classification.py:1248: UndefinedMetricWarning: Precision is ill-defined and being set to 0.0 in labels with no predicted samples. Use `zero_division` parameter to control this behavior.\n",
      "  _warn_prf(average, modifier, msg_start, len(result))\n"
     ]
    },
    {
     "name": "stdout",
     "output_type": "stream",
     "text": [
      "[CV] END log__C=0.01, log__class_weight=None, log__penalty=l2, log__tol=0.0001; total time=   0.4s\n"
     ]
    },
    {
     "name": "stderr",
     "output_type": "stream",
     "text": [
      "/Users/raylinsoriano/anaconda3/lib/python3.8/site-packages/sklearn/metrics/_classification.py:1248: UndefinedMetricWarning: Precision is ill-defined and being set to 0.0 in labels with no predicted samples. Use `zero_division` parameter to control this behavior.\n",
      "  _warn_prf(average, modifier, msg_start, len(result))\n"
     ]
    },
    {
     "name": "stdout",
     "output_type": "stream",
     "text": [
      "[CV] END log__C=0.01, log__class_weight=None, log__penalty=l2, log__tol=0.0001; total time=   0.4s\n"
     ]
    },
    {
     "name": "stderr",
     "output_type": "stream",
     "text": [
      "/Users/raylinsoriano/anaconda3/lib/python3.8/site-packages/sklearn/metrics/_classification.py:1248: UndefinedMetricWarning: Precision is ill-defined and being set to 0.0 in labels with no predicted samples. Use `zero_division` parameter to control this behavior.\n",
      "  _warn_prf(average, modifier, msg_start, len(result))\n"
     ]
    },
    {
     "name": "stdout",
     "output_type": "stream",
     "text": [
      "[CV] END log__C=0.01, log__class_weight=None, log__penalty=l2, log__tol=0.0001; total time=   0.4s\n"
     ]
    },
    {
     "name": "stderr",
     "output_type": "stream",
     "text": [
      "/Users/raylinsoriano/anaconda3/lib/python3.8/site-packages/sklearn/metrics/_classification.py:1248: UndefinedMetricWarning: Precision is ill-defined and being set to 0.0 in labels with no predicted samples. Use `zero_division` parameter to control this behavior.\n",
      "  _warn_prf(average, modifier, msg_start, len(result))\n"
     ]
    },
    {
     "name": "stdout",
     "output_type": "stream",
     "text": [
      "[CV] END log__C=0.01, log__class_weight=None, log__penalty=l2, log__tol=0.01; total time=   0.4s\n"
     ]
    },
    {
     "name": "stderr",
     "output_type": "stream",
     "text": [
      "/Users/raylinsoriano/anaconda3/lib/python3.8/site-packages/sklearn/metrics/_classification.py:1248: UndefinedMetricWarning: Precision is ill-defined and being set to 0.0 in labels with no predicted samples. Use `zero_division` parameter to control this behavior.\n",
      "  _warn_prf(average, modifier, msg_start, len(result))\n"
     ]
    },
    {
     "name": "stdout",
     "output_type": "stream",
     "text": [
      "[CV] END log__C=0.01, log__class_weight=None, log__penalty=l2, log__tol=0.01; total time=   0.7s\n"
     ]
    },
    {
     "name": "stderr",
     "output_type": "stream",
     "text": [
      "/Users/raylinsoriano/anaconda3/lib/python3.8/site-packages/sklearn/metrics/_classification.py:1248: UndefinedMetricWarning: Precision is ill-defined and being set to 0.0 in labels with no predicted samples. Use `zero_division` parameter to control this behavior.\n",
      "  _warn_prf(average, modifier, msg_start, len(result))\n"
     ]
    },
    {
     "name": "stdout",
     "output_type": "stream",
     "text": [
      "[CV] END log__C=0.01, log__class_weight=None, log__penalty=l2, log__tol=0.01; total time=   0.4s\n"
     ]
    },
    {
     "name": "stderr",
     "output_type": "stream",
     "text": [
      "/Users/raylinsoriano/anaconda3/lib/python3.8/site-packages/sklearn/metrics/_classification.py:1248: UndefinedMetricWarning: Precision is ill-defined and being set to 0.0 in labels with no predicted samples. Use `zero_division` parameter to control this behavior.\n",
      "  _warn_prf(average, modifier, msg_start, len(result))\n"
     ]
    },
    {
     "name": "stdout",
     "output_type": "stream",
     "text": [
      "[CV] END log__C=0.01, log__class_weight=None, log__penalty=l2, log__tol=0.01; total time=   0.4s\n"
     ]
    },
    {
     "name": "stderr",
     "output_type": "stream",
     "text": [
      "/Users/raylinsoriano/anaconda3/lib/python3.8/site-packages/sklearn/metrics/_classification.py:1248: UndefinedMetricWarning: Precision is ill-defined and being set to 0.0 in labels with no predicted samples. Use `zero_division` parameter to control this behavior.\n",
      "  _warn_prf(average, modifier, msg_start, len(result))\n"
     ]
    },
    {
     "name": "stdout",
     "output_type": "stream",
     "text": [
      "[CV] END log__C=0.01, log__class_weight=None, log__penalty=l2, log__tol=0.01; total time=   0.4s\n"
     ]
    },
    {
     "name": "stderr",
     "output_type": "stream",
     "text": [
      "/Users/raylinsoriano/anaconda3/lib/python3.8/site-packages/sklearn/metrics/_classification.py:1248: UndefinedMetricWarning: Precision is ill-defined and being set to 0.0 in labels with no predicted samples. Use `zero_division` parameter to control this behavior.\n",
      "  _warn_prf(average, modifier, msg_start, len(result))\n"
     ]
    },
    {
     "name": "stdout",
     "output_type": "stream",
     "text": [
      "[CV] END log__C=0.01, log__class_weight=None, log__penalty=l2, log__tol=0.1; total time=   0.4s\n"
     ]
    },
    {
     "name": "stderr",
     "output_type": "stream",
     "text": [
      "/Users/raylinsoriano/anaconda3/lib/python3.8/site-packages/sklearn/metrics/_classification.py:1248: UndefinedMetricWarning: Precision is ill-defined and being set to 0.0 in labels with no predicted samples. Use `zero_division` parameter to control this behavior.\n",
      "  _warn_prf(average, modifier, msg_start, len(result))\n"
     ]
    },
    {
     "name": "stdout",
     "output_type": "stream",
     "text": [
      "[CV] END log__C=0.01, log__class_weight=None, log__penalty=l2, log__tol=0.1; total time=   0.4s\n"
     ]
    },
    {
     "name": "stderr",
     "output_type": "stream",
     "text": [
      "/Users/raylinsoriano/anaconda3/lib/python3.8/site-packages/sklearn/metrics/_classification.py:1248: UndefinedMetricWarning: Precision is ill-defined and being set to 0.0 in labels with no predicted samples. Use `zero_division` parameter to control this behavior.\n",
      "  _warn_prf(average, modifier, msg_start, len(result))\n"
     ]
    },
    {
     "name": "stdout",
     "output_type": "stream",
     "text": [
      "[CV] END log__C=0.01, log__class_weight=None, log__penalty=l2, log__tol=0.1; total time=   0.4s\n"
     ]
    },
    {
     "name": "stderr",
     "output_type": "stream",
     "text": [
      "/Users/raylinsoriano/anaconda3/lib/python3.8/site-packages/sklearn/metrics/_classification.py:1248: UndefinedMetricWarning: Precision is ill-defined and being set to 0.0 in labels with no predicted samples. Use `zero_division` parameter to control this behavior.\n",
      "  _warn_prf(average, modifier, msg_start, len(result))\n"
     ]
    },
    {
     "name": "stdout",
     "output_type": "stream",
     "text": [
      "[CV] END log__C=0.01, log__class_weight=None, log__penalty=l2, log__tol=0.1; total time=   0.4s\n"
     ]
    },
    {
     "name": "stderr",
     "output_type": "stream",
     "text": [
      "/Users/raylinsoriano/anaconda3/lib/python3.8/site-packages/sklearn/metrics/_classification.py:1248: UndefinedMetricWarning: Precision is ill-defined and being set to 0.0 in labels with no predicted samples. Use `zero_division` parameter to control this behavior.\n",
      "  _warn_prf(average, modifier, msg_start, len(result))\n",
      "/Users/raylinsoriano/anaconda3/lib/python3.8/site-packages/sklearn/linear_model/_logistic.py:1322: UserWarning: Setting penalty='none' will ignore the C and l1_ratio parameters\n",
      "  warnings.warn(\n"
     ]
    },
    {
     "name": "stdout",
     "output_type": "stream",
     "text": [
      "[CV] END log__C=0.01, log__class_weight=None, log__penalty=l2, log__tol=0.1; total time=   0.4s\n",
      "[CV] END log__C=0.01, log__class_weight=None, log__penalty=none, log__tol=0.0001; total time=  43.2s\n"
     ]
    },
    {
     "name": "stderr",
     "output_type": "stream",
     "text": [
      "/Users/raylinsoriano/anaconda3/lib/python3.8/site-packages/sklearn/linear_model/_logistic.py:1322: UserWarning: Setting penalty='none' will ignore the C and l1_ratio parameters\n",
      "  warnings.warn(\n"
     ]
    },
    {
     "name": "stdout",
     "output_type": "stream",
     "text": [
      "[CV] END log__C=0.01, log__class_weight=None, log__penalty=none, log__tol=0.0001; total time=  18.7s\n"
     ]
    },
    {
     "name": "stderr",
     "output_type": "stream",
     "text": [
      "/Users/raylinsoriano/anaconda3/lib/python3.8/site-packages/sklearn/linear_model/_logistic.py:1322: UserWarning: Setting penalty='none' will ignore the C and l1_ratio parameters\n",
      "  warnings.warn(\n"
     ]
    },
    {
     "name": "stdout",
     "output_type": "stream",
     "text": [
      "[CV] END log__C=0.01, log__class_weight=None, log__penalty=none, log__tol=0.0001; total time=  46.3s\n"
     ]
    },
    {
     "name": "stderr",
     "output_type": "stream",
     "text": [
      "/Users/raylinsoriano/anaconda3/lib/python3.8/site-packages/sklearn/linear_model/_logistic.py:1322: UserWarning: Setting penalty='none' will ignore the C and l1_ratio parameters\n",
      "  warnings.warn(\n"
     ]
    },
    {
     "name": "stdout",
     "output_type": "stream",
     "text": [
      "[CV] END log__C=0.01, log__class_weight=None, log__penalty=none, log__tol=0.0001; total time=  25.1s\n"
     ]
    },
    {
     "name": "stderr",
     "output_type": "stream",
     "text": [
      "/Users/raylinsoriano/anaconda3/lib/python3.8/site-packages/sklearn/linear_model/_logistic.py:1322: UserWarning: Setting penalty='none' will ignore the C and l1_ratio parameters\n",
      "  warnings.warn(\n"
     ]
    },
    {
     "name": "stdout",
     "output_type": "stream",
     "text": [
      "[CV] END log__C=0.01, log__class_weight=None, log__penalty=none, log__tol=0.0001; total time=  40.5s\n"
     ]
    },
    {
     "name": "stderr",
     "output_type": "stream",
     "text": [
      "/Users/raylinsoriano/anaconda3/lib/python3.8/site-packages/sklearn/linear_model/_logistic.py:1322: UserWarning: Setting penalty='none' will ignore the C and l1_ratio parameters\n",
      "  warnings.warn(\n"
     ]
    },
    {
     "name": "stdout",
     "output_type": "stream",
     "text": [
      "[CV] END log__C=0.01, log__class_weight=None, log__penalty=none, log__tol=0.01; total time=  13.9s\n"
     ]
    },
    {
     "name": "stderr",
     "output_type": "stream",
     "text": [
      "/Users/raylinsoriano/anaconda3/lib/python3.8/site-packages/sklearn/linear_model/_logistic.py:1322: UserWarning: Setting penalty='none' will ignore the C and l1_ratio parameters\n",
      "  warnings.warn(\n"
     ]
    },
    {
     "name": "stdout",
     "output_type": "stream",
     "text": [
      "[CV] END log__C=0.01, log__class_weight=None, log__penalty=none, log__tol=0.01; total time=   6.5s\n"
     ]
    },
    {
     "name": "stderr",
     "output_type": "stream",
     "text": [
      "/Users/raylinsoriano/anaconda3/lib/python3.8/site-packages/sklearn/linear_model/_logistic.py:1322: UserWarning: Setting penalty='none' will ignore the C and l1_ratio parameters\n",
      "  warnings.warn(\n"
     ]
    },
    {
     "name": "stdout",
     "output_type": "stream",
     "text": [
      "[CV] END log__C=0.01, log__class_weight=None, log__penalty=none, log__tol=0.01; total time=  16.1s\n"
     ]
    },
    {
     "name": "stderr",
     "output_type": "stream",
     "text": [
      "/Users/raylinsoriano/anaconda3/lib/python3.8/site-packages/sklearn/linear_model/_logistic.py:1322: UserWarning: Setting penalty='none' will ignore the C and l1_ratio parameters\n",
      "  warnings.warn(\n"
     ]
    },
    {
     "name": "stdout",
     "output_type": "stream",
     "text": [
      "[CV] END log__C=0.01, log__class_weight=None, log__penalty=none, log__tol=0.01; total time=  10.4s\n"
     ]
    },
    {
     "name": "stderr",
     "output_type": "stream",
     "text": [
      "/Users/raylinsoriano/anaconda3/lib/python3.8/site-packages/sklearn/linear_model/_logistic.py:1322: UserWarning: Setting penalty='none' will ignore the C and l1_ratio parameters\n",
      "  warnings.warn(\n"
     ]
    },
    {
     "name": "stdout",
     "output_type": "stream",
     "text": [
      "[CV] END log__C=0.01, log__class_weight=None, log__penalty=none, log__tol=0.01; total time=  16.6s\n"
     ]
    },
    {
     "name": "stderr",
     "output_type": "stream",
     "text": [
      "/Users/raylinsoriano/anaconda3/lib/python3.8/site-packages/sklearn/linear_model/_logistic.py:1322: UserWarning: Setting penalty='none' will ignore the C and l1_ratio parameters\n",
      "  warnings.warn(\n"
     ]
    },
    {
     "name": "stdout",
     "output_type": "stream",
     "text": [
      "[CV] END log__C=0.01, log__class_weight=None, log__penalty=none, log__tol=0.1; total time=   4.0s\n"
     ]
    },
    {
     "name": "stderr",
     "output_type": "stream",
     "text": [
      "/Users/raylinsoriano/anaconda3/lib/python3.8/site-packages/sklearn/linear_model/_logistic.py:1322: UserWarning: Setting penalty='none' will ignore the C and l1_ratio parameters\n",
      "  warnings.warn(\n"
     ]
    },
    {
     "name": "stdout",
     "output_type": "stream",
     "text": [
      "[CV] END log__C=0.01, log__class_weight=None, log__penalty=none, log__tol=0.1; total time=   2.9s\n"
     ]
    },
    {
     "name": "stderr",
     "output_type": "stream",
     "text": [
      "/Users/raylinsoriano/anaconda3/lib/python3.8/site-packages/sklearn/linear_model/_logistic.py:1322: UserWarning: Setting penalty='none' will ignore the C and l1_ratio parameters\n",
      "  warnings.warn(\n"
     ]
    },
    {
     "name": "stdout",
     "output_type": "stream",
     "text": [
      "[CV] END log__C=0.01, log__class_weight=None, log__penalty=none, log__tol=0.1; total time=   6.3s\n"
     ]
    },
    {
     "name": "stderr",
     "output_type": "stream",
     "text": [
      "/Users/raylinsoriano/anaconda3/lib/python3.8/site-packages/sklearn/linear_model/_logistic.py:1322: UserWarning: Setting penalty='none' will ignore the C and l1_ratio parameters\n",
      "  warnings.warn(\n"
     ]
    },
    {
     "name": "stdout",
     "output_type": "stream",
     "text": [
      "[CV] END log__C=0.01, log__class_weight=None, log__penalty=none, log__tol=0.1; total time=   3.8s\n"
     ]
    },
    {
     "name": "stderr",
     "output_type": "stream",
     "text": [
      "/Users/raylinsoriano/anaconda3/lib/python3.8/site-packages/sklearn/linear_model/_logistic.py:1322: UserWarning: Setting penalty='none' will ignore the C and l1_ratio parameters\n",
      "  warnings.warn(\n"
     ]
    },
    {
     "name": "stdout",
     "output_type": "stream",
     "text": [
      "[CV] END log__C=0.01, log__class_weight=None, log__penalty=none, log__tol=0.1; total time=   4.1s\n",
      "[CV] END log__C=0.01, log__class_weight=balanced, log__penalty=l2, log__tol=0.0001; total time=   0.4s\n",
      "[CV] END log__C=0.01, log__class_weight=balanced, log__penalty=l2, log__tol=0.0001; total time=   0.4s\n",
      "[CV] END log__C=0.01, log__class_weight=balanced, log__penalty=l2, log__tol=0.0001; total time=   0.7s\n",
      "[CV] END log__C=0.01, log__class_weight=balanced, log__penalty=l2, log__tol=0.0001; total time=   0.4s\n",
      "[CV] END log__C=0.01, log__class_weight=balanced, log__penalty=l2, log__tol=0.0001; total time=   0.4s\n",
      "[CV] END log__C=0.01, log__class_weight=balanced, log__penalty=l2, log__tol=0.01; total time=   0.4s\n",
      "[CV] END log__C=0.01, log__class_weight=balanced, log__penalty=l2, log__tol=0.01; total time=   0.5s\n",
      "[CV] END log__C=0.01, log__class_weight=balanced, log__penalty=l2, log__tol=0.01; total time=   0.4s\n",
      "[CV] END log__C=0.01, log__class_weight=balanced, log__penalty=l2, log__tol=0.01; total time=   0.4s\n",
      "[CV] END log__C=0.01, log__class_weight=balanced, log__penalty=l2, log__tol=0.01; total time=   0.4s\n",
      "[CV] END log__C=0.01, log__class_weight=balanced, log__penalty=l2, log__tol=0.1; total time=   0.4s\n",
      "[CV] END log__C=0.01, log__class_weight=balanced, log__penalty=l2, log__tol=0.1; total time=   0.7s\n",
      "[CV] END log__C=0.01, log__class_weight=balanced, log__penalty=l2, log__tol=0.1; total time=   0.4s\n",
      "[CV] END log__C=0.01, log__class_weight=balanced, log__penalty=l2, log__tol=0.1; total time=   0.4s\n",
      "[CV] END log__C=0.01, log__class_weight=balanced, log__penalty=l2, log__tol=0.1; total time=   0.4s\n"
     ]
    },
    {
     "name": "stderr",
     "output_type": "stream",
     "text": [
      "/Users/raylinsoriano/anaconda3/lib/python3.8/site-packages/sklearn/linear_model/_logistic.py:1322: UserWarning: Setting penalty='none' will ignore the C and l1_ratio parameters\n",
      "  warnings.warn(\n"
     ]
    },
    {
     "name": "stdout",
     "output_type": "stream",
     "text": [
      "[CV] END log__C=0.01, log__class_weight=balanced, log__penalty=none, log__tol=0.0001; total time=  59.5s\n"
     ]
    },
    {
     "name": "stderr",
     "output_type": "stream",
     "text": [
      "/Users/raylinsoriano/anaconda3/lib/python3.8/site-packages/sklearn/linear_model/_logistic.py:1322: UserWarning: Setting penalty='none' will ignore the C and l1_ratio parameters\n",
      "  warnings.warn(\n"
     ]
    },
    {
     "name": "stdout",
     "output_type": "stream",
     "text": [
      "[CV] END log__C=0.01, log__class_weight=balanced, log__penalty=none, log__tol=0.0001; total time=  21.1s\n"
     ]
    },
    {
     "name": "stderr",
     "output_type": "stream",
     "text": [
      "/Users/raylinsoriano/anaconda3/lib/python3.8/site-packages/sklearn/linear_model/_logistic.py:1322: UserWarning: Setting penalty='none' will ignore the C and l1_ratio parameters\n",
      "  warnings.warn(\n"
     ]
    },
    {
     "name": "stdout",
     "output_type": "stream",
     "text": [
      "[CV] END log__C=0.01, log__class_weight=balanced, log__penalty=none, log__tol=0.0001; total time=  28.4s\n"
     ]
    },
    {
     "name": "stderr",
     "output_type": "stream",
     "text": [
      "/Users/raylinsoriano/anaconda3/lib/python3.8/site-packages/sklearn/linear_model/_logistic.py:1322: UserWarning: Setting penalty='none' will ignore the C and l1_ratio parameters\n",
      "  warnings.warn(\n"
     ]
    },
    {
     "name": "stdout",
     "output_type": "stream",
     "text": [
      "[CV] END log__C=0.01, log__class_weight=balanced, log__penalty=none, log__tol=0.0001; total time=  23.7s\n"
     ]
    },
    {
     "name": "stderr",
     "output_type": "stream",
     "text": [
      "/Users/raylinsoriano/anaconda3/lib/python3.8/site-packages/sklearn/linear_model/_logistic.py:1322: UserWarning: Setting penalty='none' will ignore the C and l1_ratio parameters\n",
      "  warnings.warn(\n"
     ]
    },
    {
     "name": "stdout",
     "output_type": "stream",
     "text": [
      "[CV] END log__C=0.01, log__class_weight=balanced, log__penalty=none, log__tol=0.0001; total time=  23.4s\n"
     ]
    },
    {
     "name": "stderr",
     "output_type": "stream",
     "text": [
      "/Users/raylinsoriano/anaconda3/lib/python3.8/site-packages/sklearn/linear_model/_logistic.py:1322: UserWarning: Setting penalty='none' will ignore the C and l1_ratio parameters\n",
      "  warnings.warn(\n"
     ]
    },
    {
     "name": "stdout",
     "output_type": "stream",
     "text": [
      "[CV] END log__C=0.01, log__class_weight=balanced, log__penalty=none, log__tol=0.01; total time=  10.5s\n"
     ]
    },
    {
     "name": "stderr",
     "output_type": "stream",
     "text": [
      "/Users/raylinsoriano/anaconda3/lib/python3.8/site-packages/sklearn/linear_model/_logistic.py:1322: UserWarning: Setting penalty='none' will ignore the C and l1_ratio parameters\n",
      "  warnings.warn(\n"
     ]
    },
    {
     "name": "stdout",
     "output_type": "stream",
     "text": [
      "[CV] END log__C=0.01, log__class_weight=balanced, log__penalty=none, log__tol=0.01; total time=   8.9s\n"
     ]
    },
    {
     "name": "stderr",
     "output_type": "stream",
     "text": [
      "/Users/raylinsoriano/anaconda3/lib/python3.8/site-packages/sklearn/linear_model/_logistic.py:1322: UserWarning: Setting penalty='none' will ignore the C and l1_ratio parameters\n",
      "  warnings.warn(\n"
     ]
    },
    {
     "name": "stdout",
     "output_type": "stream",
     "text": [
      "[CV] END log__C=0.01, log__class_weight=balanced, log__penalty=none, log__tol=0.01; total time=  11.5s\n"
     ]
    },
    {
     "name": "stderr",
     "output_type": "stream",
     "text": [
      "/Users/raylinsoriano/anaconda3/lib/python3.8/site-packages/sklearn/linear_model/_logistic.py:1322: UserWarning: Setting penalty='none' will ignore the C and l1_ratio parameters\n",
      "  warnings.warn(\n"
     ]
    },
    {
     "name": "stdout",
     "output_type": "stream",
     "text": [
      "[CV] END log__C=0.01, log__class_weight=balanced, log__penalty=none, log__tol=0.01; total time=   8.8s\n"
     ]
    },
    {
     "name": "stderr",
     "output_type": "stream",
     "text": [
      "/Users/raylinsoriano/anaconda3/lib/python3.8/site-packages/sklearn/linear_model/_logistic.py:1322: UserWarning: Setting penalty='none' will ignore the C and l1_ratio parameters\n",
      "  warnings.warn(\n"
     ]
    },
    {
     "name": "stdout",
     "output_type": "stream",
     "text": [
      "[CV] END log__C=0.01, log__class_weight=balanced, log__penalty=none, log__tol=0.01; total time=  12.3s\n"
     ]
    },
    {
     "name": "stderr",
     "output_type": "stream",
     "text": [
      "/Users/raylinsoriano/anaconda3/lib/python3.8/site-packages/sklearn/linear_model/_logistic.py:1322: UserWarning: Setting penalty='none' will ignore the C and l1_ratio parameters\n",
      "  warnings.warn(\n"
     ]
    },
    {
     "name": "stdout",
     "output_type": "stream",
     "text": [
      "[CV] END log__C=0.01, log__class_weight=balanced, log__penalty=none, log__tol=0.1; total time=   3.9s\n"
     ]
    },
    {
     "name": "stderr",
     "output_type": "stream",
     "text": [
      "/Users/raylinsoriano/anaconda3/lib/python3.8/site-packages/sklearn/linear_model/_logistic.py:1322: UserWarning: Setting penalty='none' will ignore the C and l1_ratio parameters\n",
      "  warnings.warn(\n"
     ]
    },
    {
     "name": "stdout",
     "output_type": "stream",
     "text": [
      "[CV] END log__C=0.01, log__class_weight=balanced, log__penalty=none, log__tol=0.1; total time=   4.0s\n"
     ]
    },
    {
     "name": "stderr",
     "output_type": "stream",
     "text": [
      "/Users/raylinsoriano/anaconda3/lib/python3.8/site-packages/sklearn/linear_model/_logistic.py:1322: UserWarning: Setting penalty='none' will ignore the C and l1_ratio parameters\n",
      "  warnings.warn(\n"
     ]
    },
    {
     "name": "stdout",
     "output_type": "stream",
     "text": [
      "[CV] END log__C=0.01, log__class_weight=balanced, log__penalty=none, log__tol=0.1; total time=   4.3s\n"
     ]
    },
    {
     "name": "stderr",
     "output_type": "stream",
     "text": [
      "/Users/raylinsoriano/anaconda3/lib/python3.8/site-packages/sklearn/linear_model/_logistic.py:1322: UserWarning: Setting penalty='none' will ignore the C and l1_ratio parameters\n",
      "  warnings.warn(\n"
     ]
    },
    {
     "name": "stdout",
     "output_type": "stream",
     "text": [
      "[CV] END log__C=0.01, log__class_weight=balanced, log__penalty=none, log__tol=0.1; total time=   3.5s\n"
     ]
    },
    {
     "name": "stderr",
     "output_type": "stream",
     "text": [
      "/Users/raylinsoriano/anaconda3/lib/python3.8/site-packages/sklearn/linear_model/_logistic.py:1322: UserWarning: Setting penalty='none' will ignore the C and l1_ratio parameters\n",
      "  warnings.warn(\n"
     ]
    },
    {
     "name": "stdout",
     "output_type": "stream",
     "text": [
      "[CV] END log__C=0.01, log__class_weight=balanced, log__penalty=none, log__tol=0.1; total time=   2.9s\n"
     ]
    },
    {
     "name": "stderr",
     "output_type": "stream",
     "text": [
      "/Users/raylinsoriano/anaconda3/lib/python3.8/site-packages/sklearn/linear_model/_logistic.py:1322: UserWarning: Setting penalty='none' will ignore the C and l1_ratio parameters\n",
      "  warnings.warn(\n"
     ]
    },
    {
     "data": {
      "text/plain": [
       "GridSearchCV(cv=5,\n",
       "             estimator=Pipeline(steps=[('cv',\n",
       "                                        CountVectorizer(stop_words=['i', 'me',\n",
       "                                                                    'my',\n",
       "                                                                    'myself',\n",
       "                                                                    'we', 'our',\n",
       "                                                                    'ours',\n",
       "                                                                    'ourselves',\n",
       "                                                                    'you',\n",
       "                                                                    \"you're\",\n",
       "                                                                    \"you've\",\n",
       "                                                                    \"you'll\",\n",
       "                                                                    \"you'd\",\n",
       "                                                                    'your',\n",
       "                                                                    'yours',\n",
       "                                                                    'yourself',\n",
       "                                                                    'yourselves',\n",
       "                                                                    'he', 'him',\n",
       "                                                                    'his',\n",
       "                                                                    'himself',\n",
       "                                                                    'she',\n",
       "                                                                    \"she's\",\n",
       "                                                                    'her',\n",
       "                                                                    'hers',\n",
       "                                                                    'herself',\n",
       "                                                                    'it',\n",
       "                                                                    \"it's\",\n",
       "                                                                    'its',\n",
       "                                                                    'itself', ...])),\n",
       "                                       ('log',\n",
       "                                        LogisticRegression(max_iter=100000))]),\n",
       "             param_grid={'log__C': [0.0001, 0.001, 0.01],\n",
       "                         'log__class_weight': [None, 'balanced'],\n",
       "                         'log__penalty': ['l2', 'none'],\n",
       "                         'log__tol': [0.0001, 0.01, 0.1]},\n",
       "             scoring='precision_macro', verbose=2)"
      ]
     },
     "execution_count": 227,
     "metadata": {},
     "output_type": "execute_result"
    }
   ],
   "source": [
    "grid3.fit(df_train_clean['text'], df_train_clean['target'])"
   ]
  },
  {
   "cell_type": "code",
   "execution_count": 228,
   "id": "22c489b8",
   "metadata": {},
   "outputs": [
    {
     "data": {
      "text/plain": [
       "{'log__C': 0.0001,\n",
       " 'log__class_weight': 'balanced',\n",
       " 'log__penalty': 'none',\n",
       " 'log__tol': 0.1}"
      ]
     },
     "execution_count": 228,
     "metadata": {},
     "output_type": "execute_result"
    }
   ],
   "source": [
    "grid3.best_params_"
   ]
  },
  {
   "cell_type": "code",
   "execution_count": 229,
   "id": "1992297e",
   "metadata": {},
   "outputs": [
    {
     "data": {
      "text/plain": [
       "0.5551151136118678"
      ]
     },
     "execution_count": 229,
     "metadata": {},
     "output_type": "execute_result"
    }
   ],
   "source": [
    "grid3.best_score_\n"
   ]
  },
  {
   "cell_type": "code",
   "execution_count": 237,
   "id": "74666981",
   "metadata": {},
   "outputs": [],
   "source": [
    "grid4 = GridSearchCV(fouth_pipe, param2, scoring= 'precision_macro',cv=5, verbose=2)"
   ]
  },
  {
   "cell_type": "code",
   "execution_count": 248,
   "id": "b57cb498",
   "metadata": {},
   "outputs": [
    {
     "name": "stdout",
     "output_type": "stream",
     "text": [
      "Fitting 5 folds for each of 36 candidates, totalling 180 fits\n"
     ]
    },
    {
     "name": "stderr",
     "output_type": "stream",
     "text": [
      "/Users/raylinsoriano/anaconda3/lib/python3.8/site-packages/sklearn/metrics/_classification.py:1248: UndefinedMetricWarning: Precision is ill-defined and being set to 0.0 in labels with no predicted samples. Use `zero_division` parameter to control this behavior.\n",
      "  _warn_prf(average, modifier, msg_start, len(result))\n"
     ]
    },
    {
     "name": "stdout",
     "output_type": "stream",
     "text": [
      "[CV] END log__C=0.0001, log__class_weight=None, log__penalty=l2, log__tol=0.0001; total time=   0.3s\n"
     ]
    },
    {
     "name": "stderr",
     "output_type": "stream",
     "text": [
      "/Users/raylinsoriano/anaconda3/lib/python3.8/site-packages/sklearn/metrics/_classification.py:1248: UndefinedMetricWarning: Precision is ill-defined and being set to 0.0 in labels with no predicted samples. Use `zero_division` parameter to control this behavior.\n",
      "  _warn_prf(average, modifier, msg_start, len(result))\n"
     ]
    },
    {
     "name": "stdout",
     "output_type": "stream",
     "text": [
      "[CV] END log__C=0.0001, log__class_weight=None, log__penalty=l2, log__tol=0.0001; total time=   0.3s\n"
     ]
    },
    {
     "name": "stderr",
     "output_type": "stream",
     "text": [
      "/Users/raylinsoriano/anaconda3/lib/python3.8/site-packages/sklearn/metrics/_classification.py:1248: UndefinedMetricWarning: Precision is ill-defined and being set to 0.0 in labels with no predicted samples. Use `zero_division` parameter to control this behavior.\n",
      "  _warn_prf(average, modifier, msg_start, len(result))\n"
     ]
    },
    {
     "name": "stdout",
     "output_type": "stream",
     "text": [
      "[CV] END log__C=0.0001, log__class_weight=None, log__penalty=l2, log__tol=0.0001; total time=   0.4s\n"
     ]
    },
    {
     "name": "stderr",
     "output_type": "stream",
     "text": [
      "/Users/raylinsoriano/anaconda3/lib/python3.8/site-packages/sklearn/metrics/_classification.py:1248: UndefinedMetricWarning: Precision is ill-defined and being set to 0.0 in labels with no predicted samples. Use `zero_division` parameter to control this behavior.\n",
      "  _warn_prf(average, modifier, msg_start, len(result))\n"
     ]
    },
    {
     "name": "stdout",
     "output_type": "stream",
     "text": [
      "[CV] END log__C=0.0001, log__class_weight=None, log__penalty=l2, log__tol=0.0001; total time=   0.4s\n"
     ]
    },
    {
     "name": "stderr",
     "output_type": "stream",
     "text": [
      "/Users/raylinsoriano/anaconda3/lib/python3.8/site-packages/sklearn/metrics/_classification.py:1248: UndefinedMetricWarning: Precision is ill-defined and being set to 0.0 in labels with no predicted samples. Use `zero_division` parameter to control this behavior.\n",
      "  _warn_prf(average, modifier, msg_start, len(result))\n"
     ]
    },
    {
     "name": "stdout",
     "output_type": "stream",
     "text": [
      "[CV] END log__C=0.0001, log__class_weight=None, log__penalty=l2, log__tol=0.0001; total time=   0.3s\n"
     ]
    },
    {
     "name": "stderr",
     "output_type": "stream",
     "text": [
      "/Users/raylinsoriano/anaconda3/lib/python3.8/site-packages/sklearn/metrics/_classification.py:1248: UndefinedMetricWarning: Precision is ill-defined and being set to 0.0 in labels with no predicted samples. Use `zero_division` parameter to control this behavior.\n",
      "  _warn_prf(average, modifier, msg_start, len(result))\n"
     ]
    },
    {
     "name": "stdout",
     "output_type": "stream",
     "text": [
      "[CV] END log__C=0.0001, log__class_weight=None, log__penalty=l2, log__tol=0.01; total time=   0.9s\n"
     ]
    },
    {
     "name": "stderr",
     "output_type": "stream",
     "text": [
      "/Users/raylinsoriano/anaconda3/lib/python3.8/site-packages/sklearn/metrics/_classification.py:1248: UndefinedMetricWarning: Precision is ill-defined and being set to 0.0 in labels with no predicted samples. Use `zero_division` parameter to control this behavior.\n",
      "  _warn_prf(average, modifier, msg_start, len(result))\n"
     ]
    },
    {
     "name": "stdout",
     "output_type": "stream",
     "text": [
      "[CV] END log__C=0.0001, log__class_weight=None, log__penalty=l2, log__tol=0.01; total time=   0.3s\n"
     ]
    },
    {
     "name": "stderr",
     "output_type": "stream",
     "text": [
      "/Users/raylinsoriano/anaconda3/lib/python3.8/site-packages/sklearn/metrics/_classification.py:1248: UndefinedMetricWarning: Precision is ill-defined and being set to 0.0 in labels with no predicted samples. Use `zero_division` parameter to control this behavior.\n",
      "  _warn_prf(average, modifier, msg_start, len(result))\n"
     ]
    },
    {
     "name": "stdout",
     "output_type": "stream",
     "text": [
      "[CV] END log__C=0.0001, log__class_weight=None, log__penalty=l2, log__tol=0.01; total time=   0.3s\n"
     ]
    },
    {
     "name": "stderr",
     "output_type": "stream",
     "text": [
      "/Users/raylinsoriano/anaconda3/lib/python3.8/site-packages/sklearn/metrics/_classification.py:1248: UndefinedMetricWarning: Precision is ill-defined and being set to 0.0 in labels with no predicted samples. Use `zero_division` parameter to control this behavior.\n",
      "  _warn_prf(average, modifier, msg_start, len(result))\n"
     ]
    },
    {
     "name": "stdout",
     "output_type": "stream",
     "text": [
      "[CV] END log__C=0.0001, log__class_weight=None, log__penalty=l2, log__tol=0.01; total time=   0.4s\n"
     ]
    },
    {
     "name": "stderr",
     "output_type": "stream",
     "text": [
      "/Users/raylinsoriano/anaconda3/lib/python3.8/site-packages/sklearn/metrics/_classification.py:1248: UndefinedMetricWarning: Precision is ill-defined and being set to 0.0 in labels with no predicted samples. Use `zero_division` parameter to control this behavior.\n",
      "  _warn_prf(average, modifier, msg_start, len(result))\n"
     ]
    },
    {
     "name": "stdout",
     "output_type": "stream",
     "text": [
      "[CV] END log__C=0.0001, log__class_weight=None, log__penalty=l2, log__tol=0.01; total time=   0.5s\n"
     ]
    },
    {
     "name": "stderr",
     "output_type": "stream",
     "text": [
      "/Users/raylinsoriano/anaconda3/lib/python3.8/site-packages/sklearn/metrics/_classification.py:1248: UndefinedMetricWarning: Precision is ill-defined and being set to 0.0 in labels with no predicted samples. Use `zero_division` parameter to control this behavior.\n",
      "  _warn_prf(average, modifier, msg_start, len(result))\n"
     ]
    },
    {
     "name": "stdout",
     "output_type": "stream",
     "text": [
      "[CV] END log__C=0.0001, log__class_weight=None, log__penalty=l2, log__tol=0.1; total time=   0.3s\n"
     ]
    },
    {
     "name": "stderr",
     "output_type": "stream",
     "text": [
      "/Users/raylinsoriano/anaconda3/lib/python3.8/site-packages/sklearn/metrics/_classification.py:1248: UndefinedMetricWarning: Precision is ill-defined and being set to 0.0 in labels with no predicted samples. Use `zero_division` parameter to control this behavior.\n",
      "  _warn_prf(average, modifier, msg_start, len(result))\n"
     ]
    },
    {
     "name": "stdout",
     "output_type": "stream",
     "text": [
      "[CV] END log__C=0.0001, log__class_weight=None, log__penalty=l2, log__tol=0.1; total time=   0.3s\n"
     ]
    },
    {
     "name": "stderr",
     "output_type": "stream",
     "text": [
      "/Users/raylinsoriano/anaconda3/lib/python3.8/site-packages/sklearn/metrics/_classification.py:1248: UndefinedMetricWarning: Precision is ill-defined and being set to 0.0 in labels with no predicted samples. Use `zero_division` parameter to control this behavior.\n",
      "  _warn_prf(average, modifier, msg_start, len(result))\n"
     ]
    },
    {
     "name": "stdout",
     "output_type": "stream",
     "text": [
      "[CV] END log__C=0.0001, log__class_weight=None, log__penalty=l2, log__tol=0.1; total time=   0.3s\n"
     ]
    },
    {
     "name": "stderr",
     "output_type": "stream",
     "text": [
      "/Users/raylinsoriano/anaconda3/lib/python3.8/site-packages/sklearn/metrics/_classification.py:1248: UndefinedMetricWarning: Precision is ill-defined and being set to 0.0 in labels with no predicted samples. Use `zero_division` parameter to control this behavior.\n",
      "  _warn_prf(average, modifier, msg_start, len(result))\n"
     ]
    },
    {
     "name": "stdout",
     "output_type": "stream",
     "text": [
      "[CV] END log__C=0.0001, log__class_weight=None, log__penalty=l2, log__tol=0.1; total time=   0.3s\n"
     ]
    },
    {
     "name": "stderr",
     "output_type": "stream",
     "text": [
      "/Users/raylinsoriano/anaconda3/lib/python3.8/site-packages/sklearn/metrics/_classification.py:1248: UndefinedMetricWarning: Precision is ill-defined and being set to 0.0 in labels with no predicted samples. Use `zero_division` parameter to control this behavior.\n",
      "  _warn_prf(average, modifier, msg_start, len(result))\n",
      "/Users/raylinsoriano/anaconda3/lib/python3.8/site-packages/sklearn/linear_model/_logistic.py:1322: UserWarning: Setting penalty='none' will ignore the C and l1_ratio parameters\n",
      "  warnings.warn(\n"
     ]
    },
    {
     "name": "stdout",
     "output_type": "stream",
     "text": [
      "[CV] END log__C=0.0001, log__class_weight=None, log__penalty=l2, log__tol=0.1; total time=   0.3s\n",
      "[CV] END log__C=0.0001, log__class_weight=None, log__penalty=none, log__tol=0.0001; total time=  20.9s\n"
     ]
    },
    {
     "name": "stderr",
     "output_type": "stream",
     "text": [
      "/Users/raylinsoriano/anaconda3/lib/python3.8/site-packages/sklearn/linear_model/_logistic.py:1322: UserWarning: Setting penalty='none' will ignore the C and l1_ratio parameters\n",
      "  warnings.warn(\n"
     ]
    },
    {
     "ename": "KeyboardInterrupt",
     "evalue": "",
     "output_type": "error",
     "traceback": [
      "\u001b[0;31m---------------------------------------------------------------------------\u001b[0m",
      "\u001b[0;31mKeyboardInterrupt\u001b[0m                         Traceback (most recent call last)",
      "\u001b[0;32m/var/folders/10/1w2hpkhn2v9g5h3_0k0f70t40000gn/T/ipykernel_2899/487761249.py\u001b[0m in \u001b[0;36m<module>\u001b[0;34m\u001b[0m\n\u001b[0;32m----> 1\u001b[0;31m \u001b[0mgrid4\u001b[0m\u001b[0;34m.\u001b[0m\u001b[0mfit\u001b[0m\u001b[0;34m(\u001b[0m\u001b[0mdf_train_clean\u001b[0m\u001b[0;34m[\u001b[0m\u001b[0;34m'text'\u001b[0m\u001b[0;34m]\u001b[0m\u001b[0;34m,\u001b[0m \u001b[0mdf_train_clean\u001b[0m\u001b[0;34m[\u001b[0m\u001b[0;34m'target'\u001b[0m\u001b[0;34m]\u001b[0m\u001b[0;34m)\u001b[0m\u001b[0;34m\u001b[0m\u001b[0;34m\u001b[0m\u001b[0m\n\u001b[0m",
      "\u001b[0;32m~/anaconda3/lib/python3.8/site-packages/sklearn/utils/validation.py\u001b[0m in \u001b[0;36minner_f\u001b[0;34m(*args, **kwargs)\u001b[0m\n\u001b[1;32m     61\u001b[0m             \u001b[0mextra_args\u001b[0m \u001b[0;34m=\u001b[0m \u001b[0mlen\u001b[0m\u001b[0;34m(\u001b[0m\u001b[0margs\u001b[0m\u001b[0;34m)\u001b[0m \u001b[0;34m-\u001b[0m \u001b[0mlen\u001b[0m\u001b[0;34m(\u001b[0m\u001b[0mall_args\u001b[0m\u001b[0;34m)\u001b[0m\u001b[0;34m\u001b[0m\u001b[0;34m\u001b[0m\u001b[0m\n\u001b[1;32m     62\u001b[0m             \u001b[0;32mif\u001b[0m \u001b[0mextra_args\u001b[0m \u001b[0;34m<=\u001b[0m \u001b[0;36m0\u001b[0m\u001b[0;34m:\u001b[0m\u001b[0;34m\u001b[0m\u001b[0;34m\u001b[0m\u001b[0m\n\u001b[0;32m---> 63\u001b[0;31m                 \u001b[0;32mreturn\u001b[0m \u001b[0mf\u001b[0m\u001b[0;34m(\u001b[0m\u001b[0;34m*\u001b[0m\u001b[0margs\u001b[0m\u001b[0;34m,\u001b[0m \u001b[0;34m**\u001b[0m\u001b[0mkwargs\u001b[0m\u001b[0;34m)\u001b[0m\u001b[0;34m\u001b[0m\u001b[0;34m\u001b[0m\u001b[0m\n\u001b[0m\u001b[1;32m     64\u001b[0m \u001b[0;34m\u001b[0m\u001b[0m\n\u001b[1;32m     65\u001b[0m             \u001b[0;31m# extra_args > 0\u001b[0m\u001b[0;34m\u001b[0m\u001b[0;34m\u001b[0m\u001b[0;34m\u001b[0m\u001b[0m\n",
      "\u001b[0;32m~/anaconda3/lib/python3.8/site-packages/sklearn/model_selection/_search.py\u001b[0m in \u001b[0;36mfit\u001b[0;34m(self, X, y, groups, **fit_params)\u001b[0m\n\u001b[1;32m    839\u001b[0m                 \u001b[0;32mreturn\u001b[0m \u001b[0mresults\u001b[0m\u001b[0;34m\u001b[0m\u001b[0;34m\u001b[0m\u001b[0m\n\u001b[1;32m    840\u001b[0m \u001b[0;34m\u001b[0m\u001b[0m\n\u001b[0;32m--> 841\u001b[0;31m             \u001b[0mself\u001b[0m\u001b[0;34m.\u001b[0m\u001b[0m_run_search\u001b[0m\u001b[0;34m(\u001b[0m\u001b[0mevaluate_candidates\u001b[0m\u001b[0;34m)\u001b[0m\u001b[0;34m\u001b[0m\u001b[0;34m\u001b[0m\u001b[0m\n\u001b[0m\u001b[1;32m    842\u001b[0m \u001b[0;34m\u001b[0m\u001b[0m\n\u001b[1;32m    843\u001b[0m             \u001b[0;31m# multimetric is determined here because in the case of a callable\u001b[0m\u001b[0;34m\u001b[0m\u001b[0;34m\u001b[0m\u001b[0;34m\u001b[0m\u001b[0m\n",
      "\u001b[0;32m~/anaconda3/lib/python3.8/site-packages/sklearn/model_selection/_search.py\u001b[0m in \u001b[0;36m_run_search\u001b[0;34m(self, evaluate_candidates)\u001b[0m\n\u001b[1;32m   1294\u001b[0m     \u001b[0;32mdef\u001b[0m \u001b[0m_run_search\u001b[0m\u001b[0;34m(\u001b[0m\u001b[0mself\u001b[0m\u001b[0;34m,\u001b[0m \u001b[0mevaluate_candidates\u001b[0m\u001b[0;34m)\u001b[0m\u001b[0;34m:\u001b[0m\u001b[0;34m\u001b[0m\u001b[0;34m\u001b[0m\u001b[0m\n\u001b[1;32m   1295\u001b[0m         \u001b[0;34m\"\"\"Search all candidates in param_grid\"\"\"\u001b[0m\u001b[0;34m\u001b[0m\u001b[0;34m\u001b[0m\u001b[0m\n\u001b[0;32m-> 1296\u001b[0;31m         \u001b[0mevaluate_candidates\u001b[0m\u001b[0;34m(\u001b[0m\u001b[0mParameterGrid\u001b[0m\u001b[0;34m(\u001b[0m\u001b[0mself\u001b[0m\u001b[0;34m.\u001b[0m\u001b[0mparam_grid\u001b[0m\u001b[0;34m)\u001b[0m\u001b[0;34m)\u001b[0m\u001b[0;34m\u001b[0m\u001b[0;34m\u001b[0m\u001b[0m\n\u001b[0m\u001b[1;32m   1297\u001b[0m \u001b[0;34m\u001b[0m\u001b[0m\n\u001b[1;32m   1298\u001b[0m \u001b[0;34m\u001b[0m\u001b[0m\n",
      "\u001b[0;32m~/anaconda3/lib/python3.8/site-packages/sklearn/model_selection/_search.py\u001b[0m in \u001b[0;36mevaluate_candidates\u001b[0;34m(candidate_params, cv, more_results)\u001b[0m\n\u001b[1;32m    793\u001b[0m                               n_splits, n_candidates, n_candidates * n_splits))\n\u001b[1;32m    794\u001b[0m \u001b[0;34m\u001b[0m\u001b[0m\n\u001b[0;32m--> 795\u001b[0;31m                 out = parallel(delayed(_fit_and_score)(clone(base_estimator),\n\u001b[0m\u001b[1;32m    796\u001b[0m                                                        \u001b[0mX\u001b[0m\u001b[0;34m,\u001b[0m \u001b[0my\u001b[0m\u001b[0;34m,\u001b[0m\u001b[0;34m\u001b[0m\u001b[0;34m\u001b[0m\u001b[0m\n\u001b[1;32m    797\u001b[0m                                                        \u001b[0mtrain\u001b[0m\u001b[0;34m=\u001b[0m\u001b[0mtrain\u001b[0m\u001b[0;34m,\u001b[0m \u001b[0mtest\u001b[0m\u001b[0;34m=\u001b[0m\u001b[0mtest\u001b[0m\u001b[0;34m,\u001b[0m\u001b[0;34m\u001b[0m\u001b[0;34m\u001b[0m\u001b[0m\n",
      "\u001b[0;32m~/anaconda3/lib/python3.8/site-packages/joblib/parallel.py\u001b[0m in \u001b[0;36m__call__\u001b[0;34m(self, iterable)\u001b[0m\n\u001b[1;32m   1042\u001b[0m                 \u001b[0mself\u001b[0m\u001b[0;34m.\u001b[0m\u001b[0m_iterating\u001b[0m \u001b[0;34m=\u001b[0m \u001b[0mself\u001b[0m\u001b[0;34m.\u001b[0m\u001b[0m_original_iterator\u001b[0m \u001b[0;32mis\u001b[0m \u001b[0;32mnot\u001b[0m \u001b[0;32mNone\u001b[0m\u001b[0;34m\u001b[0m\u001b[0;34m\u001b[0m\u001b[0m\n\u001b[1;32m   1043\u001b[0m \u001b[0;34m\u001b[0m\u001b[0m\n\u001b[0;32m-> 1044\u001b[0;31m             \u001b[0;32mwhile\u001b[0m \u001b[0mself\u001b[0m\u001b[0;34m.\u001b[0m\u001b[0mdispatch_one_batch\u001b[0m\u001b[0;34m(\u001b[0m\u001b[0miterator\u001b[0m\u001b[0;34m)\u001b[0m\u001b[0;34m:\u001b[0m\u001b[0;34m\u001b[0m\u001b[0;34m\u001b[0m\u001b[0m\n\u001b[0m\u001b[1;32m   1045\u001b[0m                 \u001b[0;32mpass\u001b[0m\u001b[0;34m\u001b[0m\u001b[0;34m\u001b[0m\u001b[0m\n\u001b[1;32m   1046\u001b[0m \u001b[0;34m\u001b[0m\u001b[0m\n",
      "\u001b[0;32m~/anaconda3/lib/python3.8/site-packages/joblib/parallel.py\u001b[0m in \u001b[0;36mdispatch_one_batch\u001b[0;34m(self, iterator)\u001b[0m\n\u001b[1;32m    857\u001b[0m                 \u001b[0;32mreturn\u001b[0m \u001b[0;32mFalse\u001b[0m\u001b[0;34m\u001b[0m\u001b[0;34m\u001b[0m\u001b[0m\n\u001b[1;32m    858\u001b[0m             \u001b[0;32melse\u001b[0m\u001b[0;34m:\u001b[0m\u001b[0;34m\u001b[0m\u001b[0;34m\u001b[0m\u001b[0m\n\u001b[0;32m--> 859\u001b[0;31m                 \u001b[0mself\u001b[0m\u001b[0;34m.\u001b[0m\u001b[0m_dispatch\u001b[0m\u001b[0;34m(\u001b[0m\u001b[0mtasks\u001b[0m\u001b[0;34m)\u001b[0m\u001b[0;34m\u001b[0m\u001b[0;34m\u001b[0m\u001b[0m\n\u001b[0m\u001b[1;32m    860\u001b[0m                 \u001b[0;32mreturn\u001b[0m \u001b[0;32mTrue\u001b[0m\u001b[0;34m\u001b[0m\u001b[0;34m\u001b[0m\u001b[0m\n\u001b[1;32m    861\u001b[0m \u001b[0;34m\u001b[0m\u001b[0m\n",
      "\u001b[0;32m~/anaconda3/lib/python3.8/site-packages/joblib/parallel.py\u001b[0m in \u001b[0;36m_dispatch\u001b[0;34m(self, batch)\u001b[0m\n\u001b[1;32m    775\u001b[0m         \u001b[0;32mwith\u001b[0m \u001b[0mself\u001b[0m\u001b[0;34m.\u001b[0m\u001b[0m_lock\u001b[0m\u001b[0;34m:\u001b[0m\u001b[0;34m\u001b[0m\u001b[0;34m\u001b[0m\u001b[0m\n\u001b[1;32m    776\u001b[0m             \u001b[0mjob_idx\u001b[0m \u001b[0;34m=\u001b[0m \u001b[0mlen\u001b[0m\u001b[0;34m(\u001b[0m\u001b[0mself\u001b[0m\u001b[0;34m.\u001b[0m\u001b[0m_jobs\u001b[0m\u001b[0;34m)\u001b[0m\u001b[0;34m\u001b[0m\u001b[0;34m\u001b[0m\u001b[0m\n\u001b[0;32m--> 777\u001b[0;31m             \u001b[0mjob\u001b[0m \u001b[0;34m=\u001b[0m \u001b[0mself\u001b[0m\u001b[0;34m.\u001b[0m\u001b[0m_backend\u001b[0m\u001b[0;34m.\u001b[0m\u001b[0mapply_async\u001b[0m\u001b[0;34m(\u001b[0m\u001b[0mbatch\u001b[0m\u001b[0;34m,\u001b[0m \u001b[0mcallback\u001b[0m\u001b[0;34m=\u001b[0m\u001b[0mcb\u001b[0m\u001b[0;34m)\u001b[0m\u001b[0;34m\u001b[0m\u001b[0;34m\u001b[0m\u001b[0m\n\u001b[0m\u001b[1;32m    778\u001b[0m             \u001b[0;31m# A job can complete so quickly than its callback is\u001b[0m\u001b[0;34m\u001b[0m\u001b[0;34m\u001b[0m\u001b[0;34m\u001b[0m\u001b[0m\n\u001b[1;32m    779\u001b[0m             \u001b[0;31m# called before we get here, causing self._jobs to\u001b[0m\u001b[0;34m\u001b[0m\u001b[0;34m\u001b[0m\u001b[0;34m\u001b[0m\u001b[0m\n",
      "\u001b[0;32m~/anaconda3/lib/python3.8/site-packages/joblib/_parallel_backends.py\u001b[0m in \u001b[0;36mapply_async\u001b[0;34m(self, func, callback)\u001b[0m\n\u001b[1;32m    206\u001b[0m     \u001b[0;32mdef\u001b[0m \u001b[0mapply_async\u001b[0m\u001b[0;34m(\u001b[0m\u001b[0mself\u001b[0m\u001b[0;34m,\u001b[0m \u001b[0mfunc\u001b[0m\u001b[0;34m,\u001b[0m \u001b[0mcallback\u001b[0m\u001b[0;34m=\u001b[0m\u001b[0;32mNone\u001b[0m\u001b[0;34m)\u001b[0m\u001b[0;34m:\u001b[0m\u001b[0;34m\u001b[0m\u001b[0;34m\u001b[0m\u001b[0m\n\u001b[1;32m    207\u001b[0m         \u001b[0;34m\"\"\"Schedule a func to be run\"\"\"\u001b[0m\u001b[0;34m\u001b[0m\u001b[0;34m\u001b[0m\u001b[0m\n\u001b[0;32m--> 208\u001b[0;31m         \u001b[0mresult\u001b[0m \u001b[0;34m=\u001b[0m \u001b[0mImmediateResult\u001b[0m\u001b[0;34m(\u001b[0m\u001b[0mfunc\u001b[0m\u001b[0;34m)\u001b[0m\u001b[0;34m\u001b[0m\u001b[0;34m\u001b[0m\u001b[0m\n\u001b[0m\u001b[1;32m    209\u001b[0m         \u001b[0;32mif\u001b[0m \u001b[0mcallback\u001b[0m\u001b[0;34m:\u001b[0m\u001b[0;34m\u001b[0m\u001b[0;34m\u001b[0m\u001b[0m\n\u001b[1;32m    210\u001b[0m             \u001b[0mcallback\u001b[0m\u001b[0;34m(\u001b[0m\u001b[0mresult\u001b[0m\u001b[0;34m)\u001b[0m\u001b[0;34m\u001b[0m\u001b[0;34m\u001b[0m\u001b[0m\n",
      "\u001b[0;32m~/anaconda3/lib/python3.8/site-packages/joblib/_parallel_backends.py\u001b[0m in \u001b[0;36m__init__\u001b[0;34m(self, batch)\u001b[0m\n\u001b[1;32m    570\u001b[0m         \u001b[0;31m# Don't delay the application, to avoid keeping the input\u001b[0m\u001b[0;34m\u001b[0m\u001b[0;34m\u001b[0m\u001b[0;34m\u001b[0m\u001b[0m\n\u001b[1;32m    571\u001b[0m         \u001b[0;31m# arguments in memory\u001b[0m\u001b[0;34m\u001b[0m\u001b[0;34m\u001b[0m\u001b[0;34m\u001b[0m\u001b[0m\n\u001b[0;32m--> 572\u001b[0;31m         \u001b[0mself\u001b[0m\u001b[0;34m.\u001b[0m\u001b[0mresults\u001b[0m \u001b[0;34m=\u001b[0m \u001b[0mbatch\u001b[0m\u001b[0;34m(\u001b[0m\u001b[0;34m)\u001b[0m\u001b[0;34m\u001b[0m\u001b[0;34m\u001b[0m\u001b[0m\n\u001b[0m\u001b[1;32m    573\u001b[0m \u001b[0;34m\u001b[0m\u001b[0m\n\u001b[1;32m    574\u001b[0m     \u001b[0;32mdef\u001b[0m \u001b[0mget\u001b[0m\u001b[0;34m(\u001b[0m\u001b[0mself\u001b[0m\u001b[0;34m)\u001b[0m\u001b[0;34m:\u001b[0m\u001b[0;34m\u001b[0m\u001b[0;34m\u001b[0m\u001b[0m\n",
      "\u001b[0;32m~/anaconda3/lib/python3.8/site-packages/joblib/parallel.py\u001b[0m in \u001b[0;36m__call__\u001b[0;34m(self)\u001b[0m\n\u001b[1;32m    260\u001b[0m         \u001b[0;31m# change the default number of processes to -1\u001b[0m\u001b[0;34m\u001b[0m\u001b[0;34m\u001b[0m\u001b[0;34m\u001b[0m\u001b[0m\n\u001b[1;32m    261\u001b[0m         \u001b[0;32mwith\u001b[0m \u001b[0mparallel_backend\u001b[0m\u001b[0;34m(\u001b[0m\u001b[0mself\u001b[0m\u001b[0;34m.\u001b[0m\u001b[0m_backend\u001b[0m\u001b[0;34m,\u001b[0m \u001b[0mn_jobs\u001b[0m\u001b[0;34m=\u001b[0m\u001b[0mself\u001b[0m\u001b[0;34m.\u001b[0m\u001b[0m_n_jobs\u001b[0m\u001b[0;34m)\u001b[0m\u001b[0;34m:\u001b[0m\u001b[0;34m\u001b[0m\u001b[0;34m\u001b[0m\u001b[0m\n\u001b[0;32m--> 262\u001b[0;31m             return [func(*args, **kwargs)\n\u001b[0m\u001b[1;32m    263\u001b[0m                     for func, args, kwargs in self.items]\n\u001b[1;32m    264\u001b[0m \u001b[0;34m\u001b[0m\u001b[0m\n",
      "\u001b[0;32m~/anaconda3/lib/python3.8/site-packages/joblib/parallel.py\u001b[0m in \u001b[0;36m<listcomp>\u001b[0;34m(.0)\u001b[0m\n\u001b[1;32m    260\u001b[0m         \u001b[0;31m# change the default number of processes to -1\u001b[0m\u001b[0;34m\u001b[0m\u001b[0;34m\u001b[0m\u001b[0;34m\u001b[0m\u001b[0m\n\u001b[1;32m    261\u001b[0m         \u001b[0;32mwith\u001b[0m \u001b[0mparallel_backend\u001b[0m\u001b[0;34m(\u001b[0m\u001b[0mself\u001b[0m\u001b[0;34m.\u001b[0m\u001b[0m_backend\u001b[0m\u001b[0;34m,\u001b[0m \u001b[0mn_jobs\u001b[0m\u001b[0;34m=\u001b[0m\u001b[0mself\u001b[0m\u001b[0;34m.\u001b[0m\u001b[0m_n_jobs\u001b[0m\u001b[0;34m)\u001b[0m\u001b[0;34m:\u001b[0m\u001b[0;34m\u001b[0m\u001b[0;34m\u001b[0m\u001b[0m\n\u001b[0;32m--> 262\u001b[0;31m             return [func(*args, **kwargs)\n\u001b[0m\u001b[1;32m    263\u001b[0m                     for func, args, kwargs in self.items]\n\u001b[1;32m    264\u001b[0m \u001b[0;34m\u001b[0m\u001b[0m\n",
      "\u001b[0;32m~/anaconda3/lib/python3.8/site-packages/sklearn/utils/fixes.py\u001b[0m in \u001b[0;36m__call__\u001b[0;34m(self, *args, **kwargs)\u001b[0m\n\u001b[1;32m    220\u001b[0m     \u001b[0;32mdef\u001b[0m \u001b[0m__call__\u001b[0m\u001b[0;34m(\u001b[0m\u001b[0mself\u001b[0m\u001b[0;34m,\u001b[0m \u001b[0;34m*\u001b[0m\u001b[0margs\u001b[0m\u001b[0;34m,\u001b[0m \u001b[0;34m**\u001b[0m\u001b[0mkwargs\u001b[0m\u001b[0;34m)\u001b[0m\u001b[0;34m:\u001b[0m\u001b[0;34m\u001b[0m\u001b[0;34m\u001b[0m\u001b[0m\n\u001b[1;32m    221\u001b[0m         \u001b[0;32mwith\u001b[0m \u001b[0mconfig_context\u001b[0m\u001b[0;34m(\u001b[0m\u001b[0;34m**\u001b[0m\u001b[0mself\u001b[0m\u001b[0;34m.\u001b[0m\u001b[0mconfig\u001b[0m\u001b[0;34m)\u001b[0m\u001b[0;34m:\u001b[0m\u001b[0;34m\u001b[0m\u001b[0;34m\u001b[0m\u001b[0m\n\u001b[0;32m--> 222\u001b[0;31m             \u001b[0;32mreturn\u001b[0m \u001b[0mself\u001b[0m\u001b[0;34m.\u001b[0m\u001b[0mfunction\u001b[0m\u001b[0;34m(\u001b[0m\u001b[0;34m*\u001b[0m\u001b[0margs\u001b[0m\u001b[0;34m,\u001b[0m \u001b[0;34m**\u001b[0m\u001b[0mkwargs\u001b[0m\u001b[0;34m)\u001b[0m\u001b[0;34m\u001b[0m\u001b[0;34m\u001b[0m\u001b[0m\n\u001b[0m",
      "\u001b[0;32m~/anaconda3/lib/python3.8/site-packages/sklearn/model_selection/_validation.py\u001b[0m in \u001b[0;36m_fit_and_score\u001b[0;34m(estimator, X, y, scorer, train, test, verbose, parameters, fit_params, return_train_score, return_parameters, return_n_test_samples, return_times, return_estimator, split_progress, candidate_progress, error_score)\u001b[0m\n\u001b[1;32m    596\u001b[0m             \u001b[0mestimator\u001b[0m\u001b[0;34m.\u001b[0m\u001b[0mfit\u001b[0m\u001b[0;34m(\u001b[0m\u001b[0mX_train\u001b[0m\u001b[0;34m,\u001b[0m \u001b[0;34m**\u001b[0m\u001b[0mfit_params\u001b[0m\u001b[0;34m)\u001b[0m\u001b[0;34m\u001b[0m\u001b[0;34m\u001b[0m\u001b[0m\n\u001b[1;32m    597\u001b[0m         \u001b[0;32melse\u001b[0m\u001b[0;34m:\u001b[0m\u001b[0;34m\u001b[0m\u001b[0;34m\u001b[0m\u001b[0m\n\u001b[0;32m--> 598\u001b[0;31m             \u001b[0mestimator\u001b[0m\u001b[0;34m.\u001b[0m\u001b[0mfit\u001b[0m\u001b[0;34m(\u001b[0m\u001b[0mX_train\u001b[0m\u001b[0;34m,\u001b[0m \u001b[0my_train\u001b[0m\u001b[0;34m,\u001b[0m \u001b[0;34m**\u001b[0m\u001b[0mfit_params\u001b[0m\u001b[0;34m)\u001b[0m\u001b[0;34m\u001b[0m\u001b[0;34m\u001b[0m\u001b[0m\n\u001b[0m\u001b[1;32m    599\u001b[0m \u001b[0;34m\u001b[0m\u001b[0m\n\u001b[1;32m    600\u001b[0m     \u001b[0;32mexcept\u001b[0m \u001b[0mException\u001b[0m \u001b[0;32mas\u001b[0m \u001b[0me\u001b[0m\u001b[0;34m:\u001b[0m\u001b[0;34m\u001b[0m\u001b[0;34m\u001b[0m\u001b[0m\n",
      "\u001b[0;32m~/anaconda3/lib/python3.8/site-packages/imblearn/pipeline.py\u001b[0m in \u001b[0;36mfit\u001b[0;34m(self, X, y, **fit_params)\u001b[0m\n\u001b[1;32m    264\u001b[0m             \u001b[0;32mif\u001b[0m \u001b[0mself\u001b[0m\u001b[0;34m.\u001b[0m\u001b[0m_final_estimator\u001b[0m \u001b[0;34m!=\u001b[0m \u001b[0;34m\"passthrough\"\u001b[0m\u001b[0;34m:\u001b[0m\u001b[0;34m\u001b[0m\u001b[0;34m\u001b[0m\u001b[0m\n\u001b[1;32m    265\u001b[0m                 \u001b[0mfit_params_last_step\u001b[0m \u001b[0;34m=\u001b[0m \u001b[0mfit_params_steps\u001b[0m\u001b[0;34m[\u001b[0m\u001b[0mself\u001b[0m\u001b[0;34m.\u001b[0m\u001b[0msteps\u001b[0m\u001b[0;34m[\u001b[0m\u001b[0;34m-\u001b[0m\u001b[0;36m1\u001b[0m\u001b[0;34m]\u001b[0m\u001b[0;34m[\u001b[0m\u001b[0;36m0\u001b[0m\u001b[0;34m]\u001b[0m\u001b[0;34m]\u001b[0m\u001b[0;34m\u001b[0m\u001b[0;34m\u001b[0m\u001b[0m\n\u001b[0;32m--> 266\u001b[0;31m                 \u001b[0mself\u001b[0m\u001b[0;34m.\u001b[0m\u001b[0m_final_estimator\u001b[0m\u001b[0;34m.\u001b[0m\u001b[0mfit\u001b[0m\u001b[0;34m(\u001b[0m\u001b[0mXt\u001b[0m\u001b[0;34m,\u001b[0m \u001b[0myt\u001b[0m\u001b[0;34m,\u001b[0m \u001b[0;34m**\u001b[0m\u001b[0mfit_params_last_step\u001b[0m\u001b[0;34m)\u001b[0m\u001b[0;34m\u001b[0m\u001b[0;34m\u001b[0m\u001b[0m\n\u001b[0m\u001b[1;32m    267\u001b[0m         \u001b[0;32mreturn\u001b[0m \u001b[0mself\u001b[0m\u001b[0;34m\u001b[0m\u001b[0;34m\u001b[0m\u001b[0m\n\u001b[1;32m    268\u001b[0m \u001b[0;34m\u001b[0m\u001b[0m\n",
      "\u001b[0;32m~/anaconda3/lib/python3.8/site-packages/sklearn/linear_model/_logistic.py\u001b[0m in \u001b[0;36mfit\u001b[0;34m(self, X, y, sample_weight)\u001b[0m\n\u001b[1;32m   1404\u001b[0m         \u001b[0;32melse\u001b[0m\u001b[0;34m:\u001b[0m\u001b[0;34m\u001b[0m\u001b[0;34m\u001b[0m\u001b[0m\n\u001b[1;32m   1405\u001b[0m             \u001b[0mprefer\u001b[0m \u001b[0;34m=\u001b[0m \u001b[0;34m'processes'\u001b[0m\u001b[0;34m\u001b[0m\u001b[0;34m\u001b[0m\u001b[0m\n\u001b[0;32m-> 1406\u001b[0;31m         fold_coefs_ = Parallel(n_jobs=self.n_jobs, verbose=self.verbose,\n\u001b[0m\u001b[1;32m   1407\u001b[0m                                \u001b[0;34m**\u001b[0m\u001b[0m_joblib_parallel_args\u001b[0m\u001b[0;34m(\u001b[0m\u001b[0mprefer\u001b[0m\u001b[0;34m=\u001b[0m\u001b[0mprefer\u001b[0m\u001b[0;34m)\u001b[0m\u001b[0;34m)\u001b[0m\u001b[0;34m(\u001b[0m\u001b[0;34m\u001b[0m\u001b[0;34m\u001b[0m\u001b[0m\n\u001b[1;32m   1408\u001b[0m             path_func(X, y, pos_class=class_, Cs=[C_],\n",
      "\u001b[0;32m~/anaconda3/lib/python3.8/site-packages/joblib/parallel.py\u001b[0m in \u001b[0;36m__call__\u001b[0;34m(self, iterable)\u001b[0m\n\u001b[1;32m   1039\u001b[0m             \u001b[0;31m# remaining jobs.\u001b[0m\u001b[0;34m\u001b[0m\u001b[0;34m\u001b[0m\u001b[0;34m\u001b[0m\u001b[0m\n\u001b[1;32m   1040\u001b[0m             \u001b[0mself\u001b[0m\u001b[0;34m.\u001b[0m\u001b[0m_iterating\u001b[0m \u001b[0;34m=\u001b[0m \u001b[0;32mFalse\u001b[0m\u001b[0;34m\u001b[0m\u001b[0;34m\u001b[0m\u001b[0m\n\u001b[0;32m-> 1041\u001b[0;31m             \u001b[0;32mif\u001b[0m \u001b[0mself\u001b[0m\u001b[0;34m.\u001b[0m\u001b[0mdispatch_one_batch\u001b[0m\u001b[0;34m(\u001b[0m\u001b[0miterator\u001b[0m\u001b[0;34m)\u001b[0m\u001b[0;34m:\u001b[0m\u001b[0;34m\u001b[0m\u001b[0;34m\u001b[0m\u001b[0m\n\u001b[0m\u001b[1;32m   1042\u001b[0m                 \u001b[0mself\u001b[0m\u001b[0;34m.\u001b[0m\u001b[0m_iterating\u001b[0m \u001b[0;34m=\u001b[0m \u001b[0mself\u001b[0m\u001b[0;34m.\u001b[0m\u001b[0m_original_iterator\u001b[0m \u001b[0;32mis\u001b[0m \u001b[0;32mnot\u001b[0m \u001b[0;32mNone\u001b[0m\u001b[0;34m\u001b[0m\u001b[0;34m\u001b[0m\u001b[0m\n\u001b[1;32m   1043\u001b[0m \u001b[0;34m\u001b[0m\u001b[0m\n",
      "\u001b[0;32m~/anaconda3/lib/python3.8/site-packages/joblib/parallel.py\u001b[0m in \u001b[0;36mdispatch_one_batch\u001b[0;34m(self, iterator)\u001b[0m\n\u001b[1;32m    857\u001b[0m                 \u001b[0;32mreturn\u001b[0m \u001b[0;32mFalse\u001b[0m\u001b[0;34m\u001b[0m\u001b[0;34m\u001b[0m\u001b[0m\n\u001b[1;32m    858\u001b[0m             \u001b[0;32melse\u001b[0m\u001b[0;34m:\u001b[0m\u001b[0;34m\u001b[0m\u001b[0;34m\u001b[0m\u001b[0m\n\u001b[0;32m--> 859\u001b[0;31m                 \u001b[0mself\u001b[0m\u001b[0;34m.\u001b[0m\u001b[0m_dispatch\u001b[0m\u001b[0;34m(\u001b[0m\u001b[0mtasks\u001b[0m\u001b[0;34m)\u001b[0m\u001b[0;34m\u001b[0m\u001b[0;34m\u001b[0m\u001b[0m\n\u001b[0m\u001b[1;32m    860\u001b[0m                 \u001b[0;32mreturn\u001b[0m \u001b[0;32mTrue\u001b[0m\u001b[0;34m\u001b[0m\u001b[0;34m\u001b[0m\u001b[0m\n\u001b[1;32m    861\u001b[0m \u001b[0;34m\u001b[0m\u001b[0m\n",
      "\u001b[0;32m~/anaconda3/lib/python3.8/site-packages/joblib/parallel.py\u001b[0m in \u001b[0;36m_dispatch\u001b[0;34m(self, batch)\u001b[0m\n\u001b[1;32m    775\u001b[0m         \u001b[0;32mwith\u001b[0m \u001b[0mself\u001b[0m\u001b[0;34m.\u001b[0m\u001b[0m_lock\u001b[0m\u001b[0;34m:\u001b[0m\u001b[0;34m\u001b[0m\u001b[0;34m\u001b[0m\u001b[0m\n\u001b[1;32m    776\u001b[0m             \u001b[0mjob_idx\u001b[0m \u001b[0;34m=\u001b[0m \u001b[0mlen\u001b[0m\u001b[0;34m(\u001b[0m\u001b[0mself\u001b[0m\u001b[0;34m.\u001b[0m\u001b[0m_jobs\u001b[0m\u001b[0;34m)\u001b[0m\u001b[0;34m\u001b[0m\u001b[0;34m\u001b[0m\u001b[0m\n\u001b[0;32m--> 777\u001b[0;31m             \u001b[0mjob\u001b[0m \u001b[0;34m=\u001b[0m \u001b[0mself\u001b[0m\u001b[0;34m.\u001b[0m\u001b[0m_backend\u001b[0m\u001b[0;34m.\u001b[0m\u001b[0mapply_async\u001b[0m\u001b[0;34m(\u001b[0m\u001b[0mbatch\u001b[0m\u001b[0;34m,\u001b[0m \u001b[0mcallback\u001b[0m\u001b[0;34m=\u001b[0m\u001b[0mcb\u001b[0m\u001b[0;34m)\u001b[0m\u001b[0;34m\u001b[0m\u001b[0;34m\u001b[0m\u001b[0m\n\u001b[0m\u001b[1;32m    778\u001b[0m             \u001b[0;31m# A job can complete so quickly than its callback is\u001b[0m\u001b[0;34m\u001b[0m\u001b[0;34m\u001b[0m\u001b[0;34m\u001b[0m\u001b[0m\n\u001b[1;32m    779\u001b[0m             \u001b[0;31m# called before we get here, causing self._jobs to\u001b[0m\u001b[0;34m\u001b[0m\u001b[0;34m\u001b[0m\u001b[0;34m\u001b[0m\u001b[0m\n",
      "\u001b[0;32m~/anaconda3/lib/python3.8/site-packages/joblib/_parallel_backends.py\u001b[0m in \u001b[0;36mapply_async\u001b[0;34m(self, func, callback)\u001b[0m\n\u001b[1;32m    206\u001b[0m     \u001b[0;32mdef\u001b[0m \u001b[0mapply_async\u001b[0m\u001b[0;34m(\u001b[0m\u001b[0mself\u001b[0m\u001b[0;34m,\u001b[0m \u001b[0mfunc\u001b[0m\u001b[0;34m,\u001b[0m \u001b[0mcallback\u001b[0m\u001b[0;34m=\u001b[0m\u001b[0;32mNone\u001b[0m\u001b[0;34m)\u001b[0m\u001b[0;34m:\u001b[0m\u001b[0;34m\u001b[0m\u001b[0;34m\u001b[0m\u001b[0m\n\u001b[1;32m    207\u001b[0m         \u001b[0;34m\"\"\"Schedule a func to be run\"\"\"\u001b[0m\u001b[0;34m\u001b[0m\u001b[0;34m\u001b[0m\u001b[0m\n\u001b[0;32m--> 208\u001b[0;31m         \u001b[0mresult\u001b[0m \u001b[0;34m=\u001b[0m \u001b[0mImmediateResult\u001b[0m\u001b[0;34m(\u001b[0m\u001b[0mfunc\u001b[0m\u001b[0;34m)\u001b[0m\u001b[0;34m\u001b[0m\u001b[0;34m\u001b[0m\u001b[0m\n\u001b[0m\u001b[1;32m    209\u001b[0m         \u001b[0;32mif\u001b[0m \u001b[0mcallback\u001b[0m\u001b[0;34m:\u001b[0m\u001b[0;34m\u001b[0m\u001b[0;34m\u001b[0m\u001b[0m\n\u001b[1;32m    210\u001b[0m             \u001b[0mcallback\u001b[0m\u001b[0;34m(\u001b[0m\u001b[0mresult\u001b[0m\u001b[0;34m)\u001b[0m\u001b[0;34m\u001b[0m\u001b[0;34m\u001b[0m\u001b[0m\n",
      "\u001b[0;32m~/anaconda3/lib/python3.8/site-packages/joblib/_parallel_backends.py\u001b[0m in \u001b[0;36m__init__\u001b[0;34m(self, batch)\u001b[0m\n\u001b[1;32m    570\u001b[0m         \u001b[0;31m# Don't delay the application, to avoid keeping the input\u001b[0m\u001b[0;34m\u001b[0m\u001b[0;34m\u001b[0m\u001b[0;34m\u001b[0m\u001b[0m\n\u001b[1;32m    571\u001b[0m         \u001b[0;31m# arguments in memory\u001b[0m\u001b[0;34m\u001b[0m\u001b[0;34m\u001b[0m\u001b[0;34m\u001b[0m\u001b[0m\n\u001b[0;32m--> 572\u001b[0;31m         \u001b[0mself\u001b[0m\u001b[0;34m.\u001b[0m\u001b[0mresults\u001b[0m \u001b[0;34m=\u001b[0m \u001b[0mbatch\u001b[0m\u001b[0;34m(\u001b[0m\u001b[0;34m)\u001b[0m\u001b[0;34m\u001b[0m\u001b[0;34m\u001b[0m\u001b[0m\n\u001b[0m\u001b[1;32m    573\u001b[0m \u001b[0;34m\u001b[0m\u001b[0m\n\u001b[1;32m    574\u001b[0m     \u001b[0;32mdef\u001b[0m \u001b[0mget\u001b[0m\u001b[0;34m(\u001b[0m\u001b[0mself\u001b[0m\u001b[0;34m)\u001b[0m\u001b[0;34m:\u001b[0m\u001b[0;34m\u001b[0m\u001b[0;34m\u001b[0m\u001b[0m\n",
      "\u001b[0;32m~/anaconda3/lib/python3.8/site-packages/joblib/parallel.py\u001b[0m in \u001b[0;36m__call__\u001b[0;34m(self)\u001b[0m\n\u001b[1;32m    260\u001b[0m         \u001b[0;31m# change the default number of processes to -1\u001b[0m\u001b[0;34m\u001b[0m\u001b[0;34m\u001b[0m\u001b[0;34m\u001b[0m\u001b[0m\n\u001b[1;32m    261\u001b[0m         \u001b[0;32mwith\u001b[0m \u001b[0mparallel_backend\u001b[0m\u001b[0;34m(\u001b[0m\u001b[0mself\u001b[0m\u001b[0;34m.\u001b[0m\u001b[0m_backend\u001b[0m\u001b[0;34m,\u001b[0m \u001b[0mn_jobs\u001b[0m\u001b[0;34m=\u001b[0m\u001b[0mself\u001b[0m\u001b[0;34m.\u001b[0m\u001b[0m_n_jobs\u001b[0m\u001b[0;34m)\u001b[0m\u001b[0;34m:\u001b[0m\u001b[0;34m\u001b[0m\u001b[0;34m\u001b[0m\u001b[0m\n\u001b[0;32m--> 262\u001b[0;31m             return [func(*args, **kwargs)\n\u001b[0m\u001b[1;32m    263\u001b[0m                     for func, args, kwargs in self.items]\n\u001b[1;32m    264\u001b[0m \u001b[0;34m\u001b[0m\u001b[0m\n",
      "\u001b[0;32m~/anaconda3/lib/python3.8/site-packages/joblib/parallel.py\u001b[0m in \u001b[0;36m<listcomp>\u001b[0;34m(.0)\u001b[0m\n\u001b[1;32m    260\u001b[0m         \u001b[0;31m# change the default number of processes to -1\u001b[0m\u001b[0;34m\u001b[0m\u001b[0;34m\u001b[0m\u001b[0;34m\u001b[0m\u001b[0m\n\u001b[1;32m    261\u001b[0m         \u001b[0;32mwith\u001b[0m \u001b[0mparallel_backend\u001b[0m\u001b[0;34m(\u001b[0m\u001b[0mself\u001b[0m\u001b[0;34m.\u001b[0m\u001b[0m_backend\u001b[0m\u001b[0;34m,\u001b[0m \u001b[0mn_jobs\u001b[0m\u001b[0;34m=\u001b[0m\u001b[0mself\u001b[0m\u001b[0;34m.\u001b[0m\u001b[0m_n_jobs\u001b[0m\u001b[0;34m)\u001b[0m\u001b[0;34m:\u001b[0m\u001b[0;34m\u001b[0m\u001b[0;34m\u001b[0m\u001b[0m\n\u001b[0;32m--> 262\u001b[0;31m             return [func(*args, **kwargs)\n\u001b[0m\u001b[1;32m    263\u001b[0m                     for func, args, kwargs in self.items]\n\u001b[1;32m    264\u001b[0m \u001b[0;34m\u001b[0m\u001b[0m\n",
      "\u001b[0;32m~/anaconda3/lib/python3.8/site-packages/sklearn/utils/fixes.py\u001b[0m in \u001b[0;36m__call__\u001b[0;34m(self, *args, **kwargs)\u001b[0m\n\u001b[1;32m    220\u001b[0m     \u001b[0;32mdef\u001b[0m \u001b[0m__call__\u001b[0m\u001b[0;34m(\u001b[0m\u001b[0mself\u001b[0m\u001b[0;34m,\u001b[0m \u001b[0;34m*\u001b[0m\u001b[0margs\u001b[0m\u001b[0;34m,\u001b[0m \u001b[0;34m**\u001b[0m\u001b[0mkwargs\u001b[0m\u001b[0;34m)\u001b[0m\u001b[0;34m:\u001b[0m\u001b[0;34m\u001b[0m\u001b[0;34m\u001b[0m\u001b[0m\n\u001b[1;32m    221\u001b[0m         \u001b[0;32mwith\u001b[0m \u001b[0mconfig_context\u001b[0m\u001b[0;34m(\u001b[0m\u001b[0;34m**\u001b[0m\u001b[0mself\u001b[0m\u001b[0;34m.\u001b[0m\u001b[0mconfig\u001b[0m\u001b[0;34m)\u001b[0m\u001b[0;34m:\u001b[0m\u001b[0;34m\u001b[0m\u001b[0;34m\u001b[0m\u001b[0m\n\u001b[0;32m--> 222\u001b[0;31m             \u001b[0;32mreturn\u001b[0m \u001b[0mself\u001b[0m\u001b[0;34m.\u001b[0m\u001b[0mfunction\u001b[0m\u001b[0;34m(\u001b[0m\u001b[0;34m*\u001b[0m\u001b[0margs\u001b[0m\u001b[0;34m,\u001b[0m \u001b[0;34m**\u001b[0m\u001b[0mkwargs\u001b[0m\u001b[0;34m)\u001b[0m\u001b[0;34m\u001b[0m\u001b[0;34m\u001b[0m\u001b[0m\n\u001b[0m",
      "\u001b[0;32m~/anaconda3/lib/python3.8/site-packages/sklearn/linear_model/_logistic.py\u001b[0m in \u001b[0;36m_logistic_regression_path\u001b[0;34m(X, y, pos_class, Cs, fit_intercept, max_iter, tol, verbose, solver, coef, class_weight, dual, penalty, intercept_scaling, multi_class, random_state, check_input, max_squared_sum, sample_weight, l1_ratio)\u001b[0m\n\u001b[1;32m    756\u001b[0m             iprint = [-1, 50, 1, 100, 101][\n\u001b[1;32m    757\u001b[0m                 np.searchsorted(np.array([0, 1, 2, 3]), verbose)]\n\u001b[0;32m--> 758\u001b[0;31m             opt_res = optimize.minimize(\n\u001b[0m\u001b[1;32m    759\u001b[0m                 \u001b[0mfunc\u001b[0m\u001b[0;34m,\u001b[0m \u001b[0mw0\u001b[0m\u001b[0;34m,\u001b[0m \u001b[0mmethod\u001b[0m\u001b[0;34m=\u001b[0m\u001b[0;34m\"L-BFGS-B\"\u001b[0m\u001b[0;34m,\u001b[0m \u001b[0mjac\u001b[0m\u001b[0;34m=\u001b[0m\u001b[0;32mTrue\u001b[0m\u001b[0;34m,\u001b[0m\u001b[0;34m\u001b[0m\u001b[0;34m\u001b[0m\u001b[0m\n\u001b[1;32m    760\u001b[0m                 \u001b[0margs\u001b[0m\u001b[0;34m=\u001b[0m\u001b[0;34m(\u001b[0m\u001b[0mX\u001b[0m\u001b[0;34m,\u001b[0m \u001b[0mtarget\u001b[0m\u001b[0;34m,\u001b[0m \u001b[0;36m1.\u001b[0m \u001b[0;34m/\u001b[0m \u001b[0mC\u001b[0m\u001b[0;34m,\u001b[0m \u001b[0msample_weight\u001b[0m\u001b[0;34m)\u001b[0m\u001b[0;34m,\u001b[0m\u001b[0;34m\u001b[0m\u001b[0;34m\u001b[0m\u001b[0m\n",
      "\u001b[0;32m~/anaconda3/lib/python3.8/site-packages/scipy/optimize/_minimize.py\u001b[0m in \u001b[0;36mminimize\u001b[0;34m(fun, x0, args, method, jac, hess, hessp, bounds, constraints, tol, callback, options)\u001b[0m\n\u001b[1;32m    621\u001b[0m                                   **options)\n\u001b[1;32m    622\u001b[0m     \u001b[0;32melif\u001b[0m \u001b[0mmeth\u001b[0m \u001b[0;34m==\u001b[0m \u001b[0;34m'l-bfgs-b'\u001b[0m\u001b[0;34m:\u001b[0m\u001b[0;34m\u001b[0m\u001b[0;34m\u001b[0m\u001b[0m\n\u001b[0;32m--> 623\u001b[0;31m         return _minimize_lbfgsb(fun, x0, args, jac, bounds,\n\u001b[0m\u001b[1;32m    624\u001b[0m                                 callback=callback, **options)\n\u001b[1;32m    625\u001b[0m     \u001b[0;32melif\u001b[0m \u001b[0mmeth\u001b[0m \u001b[0;34m==\u001b[0m \u001b[0;34m'tnc'\u001b[0m\u001b[0;34m:\u001b[0m\u001b[0;34m\u001b[0m\u001b[0;34m\u001b[0m\u001b[0m\n",
      "\u001b[0;32m~/anaconda3/lib/python3.8/site-packages/scipy/optimize/lbfgsb.py\u001b[0m in \u001b[0;36m_minimize_lbfgsb\u001b[0;34m(fun, x0, args, jac, bounds, disp, maxcor, ftol, gtol, eps, maxfun, maxiter, iprint, callback, maxls, finite_diff_rel_step, **unknown_options)\u001b[0m\n\u001b[1;32m    349\u001b[0m     \u001b[0;32mwhile\u001b[0m \u001b[0;36m1\u001b[0m\u001b[0;34m:\u001b[0m\u001b[0;34m\u001b[0m\u001b[0;34m\u001b[0m\u001b[0m\n\u001b[1;32m    350\u001b[0m         \u001b[0;31m# x, f, g, wa, iwa, task, csave, lsave, isave, dsave = \\\u001b[0m\u001b[0;34m\u001b[0m\u001b[0;34m\u001b[0m\u001b[0;34m\u001b[0m\u001b[0m\n\u001b[0;32m--> 351\u001b[0;31m         _lbfgsb.setulb(m, x, low_bnd, upper_bnd, nbd, f, g, factr,\n\u001b[0m\u001b[1;32m    352\u001b[0m                        \u001b[0mpgtol\u001b[0m\u001b[0;34m,\u001b[0m \u001b[0mwa\u001b[0m\u001b[0;34m,\u001b[0m \u001b[0miwa\u001b[0m\u001b[0;34m,\u001b[0m \u001b[0mtask\u001b[0m\u001b[0;34m,\u001b[0m \u001b[0miprint\u001b[0m\u001b[0;34m,\u001b[0m \u001b[0mcsave\u001b[0m\u001b[0;34m,\u001b[0m \u001b[0mlsave\u001b[0m\u001b[0;34m,\u001b[0m\u001b[0;34m\u001b[0m\u001b[0;34m\u001b[0m\u001b[0m\n\u001b[1;32m    353\u001b[0m                        isave, dsave, maxls)\n",
      "\u001b[0;31mKeyboardInterrupt\u001b[0m: "
     ]
    }
   ],
   "source": [
    "grid4.fit(df_train_clean['text'], df_train_clean['target'])"
   ]
  },
  {
   "cell_type": "code",
   "execution_count": 239,
   "id": "35c10fe5",
   "metadata": {},
   "outputs": [
    {
     "data": {
      "text/plain": [
       "{'log__C': 0.0001,\n",
       " 'log__class_weight': 'balanced',\n",
       " 'log__penalty': 'none',\n",
       " 'log__tol': 0.1}"
      ]
     },
     "execution_count": 239,
     "metadata": {},
     "output_type": "execute_result"
    }
   ],
   "source": [
    "grid4.best_params_"
   ]
  },
  {
   "cell_type": "code",
   "execution_count": 262,
   "id": "81f40b09",
   "metadata": {},
   "outputs": [
    {
     "data": {
      "text/html": [
       "<div>\n",
       "<style scoped>\n",
       "    .dataframe tbody tr th:only-of-type {\n",
       "        vertical-align: middle;\n",
       "    }\n",
       "\n",
       "    .dataframe tbody tr th {\n",
       "        vertical-align: top;\n",
       "    }\n",
       "\n",
       "    .dataframe thead th {\n",
       "        text-align: right;\n",
       "    }\n",
       "</style>\n",
       "<table border=\"1\" class=\"dataframe\">\n",
       "  <thead>\n",
       "    <tr style=\"text-align: right;\">\n",
       "      <th></th>\n",
       "      <th>mean_fit_time</th>\n",
       "      <th>std_fit_time</th>\n",
       "      <th>mean_score_time</th>\n",
       "      <th>std_score_time</th>\n",
       "      <th>param_log__C</th>\n",
       "      <th>param_log__class_weight</th>\n",
       "      <th>param_log__penalty</th>\n",
       "      <th>param_log__tol</th>\n",
       "      <th>params</th>\n",
       "      <th>split0_test_score</th>\n",
       "      <th>split1_test_score</th>\n",
       "      <th>split2_test_score</th>\n",
       "      <th>split3_test_score</th>\n",
       "      <th>split4_test_score</th>\n",
       "      <th>mean_test_score</th>\n",
       "      <th>std_test_score</th>\n",
       "      <th>rank_test_score</th>\n",
       "    </tr>\n",
       "  </thead>\n",
       "  <tbody>\n",
       "    <tr>\n",
       "      <th>0</th>\n",
       "      <td>0.278504</td>\n",
       "      <td>0.038912</td>\n",
       "      <td>0.035829</td>\n",
       "      <td>0.003117</td>\n",
       "      <td>0.0001</td>\n",
       "      <td>None</td>\n",
       "      <td>l2</td>\n",
       "      <td>0.0001</td>\n",
       "      <td>{'log__C': 0.0001, 'log__class_weight': None, ...</td>\n",
       "      <td>0.201046</td>\n",
       "      <td>0.200947</td>\n",
       "      <td>0.200947</td>\n",
       "      <td>0.200947</td>\n",
       "      <td>0.201197</td>\n",
       "      <td>0.201017</td>\n",
       "      <td>0.000098</td>\n",
       "      <td>28</td>\n",
       "    </tr>\n",
       "    <tr>\n",
       "      <th>1</th>\n",
       "      <td>0.376056</td>\n",
       "      <td>0.146469</td>\n",
       "      <td>0.045577</td>\n",
       "      <td>0.011984</td>\n",
       "      <td>0.0001</td>\n",
       "      <td>None</td>\n",
       "      <td>l2</td>\n",
       "      <td>0.01</td>\n",
       "      <td>{'log__C': 0.0001, 'log__class_weight': None, ...</td>\n",
       "      <td>0.201046</td>\n",
       "      <td>0.200947</td>\n",
       "      <td>0.200947</td>\n",
       "      <td>0.200947</td>\n",
       "      <td>0.201197</td>\n",
       "      <td>0.201017</td>\n",
       "      <td>0.000098</td>\n",
       "      <td>28</td>\n",
       "    </tr>\n",
       "    <tr>\n",
       "      <th>2</th>\n",
       "      <td>0.282032</td>\n",
       "      <td>0.040177</td>\n",
       "      <td>0.037444</td>\n",
       "      <td>0.003919</td>\n",
       "      <td>0.0001</td>\n",
       "      <td>None</td>\n",
       "      <td>l2</td>\n",
       "      <td>0.1</td>\n",
       "      <td>{'log__C': 0.0001, 'log__class_weight': None, ...</td>\n",
       "      <td>0.201046</td>\n",
       "      <td>0.200947</td>\n",
       "      <td>0.200947</td>\n",
       "      <td>0.200947</td>\n",
       "      <td>0.201197</td>\n",
       "      <td>0.201017</td>\n",
       "      <td>0.000098</td>\n",
       "      <td>28</td>\n",
       "    </tr>\n",
       "    <tr>\n",
       "      <th>3</th>\n",
       "      <td>38.343950</td>\n",
       "      <td>18.081782</td>\n",
       "      <td>0.033084</td>\n",
       "      <td>0.000870</td>\n",
       "      <td>0.0001</td>\n",
       "      <td>None</td>\n",
       "      <td>none</td>\n",
       "      <td>0.0001</td>\n",
       "      <td>{'log__C': 0.0001, 'log__class_weight': None, ...</td>\n",
       "      <td>0.520345</td>\n",
       "      <td>0.505732</td>\n",
       "      <td>0.527085</td>\n",
       "      <td>0.577597</td>\n",
       "      <td>0.557138</td>\n",
       "      <td>0.537579</td>\n",
       "      <td>0.026097</td>\n",
       "      <td>13</td>\n",
       "    </tr>\n",
       "    <tr>\n",
       "      <th>4</th>\n",
       "      <td>7.028473</td>\n",
       "      <td>1.044938</td>\n",
       "      <td>0.037045</td>\n",
       "      <td>0.009136</td>\n",
       "      <td>0.0001</td>\n",
       "      <td>None</td>\n",
       "      <td>none</td>\n",
       "      <td>0.01</td>\n",
       "      <td>{'log__C': 0.0001, 'log__class_weight': None, ...</td>\n",
       "      <td>0.530772</td>\n",
       "      <td>0.536844</td>\n",
       "      <td>0.553306</td>\n",
       "      <td>0.569889</td>\n",
       "      <td>0.576456</td>\n",
       "      <td>0.553453</td>\n",
       "      <td>0.017830</td>\n",
       "      <td>7</td>\n",
       "    </tr>\n",
       "    <tr>\n",
       "      <th>5</th>\n",
       "      <td>2.380358</td>\n",
       "      <td>0.242761</td>\n",
       "      <td>0.040816</td>\n",
       "      <td>0.005315</td>\n",
       "      <td>0.0001</td>\n",
       "      <td>None</td>\n",
       "      <td>none</td>\n",
       "      <td>0.1</td>\n",
       "      <td>{'log__C': 0.0001, 'log__class_weight': None, ...</td>\n",
       "      <td>0.543358</td>\n",
       "      <td>0.543256</td>\n",
       "      <td>0.589236</td>\n",
       "      <td>0.567854</td>\n",
       "      <td>0.549454</td>\n",
       "      <td>0.558632</td>\n",
       "      <td>0.017752</td>\n",
       "      <td>4</td>\n",
       "    </tr>\n",
       "    <tr>\n",
       "      <th>6</th>\n",
       "      <td>0.283194</td>\n",
       "      <td>0.150184</td>\n",
       "      <td>0.036009</td>\n",
       "      <td>0.003202</td>\n",
       "      <td>0.0001</td>\n",
       "      <td>balanced</td>\n",
       "      <td>l2</td>\n",
       "      <td>0.0001</td>\n",
       "      <td>{'log__C': 0.0001, 'log__class_weight': 'balan...</td>\n",
       "      <td>0.472759</td>\n",
       "      <td>0.482222</td>\n",
       "      <td>0.457642</td>\n",
       "      <td>0.475202</td>\n",
       "      <td>0.478478</td>\n",
       "      <td>0.473261</td>\n",
       "      <td>0.008432</td>\n",
       "      <td>25</td>\n",
       "    </tr>\n",
       "    <tr>\n",
       "      <th>7</th>\n",
       "      <td>0.227536</td>\n",
       "      <td>0.051624</td>\n",
       "      <td>0.038025</td>\n",
       "      <td>0.004254</td>\n",
       "      <td>0.0001</td>\n",
       "      <td>balanced</td>\n",
       "      <td>l2</td>\n",
       "      <td>0.01</td>\n",
       "      <td>{'log__C': 0.0001, 'log__class_weight': 'balan...</td>\n",
       "      <td>0.472507</td>\n",
       "      <td>0.482222</td>\n",
       "      <td>0.457642</td>\n",
       "      <td>0.474634</td>\n",
       "      <td>0.478247</td>\n",
       "      <td>0.473050</td>\n",
       "      <td>0.008383</td>\n",
       "      <td>26</td>\n",
       "    </tr>\n",
       "    <tr>\n",
       "      <th>8</th>\n",
       "      <td>0.271059</td>\n",
       "      <td>0.131663</td>\n",
       "      <td>0.036090</td>\n",
       "      <td>0.004156</td>\n",
       "      <td>0.0001</td>\n",
       "      <td>balanced</td>\n",
       "      <td>l2</td>\n",
       "      <td>0.1</td>\n",
       "      <td>{'log__C': 0.0001, 'log__class_weight': 'balan...</td>\n",
       "      <td>0.472507</td>\n",
       "      <td>0.482222</td>\n",
       "      <td>0.457642</td>\n",
       "      <td>0.474634</td>\n",
       "      <td>0.478247</td>\n",
       "      <td>0.473050</td>\n",
       "      <td>0.008383</td>\n",
       "      <td>26</td>\n",
       "    </tr>\n",
       "    <tr>\n",
       "      <th>9</th>\n",
       "      <td>39.783170</td>\n",
       "      <td>20.314403</td>\n",
       "      <td>0.032893</td>\n",
       "      <td>0.002643</td>\n",
       "      <td>0.0001</td>\n",
       "      <td>balanced</td>\n",
       "      <td>none</td>\n",
       "      <td>0.0001</td>\n",
       "      <td>{'log__C': 0.0001, 'log__class_weight': 'balan...</td>\n",
       "      <td>0.519963</td>\n",
       "      <td>0.506747</td>\n",
       "      <td>0.508115</td>\n",
       "      <td>0.607092</td>\n",
       "      <td>0.540520</td>\n",
       "      <td>0.536487</td>\n",
       "      <td>0.037320</td>\n",
       "      <td>16</td>\n",
       "    </tr>\n",
       "    <tr>\n",
       "      <th>10</th>\n",
       "      <td>7.304240</td>\n",
       "      <td>0.785310</td>\n",
       "      <td>0.034140</td>\n",
       "      <td>0.002618</td>\n",
       "      <td>0.0001</td>\n",
       "      <td>balanced</td>\n",
       "      <td>none</td>\n",
       "      <td>0.01</td>\n",
       "      <td>{'log__C': 0.0001, 'log__class_weight': 'balan...</td>\n",
       "      <td>0.515576</td>\n",
       "      <td>0.550299</td>\n",
       "      <td>0.557581</td>\n",
       "      <td>0.588263</td>\n",
       "      <td>0.543019</td>\n",
       "      <td>0.550948</td>\n",
       "      <td>0.023456</td>\n",
       "      <td>10</td>\n",
       "    </tr>\n",
       "    <tr>\n",
       "      <th>11</th>\n",
       "      <td>1.558294</td>\n",
       "      <td>0.184467</td>\n",
       "      <td>0.033999</td>\n",
       "      <td>0.004330</td>\n",
       "      <td>0.0001</td>\n",
       "      <td>balanced</td>\n",
       "      <td>none</td>\n",
       "      <td>0.1</td>\n",
       "      <td>{'log__C': 0.0001, 'log__class_weight': 'balan...</td>\n",
       "      <td>0.542766</td>\n",
       "      <td>0.577699</td>\n",
       "      <td>0.576182</td>\n",
       "      <td>0.580632</td>\n",
       "      <td>0.541875</td>\n",
       "      <td>0.563831</td>\n",
       "      <td>0.017624</td>\n",
       "      <td>1</td>\n",
       "    </tr>\n",
       "    <tr>\n",
       "      <th>12</th>\n",
       "      <td>0.269844</td>\n",
       "      <td>0.126381</td>\n",
       "      <td>0.033554</td>\n",
       "      <td>0.003173</td>\n",
       "      <td>0.001</td>\n",
       "      <td>None</td>\n",
       "      <td>l2</td>\n",
       "      <td>0.0001</td>\n",
       "      <td>{'log__C': 0.001, 'log__class_weight': None, '...</td>\n",
       "      <td>0.201046</td>\n",
       "      <td>0.200947</td>\n",
       "      <td>0.200947</td>\n",
       "      <td>0.200947</td>\n",
       "      <td>0.201197</td>\n",
       "      <td>0.201017</td>\n",
       "      <td>0.000098</td>\n",
       "      <td>28</td>\n",
       "    </tr>\n",
       "    <tr>\n",
       "      <th>13</th>\n",
       "      <td>0.276877</td>\n",
       "      <td>0.131079</td>\n",
       "      <td>0.033640</td>\n",
       "      <td>0.003893</td>\n",
       "      <td>0.001</td>\n",
       "      <td>None</td>\n",
       "      <td>l2</td>\n",
       "      <td>0.01</td>\n",
       "      <td>{'log__C': 0.001, 'log__class_weight': None, '...</td>\n",
       "      <td>0.201046</td>\n",
       "      <td>0.200947</td>\n",
       "      <td>0.200947</td>\n",
       "      <td>0.200947</td>\n",
       "      <td>0.201197</td>\n",
       "      <td>0.201017</td>\n",
       "      <td>0.000098</td>\n",
       "      <td>28</td>\n",
       "    </tr>\n",
       "    <tr>\n",
       "      <th>14</th>\n",
       "      <td>0.204886</td>\n",
       "      <td>0.006382</td>\n",
       "      <td>0.033645</td>\n",
       "      <td>0.003453</td>\n",
       "      <td>0.001</td>\n",
       "      <td>None</td>\n",
       "      <td>l2</td>\n",
       "      <td>0.1</td>\n",
       "      <td>{'log__C': 0.001, 'log__class_weight': None, '...</td>\n",
       "      <td>0.201046</td>\n",
       "      <td>0.200947</td>\n",
       "      <td>0.200947</td>\n",
       "      <td>0.200947</td>\n",
       "      <td>0.201197</td>\n",
       "      <td>0.201017</td>\n",
       "      <td>0.000098</td>\n",
       "      <td>28</td>\n",
       "    </tr>\n",
       "    <tr>\n",
       "      <th>15</th>\n",
       "      <td>34.440625</td>\n",
       "      <td>15.404667</td>\n",
       "      <td>0.034437</td>\n",
       "      <td>0.002459</td>\n",
       "      <td>0.001</td>\n",
       "      <td>None</td>\n",
       "      <td>none</td>\n",
       "      <td>0.0001</td>\n",
       "      <td>{'log__C': 0.001, 'log__class_weight': None, '...</td>\n",
       "      <td>0.520345</td>\n",
       "      <td>0.505732</td>\n",
       "      <td>0.527085</td>\n",
       "      <td>0.577597</td>\n",
       "      <td>0.557138</td>\n",
       "      <td>0.537579</td>\n",
       "      <td>0.026097</td>\n",
       "      <td>13</td>\n",
       "    </tr>\n",
       "    <tr>\n",
       "      <th>16</th>\n",
       "      <td>6.958627</td>\n",
       "      <td>1.061631</td>\n",
       "      <td>0.036777</td>\n",
       "      <td>0.004403</td>\n",
       "      <td>0.001</td>\n",
       "      <td>None</td>\n",
       "      <td>none</td>\n",
       "      <td>0.01</td>\n",
       "      <td>{'log__C': 0.001, 'log__class_weight': None, '...</td>\n",
       "      <td>0.530772</td>\n",
       "      <td>0.536844</td>\n",
       "      <td>0.553306</td>\n",
       "      <td>0.569889</td>\n",
       "      <td>0.576456</td>\n",
       "      <td>0.553453</td>\n",
       "      <td>0.017830</td>\n",
       "      <td>7</td>\n",
       "    </tr>\n",
       "    <tr>\n",
       "      <th>17</th>\n",
       "      <td>2.088182</td>\n",
       "      <td>0.290999</td>\n",
       "      <td>0.038431</td>\n",
       "      <td>0.008392</td>\n",
       "      <td>0.001</td>\n",
       "      <td>None</td>\n",
       "      <td>none</td>\n",
       "      <td>0.1</td>\n",
       "      <td>{'log__C': 0.001, 'log__class_weight': None, '...</td>\n",
       "      <td>0.543358</td>\n",
       "      <td>0.543256</td>\n",
       "      <td>0.589236</td>\n",
       "      <td>0.567854</td>\n",
       "      <td>0.549454</td>\n",
       "      <td>0.558632</td>\n",
       "      <td>0.017752</td>\n",
       "      <td>4</td>\n",
       "    </tr>\n",
       "    <tr>\n",
       "      <th>18</th>\n",
       "      <td>0.216148</td>\n",
       "      <td>0.008350</td>\n",
       "      <td>0.035124</td>\n",
       "      <td>0.002746</td>\n",
       "      <td>0.001</td>\n",
       "      <td>balanced</td>\n",
       "      <td>l2</td>\n",
       "      <td>0.0001</td>\n",
       "      <td>{'log__C': 0.001, 'log__class_weight': 'balanc...</td>\n",
       "      <td>0.474057</td>\n",
       "      <td>0.486942</td>\n",
       "      <td>0.457927</td>\n",
       "      <td>0.474292</td>\n",
       "      <td>0.478198</td>\n",
       "      <td>0.474283</td>\n",
       "      <td>0.009414</td>\n",
       "      <td>22</td>\n",
       "    </tr>\n",
       "    <tr>\n",
       "      <th>19</th>\n",
       "      <td>0.272732</td>\n",
       "      <td>0.130738</td>\n",
       "      <td>0.033967</td>\n",
       "      <td>0.003171</td>\n",
       "      <td>0.001</td>\n",
       "      <td>balanced</td>\n",
       "      <td>l2</td>\n",
       "      <td>0.01</td>\n",
       "      <td>{'log__C': 0.001, 'log__class_weight': 'balanc...</td>\n",
       "      <td>0.474057</td>\n",
       "      <td>0.485861</td>\n",
       "      <td>0.457927</td>\n",
       "      <td>0.473725</td>\n",
       "      <td>0.478198</td>\n",
       "      <td>0.473954</td>\n",
       "      <td>0.009129</td>\n",
       "      <td>23</td>\n",
       "    </tr>\n",
       "    <tr>\n",
       "      <th>20</th>\n",
       "      <td>0.279923</td>\n",
       "      <td>0.135298</td>\n",
       "      <td>0.038636</td>\n",
       "      <td>0.006553</td>\n",
       "      <td>0.001</td>\n",
       "      <td>balanced</td>\n",
       "      <td>l2</td>\n",
       "      <td>0.1</td>\n",
       "      <td>{'log__C': 0.001, 'log__class_weight': 'balanc...</td>\n",
       "      <td>0.474012</td>\n",
       "      <td>0.484754</td>\n",
       "      <td>0.457927</td>\n",
       "      <td>0.474667</td>\n",
       "      <td>0.477856</td>\n",
       "      <td>0.473843</td>\n",
       "      <td>0.008822</td>\n",
       "      <td>24</td>\n",
       "    </tr>\n",
       "    <tr>\n",
       "      <th>21</th>\n",
       "      <td>39.170241</td>\n",
       "      <td>21.290990</td>\n",
       "      <td>0.034648</td>\n",
       "      <td>0.001653</td>\n",
       "      <td>0.001</td>\n",
       "      <td>balanced</td>\n",
       "      <td>none</td>\n",
       "      <td>0.0001</td>\n",
       "      <td>{'log__C': 0.001, 'log__class_weight': 'balanc...</td>\n",
       "      <td>0.519963</td>\n",
       "      <td>0.506747</td>\n",
       "      <td>0.508115</td>\n",
       "      <td>0.607092</td>\n",
       "      <td>0.540520</td>\n",
       "      <td>0.536487</td>\n",
       "      <td>0.037320</td>\n",
       "      <td>16</td>\n",
       "    </tr>\n",
       "    <tr>\n",
       "      <th>22</th>\n",
       "      <td>7.577584</td>\n",
       "      <td>0.677188</td>\n",
       "      <td>0.036076</td>\n",
       "      <td>0.003292</td>\n",
       "      <td>0.001</td>\n",
       "      <td>balanced</td>\n",
       "      <td>none</td>\n",
       "      <td>0.01</td>\n",
       "      <td>{'log__C': 0.001, 'log__class_weight': 'balanc...</td>\n",
       "      <td>0.515576</td>\n",
       "      <td>0.550299</td>\n",
       "      <td>0.557581</td>\n",
       "      <td>0.588263</td>\n",
       "      <td>0.543019</td>\n",
       "      <td>0.550948</td>\n",
       "      <td>0.023456</td>\n",
       "      <td>10</td>\n",
       "    </tr>\n",
       "    <tr>\n",
       "      <th>23</th>\n",
       "      <td>1.615437</td>\n",
       "      <td>0.207865</td>\n",
       "      <td>0.031428</td>\n",
       "      <td>0.000728</td>\n",
       "      <td>0.001</td>\n",
       "      <td>balanced</td>\n",
       "      <td>none</td>\n",
       "      <td>0.1</td>\n",
       "      <td>{'log__C': 0.001, 'log__class_weight': 'balanc...</td>\n",
       "      <td>0.542766</td>\n",
       "      <td>0.577699</td>\n",
       "      <td>0.576182</td>\n",
       "      <td>0.580632</td>\n",
       "      <td>0.541875</td>\n",
       "      <td>0.563831</td>\n",
       "      <td>0.017624</td>\n",
       "      <td>1</td>\n",
       "    </tr>\n",
       "    <tr>\n",
       "      <th>24</th>\n",
       "      <td>0.415432</td>\n",
       "      <td>0.146214</td>\n",
       "      <td>0.041984</td>\n",
       "      <td>0.008485</td>\n",
       "      <td>0.01</td>\n",
       "      <td>None</td>\n",
       "      <td>l2</td>\n",
       "      <td>0.0001</td>\n",
       "      <td>{'log__C': 0.01, 'log__class_weight': None, 'l...</td>\n",
       "      <td>0.201046</td>\n",
       "      <td>0.200947</td>\n",
       "      <td>0.200947</td>\n",
       "      <td>0.200947</td>\n",
       "      <td>0.201197</td>\n",
       "      <td>0.201017</td>\n",
       "      <td>0.000098</td>\n",
       "      <td>28</td>\n",
       "    </tr>\n",
       "    <tr>\n",
       "      <th>25</th>\n",
       "      <td>0.270743</td>\n",
       "      <td>0.023803</td>\n",
       "      <td>0.033343</td>\n",
       "      <td>0.003056</td>\n",
       "      <td>0.01</td>\n",
       "      <td>None</td>\n",
       "      <td>l2</td>\n",
       "      <td>0.01</td>\n",
       "      <td>{'log__C': 0.01, 'log__class_weight': None, 'l...</td>\n",
       "      <td>0.201046</td>\n",
       "      <td>0.200947</td>\n",
       "      <td>0.200947</td>\n",
       "      <td>0.200947</td>\n",
       "      <td>0.201197</td>\n",
       "      <td>0.201017</td>\n",
       "      <td>0.000098</td>\n",
       "      <td>28</td>\n",
       "    </tr>\n",
       "    <tr>\n",
       "      <th>26</th>\n",
       "      <td>0.307311</td>\n",
       "      <td>0.129081</td>\n",
       "      <td>0.033013</td>\n",
       "      <td>0.001847</td>\n",
       "      <td>0.01</td>\n",
       "      <td>None</td>\n",
       "      <td>l2</td>\n",
       "      <td>0.1</td>\n",
       "      <td>{'log__C': 0.01, 'log__class_weight': None, 'l...</td>\n",
       "      <td>0.201046</td>\n",
       "      <td>0.200947</td>\n",
       "      <td>0.200947</td>\n",
       "      <td>0.200947</td>\n",
       "      <td>0.201197</td>\n",
       "      <td>0.201017</td>\n",
       "      <td>0.000098</td>\n",
       "      <td>28</td>\n",
       "    </tr>\n",
       "    <tr>\n",
       "      <th>27</th>\n",
       "      <td>34.433479</td>\n",
       "      <td>16.395866</td>\n",
       "      <td>0.033444</td>\n",
       "      <td>0.003713</td>\n",
       "      <td>0.01</td>\n",
       "      <td>None</td>\n",
       "      <td>none</td>\n",
       "      <td>0.0001</td>\n",
       "      <td>{'log__C': 0.01, 'log__class_weight': None, 'l...</td>\n",
       "      <td>0.520345</td>\n",
       "      <td>0.505732</td>\n",
       "      <td>0.527085</td>\n",
       "      <td>0.577597</td>\n",
       "      <td>0.557138</td>\n",
       "      <td>0.537579</td>\n",
       "      <td>0.026097</td>\n",
       "      <td>13</td>\n",
       "    </tr>\n",
       "    <tr>\n",
       "      <th>28</th>\n",
       "      <td>6.919396</td>\n",
       "      <td>1.109472</td>\n",
       "      <td>0.031644</td>\n",
       "      <td>0.002569</td>\n",
       "      <td>0.01</td>\n",
       "      <td>None</td>\n",
       "      <td>none</td>\n",
       "      <td>0.01</td>\n",
       "      <td>{'log__C': 0.01, 'log__class_weight': None, 'l...</td>\n",
       "      <td>0.530772</td>\n",
       "      <td>0.536844</td>\n",
       "      <td>0.553306</td>\n",
       "      <td>0.569889</td>\n",
       "      <td>0.576456</td>\n",
       "      <td>0.553453</td>\n",
       "      <td>0.017830</td>\n",
       "      <td>7</td>\n",
       "    </tr>\n",
       "    <tr>\n",
       "      <th>29</th>\n",
       "      <td>1.989450</td>\n",
       "      <td>0.329678</td>\n",
       "      <td>0.033899</td>\n",
       "      <td>0.001992</td>\n",
       "      <td>0.01</td>\n",
       "      <td>None</td>\n",
       "      <td>none</td>\n",
       "      <td>0.1</td>\n",
       "      <td>{'log__C': 0.01, 'log__class_weight': None, 'l...</td>\n",
       "      <td>0.543358</td>\n",
       "      <td>0.543256</td>\n",
       "      <td>0.589236</td>\n",
       "      <td>0.567854</td>\n",
       "      <td>0.549454</td>\n",
       "      <td>0.558632</td>\n",
       "      <td>0.017752</td>\n",
       "      <td>4</td>\n",
       "    </tr>\n",
       "    <tr>\n",
       "      <th>30</th>\n",
       "      <td>0.235121</td>\n",
       "      <td>0.006039</td>\n",
       "      <td>0.033410</td>\n",
       "      <td>0.003303</td>\n",
       "      <td>0.01</td>\n",
       "      <td>balanced</td>\n",
       "      <td>l2</td>\n",
       "      <td>0.0001</td>\n",
       "      <td>{'log__C': 0.01, 'log__class_weight': 'balance...</td>\n",
       "      <td>0.480247</td>\n",
       "      <td>0.490605</td>\n",
       "      <td>0.472722</td>\n",
       "      <td>0.480107</td>\n",
       "      <td>0.491771</td>\n",
       "      <td>0.483091</td>\n",
       "      <td>0.007160</td>\n",
       "      <td>19</td>\n",
       "    </tr>\n",
       "    <tr>\n",
       "      <th>31</th>\n",
       "      <td>0.303556</td>\n",
       "      <td>0.125454</td>\n",
       "      <td>0.036181</td>\n",
       "      <td>0.004015</td>\n",
       "      <td>0.01</td>\n",
       "      <td>balanced</td>\n",
       "      <td>l2</td>\n",
       "      <td>0.01</td>\n",
       "      <td>{'log__C': 0.01, 'log__class_weight': 'balance...</td>\n",
       "      <td>0.480247</td>\n",
       "      <td>0.490605</td>\n",
       "      <td>0.472722</td>\n",
       "      <td>0.480107</td>\n",
       "      <td>0.491771</td>\n",
       "      <td>0.483091</td>\n",
       "      <td>0.007160</td>\n",
       "      <td>19</td>\n",
       "    </tr>\n",
       "    <tr>\n",
       "      <th>32</th>\n",
       "      <td>0.215933</td>\n",
       "      <td>0.013042</td>\n",
       "      <td>0.032853</td>\n",
       "      <td>0.003091</td>\n",
       "      <td>0.01</td>\n",
       "      <td>balanced</td>\n",
       "      <td>l2</td>\n",
       "      <td>0.1</td>\n",
       "      <td>{'log__C': 0.01, 'log__class_weight': 'balance...</td>\n",
       "      <td>0.480247</td>\n",
       "      <td>0.490605</td>\n",
       "      <td>0.472722</td>\n",
       "      <td>0.479858</td>\n",
       "      <td>0.491771</td>\n",
       "      <td>0.483041</td>\n",
       "      <td>0.007181</td>\n",
       "      <td>21</td>\n",
       "    </tr>\n",
       "    <tr>\n",
       "      <th>33</th>\n",
       "      <td>37.923298</td>\n",
       "      <td>20.085425</td>\n",
       "      <td>0.034393</td>\n",
       "      <td>0.004717</td>\n",
       "      <td>0.01</td>\n",
       "      <td>balanced</td>\n",
       "      <td>none</td>\n",
       "      <td>0.0001</td>\n",
       "      <td>{'log__C': 0.01, 'log__class_weight': 'balance...</td>\n",
       "      <td>0.519963</td>\n",
       "      <td>0.506747</td>\n",
       "      <td>0.508115</td>\n",
       "      <td>0.607092</td>\n",
       "      <td>0.540520</td>\n",
       "      <td>0.536487</td>\n",
       "      <td>0.037320</td>\n",
       "      <td>16</td>\n",
       "    </tr>\n",
       "    <tr>\n",
       "      <th>34</th>\n",
       "      <td>8.171741</td>\n",
       "      <td>0.819777</td>\n",
       "      <td>0.039274</td>\n",
       "      <td>0.008102</td>\n",
       "      <td>0.01</td>\n",
       "      <td>balanced</td>\n",
       "      <td>none</td>\n",
       "      <td>0.01</td>\n",
       "      <td>{'log__C': 0.01, 'log__class_weight': 'balance...</td>\n",
       "      <td>0.515576</td>\n",
       "      <td>0.550299</td>\n",
       "      <td>0.557581</td>\n",
       "      <td>0.588263</td>\n",
       "      <td>0.543019</td>\n",
       "      <td>0.550948</td>\n",
       "      <td>0.023456</td>\n",
       "      <td>10</td>\n",
       "    </tr>\n",
       "    <tr>\n",
       "      <th>35</th>\n",
       "      <td>1.881599</td>\n",
       "      <td>0.293388</td>\n",
       "      <td>0.037547</td>\n",
       "      <td>0.005336</td>\n",
       "      <td>0.01</td>\n",
       "      <td>balanced</td>\n",
       "      <td>none</td>\n",
       "      <td>0.1</td>\n",
       "      <td>{'log__C': 0.01, 'log__class_weight': 'balance...</td>\n",
       "      <td>0.542766</td>\n",
       "      <td>0.577699</td>\n",
       "      <td>0.576182</td>\n",
       "      <td>0.580632</td>\n",
       "      <td>0.541875</td>\n",
       "      <td>0.563831</td>\n",
       "      <td>0.017624</td>\n",
       "      <td>1</td>\n",
       "    </tr>\n",
       "  </tbody>\n",
       "</table>\n",
       "</div>"
      ],
      "text/plain": [
       "    mean_fit_time  std_fit_time  mean_score_time  std_score_time param_log__C  \\\n",
       "0        0.278504      0.038912         0.035829        0.003117       0.0001   \n",
       "1        0.376056      0.146469         0.045577        0.011984       0.0001   \n",
       "2        0.282032      0.040177         0.037444        0.003919       0.0001   \n",
       "3       38.343950     18.081782         0.033084        0.000870       0.0001   \n",
       "4        7.028473      1.044938         0.037045        0.009136       0.0001   \n",
       "5        2.380358      0.242761         0.040816        0.005315       0.0001   \n",
       "6        0.283194      0.150184         0.036009        0.003202       0.0001   \n",
       "7        0.227536      0.051624         0.038025        0.004254       0.0001   \n",
       "8        0.271059      0.131663         0.036090        0.004156       0.0001   \n",
       "9       39.783170     20.314403         0.032893        0.002643       0.0001   \n",
       "10       7.304240      0.785310         0.034140        0.002618       0.0001   \n",
       "11       1.558294      0.184467         0.033999        0.004330       0.0001   \n",
       "12       0.269844      0.126381         0.033554        0.003173        0.001   \n",
       "13       0.276877      0.131079         0.033640        0.003893        0.001   \n",
       "14       0.204886      0.006382         0.033645        0.003453        0.001   \n",
       "15      34.440625     15.404667         0.034437        0.002459        0.001   \n",
       "16       6.958627      1.061631         0.036777        0.004403        0.001   \n",
       "17       2.088182      0.290999         0.038431        0.008392        0.001   \n",
       "18       0.216148      0.008350         0.035124        0.002746        0.001   \n",
       "19       0.272732      0.130738         0.033967        0.003171        0.001   \n",
       "20       0.279923      0.135298         0.038636        0.006553        0.001   \n",
       "21      39.170241     21.290990         0.034648        0.001653        0.001   \n",
       "22       7.577584      0.677188         0.036076        0.003292        0.001   \n",
       "23       1.615437      0.207865         0.031428        0.000728        0.001   \n",
       "24       0.415432      0.146214         0.041984        0.008485         0.01   \n",
       "25       0.270743      0.023803         0.033343        0.003056         0.01   \n",
       "26       0.307311      0.129081         0.033013        0.001847         0.01   \n",
       "27      34.433479     16.395866         0.033444        0.003713         0.01   \n",
       "28       6.919396      1.109472         0.031644        0.002569         0.01   \n",
       "29       1.989450      0.329678         0.033899        0.001992         0.01   \n",
       "30       0.235121      0.006039         0.033410        0.003303         0.01   \n",
       "31       0.303556      0.125454         0.036181        0.004015         0.01   \n",
       "32       0.215933      0.013042         0.032853        0.003091         0.01   \n",
       "33      37.923298     20.085425         0.034393        0.004717         0.01   \n",
       "34       8.171741      0.819777         0.039274        0.008102         0.01   \n",
       "35       1.881599      0.293388         0.037547        0.005336         0.01   \n",
       "\n",
       "   param_log__class_weight param_log__penalty param_log__tol  \\\n",
       "0                     None                 l2         0.0001   \n",
       "1                     None                 l2           0.01   \n",
       "2                     None                 l2            0.1   \n",
       "3                     None               none         0.0001   \n",
       "4                     None               none           0.01   \n",
       "5                     None               none            0.1   \n",
       "6                 balanced                 l2         0.0001   \n",
       "7                 balanced                 l2           0.01   \n",
       "8                 balanced                 l2            0.1   \n",
       "9                 balanced               none         0.0001   \n",
       "10                balanced               none           0.01   \n",
       "11                balanced               none            0.1   \n",
       "12                    None                 l2         0.0001   \n",
       "13                    None                 l2           0.01   \n",
       "14                    None                 l2            0.1   \n",
       "15                    None               none         0.0001   \n",
       "16                    None               none           0.01   \n",
       "17                    None               none            0.1   \n",
       "18                balanced                 l2         0.0001   \n",
       "19                balanced                 l2           0.01   \n",
       "20                balanced                 l2            0.1   \n",
       "21                balanced               none         0.0001   \n",
       "22                balanced               none           0.01   \n",
       "23                balanced               none            0.1   \n",
       "24                    None                 l2         0.0001   \n",
       "25                    None                 l2           0.01   \n",
       "26                    None                 l2            0.1   \n",
       "27                    None               none         0.0001   \n",
       "28                    None               none           0.01   \n",
       "29                    None               none            0.1   \n",
       "30                balanced                 l2         0.0001   \n",
       "31                balanced                 l2           0.01   \n",
       "32                balanced                 l2            0.1   \n",
       "33                balanced               none         0.0001   \n",
       "34                balanced               none           0.01   \n",
       "35                balanced               none            0.1   \n",
       "\n",
       "                                               params  split0_test_score  \\\n",
       "0   {'log__C': 0.0001, 'log__class_weight': None, ...           0.201046   \n",
       "1   {'log__C': 0.0001, 'log__class_weight': None, ...           0.201046   \n",
       "2   {'log__C': 0.0001, 'log__class_weight': None, ...           0.201046   \n",
       "3   {'log__C': 0.0001, 'log__class_weight': None, ...           0.520345   \n",
       "4   {'log__C': 0.0001, 'log__class_weight': None, ...           0.530772   \n",
       "5   {'log__C': 0.0001, 'log__class_weight': None, ...           0.543358   \n",
       "6   {'log__C': 0.0001, 'log__class_weight': 'balan...           0.472759   \n",
       "7   {'log__C': 0.0001, 'log__class_weight': 'balan...           0.472507   \n",
       "8   {'log__C': 0.0001, 'log__class_weight': 'balan...           0.472507   \n",
       "9   {'log__C': 0.0001, 'log__class_weight': 'balan...           0.519963   \n",
       "10  {'log__C': 0.0001, 'log__class_weight': 'balan...           0.515576   \n",
       "11  {'log__C': 0.0001, 'log__class_weight': 'balan...           0.542766   \n",
       "12  {'log__C': 0.001, 'log__class_weight': None, '...           0.201046   \n",
       "13  {'log__C': 0.001, 'log__class_weight': None, '...           0.201046   \n",
       "14  {'log__C': 0.001, 'log__class_weight': None, '...           0.201046   \n",
       "15  {'log__C': 0.001, 'log__class_weight': None, '...           0.520345   \n",
       "16  {'log__C': 0.001, 'log__class_weight': None, '...           0.530772   \n",
       "17  {'log__C': 0.001, 'log__class_weight': None, '...           0.543358   \n",
       "18  {'log__C': 0.001, 'log__class_weight': 'balanc...           0.474057   \n",
       "19  {'log__C': 0.001, 'log__class_weight': 'balanc...           0.474057   \n",
       "20  {'log__C': 0.001, 'log__class_weight': 'balanc...           0.474012   \n",
       "21  {'log__C': 0.001, 'log__class_weight': 'balanc...           0.519963   \n",
       "22  {'log__C': 0.001, 'log__class_weight': 'balanc...           0.515576   \n",
       "23  {'log__C': 0.001, 'log__class_weight': 'balanc...           0.542766   \n",
       "24  {'log__C': 0.01, 'log__class_weight': None, 'l...           0.201046   \n",
       "25  {'log__C': 0.01, 'log__class_weight': None, 'l...           0.201046   \n",
       "26  {'log__C': 0.01, 'log__class_weight': None, 'l...           0.201046   \n",
       "27  {'log__C': 0.01, 'log__class_weight': None, 'l...           0.520345   \n",
       "28  {'log__C': 0.01, 'log__class_weight': None, 'l...           0.530772   \n",
       "29  {'log__C': 0.01, 'log__class_weight': None, 'l...           0.543358   \n",
       "30  {'log__C': 0.01, 'log__class_weight': 'balance...           0.480247   \n",
       "31  {'log__C': 0.01, 'log__class_weight': 'balance...           0.480247   \n",
       "32  {'log__C': 0.01, 'log__class_weight': 'balance...           0.480247   \n",
       "33  {'log__C': 0.01, 'log__class_weight': 'balance...           0.519963   \n",
       "34  {'log__C': 0.01, 'log__class_weight': 'balance...           0.515576   \n",
       "35  {'log__C': 0.01, 'log__class_weight': 'balance...           0.542766   \n",
       "\n",
       "    split1_test_score  split2_test_score  split3_test_score  \\\n",
       "0            0.200947           0.200947           0.200947   \n",
       "1            0.200947           0.200947           0.200947   \n",
       "2            0.200947           0.200947           0.200947   \n",
       "3            0.505732           0.527085           0.577597   \n",
       "4            0.536844           0.553306           0.569889   \n",
       "5            0.543256           0.589236           0.567854   \n",
       "6            0.482222           0.457642           0.475202   \n",
       "7            0.482222           0.457642           0.474634   \n",
       "8            0.482222           0.457642           0.474634   \n",
       "9            0.506747           0.508115           0.607092   \n",
       "10           0.550299           0.557581           0.588263   \n",
       "11           0.577699           0.576182           0.580632   \n",
       "12           0.200947           0.200947           0.200947   \n",
       "13           0.200947           0.200947           0.200947   \n",
       "14           0.200947           0.200947           0.200947   \n",
       "15           0.505732           0.527085           0.577597   \n",
       "16           0.536844           0.553306           0.569889   \n",
       "17           0.543256           0.589236           0.567854   \n",
       "18           0.486942           0.457927           0.474292   \n",
       "19           0.485861           0.457927           0.473725   \n",
       "20           0.484754           0.457927           0.474667   \n",
       "21           0.506747           0.508115           0.607092   \n",
       "22           0.550299           0.557581           0.588263   \n",
       "23           0.577699           0.576182           0.580632   \n",
       "24           0.200947           0.200947           0.200947   \n",
       "25           0.200947           0.200947           0.200947   \n",
       "26           0.200947           0.200947           0.200947   \n",
       "27           0.505732           0.527085           0.577597   \n",
       "28           0.536844           0.553306           0.569889   \n",
       "29           0.543256           0.589236           0.567854   \n",
       "30           0.490605           0.472722           0.480107   \n",
       "31           0.490605           0.472722           0.480107   \n",
       "32           0.490605           0.472722           0.479858   \n",
       "33           0.506747           0.508115           0.607092   \n",
       "34           0.550299           0.557581           0.588263   \n",
       "35           0.577699           0.576182           0.580632   \n",
       "\n",
       "    split4_test_score  mean_test_score  std_test_score  rank_test_score  \n",
       "0            0.201197         0.201017        0.000098               28  \n",
       "1            0.201197         0.201017        0.000098               28  \n",
       "2            0.201197         0.201017        0.000098               28  \n",
       "3            0.557138         0.537579        0.026097               13  \n",
       "4            0.576456         0.553453        0.017830                7  \n",
       "5            0.549454         0.558632        0.017752                4  \n",
       "6            0.478478         0.473261        0.008432               25  \n",
       "7            0.478247         0.473050        0.008383               26  \n",
       "8            0.478247         0.473050        0.008383               26  \n",
       "9            0.540520         0.536487        0.037320               16  \n",
       "10           0.543019         0.550948        0.023456               10  \n",
       "11           0.541875         0.563831        0.017624                1  \n",
       "12           0.201197         0.201017        0.000098               28  \n",
       "13           0.201197         0.201017        0.000098               28  \n",
       "14           0.201197         0.201017        0.000098               28  \n",
       "15           0.557138         0.537579        0.026097               13  \n",
       "16           0.576456         0.553453        0.017830                7  \n",
       "17           0.549454         0.558632        0.017752                4  \n",
       "18           0.478198         0.474283        0.009414               22  \n",
       "19           0.478198         0.473954        0.009129               23  \n",
       "20           0.477856         0.473843        0.008822               24  \n",
       "21           0.540520         0.536487        0.037320               16  \n",
       "22           0.543019         0.550948        0.023456               10  \n",
       "23           0.541875         0.563831        0.017624                1  \n",
       "24           0.201197         0.201017        0.000098               28  \n",
       "25           0.201197         0.201017        0.000098               28  \n",
       "26           0.201197         0.201017        0.000098               28  \n",
       "27           0.557138         0.537579        0.026097               13  \n",
       "28           0.576456         0.553453        0.017830                7  \n",
       "29           0.549454         0.558632        0.017752                4  \n",
       "30           0.491771         0.483091        0.007160               19  \n",
       "31           0.491771         0.483091        0.007160               19  \n",
       "32           0.491771         0.483041        0.007181               21  \n",
       "33           0.540520         0.536487        0.037320               16  \n",
       "34           0.543019         0.550948        0.023456               10  \n",
       "35           0.541875         0.563831        0.017624                1  "
      ]
     },
     "execution_count": 262,
     "metadata": {},
     "output_type": "execute_result"
    }
   ],
   "source": [
    "pd.DataFrame(grid4.cv_results_)"
   ]
  },
  {
   "cell_type": "code",
   "execution_count": 247,
   "id": "0772e00f",
   "metadata": {},
   "outputs": [
    {
     "data": {
      "text/plain": [
       "0.5638306817740808"
      ]
     },
     "execution_count": 247,
     "metadata": {},
     "output_type": "execute_result"
    }
   ],
   "source": [
    "grid4.best_score_"
   ]
  },
  {
   "cell_type": "markdown",
   "id": "2794e4e8",
   "metadata": {},
   "source": [
    "#### With Tifid"
   ]
  },
  {
   "cell_type": "code",
   "execution_count": 64,
   "id": "c901637a",
   "metadata": {},
   "outputs": [],
   "source": [
    "fouth_pipe= imbpipe([('tifid', TfidfVectorizer(stop_words=sw)),\n",
    "                    ('log' , LogisticRegression(max_iter=1000000)),\n",
    "                \n",
    "                     \n",
    "                    ])"
   ]
  },
  {
   "cell_type": "code",
   "execution_count": 240,
   "id": "1dcf489c",
   "metadata": {},
   "outputs": [
    {
     "name": "stdout",
     "output_type": "stream",
     "text": [
      "[0.81881077 0.81547953 0.8197794  0.81734904 0.81753599]\n",
      "Training Accuracy 0.8177909445044076\n",
      "##############\n",
      "[0.66367713 0.69109948 0.67614061 0.6724009  0.69783096]\n",
      "Cross_Val Accuracy 0.6802298164352962\n",
      "##############\n",
      "Training Macro Precision: 0.87802205964075\n",
      "Cross_Val Macro Precision: 0.7032293662332516\n",
      "##############\n",
      "Training Macro Recall: 0.5981580318610696\n",
      "Cross_Val Macro Recall: 0.4590756027318907\n",
      "##############\n",
      "Training Macro F1: 0.6320359439296835\n",
      "Cross_Val Macro F1: 0.4667041837824696\n"
     ]
    }
   ],
   "source": [
    "print_cv_scores(fouth_pipe,df_train_clean['text'], df_train_clean['target'])"
   ]
  },
  {
   "cell_type": "code",
   "execution_count": null,
   "id": "dbc027d5",
   "metadata": {},
   "outputs": [],
   "source": [
    "#ngram_range =(1,2)"
   ]
  },
  {
   "cell_type": "code",
   "execution_count": 258,
   "id": "c8e2830c",
   "metadata": {},
   "outputs": [],
   "source": [
    "fifth_pipe= Pipeline([('tifid', TfidfVectorizer(stop_words=sw, ngram_range=(1,2))),\n",
    "                    ('log' , LogisticRegression(max_iter=1000000, C= 0.0001,class_weight='balanced',\n",
    "                                                penalty= 'none',tol= 0.1)),\n",
    "                \n",
    "                     \n",
    "                    ])"
   ]
  },
  {
   "cell_type": "code",
   "execution_count": 260,
   "id": "8cc832ab",
   "metadata": {},
   "outputs": [
    {
     "name": "stderr",
     "output_type": "stream",
     "text": [
      "/Users/raylinsoriano/anaconda3/lib/python3.8/site-packages/sklearn/linear_model/_logistic.py:1322: UserWarning: Setting penalty='none' will ignore the C and l1_ratio parameters\n",
      "  warnings.warn(\n"
     ]
    },
    {
     "data": {
      "text/plain": [
       "Pipeline(steps=[('tifid',\n",
       "                 TfidfVectorizer(ngram_range=(1, 2),\n",
       "                                 stop_words=['i', 'me', 'my', 'myself', 'we',\n",
       "                                             'our', 'ours', 'ourselves', 'you',\n",
       "                                             \"you're\", \"you've\", \"you'll\",\n",
       "                                             \"you'd\", 'your', 'yours',\n",
       "                                             'yourself', 'yourselves', 'he',\n",
       "                                             'him', 'his', 'himself', 'she',\n",
       "                                             \"she's\", 'her', 'hers', 'herself',\n",
       "                                             'it', \"it's\", 'its', 'itself', ...])),\n",
       "                ('log',\n",
       "                 LogisticRegression(C=0.0001, class_weight='balanced',\n",
       "                                    max_iter=1000000, penalty='none',\n",
       "                                    tol=0.1))])"
      ]
     },
     "execution_count": 260,
     "metadata": {},
     "output_type": "execute_result"
    }
   ],
   "source": [
    "fifth_pipe.fit(df_train_clean['text'], df_train_clean['target'])"
   ]
  },
  {
   "cell_type": "code",
   "execution_count": 261,
   "id": "5c5c1d2e",
   "metadata": {},
   "outputs": [
    {
     "name": "stderr",
     "output_type": "stream",
     "text": [
      "/Users/raylinsoriano/anaconda3/lib/python3.8/site-packages/sklearn/linear_model/_logistic.py:1322: UserWarning: Setting penalty='none' will ignore the C and l1_ratio parameters\n",
      "  warnings.warn(\n",
      "/Users/raylinsoriano/anaconda3/lib/python3.8/site-packages/sklearn/linear_model/_logistic.py:1322: UserWarning: Setting penalty='none' will ignore the C and l1_ratio parameters\n",
      "  warnings.warn(\n",
      "/Users/raylinsoriano/anaconda3/lib/python3.8/site-packages/sklearn/linear_model/_logistic.py:1322: UserWarning: Setting penalty='none' will ignore the C and l1_ratio parameters\n",
      "  warnings.warn(\n",
      "/Users/raylinsoriano/anaconda3/lib/python3.8/site-packages/sklearn/linear_model/_logistic.py:1322: UserWarning: Setting penalty='none' will ignore the C and l1_ratio parameters\n",
      "  warnings.warn(\n",
      "/Users/raylinsoriano/anaconda3/lib/python3.8/site-packages/sklearn/linear_model/_logistic.py:1322: UserWarning: Setting penalty='none' will ignore the C and l1_ratio parameters\n",
      "  warnings.warn(\n"
     ]
    },
    {
     "name": "stdout",
     "output_type": "stream",
     "text": [
      "[0.98840688 0.9882221  0.98448308 0.9878482  0.98616564]\n",
      "Training Accuracy 0.9870251787953291\n",
      "##############\n",
      "[0.68011958 0.6776365  0.66043381 0.66566941 0.67539267]\n",
      "Cross_Val Accuracy 0.6718503934807083\n",
      "##############\n",
      "Training Macro Precision: 0.9848671329397526\n",
      "Cross_Val Macro Precision: 0.6231240361915524\n",
      "##############\n",
      "Training Macro Recall: 0.9919403682265129\n",
      "Cross_Val Macro Recall: 0.5239971263032704\n",
      "##############\n",
      "Training Macro F1: 0.9883198471808358\n",
      "Cross_Val Macro F1: 0.5479610817113028\n"
     ]
    }
   ],
   "source": [
    "print_cv_scores(fifth_pipe,df_train_clean['text'], df_train_clean['target'])"
   ]
  },
  {
   "cell_type": "code",
   "execution_count": 113,
   "id": "51915198",
   "metadata": {},
   "outputs": [],
   "source": [
    "sixth_pipe= Pipeline([('tifid', TfidfVectorizer(stop_words=sw, ngram_range=(1,2))),\n",
    "                    ('log' , LogisticRegression(max_iter=1000000,class_weight='balanced',\n",
    "                                                penalty= 'none',tol= 0.1)),\n",
    "                \n",
    "                     \n",
    "                    ])"
   ]
  },
  {
   "cell_type": "code",
   "execution_count": 114,
   "id": "e222040c",
   "metadata": {},
   "outputs": [
    {
     "data": {
      "text/plain": [
       "Pipeline(steps=[('tifid',\n",
       "                 TfidfVectorizer(ngram_range=(1, 2),\n",
       "                                 stop_words=['i', 'me', 'my', 'myself', 'we',\n",
       "                                             'our', 'ours', 'ourselves', 'you',\n",
       "                                             \"you're\", \"you've\", \"you'll\",\n",
       "                                             \"you'd\", 'your', 'yours',\n",
       "                                             'yourself', 'yourselves', 'he',\n",
       "                                             'him', 'his', 'himself', 'she',\n",
       "                                             \"she's\", 'her', 'hers', 'herself',\n",
       "                                             'it', \"it's\", 'its', 'itself', ...])),\n",
       "                ('log',\n",
       "                 LogisticRegression(class_weight='balanced',\n",
       "                                    max_iter=1000000))])"
      ]
     },
     "execution_count": 114,
     "metadata": {},
     "output_type": "execute_result"
    }
   ],
   "source": [
    "sixth_pipe.fit(df_train_clean['text'], df_train_clean['target'])"
   ]
  },
  {
   "cell_type": "code",
   "execution_count": 115,
   "id": "1bf70037",
   "metadata": {},
   "outputs": [
    {
     "name": "stdout",
     "output_type": "stream",
     "text": [
      "[0.91604338 0.91475042 0.91344176 0.91661993 0.91848944]\n",
      "Training Accuracy 0.9158689864789944\n",
      "##############\n",
      "[0.67040359 0.67165295 0.6551982  0.65370232 0.67539267]\n",
      "Cross_Val Accuracy 0.6652699471073382\n",
      "##############\n",
      "Training Macro Precision: 0.8833719129571953\n",
      "Cross_Val Macro Precision: 0.5756767754054304\n",
      "##############\n",
      "Training Macro Recall: 0.9418603957551799\n",
      "Cross_Val Macro Recall: 0.5793933316336125\n",
      "##############\n",
      "Training Macro F1: 0.9091960599181986\n",
      "Cross_Val Macro F1: 0.5757783676869849\n"
     ]
    }
   ],
   "source": [
    "print_cv_scores(sixth_pipe,df_train_clean['text'], df_train_clean['target'])"
   ]
  },
  {
   "cell_type": "markdown",
   "id": "6e0ec493",
   "metadata": {},
   "source": [
    "#### Trying grid search with different solvers"
   ]
  },
  {
   "cell_type": "code",
   "execution_count": 270,
   "id": "af2cc074",
   "metadata": {},
   "outputs": [],
   "source": [
    "param5 = {'log__class_weight': [None, 'balanced'], \n",
    "         'log__tol': [0.0001, 0.01, 0.1],\n",
    "         'log__penalty': ['none'],\n",
    "         'log__solver':['newton-cg', 'sag', 'saga', 'lbfgs']\n",
    "        }"
   ]
  },
  {
   "cell_type": "code",
   "execution_count": 272,
   "id": "cc236621",
   "metadata": {},
   "outputs": [],
   "source": [
    "grid5 = GridSearchCV(seventh_pipe, param3, scoring= 'precision_macro',cv=5, verbose=2)"
   ]
  },
  {
   "cell_type": "code",
   "execution_count": null,
   "id": "d48ce3ed",
   "metadata": {
    "scrolled": true
   },
   "outputs": [
    {
     "name": "stdout",
     "output_type": "stream",
     "text": [
      "Fitting 5 folds for each of 24 candidates, totalling 120 fits\n",
      "[CV] END log__class_weight=None, log__penalty=none, log__solver=newton-cg, log__tol=0.0001; total time=  54.6s\n",
      "[CV] END log__class_weight=None, log__penalty=none, log__solver=newton-cg, log__tol=0.0001; total time=  53.1s\n",
      "[CV] END log__class_weight=None, log__penalty=none, log__solver=newton-cg, log__tol=0.0001; total time= 2.9min\n",
      "[CV] END log__class_weight=None, log__penalty=none, log__solver=newton-cg, log__tol=0.0001; total time=  12.4s\n",
      "[CV] END log__class_weight=None, log__penalty=none, log__solver=newton-cg, log__tol=0.0001; total time=  16.4s\n",
      "[CV] END log__class_weight=None, log__penalty=none, log__solver=newton-cg, log__tol=0.01; total time=   5.5s\n",
      "[CV] END log__class_weight=None, log__penalty=none, log__solver=newton-cg, log__tol=0.01; total time=   5.2s\n",
      "[CV] END log__class_weight=None, log__penalty=none, log__solver=newton-cg, log__tol=0.01; total time=   6.3s\n",
      "[CV] END log__class_weight=None, log__penalty=none, log__solver=newton-cg, log__tol=0.01; total time=   2.3s\n",
      "[CV] END log__class_weight=None, log__penalty=none, log__solver=newton-cg, log__tol=0.01; total time=   3.6s\n",
      "[CV] END log__class_weight=None, log__penalty=none, log__solver=newton-cg, log__tol=0.1; total time=   3.0s\n",
      "[CV] END log__class_weight=None, log__penalty=none, log__solver=newton-cg, log__tol=0.1; total time=   2.0s\n",
      "[CV] END log__class_weight=None, log__penalty=none, log__solver=newton-cg, log__tol=0.1; total time=   2.3s\n",
      "[CV] END log__class_weight=None, log__penalty=none, log__solver=newton-cg, log__tol=0.1; total time=   2.2s\n",
      "[CV] END log__class_weight=None, log__penalty=none, log__solver=newton-cg, log__tol=0.1; total time=   2.0s\n",
      "[CV] END log__class_weight=None, log__penalty=none, log__solver=sag, log__tol=0.0001; total time=  13.7s\n",
      "[CV] END log__class_weight=None, log__penalty=none, log__solver=sag, log__tol=0.0001; total time=  12.5s\n",
      "[CV] END log__class_weight=None, log__penalty=none, log__solver=sag, log__tol=0.0001; total time=  11.0s\n",
      "[CV] END log__class_weight=None, log__penalty=none, log__solver=sag, log__tol=0.0001; total time=  12.2s\n",
      "[CV] END log__class_weight=None, log__penalty=none, log__solver=sag, log__tol=0.0001; total time=  12.7s\n",
      "[CV] END log__class_weight=None, log__penalty=none, log__solver=sag, log__tol=0.01; total time=   0.5s\n",
      "[CV] END log__class_weight=None, log__penalty=none, log__solver=sag, log__tol=0.01; total time=   0.5s\n",
      "[CV] END log__class_weight=None, log__penalty=none, log__solver=sag, log__tol=0.01; total time=   0.4s\n",
      "[CV] END log__class_weight=None, log__penalty=none, log__solver=sag, log__tol=0.01; total time=   0.5s\n",
      "[CV] END log__class_weight=None, log__penalty=none, log__solver=sag, log__tol=0.01; total time=   0.4s\n",
      "[CV] END log__class_weight=None, log__penalty=none, log__solver=sag, log__tol=0.1; total time=   0.3s\n",
      "[CV] END log__class_weight=None, log__penalty=none, log__solver=sag, log__tol=0.1; total time=   0.3s\n",
      "[CV] END log__class_weight=None, log__penalty=none, log__solver=sag, log__tol=0.1; total time=   0.3s\n",
      "[CV] END log__class_weight=None, log__penalty=none, log__solver=sag, log__tol=0.1; total time=   0.3s\n",
      "[CV] END log__class_weight=None, log__penalty=none, log__solver=sag, log__tol=0.1; total time=   0.3s\n"
     ]
    },
    {
     "name": "stderr",
     "output_type": "stream",
     "text": [
      "/Users/raylinsoriano/anaconda3/lib/python3.8/site-packages/sklearn/linear_model/_sag.py:328: ConvergenceWarning: The max_iter was reached which means the coef_ did not converge\n",
      "  warnings.warn(\"The max_iter was reached which means \"\n"
     ]
    },
    {
     "name": "stdout",
     "output_type": "stream",
     "text": [
      "[CV] END log__class_weight=None, log__penalty=none, log__solver=saga, log__tol=0.0001; total time=89.0min\n"
     ]
    }
   ],
   "source": [
    "grid5.fit(df_train_clean['text'], df_train_clean['target'])"
   ]
  },
  {
   "cell_type": "markdown",
   "id": "9d1c0604",
   "metadata": {},
   "source": [
    "not worth the time."
   ]
  },
  {
   "cell_type": "markdown",
   "id": "9d39b3e2",
   "metadata": {},
   "source": [
    "#### Trying with an SVD Model"
   ]
  },
  {
   "cell_type": "code",
   "execution_count": 110,
   "id": "90ca95e0",
   "metadata": {},
   "outputs": [],
   "source": [
    "seventh_pipe= Pipeline([('tifid', TfidfVectorizer(stop_words=sw, ngram_range=(1,2))),\n",
    "                        ('ss', StandardScaler(with_mean=False)),\n",
    "                        ('tsvd', TruncatedSVD(random_state=42)),  \n",
    "                        ('log' , LogisticRegression(max_iter=1000000,class_weight='balanced',\n",
    "                                                tol= 0.1)),\n",
    "                \n",
    "                     \n",
    "                    ])"
   ]
  },
  {
   "cell_type": "code",
   "execution_count": 111,
   "id": "6b4ec2e2",
   "metadata": {},
   "outputs": [
    {
     "data": {
      "text/plain": [
       "Pipeline(steps=[('tifid',\n",
       "                 TfidfVectorizer(ngram_range=(1, 2),\n",
       "                                 stop_words=['i', 'me', 'my', 'myself', 'we',\n",
       "                                             'our', 'ours', 'ourselves', 'you',\n",
       "                                             \"you're\", \"you've\", \"you'll\",\n",
       "                                             \"you'd\", 'your', 'yours',\n",
       "                                             'yourself', 'yourselves', 'he',\n",
       "                                             'him', 'his', 'himself', 'she',\n",
       "                                             \"she's\", 'her', 'hers', 'herself',\n",
       "                                             'it', \"it's\", 'its', 'itself', ...])),\n",
       "                ('ss', StandardScaler(with_mean=False)),\n",
       "                ('tsvd', TruncatedSVD(random_state=42)),\n",
       "                ('log',\n",
       "                 LogisticRegression(class_weight='balanced', max_iter=1000000,\n",
       "                                    tol=0.1))])"
      ]
     },
     "execution_count": 111,
     "metadata": {},
     "output_type": "execute_result"
    }
   ],
   "source": [
    "seventh_pipe.fit(df_train_clean['text'], df_train_clean['target'])"
   ]
  },
  {
   "cell_type": "code",
   "execution_count": 112,
   "id": "8b1d5592",
   "metadata": {},
   "outputs": [
    {
     "name": "stdout",
     "output_type": "stream",
     "text": [
      "[0.35471204 0.45148626 0.33557674 0.34230697 0.33183773]\n",
      "Training Accuracy 0.36318394885181843\n",
      "##############\n",
      "[0.38863976 0.44801795 0.37771129 0.36724009 0.35228123]\n",
      "Cross_Val Accuracy 0.3867780643588875\n",
      "##############\n",
      "Training Macro Precision: 0.3590325644813809\n",
      "Cross_Val Macro Precision: 0.3651013722876853\n",
      "##############\n",
      "Training Macro Recall: 0.3863150106552157\n",
      "Cross_Val Macro Recall: 0.39608680543687463\n",
      "##############\n",
      "Training Macro F1: 0.28604701846514163\n",
      "Cross_Val Macro F1: 0.30428138451969533\n"
     ]
    }
   ],
   "source": [
    "print_cv_scores(seventh_pipe, df_train_clean['text'], df_train_clean['target'])"
   ]
  },
  {
   "cell_type": "code",
   "execution_count": 118,
   "id": "8e86230f",
   "metadata": {},
   "outputs": [
    {
     "data": {
      "text/plain": [
       "Pipeline(steps=[('tifid',\n",
       "                 TfidfVectorizer(ngram_range=(1, 2),\n",
       "                                 stop_words=['i', 'me', 'my', 'myself', 'we',\n",
       "                                             'our', 'ours', 'ourselves', 'you',\n",
       "                                             \"you're\", \"you've\", \"you'll\",\n",
       "                                             \"you'd\", 'your', 'yours',\n",
       "                                             'yourself', 'yourselves', 'he',\n",
       "                                             'him', 'his', 'himself', 'she',\n",
       "                                             \"she's\", 'her', 'hers', 'herself',\n",
       "                                             'it', \"it's\", 'its', 'itself', ...])),\n",
       "                ('ss', StandardScaler(with_mean=False)),\n",
       "                ('tsvd', TruncatedSVD(n_components=100, random_state=42)),\n",
       "                ('log',\n",
       "                 LogisticRegression(class_weight='balanced', max_iter=1000000,\n",
       "                                    tol=0.1))])"
      ]
     },
     "execution_count": 118,
     "metadata": {},
     "output_type": "execute_result"
    }
   ],
   "source": [
    "eigth_pipe= Pipeline([('tifid', TfidfVectorizer(stop_words=sw, ngram_range=(1,2))),\n",
    "                        ('ss', StandardScaler(with_mean=False)),\n",
    "                        ('tsvd', TruncatedSVD(n_components=100, random_state=42)),  \n",
    "                        ('log' , LogisticRegression(max_iter=1000000,class_weight='balanced',\n",
    "                                                tol= 0.1)),\n",
    "                \n",
    "                     \n",
    "                    ])\n",
    "\n",
    "eigth_pipe.fit(df_train_clean['text'], df_train_clean['target'])"
   ]
  },
  {
   "cell_type": "code",
   "execution_count": 119,
   "id": "667b5216",
   "metadata": {},
   "outputs": [
    {
     "name": "stdout",
     "output_type": "stream",
     "text": [
      "[0.35471204 0.45148626 0.33557674 0.34230697 0.33183773]\n",
      "Training Accuracy 0.36318394885181843\n",
      "##############\n",
      "[0.38863976 0.44801795 0.37771129 0.36724009 0.35228123]\n",
      "Cross_Val Accuracy 0.3867780643588875\n",
      "##############\n",
      "Training Macro Precision: 0.3590325644813809\n",
      "Cross_Val Macro Precision: 0.3651013722876853\n",
      "##############\n",
      "Training Macro Recall: 0.3863150106552157\n",
      "Cross_Val Macro Recall: 0.39608680543687463\n",
      "##############\n",
      "Training Macro F1: 0.28604701846514163\n",
      "Cross_Val Macro F1: 0.30428138451969533\n"
     ]
    }
   ],
   "source": [
    "print_cv_scores(seventh_pipe, df_train_clean['text'], df_train_clean['target'])"
   ]
  },
  {
   "cell_type": "code",
   "execution_count": null,
   "id": "c17a5cba",
   "metadata": {},
   "outputs": [],
   "source": []
  }
 ],
 "metadata": {
  "kernelspec": {
   "display_name": "Python 3 (ipykernel)",
   "language": "python",
   "name": "python3"
  },
  "language_info": {
   "codemirror_mode": {
    "name": "ipython",
    "version": 3
   },
   "file_extension": ".py",
   "mimetype": "text/x-python",
   "name": "python",
   "nbconvert_exporter": "python",
   "pygments_lexer": "ipython3",
   "version": "3.8.11"
  }
 },
 "nbformat": 4,
 "nbformat_minor": 5
}
